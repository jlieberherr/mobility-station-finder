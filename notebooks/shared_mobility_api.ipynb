{
 "cells": [
  {
   "cell_type": "code",
   "execution_count": 1,
   "id": "1244d63d-506f-4605-9575-f036f5bac526",
   "metadata": {},
   "outputs": [],
   "source": [
    "import requests"
   ]
  },
  {
   "cell_type": "code",
   "execution_count": null,
   "id": "c3c35a39-2a46-46bc-bc27-1ddf8f5f8b1e",
   "metadata": {},
   "outputs": [],
   "source": []
  },
  {
   "cell_type": "code",
   "execution_count": 18,
   "id": "7c765b93-32a7-463e-b8fb-c05b6dd0874c",
   "metadata": {},
   "outputs": [],
   "source": [
    "url_stations = r\"https://sharedmobility.ch/station_information.json\""
   ]
  },
  {
   "cell_type": "code",
   "execution_count": 19,
   "id": "d571ba48-5067-402e-a315-3fff9c1bfa76",
   "metadata": {},
   "outputs": [],
   "source": [
    "res = requests.get(url_stations).json()"
   ]
  },
  {
   "cell_type": "code",
   "execution_count": 54,
   "id": "4ac6bac1-b2bd-4eab-bff9-9229e6f7c0ff",
   "metadata": {},
   "outputs": [],
   "source": [
    "mob_stations_per_id = {s[\"station_id\"]: s for s in res['data']['stations'] if s['provider_id'] == \"mobility\" and s[\"name\"] == 'Bern Kirchbergerstrasse'}"
   ]
  },
  {
   "cell_type": "code",
   "execution_count": 55,
   "id": "82564f54-ce3f-4f4f-a818-489ffb834597",
   "metadata": {},
   "outputs": [
    {
     "data": {
      "text/plain": [
       "1"
      ]
     },
     "execution_count": 55,
     "metadata": {},
     "output_type": "execute_result"
    }
   ],
   "source": [
    "len(mob_stations_per_id)"
   ]
  },
  {
   "cell_type": "code",
   "execution_count": 56,
   "id": "1b5e39ae-d5ee-4597-98f7-97750007e2b2",
   "metadata": {},
   "outputs": [
    {
     "data": {
      "text/plain": [
       "{'mobility:80840': {'station_id': 'mobility:80840',\n",
       "  'name': 'Bern Kirchbergerstrasse',\n",
       "  'lat': 46.9388,\n",
       "  'lon': 7.42118,\n",
       "  'provider_id': 'mobility'}}"
      ]
     },
     "execution_count": 56,
     "metadata": {},
     "output_type": "execute_result"
    }
   ],
   "source": [
    "mob_stations_per_id"
   ]
  },
  {
   "cell_type": "code",
   "execution_count": 57,
   "id": "e28910bd-04ed-4979-97d4-6550e38821e1",
   "metadata": {},
   "outputs": [],
   "source": [
    "urs_station_status = r\"https://sharedmobility.ch/station_status.json\""
   ]
  },
  {
   "cell_type": "code",
   "execution_count": 58,
   "id": "6d4882bc-cd1a-49c9-ac95-401cc9928176",
   "metadata": {},
   "outputs": [],
   "source": [
    "res_ = requests.get(urs_station_status).json()"
   ]
  },
  {
   "cell_type": "code",
   "execution_count": 59,
   "id": "f25a99e4-5be5-423b-9ba5-b3d17f5b9194",
   "metadata": {},
   "outputs": [],
   "source": [
    "status_mob_stations_per_id = {e[\"station_id\"]: e for e in res_['data']['stations'] if e[\"station_id\"].startswith(\"mobility:\")}"
   ]
  },
  {
   "cell_type": "code",
   "execution_count": 60,
   "id": "bb81f50d-84d6-4e5f-b142-3028af5d4809",
   "metadata": {},
   "outputs": [
    {
     "data": {
      "text/plain": [
       "1397"
      ]
     },
     "execution_count": 60,
     "metadata": {},
     "output_type": "execute_result"
    }
   ],
   "source": [
    "len(status_mob_stations_per_id)"
   ]
  },
  {
   "cell_type": "code",
   "execution_count": 62,
   "id": "78fae38b-d964-4434-a260-8c1b74b4d87b",
   "metadata": {},
   "outputs": [
    {
     "data": {
      "text/plain": [
       "{'station_id': 'mobility:80840',\n",
       " 'is_installed': True,\n",
       " 'is_renting': True,\n",
       " 'is_returning': True,\n",
       " 'last_reported': 1701424780,\n",
       " 'num_bikes_available': 2,\n",
       " 'num_docks_available': 0,\n",
       " 'provider_id': 'mobility'}"
      ]
     },
     "execution_count": 62,
     "metadata": {},
     "output_type": "execute_result"
    }
   ],
   "source": [
    "status_mob_stations_per_id['mobility:80840']"
   ]
  },
  {
   "cell_type": "code",
   "execution_count": null,
   "id": "054a4738-37c2-45d3-87b5-f20cdedbab76",
   "metadata": {},
   "outputs": [],
   "source": []
  }
 ],
 "metadata": {
  "kernelspec": {
   "display_name": "Python 3 (ipykernel)",
   "language": "python",
   "name": "python3"
  },
  "language_info": {
   "codemirror_mode": {
    "name": "ipython",
    "version": 3
   },
   "file_extension": ".py",
   "mimetype": "text/x-python",
   "name": "python",
   "nbconvert_exporter": "python",
   "pygments_lexer": "ipython3",
   "version": "3.10.8"
  }
 },
 "nbformat": 4,
 "nbformat_minor": 5
}
