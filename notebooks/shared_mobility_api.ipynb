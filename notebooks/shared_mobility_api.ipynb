{
 "cells": [
  {
   "cell_type": "code",
   "execution_count": 1,
   "id": "1244d63d-506f-4605-9575-f036f5bac526",
   "metadata": {},
   "outputs": [],
   "source": [
    "import requests\n",
    "import geopandas as gpd\n",
    "from shapely.geometry import Point"
   ]
  },
  {
   "cell_type": "code",
   "execution_count": null,
   "id": "c3c35a39-2a46-46bc-bc27-1ddf8f5f8b1e",
   "metadata": {},
   "outputs": [],
   "source": []
  },
  {
   "cell_type": "code",
   "execution_count": 2,
   "id": "7c765b93-32a7-463e-b8fb-c05b6dd0874c",
   "metadata": {},
   "outputs": [],
   "source": [
    "url_stations = r\"https://sharedmobility.ch/station_information.json\""
   ]
  },
  {
   "cell_type": "code",
   "execution_count": 3,
   "id": "d571ba48-5067-402e-a315-3fff9c1bfa76",
   "metadata": {},
   "outputs": [],
   "source": [
    "res = requests.get(url_stations).json()"
   ]
  },
  {
   "cell_type": "code",
   "execution_count": 28,
   "id": "8f6b37df-8a41-4405-a951-afafa358764b",
   "metadata": {},
   "outputs": [],
   "source": [
    "def get_mobility_stations_from_api():\n",
    "    url_stations = r\"https://sharedmobility.ch/station_information.json\"\n",
    "    res = requests.get(url_stations).json()\n",
    "    mob_stations = []\n",
    "    geometry = []\n",
    "    for s in res['data']['stations']:\n",
    "        if s['provider_id'] == \"mobility\" or s['provider_id'] == \"emobility\":\n",
    "            mob_stations += [{'Stationsnummer': s['station_id'].split(':')[1], 'Name': s['name'], 'lon': s['lon'], 'lat': s['lat']}]\n",
    "            geometry += [Point(s['lon'], s['lat'])]\n",
    "    return gpd.GeoDataFrame(mob_stations, geometry=geometry, crs=4326)"
   ]
  },
  {
   "cell_type": "code",
   "execution_count": 29,
   "id": "ce704988-e1c2-4782-9ab0-834f9f45d788",
   "metadata": {},
   "outputs": [
    {
     "name": "stdout",
     "output_type": "stream",
     "text": [
      "CPU times: total: 156 ms\n",
      "Wall time: 387 ms\n"
     ]
    }
   ],
   "source": [
    "%%time\n",
    "stations = get_mobility_stations_from_api()"
   ]
  },
  {
   "cell_type": "code",
   "execution_count": 30,
   "id": "0c9a3e7d-1ea6-419c-a924-26edb9eaa7f9",
   "metadata": {},
   "outputs": [
    {
     "data": {
      "text/plain": [
       "1635"
      ]
     },
     "execution_count": 30,
     "metadata": {},
     "output_type": "execute_result"
    }
   ],
   "source": [
    "len(stations)"
   ]
  },
  {
   "cell_type": "code",
   "execution_count": 32,
   "id": "b0f2d334-65e9-45fa-b439-cffbf9146eb8",
   "metadata": {},
   "outputs": [
    {
     "data": {
      "text/plain": [
       "1581"
      ]
     },
     "execution_count": 32,
     "metadata": {},
     "output_type": "execute_result"
    }
   ],
   "source": [
    "len(stations.drop_duplicates())"
   ]
  },
  {
   "cell_type": "code",
   "execution_count": null,
   "id": "e28910bd-04ed-4979-97d4-6550e38821e1",
   "metadata": {},
   "outputs": [],
   "source": [
    "urs_station_status = r\"https://sharedmobility.ch/station_status.json\""
   ]
  },
  {
   "cell_type": "code",
   "execution_count": null,
   "id": "6d4882bc-cd1a-49c9-ac95-401cc9928176",
   "metadata": {},
   "outputs": [],
   "source": [
    "res_ = requests.get(urs_station_status).json()"
   ]
  },
  {
   "cell_type": "code",
   "execution_count": null,
   "id": "f25a99e4-5be5-423b-9ba5-b3d17f5b9194",
   "metadata": {},
   "outputs": [],
   "source": [
    "status_mob_stations_per_id = {e[\"station_id\"]: e for e in res_['data']['stations'] if e[\"station_id\"].startswith(\"mobility:\")}"
   ]
  },
  {
   "cell_type": "code",
   "execution_count": null,
   "id": "bb81f50d-84d6-4e5f-b142-3028af5d4809",
   "metadata": {},
   "outputs": [],
   "source": [
    "len(status_mob_stations_per_id)"
   ]
  },
  {
   "cell_type": "code",
   "execution_count": null,
   "id": "78fae38b-d964-4434-a260-8c1b74b4d87b",
   "metadata": {},
   "outputs": [],
   "source": [
    "status_mob_stations_per_id['mobility:80840']"
   ]
  }
 ],
 "metadata": {
  "kernelspec": {
   "display_name": "Python 3 (ipykernel)",
   "language": "python",
   "name": "python3"
  },
  "language_info": {
   "codemirror_mode": {
    "name": "ipython",
    "version": 3
   },
   "file_extension": ".py",
   "mimetype": "text/x-python",
   "name": "python",
   "nbconvert_exporter": "python",
   "pygments_lexer": "ipython3",
   "version": "3.10.8"
  }
 },
 "nbformat": 4,
 "nbformat_minor": 5
}
