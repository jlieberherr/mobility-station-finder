{
 "cells": [
  {
   "cell_type": "code",
   "execution_count": null,
   "id": "db59c3c7-95a6-4bd4-97ee-393bf4e9b6cc",
   "metadata": {},
   "outputs": [],
   "source": [
    "import os\n",
    "import psutil\n",
    "import geopandas as gpd\n",
    "from matrixconverters.read_ptv import ReadPTVMatrix\n",
    "import xarray as xr\n",
    "from collections import namedtuple, defaultdict\n",
    "import pandas as pd"
   ]
  },
  {
   "cell_type": "code",
   "execution_count": null,
   "id": "b2a5c59b-9314-444f-9415-ceb15ff696bf",
   "metadata": {},
   "outputs": [],
   "source": [
    "os.chdir(\"..\")"
   ]
  },
  {
   "cell_type": "code",
   "execution_count": null,
   "id": "d7a14d37-9c4e-40a0-b343-db730e1e0737",
   "metadata": {},
   "outputs": [],
   "source": [
    "from params.project_params import ENCODING_CP1252, CRS_EPSG_ID_WGS84\n",
    "from scripts.constants import GEOMETRY\n",
    "from scripts.functions import get_gdf_mobility_stations, get_gdf_mobility_stations_with_npvm_zone, execute_road_routing, RoadRoutingError"
   ]
  },
  {
   "cell_type": "markdown",
   "id": "0a30b17d-78a4-400d-a09e-56fc77f2e549",
   "metadata": {},
   "source": [
    "# Read data from files"
   ]
  },
  {
   "cell_type": "code",
   "execution_count": null,
   "id": "d0f3f584-b70c-47d8-a977-e2894200b1ee",
   "metadata": {},
   "outputs": [],
   "source": [
    "path_to_npvm_zones_shp = os.path.join('data', 'Verkehrszonen_Schweiz_NPVM_2017_shp.zip')"
   ]
  },
  {
   "cell_type": "code",
   "execution_count": null,
   "id": "849a7915-bee0-4f13-a6f8-313454583c2b",
   "metadata": {},
   "outputs": [],
   "source": [
    "path_mobility_stations = os.path.join('data', 'mobility-stationen-und-fahrzeuge-schweiz.csv')"
   ]
  },
  {
   "cell_type": "code",
   "execution_count": null,
   "id": "3ce19213-f5e9-4a89-9830-f64f71be9d62",
   "metadata": {},
   "outputs": [],
   "source": [
    "FileNameOldNew = namedtuple(\"FileNameOldNew\", [\"file_name_old\", \"file_name_new\"])"
   ]
  },
  {
   "cell_type": "code",
   "execution_count": null,
   "id": "3b015e07-aeb8-4566-8ba6-116650810e55",
   "metadata": {},
   "outputs": [],
   "source": [
    "skim_path_per_type = {\n",
    "    'PT_JT': FileNameOldNew('DWV_2017_ÖV_Reisezeit_CH_binär.mtx', 'pt_jt.nc'),\n",
    "    'PT_NT': FileNameOldNew('144_NTR_(OEV).mtx', 'pt_nt.nc'),\n",
    "    'PT_Dist': FileNameOldNew('DWV_2017_ÖV_Distanz_CH_binär.mtx', 'pt_dist.nc'),\n",
    "    'Road_JT': FileNameOldNew('DWV_2017_Strasse_Reisezeit_CH_binär.mtx', 'road_jt.nc'),\n",
    "    'Road_Dist': FileNameOldNew('DWV_2017_Strasse_Distanz_CH_binär.mtx', 'road_dist.nc')\n",
    "}"
   ]
  },
  {
   "cell_type": "code",
   "execution_count": null,
   "id": "fe530e95-f974-44a1-a49c-21b40dca8469",
   "metadata": {},
   "outputs": [],
   "source": [
    "process = psutil.Process()"
   ]
  },
  {
   "cell_type": "code",
   "execution_count": null,
   "id": "87dbd6dd-2278-40fd-ad4f-34903d62b544",
   "metadata": {},
   "outputs": [],
   "source": [
    "def print_memory_usage():\n",
    "    print(process.memory_info().rss / 1024 ** 2)"
   ]
  },
  {
   "cell_type": "code",
   "execution_count": null,
   "id": "e9854f17-bf3e-4f76-b34b-e18679060c50",
   "metadata": {},
   "outputs": [],
   "source": [
    "print_memory_usage()"
   ]
  },
  {
   "cell_type": "code",
   "execution_count": null,
   "id": "3ec66027-e355-4784-9fdb-0ecb60059afe",
   "metadata": {},
   "outputs": [],
   "source": [
    "gdf_npvm_zones = gpd.read_file(path_to_npvm_zones_shp, encoding=ENCODING_CP1252).to_crs(CRS_EPSG_ID_WGS84)\n",
    "print_memory_usage()"
   ]
  },
  {
   "cell_type": "code",
   "execution_count": null,
   "id": "2d91a061-4838-4643-99c8-ca6e9eeaf947",
   "metadata": {},
   "outputs": [],
   "source": [
    "gdf_mobility_stations = get_gdf_mobility_stations(path_mobility_stations)\n",
    "print_memory_usage()"
   ]
  },
  {
   "cell_type": "code",
   "execution_count": null,
   "id": "f98e93e3-5cf8-4f11-a8fb-02ecea6f2dc7",
   "metadata": {},
   "outputs": [],
   "source": [
    "gdf_mobility_stations"
   ]
  },
  {
   "cell_type": "code",
   "execution_count": null,
   "id": "455260dc-5ada-4158-bd06-88bf1b55bb40",
   "metadata": {},
   "outputs": [],
   "source": [
    "gdf_mobility_stations_with_npvm_zone = get_gdf_mobility_stations_with_npvm_zone(gdf_mobility_stations, gdf_npvm_zones)\n",
    "print_memory_usage()"
   ]
  },
  {
   "cell_type": "code",
   "execution_count": null,
   "id": "d24d642d-9e03-4c4e-acec-26d1ee6fbb3f",
   "metadata": {},
   "outputs": [],
   "source": [
    "gdf_mobility_stations_with_npvm_zone"
   ]
  },
  {
   "cell_type": "code",
   "execution_count": null,
   "id": "d2c525fb-8715-4441-9d38-cfd05b367923",
   "metadata": {},
   "outputs": [],
   "source": [
    "npvm_zones_with_mobility_station = list(set(gdf_mobility_stations_with_npvm_zone['ID'].values))"
   ]
  },
  {
   "cell_type": "markdown",
   "id": "d19f2ca9-6524-46a2-b2cb-2b689ef3d25c",
   "metadata": {},
   "source": [
    "# Filter skims to mobility station and write files to disk"
   ]
  },
  {
   "cell_type": "code",
   "execution_count": null,
   "id": "2800c746-6ab2-411a-b719-c6c851c482d9",
   "metadata": {},
   "outputs": [],
   "source": [
    "def read_skim_filter_and_write(ty, path_old, path_new):\n",
    "    print_memory_usage()\n",
    "    print(path_old, path_new)\n",
    "    skim = ReadPTVMatrix(os.path.join('data', path_old))\n",
    "    if ty.startswith('PT'):\n",
    "        skim_filtered = skim.sel(destinations=npvm_zones_with_mobility_station).matrix.rename({\"destinations\": \"zone_mobility_station\"})\n",
    "    elif ty.startswith('Road'):\n",
    "        skim_filtered = skim.sel(origins=npvm_zones_with_mobility_station).matrix.rename({\"origins\": \"zone_mobility_station\"})\n",
    "    skim_filtered.to_netcdf(os.path.join('data', path_new))\n",
    "    print_memory_usage()"
   ]
  },
  {
   "cell_type": "code",
   "execution_count": null,
   "id": "6f9915c4-0ea2-4002-8b55-606a37023150",
   "metadata": {},
   "outputs": [],
   "source": [
    "skim_per_type = {}"
   ]
  },
  {
   "cell_type": "code",
   "execution_count": null,
   "id": "57d532ef-a76b-4be0-88f0-eea5a1e2763a",
   "metadata": {},
   "outputs": [],
   "source": [
    "for ty, (name_old, name_new) in skim_path_per_type.items():\n",
    "    read_skim_filter_and_write(ty, name_old, name_new)"
   ]
  },
  {
   "cell_type": "markdown",
   "id": "5125d4b4-9f94-441b-a1ff-8246f073da73",
   "metadata": {},
   "source": [
    "# Read filtered files from disk"
   ]
  },
  {
   "cell_type": "code",
   "execution_count": null,
   "id": "a8872964-12f9-4f36-96f3-7f497f0dfe23",
   "metadata": {},
   "outputs": [],
   "source": [
    "%%time\n",
    "print_memory_usage()\n",
    "skim_filtered_per_type = {}\n",
    "skims = []\n",
    "for ty, (_, name_new) in skim_path_per_type.items():\n",
    "    skim_filtered_per_type[ty] = xr.open_dataset(os.path.join('data', name_new))\n",
    "print_memory_usage()"
   ]
  },
  {
   "cell_type": "markdown",
   "id": "c5876d25-16f0-407f-bd5b-4d98d19fe388",
   "metadata": {},
   "source": [
    "# Run query data"
   ]
  },
  {
   "cell_type": "markdown",
   "id": "be728f22-0e32-4c10-b3a3-89f654e6f170",
   "metadata": {},
   "source": [
    "## Origin and destination NPVM-zone"
   ]
  },
  {
   "cell_type": "code",
   "execution_count": null,
   "id": "e30db067-3a8f-4585-bcb5-a3df02c915c3",
   "metadata": {},
   "outputs": [],
   "source": [
    "from_zone_id = 223401003\n",
    "to_zone_id = 352101001"
   ]
  },
  {
   "cell_type": "code",
   "execution_count": null,
   "id": "dfed911c-20fd-43d1-9e13-d8c78292fd4b",
   "metadata": {},
   "outputs": [],
   "source": [
    "orig_easting, orig_northing, dest_easting, dest_northing = 7.4234812, 46.9366421, 7.4388954, 46.7303113"
   ]
  },
  {
   "cell_type": "markdown",
   "id": "9c865879-07d8-4b98-a63d-95d9b5424ccc",
   "metadata": {},
   "source": [
    "# Filter skims to origin and destination"
   ]
  },
  {
   "cell_type": "code",
   "execution_count": null,
   "id": "008adfb6-4a0e-4312-81a3-9454c73d020e",
   "metadata": {},
   "outputs": [],
   "source": [
    "def calc_costs_df(df_data, vtts, pt_min_per_transfer, pt_chf_per_km, road_chf_per_km):\n",
    "    return vtts / 60 * (20 * df_data['penalty_not_foot'] + df_data['pt_jt'] + pt_min_per_transfer * df_data['pt_nt'] + df_data['road_jt']) + pt_chf_per_km * df_data['pt_dist'] + road_chf_per_km * df_data['road_dist']"
   ]
  },
  {
   "cell_type": "code",
   "execution_count": null,
   "id": "06a43325-7e6f-4884-b8cc-07bff898d7c8",
   "metadata": {},
   "outputs": [],
   "source": [
    "def get_relevant_mob_stations(best_zones_costs_per_vtts):\n",
    "    relevant_mob_stations = []\n",
    "    for df_ in best_zones_costs_per_vtts.values():\n",
    "        relevant_mob_stations += df_['zone_mobility_station'].to_list()\n",
    "    relevant_mob_stations = set(relevant_mob_stations)\n",
    "    return relevant_mob_stations"
   ]
  },
  {
   "cell_type": "code",
   "execution_count": null,
   "id": "0909d894-70fe-48aa-90db-72221f35ca6c",
   "metadata": {},
   "outputs": [],
   "source": [
    "from math import sin, cos, sqrt, atan2, radians\n",
    "\n",
    "# Approximate radius of earth in km\n",
    "R = 6373.0\n",
    "\n",
    "def calc_distance(easting_1, northing_1, easting_2, northing_2):\n",
    "    lat1 = radians(northing_1)\n",
    "    lon1 = radians(easting_1)\n",
    "    lat2 = radians(northing_2)\n",
    "    lon2 = radians(easting_2)\n",
    "    dlon = lon2 - lon1\n",
    "    dlat = lat2 - lat1\n",
    "    a = sin(dlat / 2)**2 + cos(lat1) * cos(lat2) * sin(dlon / 2)**2\n",
    "    c = 2 * atan2(sqrt(a), sqrt(1 - a))\n",
    "    distance = R * c\n",
    "    return distance"
   ]
  },
  {
   "cell_type": "code",
   "execution_count": null,
   "id": "6ea5caab-e540-4e13-81d3-e1497b2fbe64",
   "metadata": {},
   "outputs": [],
   "source": [
    "def calc_dist_origin(x):\n",
    "    return calc_distance(orig_easting, orig_northing, float(x[\"easting\"]), float(x[\"northing\"]))"
   ]
  },
  {
   "cell_type": "code",
   "execution_count": null,
   "id": "cb39021d-c711-456f-80bb-f368f2020bd2",
   "metadata": {},
   "outputs": [],
   "source": [
    "calc_distance(orig_easting, orig_northing, dest_easting, dest_northing)"
   ]
  },
  {
   "cell_type": "code",
   "execution_count": null,
   "id": "72460582-dea0-43f7-924d-ff05b1ee94de",
   "metadata": {},
   "outputs": [],
   "source": [
    "def calc_foot_penalty(x):\n",
    "    dist = calc_distance(orig_easting, orig_northing, float(x[\"easting\"]), float(x[\"northing\"]))\n",
    "    return min(dist / 20, 1.0)"
   ]
  },
  {
   "cell_type": "code",
   "execution_count": null,
   "id": "dcb9b81c-2a16-49d7-a136-afe74a477c2e",
   "metadata": {},
   "outputs": [],
   "source": [
    "def calc_penalty_not_foot(x):\n",
    "    return min(x[\"dist_from_origin\"] / 20, 1.0)"
   ]
  },
  {
   "cell_type": "code",
   "execution_count": null,
   "id": "4c05fcdb-dadb-41ba-861c-0fa9f69354c1",
   "metadata": {},
   "outputs": [],
   "source": [
    "gdf_mobility_stations_with_npvm_zone"
   ]
  },
  {
   "cell_type": "code",
   "execution_count": null,
   "id": "4910aeea-df10-4c64-98d8-ccca1168b013",
   "metadata": {},
   "outputs": [],
   "source": [
    "def execute(from_zone_id, to_zone_id):\n",
    "    pt_jt = skim_filtered_per_type['PT_JT'].sel(origins=from_zone_id, drop=True).matrix\n",
    "    pt_nt = skim_filtered_per_type['PT_NT'].sel(origins=from_zone_id, drop=True).matrix\n",
    "    pt_dist = skim_filtered_per_type['PT_Dist'].sel(origins=from_zone_id, drop=True).matrix\n",
    "\n",
    "    road_jt = skim_filtered_per_type['Road_JT'].sel(destinations=to_zone_id, drop=True).matrix\n",
    "    road_dist = skim_filtered_per_type['Road_Dist'].sel(destinations=to_zone_id, drop=True).matrix\n",
    "    \n",
    "    df_pt_jt = pt_jt.to_dataframe().reset_index().rename(columns={'matrix': 'pt_jt'})\n",
    "    df_pt_nt = pt_nt.to_dataframe().reset_index().rename(columns={'matrix': 'pt_nt'})\n",
    "    df_pt_dist = pt_dist.to_dataframe().reset_index().rename(columns={'matrix': 'pt_dist'})\n",
    "\n",
    "    df_road_jt = road_jt.to_dataframe().reset_index().rename(columns={'matrix': 'road_jt'})\n",
    "    df_road_dist = road_dist.to_dataframe().reset_index().rename(columns={'matrix': 'road_dist'})\n",
    "    \n",
    "    df_data = df_pt_jt\n",
    "    for df in [df_pt_nt, df_pt_dist, df_road_jt, df_road_dist]:\n",
    "        df_data = df_data.merge(df)\n",
    "    fields = ['zone_mobility_station', 'pt_jt', 'pt_nt', 'pt_dist', 'road_jt',\n",
    "       'road_dist', 'Stationsnummer', 'ID', 'Name', 'geometry', 'easting',\n",
    "       'northing']\n",
    "    df_data = df_data.merge(gdf_mobility_stations_with_npvm_zone, left_on='zone_mobility_station', right_on=\"ID\")[fields]\n",
    "    print(df_data.columns)\n",
    "    df_data[\"dist_from_origin\"] = df_data.apply(calc_dist_origin, axis=1)\n",
    "    df_data[\"penalty_not_foot\"] = df_data.apply(calc_penalty_not_foot, axis=1)\n",
    "    \n",
    "    factor = 1.1\n",
    "    \n",
    "    while True:\n",
    "        best_zones_costs_per_vtts = {}\n",
    "        for vtts in range(0, 205, 5):\n",
    "            df_data['costs'] = calc_costs_df(df_data, vtts, 20.0, 0.16, 0.75)\n",
    "            min_costs = df_data['costs'].min()\n",
    "            best_zones_costs_per_vtts[vtts] = df_data[['zone_mobility_station', 'costs']][df_data['costs'] <= factor * min_costs]\n",
    "            best_zones_costs_per_vtts[vtts] = df_data[df_data['costs'] <= factor * min_costs]\n",
    "\n",
    "        relevant_mob_stations = get_relevant_mob_stations(best_zones_costs_per_vtts)\n",
    "        \n",
    "        df_data_relevant_zones = df_data[df_data.zone_mobility_station.isin(relevant_mob_stations)]\n",
    "        df_data_relevant_mob_stations = df_data_relevant_zones.merge(gdf_mobility_stations_with_npvm_zone, left_on='zone_mobility_station', right_on=\"ID\")\n",
    "        if len(df_data_relevant_mob_stations) <= 200:\n",
    "            print(factor)\n",
    "            print(len(df_data_relevant_mob_stations))\n",
    "            break\n",
    "        else:\n",
    "            print(len(df_data_relevant_mob_stations))\n",
    "            factor -= 0.01\n",
    "    list_potential_mobility_stations = list(df_data[[\"Stationsnummer\", \"easting\", \"northing\"]].to_dict(\"records\"))\n",
    "    try:\n",
    "        # id is MOBILITY_STATIONSNUMMER if osrm_routing\n",
    "        road_dist_from_pot_mob_stat_to_dest_per_id, road_durations_from_pot_mob_stat_to_dest_per_id = execute_road_routing(list_potential_mobility_stations, gdf_dest_with_npvm_zone_id)\n",
    "    except Exception:\n",
    "        raise RoadRoutingError(\n",
    "            \"could not get road distances and durations from potential mobility stations to destination \")\n",
    "    return df_data_relevant_mob_stations, best_zones_costs_per_vtts\n",
    "    \n",
    "#     data_per_zone = df_data[df_data.zone_mobility_station.isin(relevant_mob_stations)].to_dict('records')\n",
    "#     data_per_zone = {x['zone_mobility_station']: x for x in data_per_zone}\n",
    "    \n",
    "#     mob_stations_per_npvm_zone = defaultdict(list)\n",
    "#     infos_per_mob_station = {}\n",
    "#     for e in gdf_mobility_stations_with_npvm_zone[gdf_mobility_stations_with_npvm_zone.ID.isin(relevant_mob_stations)].to_dict('records'):\n",
    "#         mob_st_nr = e['Stationsnummer']\n",
    "#         mob_st_name = e['Name']\n",
    "#         zone_id = e['ID']\n",
    "#         easting = e['easting']\n",
    "#         northing = e['northing']\n",
    "#         mob_stations_per_npvm_zone[zone_id] += [mob_st_nr]\n",
    "#         if mob_st_nr in infos_per_mob_station:\n",
    "#             raise ValueError('something wrong')\n",
    "#         infos_per_mob_station[mob_st_nr] = {\n",
    "#             'station_nr': mob_st_nr,\n",
    "#             'station_name': mob_st_name,\n",
    "#             'zone_id': zone_id,\n",
    "#             'station_easting': easting,\n",
    "#             'station_northing': northing\n",
    "#         }\n",
    "    # return {\n",
    "    #     'best_zones_costs_per_vtts': {k: df.to_dict('records') for k, df in best_zones_costs_per_vtts.items()}, \n",
    "    #     'data_per_zone': data_per_zone,\n",
    "    #     'mobility_stations_per_zone': dict(mob_stations_per_npvm_zone),\n",
    "    #     'infos_per_mobility_station': infos_per_mob_station\n",
    "    # }"
   ]
  },
  {
   "cell_type": "code",
   "execution_count": null,
   "id": "db073fc0-5f3a-45da-ba99-fd8dcfcf5bfe",
   "metadata": {},
   "outputs": [],
   "source": [
    "%%time\n",
    "df_data_relevant_mob_stations, best_zones_costs_per_vtts = execute(from_zone_id, to_zone_id)"
   ]
  },
  {
   "cell_type": "code",
   "execution_count": null,
   "id": "245759a9-e3ee-4f90-badb-ae8cd44f8c93",
   "metadata": {},
   "outputs": [],
   "source": [
    "best_zones_costs_per_vtts[200]"
   ]
  },
  {
   "cell_type": "code",
   "execution_count": null,
   "id": "2798f0c2-eb08-4abd-a662-cdb5a35190ba",
   "metadata": {},
   "outputs": [],
   "source": [
    "res.sort_values(by=\"penalty_not_foot\")"
   ]
  },
  {
   "cell_type": "code",
   "execution_count": null,
   "id": "d11ac4dd-c492-43cd-a3f8-35a60d528dc2",
   "metadata": {},
   "outputs": [],
   "source": []
  }
 ],
 "metadata": {
  "kernelspec": {
   "display_name": "Python 3 (ipykernel)",
   "language": "python",
   "name": "python3"
  },
  "language_info": {
   "codemirror_mode": {
    "name": "ipython",
    "version": 3
   },
   "file_extension": ".py",
   "mimetype": "text/x-python",
   "name": "python",
   "nbconvert_exporter": "python",
   "pygments_lexer": "ipython3",
   "version": "3.10.8"
  }
 },
 "nbformat": 4,
 "nbformat_minor": 5
}
