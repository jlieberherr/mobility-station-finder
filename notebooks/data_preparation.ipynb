{
 "cells": [
  {
   "cell_type": "code",
   "execution_count": 1,
   "id": "db59c3c7-95a6-4bd4-97ee-393bf4e9b6cc",
   "metadata": {},
   "outputs": [],
   "source": [
    "import os\n",
    "import psutil\n",
    "import geopandas as gpd\n",
    "from matrixconverters.read_ptv import ReadPTVMatrix\n",
    "import xarray as xr\n",
    "from collections import namedtuple"
   ]
  },
  {
   "cell_type": "code",
   "execution_count": 2,
   "id": "b2a5c59b-9314-444f-9415-ceb15ff696bf",
   "metadata": {},
   "outputs": [],
   "source": [
    "os.chdir(\"..\")"
   ]
  },
  {
   "cell_type": "code",
   "execution_count": 3,
   "id": "d7a14d37-9c4e-40a0-b343-db730e1e0737",
   "metadata": {},
   "outputs": [],
   "source": [
    "from params.project_params import ENCODING_CP1252, CRS_EPSG_ID_WGS84\n",
    "from scripts.functions import get_gdf_mobility_stations, get_gdf_mobility_stations_with_npvm_zone, get_skim"
   ]
  },
  {
   "cell_type": "code",
   "execution_count": 4,
   "id": "d0f3f584-b70c-47d8-a977-e2894200b1ee",
   "metadata": {},
   "outputs": [],
   "source": [
    "path_to_npvm_zones_shp = os.path.join('data', 'Verkehrszonen_Schweiz_NPVM_2017_shp.zip')"
   ]
  },
  {
   "cell_type": "code",
   "execution_count": 5,
   "id": "849a7915-bee0-4f13-a6f8-313454583c2b",
   "metadata": {},
   "outputs": [],
   "source": [
    "path_mobility_stations = os.path.join('data', 'mobility-stationen-und-fahrzeuge-schweiz.csv')"
   ]
  },
  {
   "cell_type": "code",
   "execution_count": 6,
   "id": "3ce19213-f5e9-4a89-9830-f64f71be9d62",
   "metadata": {},
   "outputs": [],
   "source": [
    "FileNameOldNew = namedtuple(\"FileNameOldNew\", [\"file_name_old\", \"file_name_new\"])"
   ]
  },
  {
   "cell_type": "code",
   "execution_count": 7,
   "id": "3b015e07-aeb8-4566-8ba6-116650810e55",
   "metadata": {},
   "outputs": [],
   "source": [
    "skim_path_per_type = {\n",
    "    'PT_JT': FileNameOldNew('DWV_2017_ÖV_Reisezeit_CH_binär.mtx', 'pt_jt.nc'),\n",
    "    'PT_NT': FileNameOldNew('144_NTR_(OEV).mtx', 'pt_nt.nc'),\n",
    "    'PT_Dist': FileNameOldNew('DWV_2017_ÖV_Distanz_CH_binär.mtx', 'pt_dist.nc'),\n",
    "    'Road_JT': FileNameOldNew('DWV_2017_Strasse_Reisezeit_CH_binär.mtx', 'road_jt.nc'),\n",
    "    'Road_Dist': FileNameOldNew('DWV_2017_Strasse_Distanz_CH_binär.mtx', 'road_dist.nc')\n",
    "}"
   ]
  },
  {
   "cell_type": "code",
   "execution_count": 8,
   "id": "fe530e95-f974-44a1-a49c-21b40dca8469",
   "metadata": {},
   "outputs": [],
   "source": [
    "process = psutil.Process()"
   ]
  },
  {
   "cell_type": "code",
   "execution_count": 9,
   "id": "87dbd6dd-2278-40fd-ad4f-34903d62b544",
   "metadata": {},
   "outputs": [],
   "source": [
    "def print_memory_usage():\n",
    "    print(process.memory_info().rss / 1024 ** 2)"
   ]
  },
  {
   "cell_type": "code",
   "execution_count": 10,
   "id": "e9854f17-bf3e-4f76-b34b-e18679060c50",
   "metadata": {},
   "outputs": [
    {
     "name": "stdout",
     "output_type": "stream",
     "text": [
      "115.86328125\n"
     ]
    }
   ],
   "source": [
    "print_memory_usage()"
   ]
  },
  {
   "cell_type": "code",
   "execution_count": 11,
   "id": "3ec66027-e355-4784-9fdb-0ecb60059afe",
   "metadata": {},
   "outputs": [
    {
     "name": "stdout",
     "output_type": "stream",
     "text": [
      "205.046875\n"
     ]
    }
   ],
   "source": [
    "gdf_npvm_zones = gpd.read_file(path_to_npvm_zones_shp, encoding=ENCODING_CP1252).to_crs(CRS_EPSG_ID_WGS84)\n",
    "print_memory_usage()"
   ]
  },
  {
   "cell_type": "code",
   "execution_count": 12,
   "id": "2d91a061-4838-4643-99c8-ca6e9eeaf947",
   "metadata": {},
   "outputs": [
    {
     "name": "stdout",
     "output_type": "stream",
     "text": [
      "209.40625\n"
     ]
    }
   ],
   "source": [
    "gdf_mobility_stations = get_gdf_mobility_stations(path_mobility_stations)\n",
    "print_memory_usage()"
   ]
  },
  {
   "cell_type": "code",
   "execution_count": 13,
   "id": "455260dc-5ada-4158-bd06-88bf1b55bb40",
   "metadata": {},
   "outputs": [
    {
     "name": "stdout",
     "output_type": "stream",
     "text": [
      "213.26171875\n"
     ]
    }
   ],
   "source": [
    "gdf_mobility_stations_with_npvm_zone = get_gdf_mobility_stations_with_npvm_zone(gdf_mobility_stations, gdf_npvm_zones)\n",
    "print_memory_usage()"
   ]
  },
  {
   "cell_type": "code",
   "execution_count": 14,
   "id": "d2c525fb-8715-4441-9d38-cfd05b367923",
   "metadata": {},
   "outputs": [],
   "source": [
    "npvm_zones_with_mobility_station = list(set(gdf_mobility_stations_with_npvm_zone['ID'].values))"
   ]
  },
  {
   "cell_type": "code",
   "execution_count": 15,
   "id": "2800c746-6ab2-411a-b719-c6c851c482d9",
   "metadata": {},
   "outputs": [],
   "source": [
    "def read_skim_filter_and_write(ty, path_old, path_new):\n",
    "    print_memory_usage()\n",
    "    print(path_old, path_new)\n",
    "    skim = ReadPTVMatrix(os.path.join('data', path_old))\n",
    "    if ty.startswith('PT'):\n",
    "        skim_filtered = skim.sel(destinations=npvm_zones_with_mobility_station)\n",
    "    elif ty.startswith('Road'):\n",
    "        skim_filtered = skim.sel(origins=npvm_zones_with_mobility_station)\n",
    "    skim_filtered.to_netcdf(os.path.join('data', path_new))\n",
    "    print_memory_usage()"
   ]
  },
  {
   "cell_type": "code",
   "execution_count": 16,
   "id": "6f9915c4-0ea2-4002-8b55-606a37023150",
   "metadata": {},
   "outputs": [],
   "source": [
    "skim_per_type = {}"
   ]
  },
  {
   "cell_type": "code",
   "execution_count": 17,
   "id": "57d532ef-a76b-4be0-88f0-eea5a1e2763a",
   "metadata": {},
   "outputs": [
    {
     "name": "stdout",
     "output_type": "stream",
     "text": [
      "213.28515625\n",
      "DWV_2017_ÖV_Reisezeit_CH_binär.mtx pt_jt.nc\n",
      "786.55859375\n",
      "221.15625\n",
      "144_NTR_(OEV).mtx pt_nt.nc\n",
      "889.78515625\n",
      "222.72265625\n",
      "DWV_2017_ÖV_Distanz_CH_binär.mtx pt_dist.nc\n",
      "788.1484375\n",
      "222.74609375\n",
      "DWV_2017_Strasse_Reisezeit_CH_binär.mtx road_jt.nc\n",
      "788.18359375\n",
      "222.78125\n",
      "DWV_2017_Strasse_Distanz_CH_binär.mtx road_dist.nc\n",
      "788.18359375\n"
     ]
    }
   ],
   "source": [
    "for ty, (name_old, name_new) in skim_path_per_type.items():\n",
    "    read_skim_filter_and_write(ty, name_old, name_new)"
   ]
  },
  {
   "cell_type": "code",
   "execution_count": 18,
   "id": "a8872964-12f9-4f36-96f3-7f497f0dfe23",
   "metadata": {},
   "outputs": [
    {
     "name": "stdout",
     "output_type": "stream",
     "text": [
      "222.78125\n",
      "232.140625\n"
     ]
    }
   ],
   "source": [
    "print_memory_usage()\n",
    "skim_filtered_per_type = {}\n",
    "skims = []\n",
    "for ty, (_, name_new) in skim_path_per_type.items():\n",
    "    skim_filtered_per_type[ty] = xr.open_dataset(os.path.join('data', name_new))\n",
    "print_memory_usage()"
   ]
  },
  {
   "cell_type": "code",
   "execution_count": 19,
   "id": "25e9b3eb-a7ca-4264-887e-68ba03925e71",
   "metadata": {},
   "outputs": [
    {
     "data": {
      "text/html": [
       "<div><svg style=\"position: absolute; width: 0; height: 0; overflow: hidden\">\n",
       "<defs>\n",
       "<symbol id=\"icon-database\" viewBox=\"0 0 32 32\">\n",
       "<path d=\"M16 0c-8.837 0-16 2.239-16 5v4c0 2.761 7.163 5 16 5s16-2.239 16-5v-4c0-2.761-7.163-5-16-5z\"></path>\n",
       "<path d=\"M16 17c-8.837 0-16-2.239-16-5v6c0 2.761 7.163 5 16 5s16-2.239 16-5v-6c0 2.761-7.163 5-16 5z\"></path>\n",
       "<path d=\"M16 26c-8.837 0-16-2.239-16-5v6c0 2.761 7.163 5 16 5s16-2.239 16-5v-6c0 2.761-7.163 5-16 5z\"></path>\n",
       "</symbol>\n",
       "<symbol id=\"icon-file-text2\" viewBox=\"0 0 32 32\">\n",
       "<path d=\"M28.681 7.159c-0.694-0.947-1.662-2.053-2.724-3.116s-2.169-2.030-3.116-2.724c-1.612-1.182-2.393-1.319-2.841-1.319h-15.5c-1.378 0-2.5 1.121-2.5 2.5v27c0 1.378 1.122 2.5 2.5 2.5h23c1.378 0 2.5-1.122 2.5-2.5v-19.5c0-0.448-0.137-1.23-1.319-2.841zM24.543 5.457c0.959 0.959 1.712 1.825 2.268 2.543h-4.811v-4.811c0.718 0.556 1.584 1.309 2.543 2.268zM28 29.5c0 0.271-0.229 0.5-0.5 0.5h-23c-0.271 0-0.5-0.229-0.5-0.5v-27c0-0.271 0.229-0.5 0.5-0.5 0 0 15.499-0 15.5 0v7c0 0.552 0.448 1 1 1h7v19.5z\"></path>\n",
       "<path d=\"M23 26h-14c-0.552 0-1-0.448-1-1s0.448-1 1-1h14c0.552 0 1 0.448 1 1s-0.448 1-1 1z\"></path>\n",
       "<path d=\"M23 22h-14c-0.552 0-1-0.448-1-1s0.448-1 1-1h14c0.552 0 1 0.448 1 1s-0.448 1-1 1z\"></path>\n",
       "<path d=\"M23 18h-14c-0.552 0-1-0.448-1-1s0.448-1 1-1h14c0.552 0 1 0.448 1 1s-0.448 1-1 1z\"></path>\n",
       "</symbol>\n",
       "</defs>\n",
       "</svg>\n",
       "<style>/* CSS stylesheet for displaying xarray objects in jupyterlab.\n",
       " *\n",
       " */\n",
       "\n",
       ":root {\n",
       "  --xr-font-color0: var(--jp-content-font-color0, rgba(0, 0, 0, 1));\n",
       "  --xr-font-color2: var(--jp-content-font-color2, rgba(0, 0, 0, 0.54));\n",
       "  --xr-font-color3: var(--jp-content-font-color3, rgba(0, 0, 0, 0.38));\n",
       "  --xr-border-color: var(--jp-border-color2, #e0e0e0);\n",
       "  --xr-disabled-color: var(--jp-layout-color3, #bdbdbd);\n",
       "  --xr-background-color: var(--jp-layout-color0, white);\n",
       "  --xr-background-color-row-even: var(--jp-layout-color1, white);\n",
       "  --xr-background-color-row-odd: var(--jp-layout-color2, #eeeeee);\n",
       "}\n",
       "\n",
       "html[theme=dark],\n",
       "body[data-theme=dark],\n",
       "body.vscode-dark {\n",
       "  --xr-font-color0: rgba(255, 255, 255, 1);\n",
       "  --xr-font-color2: rgba(255, 255, 255, 0.54);\n",
       "  --xr-font-color3: rgba(255, 255, 255, 0.38);\n",
       "  --xr-border-color: #1F1F1F;\n",
       "  --xr-disabled-color: #515151;\n",
       "  --xr-background-color: #111111;\n",
       "  --xr-background-color-row-even: #111111;\n",
       "  --xr-background-color-row-odd: #313131;\n",
       "}\n",
       "\n",
       ".xr-wrap {\n",
       "  display: block !important;\n",
       "  min-width: 300px;\n",
       "  max-width: 700px;\n",
       "}\n",
       "\n",
       ".xr-text-repr-fallback {\n",
       "  /* fallback to plain text repr when CSS is not injected (untrusted notebook) */\n",
       "  display: none;\n",
       "}\n",
       "\n",
       ".xr-header {\n",
       "  padding-top: 6px;\n",
       "  padding-bottom: 6px;\n",
       "  margin-bottom: 4px;\n",
       "  border-bottom: solid 1px var(--xr-border-color);\n",
       "}\n",
       "\n",
       ".xr-header > div,\n",
       ".xr-header > ul {\n",
       "  display: inline;\n",
       "  margin-top: 0;\n",
       "  margin-bottom: 0;\n",
       "}\n",
       "\n",
       ".xr-obj-type,\n",
       ".xr-array-name {\n",
       "  margin-left: 2px;\n",
       "  margin-right: 10px;\n",
       "}\n",
       "\n",
       ".xr-obj-type {\n",
       "  color: var(--xr-font-color2);\n",
       "}\n",
       "\n",
       ".xr-sections {\n",
       "  padding-left: 0 !important;\n",
       "  display: grid;\n",
       "  grid-template-columns: 150px auto auto 1fr 20px 20px;\n",
       "}\n",
       "\n",
       ".xr-section-item {\n",
       "  display: contents;\n",
       "}\n",
       "\n",
       ".xr-section-item input {\n",
       "  display: none;\n",
       "}\n",
       "\n",
       ".xr-section-item input + label {\n",
       "  color: var(--xr-disabled-color);\n",
       "}\n",
       "\n",
       ".xr-section-item input:enabled + label {\n",
       "  cursor: pointer;\n",
       "  color: var(--xr-font-color2);\n",
       "}\n",
       "\n",
       ".xr-section-item input:enabled + label:hover {\n",
       "  color: var(--xr-font-color0);\n",
       "}\n",
       "\n",
       ".xr-section-summary {\n",
       "  grid-column: 1;\n",
       "  color: var(--xr-font-color2);\n",
       "  font-weight: 500;\n",
       "}\n",
       "\n",
       ".xr-section-summary > span {\n",
       "  display: inline-block;\n",
       "  padding-left: 0.5em;\n",
       "}\n",
       "\n",
       ".xr-section-summary-in:disabled + label {\n",
       "  color: var(--xr-font-color2);\n",
       "}\n",
       "\n",
       ".xr-section-summary-in + label:before {\n",
       "  display: inline-block;\n",
       "  content: '►';\n",
       "  font-size: 11px;\n",
       "  width: 15px;\n",
       "  text-align: center;\n",
       "}\n",
       "\n",
       ".xr-section-summary-in:disabled + label:before {\n",
       "  color: var(--xr-disabled-color);\n",
       "}\n",
       "\n",
       ".xr-section-summary-in:checked + label:before {\n",
       "  content: '▼';\n",
       "}\n",
       "\n",
       ".xr-section-summary-in:checked + label > span {\n",
       "  display: none;\n",
       "}\n",
       "\n",
       ".xr-section-summary,\n",
       ".xr-section-inline-details {\n",
       "  padding-top: 4px;\n",
       "  padding-bottom: 4px;\n",
       "}\n",
       "\n",
       ".xr-section-inline-details {\n",
       "  grid-column: 2 / -1;\n",
       "}\n",
       "\n",
       ".xr-section-details {\n",
       "  display: none;\n",
       "  grid-column: 1 / -1;\n",
       "  margin-bottom: 5px;\n",
       "}\n",
       "\n",
       ".xr-section-summary-in:checked ~ .xr-section-details {\n",
       "  display: contents;\n",
       "}\n",
       "\n",
       ".xr-array-wrap {\n",
       "  grid-column: 1 / -1;\n",
       "  display: grid;\n",
       "  grid-template-columns: 20px auto;\n",
       "}\n",
       "\n",
       ".xr-array-wrap > label {\n",
       "  grid-column: 1;\n",
       "  vertical-align: top;\n",
       "}\n",
       "\n",
       ".xr-preview {\n",
       "  color: var(--xr-font-color3);\n",
       "}\n",
       "\n",
       ".xr-array-preview,\n",
       ".xr-array-data {\n",
       "  padding: 0 5px !important;\n",
       "  grid-column: 2;\n",
       "}\n",
       "\n",
       ".xr-array-data,\n",
       ".xr-array-in:checked ~ .xr-array-preview {\n",
       "  display: none;\n",
       "}\n",
       "\n",
       ".xr-array-in:checked ~ .xr-array-data,\n",
       ".xr-array-preview {\n",
       "  display: inline-block;\n",
       "}\n",
       "\n",
       ".xr-dim-list {\n",
       "  display: inline-block !important;\n",
       "  list-style: none;\n",
       "  padding: 0 !important;\n",
       "  margin: 0;\n",
       "}\n",
       "\n",
       ".xr-dim-list li {\n",
       "  display: inline-block;\n",
       "  padding: 0;\n",
       "  margin: 0;\n",
       "}\n",
       "\n",
       ".xr-dim-list:before {\n",
       "  content: '(';\n",
       "}\n",
       "\n",
       ".xr-dim-list:after {\n",
       "  content: ')';\n",
       "}\n",
       "\n",
       ".xr-dim-list li:not(:last-child):after {\n",
       "  content: ',';\n",
       "  padding-right: 5px;\n",
       "}\n",
       "\n",
       ".xr-has-index {\n",
       "  font-weight: bold;\n",
       "}\n",
       "\n",
       ".xr-var-list,\n",
       ".xr-var-item {\n",
       "  display: contents;\n",
       "}\n",
       "\n",
       ".xr-var-item > div,\n",
       ".xr-var-item label,\n",
       ".xr-var-item > .xr-var-name span {\n",
       "  background-color: var(--xr-background-color-row-even);\n",
       "  margin-bottom: 0;\n",
       "}\n",
       "\n",
       ".xr-var-item > .xr-var-name:hover span {\n",
       "  padding-right: 5px;\n",
       "}\n",
       "\n",
       ".xr-var-list > li:nth-child(odd) > div,\n",
       ".xr-var-list > li:nth-child(odd) > label,\n",
       ".xr-var-list > li:nth-child(odd) > .xr-var-name span {\n",
       "  background-color: var(--xr-background-color-row-odd);\n",
       "}\n",
       "\n",
       ".xr-var-name {\n",
       "  grid-column: 1;\n",
       "}\n",
       "\n",
       ".xr-var-dims {\n",
       "  grid-column: 2;\n",
       "}\n",
       "\n",
       ".xr-var-dtype {\n",
       "  grid-column: 3;\n",
       "  text-align: right;\n",
       "  color: var(--xr-font-color2);\n",
       "}\n",
       "\n",
       ".xr-var-preview {\n",
       "  grid-column: 4;\n",
       "}\n",
       "\n",
       ".xr-index-preview {\n",
       "  grid-column: 2 / 5;\n",
       "  color: var(--xr-font-color2);\n",
       "}\n",
       "\n",
       ".xr-var-name,\n",
       ".xr-var-dims,\n",
       ".xr-var-dtype,\n",
       ".xr-preview,\n",
       ".xr-attrs dt {\n",
       "  white-space: nowrap;\n",
       "  overflow: hidden;\n",
       "  text-overflow: ellipsis;\n",
       "  padding-right: 10px;\n",
       "}\n",
       "\n",
       ".xr-var-name:hover,\n",
       ".xr-var-dims:hover,\n",
       ".xr-var-dtype:hover,\n",
       ".xr-attrs dt:hover {\n",
       "  overflow: visible;\n",
       "  width: auto;\n",
       "  z-index: 1;\n",
       "}\n",
       "\n",
       ".xr-var-attrs,\n",
       ".xr-var-data,\n",
       ".xr-index-data {\n",
       "  display: none;\n",
       "  background-color: var(--xr-background-color) !important;\n",
       "  padding-bottom: 5px !important;\n",
       "}\n",
       "\n",
       ".xr-var-attrs-in:checked ~ .xr-var-attrs,\n",
       ".xr-var-data-in:checked ~ .xr-var-data,\n",
       ".xr-index-data-in:checked ~ .xr-index-data {\n",
       "  display: block;\n",
       "}\n",
       "\n",
       ".xr-var-data > table {\n",
       "  float: right;\n",
       "}\n",
       "\n",
       ".xr-var-name span,\n",
       ".xr-var-data,\n",
       ".xr-index-name div,\n",
       ".xr-index-data,\n",
       ".xr-attrs {\n",
       "  padding-left: 25px !important;\n",
       "}\n",
       "\n",
       ".xr-attrs,\n",
       ".xr-var-attrs,\n",
       ".xr-var-data,\n",
       ".xr-index-data {\n",
       "  grid-column: 1 / -1;\n",
       "}\n",
       "\n",
       "dl.xr-attrs {\n",
       "  padding: 0;\n",
       "  margin: 0;\n",
       "  display: grid;\n",
       "  grid-template-columns: 125px auto;\n",
       "}\n",
       "\n",
       ".xr-attrs dt,\n",
       ".xr-attrs dd {\n",
       "  padding: 0;\n",
       "  margin: 0;\n",
       "  float: left;\n",
       "  padding-right: 10px;\n",
       "  width: auto;\n",
       "}\n",
       "\n",
       ".xr-attrs dt {\n",
       "  font-weight: normal;\n",
       "  grid-column: 1;\n",
       "}\n",
       "\n",
       ".xr-attrs dt:hover span {\n",
       "  display: inline-block;\n",
       "  background: var(--xr-background-color);\n",
       "  padding-right: 10px;\n",
       "}\n",
       "\n",
       ".xr-attrs dd {\n",
       "  grid-column: 2;\n",
       "  white-space: pre-wrap;\n",
       "  word-break: break-all;\n",
       "}\n",
       "\n",
       ".xr-icon-database,\n",
       ".xr-icon-file-text2,\n",
       ".xr-no-icon {\n",
       "  display: inline-block;\n",
       "  vertical-align: middle;\n",
       "  width: 1em;\n",
       "  height: 1.5em !important;\n",
       "  stroke-width: 0;\n",
       "  stroke: currentColor;\n",
       "  fill: currentColor;\n",
       "}\n",
       "</style><pre class='xr-text-repr-fallback'>&lt;xarray.Dataset&gt;\n",
       "Dimensions:       (zone_no: 7978, zone_no2: 7978, origins: 7978,\n",
       "                   destinations: 1311)\n",
       "Coordinates:\n",
       "  * zone_no       (zone_no) int32 101001 201001 201002 ... 710101001 730101001\n",
       "  * zone_no2      (zone_no2) int32 101001 201001 201002 ... 710101001 730101001\n",
       "  * origins       (origins) int32 101001 201001 201002 ... 710101001 730101001\n",
       "  * destinations  (destinations) int32 575701002 15401001 ... 163201010 9601011\n",
       "Data variables:\n",
       "    matrix        (origins, destinations) float64 ...\n",
       "    zone_name     (zone_no) object ...\n",
       "    zone_names2   (zone_no2) object ...\n",
       "Attributes:\n",
       "    fn:                   data\\DWV_2017_ÖV_Reisezeit_CH_binär.mtx\n",
       "    ZeitVon:              nan\n",
       "    ZeitBis:              nan\n",
       "    Faktor:               1.0\n",
       "    VMAktKennung:         0\n",
       "    AnzBezeichnerlisten:  1\n",
       "    roundproc:            1\n",
       "    diagsum:              103179.79940513325</pre><div class='xr-wrap' style='display:none'><div class='xr-header'><div class='xr-obj-type'>xarray.Dataset</div></div><ul class='xr-sections'><li class='xr-section-item'><input id='section-465e31c5-08f1-4481-9f28-ae23a0825b30' class='xr-section-summary-in' type='checkbox' disabled ><label for='section-465e31c5-08f1-4481-9f28-ae23a0825b30' class='xr-section-summary'  title='Expand/collapse section'>Dimensions:</label><div class='xr-section-inline-details'><ul class='xr-dim-list'><li><span class='xr-has-index'>zone_no</span>: 7978</li><li><span class='xr-has-index'>zone_no2</span>: 7978</li><li><span class='xr-has-index'>origins</span>: 7978</li><li><span class='xr-has-index'>destinations</span>: 1311</li></ul></div><div class='xr-section-details'></div></li><li class='xr-section-item'><input id='section-40780978-704d-4064-9504-9402f08a300d' class='xr-section-summary-in' type='checkbox'  checked><label for='section-40780978-704d-4064-9504-9402f08a300d' class='xr-section-summary' >Coordinates: <span>(4)</span></label><div class='xr-section-inline-details'></div><div class='xr-section-details'><ul class='xr-var-list'><li class='xr-var-item'><div class='xr-var-name'><span class='xr-has-index'>zone_no</span></div><div class='xr-var-dims'>(zone_no)</div><div class='xr-var-dtype'>int32</div><div class='xr-var-preview xr-preview'>101001 201001 ... 730101001</div><input id='attrs-3589b3ce-fbb9-46c6-803c-ef7dc4e4eccc' class='xr-var-attrs-in' type='checkbox' disabled><label for='attrs-3589b3ce-fbb9-46c6-803c-ef7dc4e4eccc' title='Show/Hide attributes'><svg class='icon xr-icon-file-text2'><use xlink:href='#icon-file-text2'></use></svg></label><input id='data-b8568ec4-1a77-4d9e-b366-fb8f700113d3' class='xr-var-data-in' type='checkbox'><label for='data-b8568ec4-1a77-4d9e-b366-fb8f700113d3' title='Show/Hide data repr'><svg class='icon xr-icon-database'><use xlink:href='#icon-database'></use></svg></label><div class='xr-var-attrs'><dl class='xr-attrs'></dl></div><div class='xr-var-data'><pre>array([   101001,    201001,    201002, ..., 701101001, 710101001, 730101001])</pre></div></li><li class='xr-var-item'><div class='xr-var-name'><span class='xr-has-index'>zone_no2</span></div><div class='xr-var-dims'>(zone_no2)</div><div class='xr-var-dtype'>int32</div><div class='xr-var-preview xr-preview'>101001 201001 ... 730101001</div><input id='attrs-5090de41-0475-4eab-8a30-0cdaf8f2ce05' class='xr-var-attrs-in' type='checkbox' disabled><label for='attrs-5090de41-0475-4eab-8a30-0cdaf8f2ce05' title='Show/Hide attributes'><svg class='icon xr-icon-file-text2'><use xlink:href='#icon-file-text2'></use></svg></label><input id='data-522d69f0-6624-4268-a8a1-1839e5f9f71d' class='xr-var-data-in' type='checkbox'><label for='data-522d69f0-6624-4268-a8a1-1839e5f9f71d' title='Show/Hide data repr'><svg class='icon xr-icon-database'><use xlink:href='#icon-database'></use></svg></label><div class='xr-var-attrs'><dl class='xr-attrs'></dl></div><div class='xr-var-data'><pre>array([   101001,    201001,    201002, ..., 701101001, 710101001, 730101001])</pre></div></li><li class='xr-var-item'><div class='xr-var-name'><span class='xr-has-index'>origins</span></div><div class='xr-var-dims'>(origins)</div><div class='xr-var-dtype'>int32</div><div class='xr-var-preview xr-preview'>101001 201001 ... 730101001</div><input id='attrs-7df509b4-d596-491f-b0bd-bf3b106b2273' class='xr-var-attrs-in' type='checkbox' disabled><label for='attrs-7df509b4-d596-491f-b0bd-bf3b106b2273' title='Show/Hide attributes'><svg class='icon xr-icon-file-text2'><use xlink:href='#icon-file-text2'></use></svg></label><input id='data-69f13d29-5d97-484a-bc82-8fc74b336143' class='xr-var-data-in' type='checkbox'><label for='data-69f13d29-5d97-484a-bc82-8fc74b336143' title='Show/Hide data repr'><svg class='icon xr-icon-database'><use xlink:href='#icon-database'></use></svg></label><div class='xr-var-attrs'><dl class='xr-attrs'></dl></div><div class='xr-var-data'><pre>array([   101001,    201001,    201002, ..., 701101001, 710101001, 730101001])</pre></div></li><li class='xr-var-item'><div class='xr-var-name'><span class='xr-has-index'>destinations</span></div><div class='xr-var-dims'>(destinations)</div><div class='xr-var-dtype'>int32</div><div class='xr-var-preview xr-preview'>575701002 15401001 ... 9601011</div><input id='attrs-a7ccfb08-21b0-4850-b99c-aa894b47eb43' class='xr-var-attrs-in' type='checkbox' disabled><label for='attrs-a7ccfb08-21b0-4850-b99c-aa894b47eb43' title='Show/Hide attributes'><svg class='icon xr-icon-file-text2'><use xlink:href='#icon-file-text2'></use></svg></label><input id='data-d8536ab8-db6b-4a2e-8948-fcdb5041b959' class='xr-var-data-in' type='checkbox'><label for='data-d8536ab8-db6b-4a2e-8948-fcdb5041b959' title='Show/Hide data repr'><svg class='icon xr-icon-database'><use xlink:href='#icon-database'></use></svg></label><div class='xr-var-attrs'><dl class='xr-attrs'></dl></div><div class='xr-var-data'><pre>array([575701002,  15401001, 450601001, ...,   9601009, 163201010,   9601011])</pre></div></li></ul></div></li><li class='xr-section-item'><input id='section-59ab0a5f-1ad4-412e-ad0f-f0896e09d232' class='xr-section-summary-in' type='checkbox'  checked><label for='section-59ab0a5f-1ad4-412e-ad0f-f0896e09d232' class='xr-section-summary' >Data variables: <span>(3)</span></label><div class='xr-section-inline-details'></div><div class='xr-section-details'><ul class='xr-var-list'><li class='xr-var-item'><div class='xr-var-name'><span>matrix</span></div><div class='xr-var-dims'>(origins, destinations)</div><div class='xr-var-dtype'>float64</div><div class='xr-var-preview xr-preview'>...</div><input id='attrs-be4345d1-1c04-4250-b378-19fba797f216' class='xr-var-attrs-in' type='checkbox' disabled><label for='attrs-be4345d1-1c04-4250-b378-19fba797f216' title='Show/Hide attributes'><svg class='icon xr-icon-file-text2'><use xlink:href='#icon-file-text2'></use></svg></label><input id='data-c1d6f1a6-3ac7-4777-a433-9122ef1e19b5' class='xr-var-data-in' type='checkbox'><label for='data-c1d6f1a6-3ac7-4777-a433-9122ef1e19b5' title='Show/Hide data repr'><svg class='icon xr-icon-database'><use xlink:href='#icon-database'></use></svg></label><div class='xr-var-attrs'><dl class='xr-attrs'></dl></div><div class='xr-var-data'><pre>[10459158 values with dtype=float64]</pre></div></li><li class='xr-var-item'><div class='xr-var-name'><span>zone_name</span></div><div class='xr-var-dims'>(zone_no)</div><div class='xr-var-dtype'>object</div><div class='xr-var-preview xr-preview'>...</div><input id='attrs-0827d311-b781-442a-a399-68c4485492b2' class='xr-var-attrs-in' type='checkbox' disabled><label for='attrs-0827d311-b781-442a-a399-68c4485492b2' title='Show/Hide attributes'><svg class='icon xr-icon-file-text2'><use xlink:href='#icon-file-text2'></use></svg></label><input id='data-ab055859-f0f9-43f6-85e3-2a966a0c8673' class='xr-var-data-in' type='checkbox'><label for='data-ab055859-f0f9-43f6-85e3-2a966a0c8673' title='Show/Hide data repr'><svg class='icon xr-icon-database'><use xlink:href='#icon-database'></use></svg></label><div class='xr-var-attrs'><dl class='xr-attrs'></dl></div><div class='xr-var-data'><pre>[7978 values with dtype=object]</pre></div></li><li class='xr-var-item'><div class='xr-var-name'><span>zone_names2</span></div><div class='xr-var-dims'>(zone_no2)</div><div class='xr-var-dtype'>object</div><div class='xr-var-preview xr-preview'>...</div><input id='attrs-317aab7d-8ac9-4b75-a612-726e21ada824' class='xr-var-attrs-in' type='checkbox' disabled><label for='attrs-317aab7d-8ac9-4b75-a612-726e21ada824' title='Show/Hide attributes'><svg class='icon xr-icon-file-text2'><use xlink:href='#icon-file-text2'></use></svg></label><input id='data-fb30a6a6-cb33-4ace-b87a-3edcd90067a1' class='xr-var-data-in' type='checkbox'><label for='data-fb30a6a6-cb33-4ace-b87a-3edcd90067a1' title='Show/Hide data repr'><svg class='icon xr-icon-database'><use xlink:href='#icon-database'></use></svg></label><div class='xr-var-attrs'><dl class='xr-attrs'></dl></div><div class='xr-var-data'><pre>[7978 values with dtype=object]</pre></div></li></ul></div></li><li class='xr-section-item'><input id='section-ba82df3a-968d-49cc-91ef-56d6e28c9219' class='xr-section-summary-in' type='checkbox'  ><label for='section-ba82df3a-968d-49cc-91ef-56d6e28c9219' class='xr-section-summary' >Indexes: <span>(4)</span></label><div class='xr-section-inline-details'></div><div class='xr-section-details'><ul class='xr-var-list'><li class='xr-var-item'><div class='xr-index-name'><div>zone_no</div></div><div class='xr-index-preview'>PandasIndex</div><div></div><input id='index-29dbc56a-3cbc-4155-858e-a0f1fba0f986' class='xr-index-data-in' type='checkbox'/><label for='index-29dbc56a-3cbc-4155-858e-a0f1fba0f986' title='Show/Hide index repr'><svg class='icon xr-icon-database'><use xlink:href='#icon-database'></use></svg></label><div class='xr-index-data'><pre>PandasIndex(Int64Index([   101001,    201001,    201002,    201003,    201004,    201005,\n",
       "               201006,    201007,    201008,    201009,\n",
       "            ...\n",
       "            700401001, 700501001, 700601001, 700701001, 700801001, 700901001,\n",
       "            701001001, 701101001, 710101001, 730101001],\n",
       "           dtype=&#x27;int64&#x27;, name=&#x27;zone_no&#x27;, length=7978))</pre></div></li><li class='xr-var-item'><div class='xr-index-name'><div>zone_no2</div></div><div class='xr-index-preview'>PandasIndex</div><div></div><input id='index-11db743c-fe77-42f5-892f-ec50196d9150' class='xr-index-data-in' type='checkbox'/><label for='index-11db743c-fe77-42f5-892f-ec50196d9150' title='Show/Hide index repr'><svg class='icon xr-icon-database'><use xlink:href='#icon-database'></use></svg></label><div class='xr-index-data'><pre>PandasIndex(Int64Index([   101001,    201001,    201002,    201003,    201004,    201005,\n",
       "               201006,    201007,    201008,    201009,\n",
       "            ...\n",
       "            700401001, 700501001, 700601001, 700701001, 700801001, 700901001,\n",
       "            701001001, 701101001, 710101001, 730101001],\n",
       "           dtype=&#x27;int64&#x27;, name=&#x27;zone_no2&#x27;, length=7978))</pre></div></li><li class='xr-var-item'><div class='xr-index-name'><div>origins</div></div><div class='xr-index-preview'>PandasIndex</div><div></div><input id='index-ce624289-f657-4600-8354-0fdab80ffe51' class='xr-index-data-in' type='checkbox'/><label for='index-ce624289-f657-4600-8354-0fdab80ffe51' title='Show/Hide index repr'><svg class='icon xr-icon-database'><use xlink:href='#icon-database'></use></svg></label><div class='xr-index-data'><pre>PandasIndex(Int64Index([   101001,    201001,    201002,    201003,    201004,    201005,\n",
       "               201006,    201007,    201008,    201009,\n",
       "            ...\n",
       "            700401001, 700501001, 700601001, 700701001, 700801001, 700901001,\n",
       "            701001001, 701101001, 710101001, 730101001],\n",
       "           dtype=&#x27;int64&#x27;, name=&#x27;origins&#x27;, length=7978))</pre></div></li><li class='xr-var-item'><div class='xr-index-name'><div>destinations</div></div><div class='xr-index-preview'>PandasIndex</div><div></div><input id='index-640e8e12-117f-496f-a737-2253e7c882db' class='xr-index-data-in' type='checkbox'/><label for='index-640e8e12-117f-496f-a737-2253e7c882db' title='Show/Hide index repr'><svg class='icon xr-icon-database'><use xlink:href='#icon-database'></use></svg></label><div class='xr-index-data'><pre>PandasIndex(Int64Index([575701002,  15401001, 450601001,  15401009, 325501003, 661201007,\n",
       "            254501001, 567501004, 519201014, 519201022,\n",
       "            ...\n",
       "              6701001, 416301001,  35201001,  35201002,  60801001, 163201006,\n",
       "            163201007,   9601009, 163201010,   9601011],\n",
       "           dtype=&#x27;int64&#x27;, name=&#x27;destinations&#x27;, length=1311))</pre></div></li></ul></div></li><li class='xr-section-item'><input id='section-8acb4419-5b9e-40e3-b641-03c7a0dcb4a2' class='xr-section-summary-in' type='checkbox'  checked><label for='section-8acb4419-5b9e-40e3-b641-03c7a0dcb4a2' class='xr-section-summary' >Attributes: <span>(8)</span></label><div class='xr-section-inline-details'></div><div class='xr-section-details'><dl class='xr-attrs'><dt><span>fn :</span></dt><dd>data\\DWV_2017_ÖV_Reisezeit_CH_binär.mtx</dd><dt><span>ZeitVon :</span></dt><dd>nan</dd><dt><span>ZeitBis :</span></dt><dd>nan</dd><dt><span>Faktor :</span></dt><dd>1.0</dd><dt><span>VMAktKennung :</span></dt><dd>0</dd><dt><span>AnzBezeichnerlisten :</span></dt><dd>1</dd><dt><span>roundproc :</span></dt><dd>1</dd><dt><span>diagsum :</span></dt><dd>103179.79940513325</dd></dl></div></li></ul></div></div>"
      ],
      "text/plain": [
       "<xarray.Dataset>\n",
       "Dimensions:       (zone_no: 7978, zone_no2: 7978, origins: 7978,\n",
       "                   destinations: 1311)\n",
       "Coordinates:\n",
       "  * zone_no       (zone_no) int32 101001 201001 201002 ... 710101001 730101001\n",
       "  * zone_no2      (zone_no2) int32 101001 201001 201002 ... 710101001 730101001\n",
       "  * origins       (origins) int32 101001 201001 201002 ... 710101001 730101001\n",
       "  * destinations  (destinations) int32 575701002 15401001 ... 163201010 9601011\n",
       "Data variables:\n",
       "    matrix        (origins, destinations) float64 ...\n",
       "    zone_name     (zone_no) object ...\n",
       "    zone_names2   (zone_no2) object ...\n",
       "Attributes:\n",
       "    fn:                   data\\DWV_2017_ÖV_Reisezeit_CH_binär.mtx\n",
       "    ZeitVon:              nan\n",
       "    ZeitBis:              nan\n",
       "    Faktor:               1.0\n",
       "    VMAktKennung:         0\n",
       "    AnzBezeichnerlisten:  1\n",
       "    roundproc:            1\n",
       "    diagsum:              103179.79940513325"
      ]
     },
     "execution_count": 19,
     "metadata": {},
     "output_type": "execute_result"
    }
   ],
   "source": [
    "skim_filtered_per_type['PT_JT']"
   ]
  },
  {
   "cell_type": "code",
   "execution_count": 20,
   "id": "e30db067-3a8f-4585-bcb5-a3df02c915c3",
   "metadata": {},
   "outputs": [],
   "source": [
    "from_zone_id = 223401003\n",
    "to_zone_id = 352101001"
   ]
  },
  {
   "cell_type": "code",
   "execution_count": 57,
   "id": "92f3c5e5-280f-48e2-8367-77f81df3fde8",
   "metadata": {},
   "outputs": [
    {
     "data": {
      "text/plain": [
       "array([379.07564256, 167.90200363, 174.66876891, ..., 193.34894258,\n",
       "       125.685256  , 186.41989468])"
      ]
     },
     "execution_count": 57,
     "metadata": {},
     "output_type": "execute_result"
    }
   ],
   "source": [
    "skim_filtered_per_type['Road_Dist'].sel(destinations=to_zone_id).matrix.values"
   ]
  },
  {
   "cell_type": "code",
   "execution_count": 40,
   "id": "1dbd2356-befa-4f6e-ba09-462c5fc95332",
   "metadata": {},
   "outputs": [
    {
     "data": {
      "text/plain": [
       "array([3.03655777, 3.54461811, 3.95955609, ..., 3.6514299 , 3.        ,\n",
       "       3.65143429])"
      ]
     },
     "execution_count": 40,
     "metadata": {},
     "output_type": "execute_result"
    }
   ],
   "source": [
    "skim_filtered_per_type['PT_NT'].sel(origins=from_zone_id).matrix.values"
   ]
  },
  {
   "cell_type": "code",
   "execution_count": 61,
   "id": "0f1a04cd-7e5e-4f8d-ba5b-7449e616e303",
   "metadata": {},
   "outputs": [
    {
     "data": {
      "text/plain": [
       "xarray.core.dataset.Dataset"
      ]
     },
     "execution_count": 61,
     "metadata": {},
     "output_type": "execute_result"
    }
   ],
   "source": [
    "type(skim_filtered_per_type['PT_JT'].sel(origins=from_zone_id))"
   ]
  },
  {
   "cell_type": "code",
   "execution_count": 142,
   "id": "d6545806-dea6-4666-a47e-4f3b4de59b90",
   "metadata": {},
   "outputs": [
    {
     "name": "stdout",
     "output_type": "stream",
     "text": [
      "CPU times: total: 15.6 ms\n",
      "Wall time: 15.8 ms\n"
     ]
    }
   ],
   "source": [
    "%%time\n",
    "a = skim_filtered_per_type['PT_JT'].sel(origins=from_zone_id).matrix.values\n",
    "b = skim_filtered_per_type['Road_JT'].sel(destinations=to_zone_id).matrix.values"
   ]
  },
  {
   "cell_type": "code",
   "execution_count": 143,
   "id": "b0d93741-4cc7-4565-80ae-9956d2f28ef6",
   "metadata": {},
   "outputs": [
    {
     "data": {
      "text/plain": [
       "array([142.3131933 , 161.00422752, 215.75539639, ..., 171.52577216,\n",
       "       215.91022864, 171.69048687])"
      ]
     },
     "execution_count": 143,
     "metadata": {},
     "output_type": "execute_result"
    }
   ],
   "source": [
    "a"
   ]
  },
  {
   "cell_type": "code",
   "execution_count": 144,
   "id": "2cfcb6cc-2e2d-4eca-8e9e-37ce4899c2e3",
   "metadata": {},
   "outputs": [
    {
     "data": {
      "text/plain": [
       "array([266.61322653, 132.80123485, 138.66285473, ..., 146.64044781,\n",
       "       109.78028647, 144.99087531])"
      ]
     },
     "execution_count": 144,
     "metadata": {},
     "output_type": "execute_result"
    }
   ],
   "source": [
    "b"
   ]
  },
  {
   "cell_type": "code",
   "execution_count": 145,
   "id": "e458e718-1624-4696-95c1-d40767b56095",
   "metadata": {},
   "outputs": [
    {
     "data": {
      "text/plain": [
       "array([408.92641983, 293.80546237, 354.41825112, ..., 318.16621997,\n",
       "       325.69051511, 316.68136217])"
      ]
     },
     "execution_count": 145,
     "metadata": {},
     "output_type": "execute_result"
    }
   ],
   "source": [
    "a + b"
   ]
  },
  {
   "cell_type": "code",
   "execution_count": 150,
   "id": "de843cd6-9662-475b-a5a4-42ec1876b4a7",
   "metadata": {},
   "outputs": [],
   "source": [
    "def calc_costs(from_zone_id, to_zone_id, skim_pt_jt, skim_pt_nt, skim_pt_dist, skim_road_jt, skim_road_dist, vtts, pt_min_per_transfer, pt_chf_per_km, road_chf_per_km):\n",
    "    return vtts / 60 * (skim_pt_jt.sel(origins=from_zone_id).matrix.values + pt_min_per_transfer / 60 * skim_pt_nt.sel(origins=from_zone_id).matrix.values + 1 / 60 * skim_road_jt.sel(destinations=to_zone_id).matrix.values) + pt_chf_per_km * skim_pt_dist.sel(origins=from_zone_id).matrix.values + road_chf_per_km * skim_road_dist.sel(destinations=to_zone_id).matrix.values"
   ]
  },
  {
   "cell_type": "code",
   "execution_count": 154,
   "id": "0c4b2826-7c02-40e3-a310-9ae5d56bf69b",
   "metadata": {},
   "outputs": [
    {
     "name": "stdout",
     "output_type": "stream",
     "text": [
      "CPU times: total: 1.3 s\n",
      "Wall time: 1.31 s\n"
     ]
    }
   ],
   "source": [
    "%%time\n",
    "for vtts in range(0, 100):\n",
    "    calc_costs(from_zone_id, to_zone_id, \n",
    "               skim_filtered_per_type['PT_JT'], skim_filtered_per_type['PT_NT'], skim_filtered_per_type['PT_Dist'],\n",
    "               skim_filtered_per_type['Road_JT'], skim_filtered_per_type['Road_Dist'],\n",
    "               vtts, 20.0, 0.16, 0.75\n",
    "              )"
   ]
  },
  {
   "cell_type": "code",
   "execution_count": 32,
   "id": "ad7237f3-1025-4f2f-b2b7-b793bd1d7992",
   "metadata": {},
   "outputs": [
    {
     "ename": "TypeError",
     "evalue": "can't multiply sequence by non-int of type 'float'",
     "output_type": "error",
     "traceback": [
      "\u001b[1;31m---------------------------------------------------------------------------\u001b[0m",
      "\u001b[1;31mTypeError\u001b[0m                                 Traceback (most recent call last)",
      "Cell \u001b[1;32mIn[32], line 1\u001b[0m\n\u001b[1;32m----> 1\u001b[0m \u001b[38;5;241;43m20.0\u001b[39;49m\u001b[43m \u001b[49m\u001b[38;5;241;43m*\u001b[39;49m\u001b[43m \u001b[49m\u001b[43mskim_filtered_per_type\u001b[49m\u001b[43m[\u001b[49m\u001b[38;5;124;43m'\u001b[39;49m\u001b[38;5;124;43mPT_JT\u001b[39;49m\u001b[38;5;124;43m'\u001b[39;49m\u001b[43m]\u001b[49m\u001b[38;5;241;43m.\u001b[39;49m\u001b[43msel\u001b[49m\u001b[43m(\u001b[49m\u001b[43morigins\u001b[49m\u001b[38;5;241;43m=\u001b[39;49m\u001b[43mfrom_zone_id\u001b[49m\u001b[43m)\u001b[49m \u001b[38;5;241m+\u001b[39m \u001b[38;5;241m15.0\u001b[39m \u001b[38;5;241m*\u001b[39m skim_filtered_per_type[\u001b[38;5;124m'\u001b[39m\u001b[38;5;124mRoad_JT\u001b[39m\u001b[38;5;124m'\u001b[39m]\u001b[38;5;241m.\u001b[39msel(destinations\u001b[38;5;241m=\u001b[39mto_zone_id)\n",
      "File \u001b[1;32mD:\\dev\\virtualenvs\\env_msf\\lib\\site-packages\\xarray\\core\\_typed_ops.py:70\u001b[0m, in \u001b[0;36mDatasetOpsMixin.__rmul__\u001b[1;34m(self, other)\u001b[0m\n\u001b[0;32m     69\u001b[0m \u001b[38;5;28;01mdef\u001b[39;00m \u001b[38;5;21m__rmul__\u001b[39m(\u001b[38;5;28mself\u001b[39m, other):\n\u001b[1;32m---> 70\u001b[0m     \u001b[38;5;28;01mreturn\u001b[39;00m \u001b[38;5;28;43mself\u001b[39;49m\u001b[38;5;241;43m.\u001b[39;49m\u001b[43m_binary_op\u001b[49m\u001b[43m(\u001b[49m\u001b[43mother\u001b[49m\u001b[43m,\u001b[49m\u001b[43m \u001b[49m\u001b[43moperator\u001b[49m\u001b[38;5;241;43m.\u001b[39;49m\u001b[43mmul\u001b[49m\u001b[43m,\u001b[49m\u001b[43m \u001b[49m\u001b[43mreflexive\u001b[49m\u001b[38;5;241;43m=\u001b[39;49m\u001b[38;5;28;43;01mTrue\u001b[39;49;00m\u001b[43m)\u001b[49m\n",
      "File \u001b[1;32mD:\\dev\\virtualenvs\\env_msf\\lib\\site-packages\\xarray\\core\\dataset.py:6586\u001b[0m, in \u001b[0;36mDataset._binary_op\u001b[1;34m(self, other, f, reflexive, join)\u001b[0m\n\u001b[0;32m   6584\u001b[0m     \u001b[38;5;28mself\u001b[39m, other \u001b[38;5;241m=\u001b[39m align(\u001b[38;5;28mself\u001b[39m, other, join\u001b[38;5;241m=\u001b[39malign_type, copy\u001b[38;5;241m=\u001b[39m\u001b[38;5;28;01mFalse\u001b[39;00m)  \u001b[38;5;66;03m# type: ignore[assignment]\u001b[39;00m\n\u001b[0;32m   6585\u001b[0m g \u001b[38;5;241m=\u001b[39m f \u001b[38;5;28;01mif\u001b[39;00m \u001b[38;5;129;01mnot\u001b[39;00m reflexive \u001b[38;5;28;01melse\u001b[39;00m \u001b[38;5;28;01mlambda\u001b[39;00m x, y: f(y, x)\n\u001b[1;32m-> 6586\u001b[0m ds \u001b[38;5;241m=\u001b[39m \u001b[38;5;28;43mself\u001b[39;49m\u001b[38;5;241;43m.\u001b[39;49m\u001b[43m_calculate_binary_op\u001b[49m\u001b[43m(\u001b[49m\u001b[43mg\u001b[49m\u001b[43m,\u001b[49m\u001b[43m \u001b[49m\u001b[43mother\u001b[49m\u001b[43m,\u001b[49m\u001b[43m \u001b[49m\u001b[43mjoin\u001b[49m\u001b[38;5;241;43m=\u001b[39;49m\u001b[43malign_type\u001b[49m\u001b[43m)\u001b[49m\n\u001b[0;32m   6587\u001b[0m \u001b[38;5;28;01mreturn\u001b[39;00m ds\n",
      "File \u001b[1;32mD:\\dev\\virtualenvs\\env_msf\\lib\\site-packages\\xarray\\core\\dataset.py:6652\u001b[0m, in \u001b[0;36mDataset._calculate_binary_op\u001b[1;34m(self, f, other, join, inplace)\u001b[0m\n\u001b[0;32m   6650\u001b[0m \u001b[38;5;28;01melse\u001b[39;00m:\n\u001b[0;32m   6651\u001b[0m     other_variable \u001b[38;5;241m=\u001b[39m \u001b[38;5;28mgetattr\u001b[39m(other, \u001b[38;5;124m\"\u001b[39m\u001b[38;5;124mvariable\u001b[39m\u001b[38;5;124m\"\u001b[39m, other)\n\u001b[1;32m-> 6652\u001b[0m     new_vars \u001b[38;5;241m=\u001b[39m {k: f(\u001b[38;5;28mself\u001b[39m\u001b[38;5;241m.\u001b[39mvariables[k], other_variable) \u001b[38;5;28;01mfor\u001b[39;00m k \u001b[38;5;129;01min\u001b[39;00m \u001b[38;5;28mself\u001b[39m\u001b[38;5;241m.\u001b[39mdata_vars}\n\u001b[0;32m   6653\u001b[0m ds\u001b[38;5;241m.\u001b[39m_variables\u001b[38;5;241m.\u001b[39mupdate(new_vars)\n\u001b[0;32m   6654\u001b[0m ds\u001b[38;5;241m.\u001b[39m_dims \u001b[38;5;241m=\u001b[39m calculate_dimensions(ds\u001b[38;5;241m.\u001b[39m_variables)\n",
      "File \u001b[1;32mD:\\dev\\virtualenvs\\env_msf\\lib\\site-packages\\xarray\\core\\dataset.py:6652\u001b[0m, in \u001b[0;36m<dictcomp>\u001b[1;34m(.0)\u001b[0m\n\u001b[0;32m   6650\u001b[0m \u001b[38;5;28;01melse\u001b[39;00m:\n\u001b[0;32m   6651\u001b[0m     other_variable \u001b[38;5;241m=\u001b[39m \u001b[38;5;28mgetattr\u001b[39m(other, \u001b[38;5;124m\"\u001b[39m\u001b[38;5;124mvariable\u001b[39m\u001b[38;5;124m\"\u001b[39m, other)\n\u001b[1;32m-> 6652\u001b[0m     new_vars \u001b[38;5;241m=\u001b[39m {k: \u001b[43mf\u001b[49m\u001b[43m(\u001b[49m\u001b[38;5;28;43mself\u001b[39;49m\u001b[38;5;241;43m.\u001b[39;49m\u001b[43mvariables\u001b[49m\u001b[43m[\u001b[49m\u001b[43mk\u001b[49m\u001b[43m]\u001b[49m\u001b[43m,\u001b[49m\u001b[43m \u001b[49m\u001b[43mother_variable\u001b[49m\u001b[43m)\u001b[49m \u001b[38;5;28;01mfor\u001b[39;00m k \u001b[38;5;129;01min\u001b[39;00m \u001b[38;5;28mself\u001b[39m\u001b[38;5;241m.\u001b[39mdata_vars}\n\u001b[0;32m   6653\u001b[0m ds\u001b[38;5;241m.\u001b[39m_variables\u001b[38;5;241m.\u001b[39mupdate(new_vars)\n\u001b[0;32m   6654\u001b[0m ds\u001b[38;5;241m.\u001b[39m_dims \u001b[38;5;241m=\u001b[39m calculate_dimensions(ds\u001b[38;5;241m.\u001b[39m_variables)\n",
      "File \u001b[1;32mD:\\dev\\virtualenvs\\env_msf\\lib\\site-packages\\xarray\\core\\dataset.py:6585\u001b[0m, in \u001b[0;36mDataset._binary_op.<locals>.<lambda>\u001b[1;34m(x, y)\u001b[0m\n\u001b[0;32m   6583\u001b[0m \u001b[38;5;28;01mif\u001b[39;00m \u001b[38;5;28misinstance\u001b[39m(other, (DataArray, Dataset)):\n\u001b[0;32m   6584\u001b[0m     \u001b[38;5;28mself\u001b[39m, other \u001b[38;5;241m=\u001b[39m align(\u001b[38;5;28mself\u001b[39m, other, join\u001b[38;5;241m=\u001b[39malign_type, copy\u001b[38;5;241m=\u001b[39m\u001b[38;5;28;01mFalse\u001b[39;00m)  \u001b[38;5;66;03m# type: ignore[assignment]\u001b[39;00m\n\u001b[1;32m-> 6585\u001b[0m g \u001b[38;5;241m=\u001b[39m f \u001b[38;5;28;01mif\u001b[39;00m \u001b[38;5;129;01mnot\u001b[39;00m reflexive \u001b[38;5;28;01melse\u001b[39;00m \u001b[38;5;28;01mlambda\u001b[39;00m x, y: \u001b[43mf\u001b[49m\u001b[43m(\u001b[49m\u001b[43my\u001b[49m\u001b[43m,\u001b[49m\u001b[43m \u001b[49m\u001b[43mx\u001b[49m\u001b[43m)\u001b[49m\n\u001b[0;32m   6586\u001b[0m ds \u001b[38;5;241m=\u001b[39m \u001b[38;5;28mself\u001b[39m\u001b[38;5;241m.\u001b[39m_calculate_binary_op(g, other, join\u001b[38;5;241m=\u001b[39malign_type)\n\u001b[0;32m   6587\u001b[0m \u001b[38;5;28;01mreturn\u001b[39;00m ds\n",
      "File \u001b[1;32mD:\\dev\\virtualenvs\\env_msf\\lib\\site-packages\\xarray\\core\\_typed_ops.py:450\u001b[0m, in \u001b[0;36mVariableOpsMixin.__rmul__\u001b[1;34m(self, other)\u001b[0m\n\u001b[0;32m    449\u001b[0m \u001b[38;5;28;01mdef\u001b[39;00m \u001b[38;5;21m__rmul__\u001b[39m(\u001b[38;5;28mself\u001b[39m, other):\n\u001b[1;32m--> 450\u001b[0m     \u001b[38;5;28;01mreturn\u001b[39;00m \u001b[38;5;28;43mself\u001b[39;49m\u001b[38;5;241;43m.\u001b[39;49m\u001b[43m_binary_op\u001b[49m\u001b[43m(\u001b[49m\u001b[43mother\u001b[49m\u001b[43m,\u001b[49m\u001b[43m \u001b[49m\u001b[43moperator\u001b[49m\u001b[38;5;241;43m.\u001b[39;49m\u001b[43mmul\u001b[49m\u001b[43m,\u001b[49m\u001b[43m \u001b[49m\u001b[43mreflexive\u001b[49m\u001b[38;5;241;43m=\u001b[39;49m\u001b[38;5;28;43;01mTrue\u001b[39;49;00m\u001b[43m)\u001b[49m\n",
      "File \u001b[1;32mD:\\dev\\virtualenvs\\env_msf\\lib\\site-packages\\xarray\\core\\variable.py:2639\u001b[0m, in \u001b[0;36mVariable._binary_op\u001b[1;34m(self, other, f, reflexive)\u001b[0m\n\u001b[0;32m   2636\u001b[0m attrs \u001b[38;5;241m=\u001b[39m \u001b[38;5;28mself\u001b[39m\u001b[38;5;241m.\u001b[39m_attrs \u001b[38;5;28;01mif\u001b[39;00m keep_attrs \u001b[38;5;28;01melse\u001b[39;00m \u001b[38;5;28;01mNone\u001b[39;00m\n\u001b[0;32m   2637\u001b[0m \u001b[38;5;28;01mwith\u001b[39;00m np\u001b[38;5;241m.\u001b[39merrstate(\u001b[38;5;28mall\u001b[39m\u001b[38;5;241m=\u001b[39m\u001b[38;5;124m\"\u001b[39m\u001b[38;5;124mignore\u001b[39m\u001b[38;5;124m\"\u001b[39m):\n\u001b[0;32m   2638\u001b[0m     new_data \u001b[38;5;241m=\u001b[39m (\n\u001b[1;32m-> 2639\u001b[0m         f(self_data, other_data) \u001b[38;5;28;01mif\u001b[39;00m \u001b[38;5;129;01mnot\u001b[39;00m reflexive \u001b[38;5;28;01melse\u001b[39;00m \u001b[43mf\u001b[49m\u001b[43m(\u001b[49m\u001b[43mother_data\u001b[49m\u001b[43m,\u001b[49m\u001b[43m \u001b[49m\u001b[43mself_data\u001b[49m\u001b[43m)\u001b[49m\n\u001b[0;32m   2640\u001b[0m     )\n\u001b[0;32m   2641\u001b[0m result \u001b[38;5;241m=\u001b[39m Variable(dims, new_data, attrs\u001b[38;5;241m=\u001b[39mattrs)\n\u001b[0;32m   2642\u001b[0m \u001b[38;5;28;01mreturn\u001b[39;00m result\n",
      "\u001b[1;31mTypeError\u001b[0m: can't multiply sequence by non-int of type 'float'"
     ]
    }
   ],
   "source": [
    "20.0 * skim_filtered_per_type['PT_JT'].sel(origins=from_zone_id) + 15.0 * skim_filtered_per_type['Road_JT'].sel(destinations=to_zone_id)"
   ]
  },
  {
   "cell_type": "code",
   "execution_count": null,
   "id": "1e27a229-7396-434f-8647-8343561d4c70",
   "metadata": {},
   "outputs": [],
   "source": []
  },
  {
   "cell_type": "code",
   "execution_count": null,
   "id": "edaf42a4-7c8f-40b6-b503-cac1ca6e321b",
   "metadata": {},
   "outputs": [],
   "source": []
  },
  {
   "cell_type": "code",
   "execution_count": null,
   "id": "16f0a8e3-b94d-487e-8fa8-ff755a32861e",
   "metadata": {},
   "outputs": [],
   "source": []
  },
  {
   "cell_type": "code",
   "execution_count": null,
   "id": "09752b60-ba8c-4f7d-8dd8-ea007850ddd1",
   "metadata": {},
   "outputs": [],
   "source": [
    "npvm_zone_per_mobility_station = {}\n",
    "for e in gdf_mobility_stations_with_npvm_zone[['Stationsnummer', 'ID']].to_dict('records'):\n",
    "    mob_stat_nr = e['Stationsnummer']\n",
    "    npvm_id = e['ID']\n",
    "    if mob_stat_nr in npvm_zone_per_mobility_station:\n",
    "        if npvm_id != npvm_zone_per_mobility_station[mob_stat_nr]:\n",
    "            raise ValueError(f'npvm zone for mobility station {mob_stat_nr} not unique')\n",
    "    else:\n",
    "        npvm_zone_per_mobility_station[mob_stat_nr] = npvm_id"
   ]
  },
  {
   "cell_type": "code",
   "execution_count": null,
   "id": "684a4969-c625-4ae0-9726-11a35f728685",
   "metadata": {},
   "outputs": [],
   "source": [
    "%%time\n",
    "orig_npvm_zone = 201001\n",
    "data_per_mob_st_id = {}\n",
    "for mob_st_id, npvm_zone_id in npvm_zone_per_mobility_station.items():\n",
    "    data = []\n",
    "    for s in skims:\n",
    "        data += [s.sel(origins=orig_npvm_zone, destinations=npvm_zone_id)]\n",
    "    data_per_mob_st_id[mob_st_id, npvm_zone_id] = data\n",
    "        \n"
   ]
  },
  {
   "cell_type": "code",
   "execution_count": null,
   "id": "64c5d47e-7ec2-4db7-83e6-4d89d9e49cfe",
   "metadata": {},
   "outputs": [],
   "source": [
    "for e in s.sel(origins=orig_npvm_zone):\n",
    "    print(e.)\n",
    "    break"
   ]
  },
  {
   "cell_type": "code",
   "execution_count": null,
   "id": "ca05e0ac-cecb-42d8-97ca-7e5c913e1499",
   "metadata": {},
   "outputs": [],
   "source": [
    "asdf = s.sel(origins=orig_npvm_zone)"
   ]
  },
  {
   "cell_type": "code",
   "execution_count": null,
   "id": "7b43bccf-439d-4edc-b3c9-74a3229e8e16",
   "metadata": {},
   "outputs": [],
   "source": [
    "for e in asdf:\n",
    "    print(e.values)\n",
    "    break"
   ]
  },
  {
   "cell_type": "code",
   "execution_count": null,
   "id": "01b601c0-b88b-4084-9b2d-60e519329bde",
   "metadata": {},
   "outputs": [],
   "source": []
  }
 ],
 "metadata": {
  "kernelspec": {
   "display_name": "Python 3 (ipykernel)",
   "language": "python",
   "name": "python3"
  },
  "language_info": {
   "codemirror_mode": {
    "name": "ipython",
    "version": 3
   },
   "file_extension": ".py",
   "mimetype": "text/x-python",
   "name": "python",
   "nbconvert_exporter": "python",
   "pygments_lexer": "ipython3",
   "version": "3.10.8"
  }
 },
 "nbformat": 4,
 "nbformat_minor": 5
}
