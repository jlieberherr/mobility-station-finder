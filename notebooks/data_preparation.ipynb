{
 "cells": [
  {
   "cell_type": "code",
   "execution_count": 1,
   "id": "db59c3c7-95a6-4bd4-97ee-393bf4e9b6cc",
   "metadata": {},
   "outputs": [],
   "source": [
    "import os\n",
    "import psutil\n",
    "import geopandas as gpd\n",
    "from matrixconverters.read_ptv import ReadPTVMatrix\n",
    "import xarray as xr\n",
    "from collections import namedtuple, defaultdict"
   ]
  },
  {
   "cell_type": "code",
   "execution_count": 2,
   "id": "b2a5c59b-9314-444f-9415-ceb15ff696bf",
   "metadata": {},
   "outputs": [],
   "source": [
    "os.chdir(\"..\")"
   ]
  },
  {
   "cell_type": "code",
   "execution_count": 3,
   "id": "d7a14d37-9c4e-40a0-b343-db730e1e0737",
   "metadata": {},
   "outputs": [],
   "source": [
    "from params.project_params import ENCODING_CP1252, CRS_EPSG_ID_WGS84\n",
    "from scripts.constants import GEOMETRY\n",
    "from scripts.functions import get_gdf_mobility_stations, get_gdf_mobility_stations_with_npvm_zone, get_skim"
   ]
  },
  {
   "cell_type": "markdown",
   "id": "0a30b17d-78a4-400d-a09e-56fc77f2e549",
   "metadata": {},
   "source": [
    "# Read data from files"
   ]
  },
  {
   "cell_type": "code",
   "execution_count": 4,
   "id": "d0f3f584-b70c-47d8-a977-e2894200b1ee",
   "metadata": {},
   "outputs": [],
   "source": [
    "path_to_npvm_zones_shp = os.path.join('data', 'Verkehrszonen_Schweiz_NPVM_2017_shp.zip')"
   ]
  },
  {
   "cell_type": "code",
   "execution_count": 5,
   "id": "849a7915-bee0-4f13-a6f8-313454583c2b",
   "metadata": {},
   "outputs": [],
   "source": [
    "path_mobility_stations = os.path.join('data', 'mobility-stationen-und-fahrzeuge-schweiz.csv')"
   ]
  },
  {
   "cell_type": "code",
   "execution_count": 6,
   "id": "3ce19213-f5e9-4a89-9830-f64f71be9d62",
   "metadata": {},
   "outputs": [],
   "source": [
    "FileNameOldNew = namedtuple(\"FileNameOldNew\", [\"file_name_old\", \"file_name_new\"])"
   ]
  },
  {
   "cell_type": "code",
   "execution_count": 7,
   "id": "3b015e07-aeb8-4566-8ba6-116650810e55",
   "metadata": {},
   "outputs": [],
   "source": [
    "skim_path_per_type = {\n",
    "    'PT_JT': FileNameOldNew('DWV_2017_ÖV_Reisezeit_CH_binär.mtx', 'pt_jt.nc'),\n",
    "    'PT_NT': FileNameOldNew('144_NTR_(OEV).mtx', 'pt_nt.nc'),\n",
    "    'PT_Dist': FileNameOldNew('DWV_2017_ÖV_Distanz_CH_binär.mtx', 'pt_dist.nc'),\n",
    "    'Road_JT': FileNameOldNew('DWV_2017_Strasse_Reisezeit_CH_binär.mtx', 'road_jt.nc'),\n",
    "    'Road_Dist': FileNameOldNew('DWV_2017_Strasse_Distanz_CH_binär.mtx', 'road_dist.nc')\n",
    "}"
   ]
  },
  {
   "cell_type": "code",
   "execution_count": 8,
   "id": "fe530e95-f974-44a1-a49c-21b40dca8469",
   "metadata": {},
   "outputs": [],
   "source": [
    "process = psutil.Process()"
   ]
  },
  {
   "cell_type": "code",
   "execution_count": 9,
   "id": "87dbd6dd-2278-40fd-ad4f-34903d62b544",
   "metadata": {},
   "outputs": [],
   "source": [
    "def print_memory_usage():\n",
    "    print(process.memory_info().rss / 1024 ** 2)"
   ]
  },
  {
   "cell_type": "code",
   "execution_count": 10,
   "id": "e9854f17-bf3e-4f76-b34b-e18679060c50",
   "metadata": {},
   "outputs": [
    {
     "name": "stdout",
     "output_type": "stream",
     "text": [
      "115.93359375\n"
     ]
    }
   ],
   "source": [
    "print_memory_usage()"
   ]
  },
  {
   "cell_type": "code",
   "execution_count": 11,
   "id": "3ec66027-e355-4784-9fdb-0ecb60059afe",
   "metadata": {},
   "outputs": [
    {
     "name": "stdout",
     "output_type": "stream",
     "text": [
      "204.82421875\n"
     ]
    }
   ],
   "source": [
    "gdf_npvm_zones = gpd.read_file(path_to_npvm_zones_shp, encoding=ENCODING_CP1252).to_crs(CRS_EPSG_ID_WGS84)\n",
    "print_memory_usage()"
   ]
  },
  {
   "cell_type": "code",
   "execution_count": 12,
   "id": "2d91a061-4838-4643-99c8-ca6e9eeaf947",
   "metadata": {},
   "outputs": [
    {
     "name": "stdout",
     "output_type": "stream",
     "text": [
      "209.13671875\n"
     ]
    }
   ],
   "source": [
    "gdf_mobility_stations = get_gdf_mobility_stations(path_mobility_stations)\n",
    "print_memory_usage()"
   ]
  },
  {
   "cell_type": "code",
   "execution_count": 13,
   "id": "f98e93e3-5cf8-4f11-a8fb-02ecea6f2dc7",
   "metadata": {},
   "outputs": [
    {
     "data": {
      "text/html": [
       "<div>\n",
       "<style scoped>\n",
       "    .dataframe tbody tr th:only-of-type {\n",
       "        vertical-align: middle;\n",
       "    }\n",
       "\n",
       "    .dataframe tbody tr th {\n",
       "        vertical-align: top;\n",
       "    }\n",
       "\n",
       "    .dataframe thead th {\n",
       "        text-align: right;\n",
       "    }\n",
       "</style>\n",
       "<table border=\"1\" class=\"dataframe\">\n",
       "  <thead>\n",
       "    <tr style=\"text-align: right;\">\n",
       "      <th></th>\n",
       "      <th>Stationsnummer</th>\n",
       "      <th>Name</th>\n",
       "      <th>Standort</th>\n",
       "      <th>easting</th>\n",
       "      <th>northing</th>\n",
       "      <th>geometry</th>\n",
       "    </tr>\n",
       "  </thead>\n",
       "  <tbody>\n",
       "    <tr>\n",
       "      <th>0</th>\n",
       "      <td>1006</td>\n",
       "      <td>Brugg Bahnhof</td>\n",
       "      <td>47.48154,8.20942</td>\n",
       "      <td>8.20942</td>\n",
       "      <td>47.48154</td>\n",
       "      <td>POINT (8.20942 47.48154)</td>\n",
       "    </tr>\n",
       "    <tr>\n",
       "      <th>1</th>\n",
       "      <td>1012</td>\n",
       "      <td>Arbon Bahnhof</td>\n",
       "      <td>47.51032,9.43345</td>\n",
       "      <td>9.43345</td>\n",
       "      <td>47.51032</td>\n",
       "      <td>POINT (9.43345 47.51032)</td>\n",
       "    </tr>\n",
       "    <tr>\n",
       "      <th>2</th>\n",
       "      <td>1019</td>\n",
       "      <td>Basel Vogesenstrasse</td>\n",
       "      <td>47.5686935,7.5748328</td>\n",
       "      <td>7.5748328</td>\n",
       "      <td>47.5686935</td>\n",
       "      <td>POINT (7.57483 47.56869)</td>\n",
       "    </tr>\n",
       "    <tr>\n",
       "      <th>3</th>\n",
       "      <td>1024</td>\n",
       "      <td>Bellinzona Stazione</td>\n",
       "      <td>46.1963,9.03017</td>\n",
       "      <td>9.03017</td>\n",
       "      <td>46.1963</td>\n",
       "      <td>POINT (9.03017 46.19630)</td>\n",
       "    </tr>\n",
       "    <tr>\n",
       "      <th>4</th>\n",
       "      <td>1025</td>\n",
       "      <td>Brig Bahnhof</td>\n",
       "      <td>46.31906,7.99028</td>\n",
       "      <td>7.99028</td>\n",
       "      <td>46.31906</td>\n",
       "      <td>POINT (7.99028 46.31906)</td>\n",
       "    </tr>\n",
       "    <tr>\n",
       "      <th>...</th>\n",
       "      <td>...</td>\n",
       "      <td>...</td>\n",
       "      <td>...</td>\n",
       "      <td>...</td>\n",
       "      <td>...</td>\n",
       "      <td>...</td>\n",
       "    </tr>\n",
       "    <tr>\n",
       "      <th>1545</th>\n",
       "      <td>6007</td>\n",
       "      <td>Adnovum Teststation2</td>\n",
       "      <td>47.144722,8.434389</td>\n",
       "      <td>8.434389</td>\n",
       "      <td>47.144722</td>\n",
       "      <td>POINT (8.43439 47.14472)</td>\n",
       "    </tr>\n",
       "    <tr>\n",
       "      <th>1546</th>\n",
       "      <td>6028</td>\n",
       "      <td>Convadis Teststandort 401115</td>\n",
       "      <td>47.503635,8.239223</td>\n",
       "      <td>8.239223</td>\n",
       "      <td>47.503635</td>\n",
       "      <td>POINT (8.23922 47.50364)</td>\n",
       "    </tr>\n",
       "    <tr>\n",
       "      <th>1547</th>\n",
       "      <td>6029</td>\n",
       "      <td>Convadis Teststandort 400611</td>\n",
       "      <td>47.50362,8.23921</td>\n",
       "      <td>8.23921</td>\n",
       "      <td>47.50362</td>\n",
       "      <td>POINT (8.23921 47.50362)</td>\n",
       "    </tr>\n",
       "    <tr>\n",
       "      <th>1548</th>\n",
       "      <td>6030</td>\n",
       "      <td>Convadis Teststandort 202773</td>\n",
       "      <td>47.50368,8.23923</td>\n",
       "      <td>8.23923</td>\n",
       "      <td>47.50368</td>\n",
       "      <td>POINT (8.23923 47.50368)</td>\n",
       "    </tr>\n",
       "    <tr>\n",
       "      <th>1549</th>\n",
       "      <td>6032</td>\n",
       "      <td>Maurer Modulo</td>\n",
       "      <td>47.386133,8.157982</td>\n",
       "      <td>8.157982</td>\n",
       "      <td>47.386133</td>\n",
       "      <td>POINT (8.15798 47.38613)</td>\n",
       "    </tr>\n",
       "  </tbody>\n",
       "</table>\n",
       "<p>1550 rows × 6 columns</p>\n",
       "</div>"
      ],
      "text/plain": [
       "      Stationsnummer                          Name              Standort  \\\n",
       "0               1006                 Brugg Bahnhof      47.48154,8.20942   \n",
       "1               1012                 Arbon Bahnhof      47.51032,9.43345   \n",
       "2               1019          Basel Vogesenstrasse  47.5686935,7.5748328   \n",
       "3               1024           Bellinzona Stazione       46.1963,9.03017   \n",
       "4               1025                  Brig Bahnhof      46.31906,7.99028   \n",
       "...              ...                           ...                   ...   \n",
       "1545            6007          Adnovum Teststation2    47.144722,8.434389   \n",
       "1546            6028  Convadis Teststandort 401115    47.503635,8.239223   \n",
       "1547            6029  Convadis Teststandort 400611      47.50362,8.23921   \n",
       "1548            6030  Convadis Teststandort 202773      47.50368,8.23923   \n",
       "1549            6032                 Maurer Modulo    47.386133,8.157982   \n",
       "\n",
       "        easting    northing                  geometry  \n",
       "0       8.20942    47.48154  POINT (8.20942 47.48154)  \n",
       "1       9.43345    47.51032  POINT (9.43345 47.51032)  \n",
       "2     7.5748328  47.5686935  POINT (7.57483 47.56869)  \n",
       "3       9.03017     46.1963  POINT (9.03017 46.19630)  \n",
       "4       7.99028    46.31906  POINT (7.99028 46.31906)  \n",
       "...         ...         ...                       ...  \n",
       "1545   8.434389   47.144722  POINT (8.43439 47.14472)  \n",
       "1546   8.239223   47.503635  POINT (8.23922 47.50364)  \n",
       "1547    8.23921    47.50362  POINT (8.23921 47.50362)  \n",
       "1548    8.23923    47.50368  POINT (8.23923 47.50368)  \n",
       "1549   8.157982   47.386133  POINT (8.15798 47.38613)  \n",
       "\n",
       "[1550 rows x 6 columns]"
      ]
     },
     "execution_count": 13,
     "metadata": {},
     "output_type": "execute_result"
    }
   ],
   "source": [
    "gdf_mobility_stations"
   ]
  },
  {
   "cell_type": "code",
   "execution_count": 17,
   "id": "455260dc-5ada-4158-bd06-88bf1b55bb40",
   "metadata": {},
   "outputs": [
    {
     "name": "stdout",
     "output_type": "stream",
     "text": [
      "214.3359375\n"
     ]
    }
   ],
   "source": [
    "gdf_mobility_stations_with_npvm_zone = get_gdf_mobility_stations_with_npvm_zone(gdf_mobility_stations, gdf_npvm_zones)\n",
    "print_memory_usage()"
   ]
  },
  {
   "cell_type": "code",
   "execution_count": 18,
   "id": "d24d642d-9e03-4c4e-acec-26d1ee6fbb3f",
   "metadata": {},
   "outputs": [
    {
     "data": {
      "text/html": [
       "<div>\n",
       "<style scoped>\n",
       "    .dataframe tbody tr th:only-of-type {\n",
       "        vertical-align: middle;\n",
       "    }\n",
       "\n",
       "    .dataframe tbody tr th {\n",
       "        vertical-align: top;\n",
       "    }\n",
       "\n",
       "    .dataframe thead th {\n",
       "        text-align: right;\n",
       "    }\n",
       "</style>\n",
       "<table border=\"1\" class=\"dataframe\">\n",
       "  <thead>\n",
       "    <tr style=\"text-align: right;\">\n",
       "      <th></th>\n",
       "      <th>Stationsnummer</th>\n",
       "      <th>ID</th>\n",
       "      <th>Name</th>\n",
       "      <th>geometry</th>\n",
       "      <th>easting</th>\n",
       "      <th>northing</th>\n",
       "    </tr>\n",
       "  </thead>\n",
       "  <tbody>\n",
       "    <tr>\n",
       "      <th>0</th>\n",
       "      <td>1006</td>\n",
       "      <td>409501008</td>\n",
       "      <td>Brugg Bahnhof</td>\n",
       "      <td>POINT (8.20942 47.48154)</td>\n",
       "      <td>8.20942</td>\n",
       "      <td>47.48154</td>\n",
       "    </tr>\n",
       "    <tr>\n",
       "      <th>719</th>\n",
       "      <td>3215</td>\n",
       "      <td>409501008</td>\n",
       "      <td>Brugg Post Neumarkt / Bahnhofstrasse</td>\n",
       "      <td>POINT (8.20757 47.48216)</td>\n",
       "      <td>8.20757</td>\n",
       "      <td>47.48216</td>\n",
       "    </tr>\n",
       "    <tr>\n",
       "      <th>1</th>\n",
       "      <td>1012</td>\n",
       "      <td>440101010</td>\n",
       "      <td>Arbon Bahnhof</td>\n",
       "      <td>POINT (9.43345 47.51032)</td>\n",
       "      <td>9.43345</td>\n",
       "      <td>47.51032</td>\n",
       "    </tr>\n",
       "    <tr>\n",
       "      <th>2</th>\n",
       "      <td>1019</td>\n",
       "      <td>270101028</td>\n",
       "      <td>Basel Vogesenstrasse</td>\n",
       "      <td>POINT (7.57483 47.56869)</td>\n",
       "      <td>7.5748328</td>\n",
       "      <td>47.5686935</td>\n",
       "    </tr>\n",
       "    <tr>\n",
       "      <th>3</th>\n",
       "      <td>1024</td>\n",
       "      <td>500201015</td>\n",
       "      <td>Bellinzona Stazione</td>\n",
       "      <td>POINT (9.03017 46.19630)</td>\n",
       "      <td>9.03017</td>\n",
       "      <td>46.1963</td>\n",
       "    </tr>\n",
       "    <tr>\n",
       "      <th>...</th>\n",
       "      <td>...</td>\n",
       "      <td>...</td>\n",
       "      <td>...</td>\n",
       "      <td>...</td>\n",
       "      <td>...</td>\n",
       "      <td>...</td>\n",
       "    </tr>\n",
       "    <tr>\n",
       "      <th>1539</th>\n",
       "      <td>5989</td>\n",
       "      <td>626601007</td>\n",
       "      <td>Sion Rue de Lausanne</td>\n",
       "      <td>POINT (7.35072 46.23041)</td>\n",
       "      <td>7.350719</td>\n",
       "      <td>46.230406</td>\n",
       "    </tr>\n",
       "    <tr>\n",
       "      <th>1540</th>\n",
       "      <td>5990</td>\n",
       "      <td>219601017</td>\n",
       "      <td>Fribourg Bourg / Tilleul</td>\n",
       "      <td>POINT (7.16110 46.80615)</td>\n",
       "      <td>7.1611</td>\n",
       "      <td>46.80615</td>\n",
       "    </tr>\n",
       "    <tr>\n",
       "      <th>1546</th>\n",
       "      <td>6028</td>\n",
       "      <td>404401001</td>\n",
       "      <td>Convadis Teststandort 401115</td>\n",
       "      <td>POINT (8.23922 47.50364)</td>\n",
       "      <td>8.239223</td>\n",
       "      <td>47.503635</td>\n",
       "    </tr>\n",
       "    <tr>\n",
       "      <th>1547</th>\n",
       "      <td>6029</td>\n",
       "      <td>404401001</td>\n",
       "      <td>Convadis Teststandort 400611</td>\n",
       "      <td>POINT (8.23921 47.50362)</td>\n",
       "      <td>8.23921</td>\n",
       "      <td>47.50362</td>\n",
       "    </tr>\n",
       "    <tr>\n",
       "      <th>1548</th>\n",
       "      <td>6030</td>\n",
       "      <td>404401001</td>\n",
       "      <td>Convadis Teststandort 202773</td>\n",
       "      <td>POINT (8.23923 47.50368)</td>\n",
       "      <td>8.23923</td>\n",
       "      <td>47.50368</td>\n",
       "    </tr>\n",
       "  </tbody>\n",
       "</table>\n",
       "<p>1549 rows × 6 columns</p>\n",
       "</div>"
      ],
      "text/plain": [
       "      Stationsnummer         ID                                  Name  \\\n",
       "0               1006  409501008                         Brugg Bahnhof   \n",
       "719             3215  409501008  Brugg Post Neumarkt / Bahnhofstrasse   \n",
       "1               1012  440101010                         Arbon Bahnhof   \n",
       "2               1019  270101028                  Basel Vogesenstrasse   \n",
       "3               1024  500201015                   Bellinzona Stazione   \n",
       "...              ...        ...                                   ...   \n",
       "1539            5989  626601007                  Sion Rue de Lausanne   \n",
       "1540            5990  219601017              Fribourg Bourg / Tilleul   \n",
       "1546            6028  404401001          Convadis Teststandort 401115   \n",
       "1547            6029  404401001          Convadis Teststandort 400611   \n",
       "1548            6030  404401001          Convadis Teststandort 202773   \n",
       "\n",
       "                      geometry    easting    northing  \n",
       "0     POINT (8.20942 47.48154)    8.20942    47.48154  \n",
       "719   POINT (8.20757 47.48216)    8.20757    47.48216  \n",
       "1     POINT (9.43345 47.51032)    9.43345    47.51032  \n",
       "2     POINT (7.57483 47.56869)  7.5748328  47.5686935  \n",
       "3     POINT (9.03017 46.19630)    9.03017     46.1963  \n",
       "...                        ...        ...         ...  \n",
       "1539  POINT (7.35072 46.23041)   7.350719   46.230406  \n",
       "1540  POINT (7.16110 46.80615)     7.1611    46.80615  \n",
       "1546  POINT (8.23922 47.50364)   8.239223   47.503635  \n",
       "1547  POINT (8.23921 47.50362)    8.23921    47.50362  \n",
       "1548  POINT (8.23923 47.50368)    8.23923    47.50368  \n",
       "\n",
       "[1549 rows x 6 columns]"
      ]
     },
     "execution_count": 18,
     "metadata": {},
     "output_type": "execute_result"
    }
   ],
   "source": [
    "gdf_mobility_stations_with_npvm_zone"
   ]
  },
  {
   "cell_type": "code",
   "execution_count": 19,
   "id": "d2c525fb-8715-4441-9d38-cfd05b367923",
   "metadata": {},
   "outputs": [],
   "source": [
    "npvm_zones_with_mobility_station = list(set(gdf_mobility_stations_with_npvm_zone['ID'].values))"
   ]
  },
  {
   "cell_type": "markdown",
   "id": "d19f2ca9-6524-46a2-b2cb-2b689ef3d25c",
   "metadata": {},
   "source": [
    "# Filter skims to mobility station and write files to disk"
   ]
  },
  {
   "cell_type": "code",
   "execution_count": null,
   "id": "2800c746-6ab2-411a-b719-c6c851c482d9",
   "metadata": {},
   "outputs": [],
   "source": [
    "def read_skim_filter_and_write(ty, path_old, path_new):\n",
    "    print_memory_usage()\n",
    "    print(path_old, path_new)\n",
    "    skim = ReadPTVMatrix(os.path.join('data', path_old))\n",
    "    if ty.startswith('PT'):\n",
    "        skim_filtered = skim.sel(destinations=npvm_zones_with_mobility_station).matrix.rename({\"destinations\": \"zone_mobility_station\"})\n",
    "    elif ty.startswith('Road'):\n",
    "        skim_filtered = skim.sel(origins=npvm_zones_with_mobility_station).matrix.rename({\"origins\": \"zone_mobility_station\"})\n",
    "    skim_filtered.to_netcdf(os.path.join('data', path_new))\n",
    "    print_memory_usage()"
   ]
  },
  {
   "cell_type": "code",
   "execution_count": null,
   "id": "6f9915c4-0ea2-4002-8b55-606a37023150",
   "metadata": {},
   "outputs": [],
   "source": [
    "skim_per_type = {}"
   ]
  },
  {
   "cell_type": "code",
   "execution_count": null,
   "id": "57d532ef-a76b-4be0-88f0-eea5a1e2763a",
   "metadata": {},
   "outputs": [],
   "source": [
    "for ty, (name_old, name_new) in skim_path_per_type.items():\n",
    "    read_skim_filter_and_write(ty, name_old, name_new)"
   ]
  },
  {
   "cell_type": "markdown",
   "id": "5125d4b4-9f94-441b-a1ff-8246f073da73",
   "metadata": {},
   "source": [
    "# Read filtered files from disk"
   ]
  },
  {
   "cell_type": "code",
   "execution_count": null,
   "id": "a8872964-12f9-4f36-96f3-7f497f0dfe23",
   "metadata": {},
   "outputs": [],
   "source": [
    "%%time\n",
    "print_memory_usage()\n",
    "skim_filtered_per_type = {}\n",
    "skims = []\n",
    "for ty, (_, name_new) in skim_path_per_type.items():\n",
    "    skim_filtered_per_type[ty] = xr.open_dataset(os.path.join('data', name_new))\n",
    "print_memory_usage()"
   ]
  },
  {
   "cell_type": "markdown",
   "id": "c5876d25-16f0-407f-bd5b-4d98d19fe388",
   "metadata": {},
   "source": [
    "# Run query data"
   ]
  },
  {
   "cell_type": "markdown",
   "id": "be728f22-0e32-4c10-b3a3-89f654e6f170",
   "metadata": {},
   "source": [
    "## Origin and destination NPVM-zone"
   ]
  },
  {
   "cell_type": "code",
   "execution_count": null,
   "id": "e30db067-3a8f-4585-bcb5-a3df02c915c3",
   "metadata": {},
   "outputs": [],
   "source": [
    "from_zone_id = 223401003\n",
    "to_zone_id = 352101001"
   ]
  },
  {
   "cell_type": "markdown",
   "id": "9c865879-07d8-4b98-a63d-95d9b5424ccc",
   "metadata": {},
   "source": [
    "# Filter skims to origin and destination"
   ]
  },
  {
   "cell_type": "code",
   "execution_count": null,
   "id": "008adfb6-4a0e-4312-81a3-9454c73d020e",
   "metadata": {},
   "outputs": [],
   "source": [
    "def calc_costs_df(df_data, vtts, pt_min_per_transfer, pt_chf_per_km, road_chf_per_km):\n",
    "    return vtts / 60 * (df_data['pt_jt'] + pt_min_per_transfer * df_data['pt_nt'] + df_data['road_jt']) + pt_chf_per_km * df_data['pt_dist'] + road_chf_per_km * df_data['road_dist']"
   ]
  },
  {
   "cell_type": "code",
   "execution_count": null,
   "id": "06a43325-7e6f-4884-b8cc-07bff898d7c8",
   "metadata": {},
   "outputs": [],
   "source": [
    "def get_relevant_mob_stations(best_mobility_stations_costs_per_vtts):\n",
    "    relevant_mob_stations = []\n",
    "    for df_ in best_mobility_stations_costs_per_vtts.values():\n",
    "        relevant_mob_stations += df_['zone_mobility_station'].to_list()\n",
    "    relevant_mob_stations = set(relevant_mob_stations)\n",
    "    return relevant_mob_stations"
   ]
  },
  {
   "cell_type": "code",
   "execution_count": null,
   "id": "4910aeea-df10-4c64-98d8-ccca1168b013",
   "metadata": {},
   "outputs": [],
   "source": [
    "def execute(from_zone_id, to_zone_id):\n",
    "    pt_jt = skim_filtered_per_type['PT_JT'].sel(origins=from_zone_id, drop=True).matrix\n",
    "    pt_nt = skim_filtered_per_type['PT_NT'].sel(origins=from_zone_id, drop=True).matrix\n",
    "    pt_dist = skim_filtered_per_type['PT_Dist'].sel(origins=from_zone_id, drop=True).matrix\n",
    "\n",
    "    road_jt = skim_filtered_per_type['Road_JT'].sel(destinations=to_zone_id, drop=True).matrix\n",
    "    road_dist = skim_filtered_per_type['Road_Dist'].sel(destinations=to_zone_id, drop=True).matrix\n",
    "    \n",
    "    df_pt_jt = pt_jt.to_dataframe().reset_index().rename(columns={'matrix': 'pt_jt'})\n",
    "    df_pt_nt = pt_nt.to_dataframe().reset_index().rename(columns={'matrix': 'pt_nt'})\n",
    "    df_pt_dist = pt_dist.to_dataframe().reset_index().rename(columns={'matrix': 'pt_dist'})\n",
    "\n",
    "    df_road_jt = road_jt.to_dataframe().reset_index().rename(columns={'matrix': 'road_jt'})\n",
    "    df_road_dist = road_dist.to_dataframe().reset_index().rename(columns={'matrix': 'road_dist'})\n",
    "    \n",
    "    df_data = df_pt_jt\n",
    "    for df in [df_pt_nt, df_pt_dist, df_road_jt, df_road_dist]:\n",
    "        df_data = df_data.merge(df)\n",
    "    \n",
    "    best_mobility_stations_costs_per_vtts = {}\n",
    "    for vtts in range(0, 205, 5):\n",
    "        df_data['costs'] = calc_costs_df(df_data, vtts, 20.0, 0.16, 0.75)\n",
    "        min_costs = df_data['costs'].min()\n",
    "        best_mobility_stations_costs_per_vtts[vtts] = df_data[['zone_mobility_station', 'costs']][df_data['costs'] <= 1.02 * min_costs]\n",
    "    \n",
    "    relevant_mob_stations = get_relevant_mob_stations(best_mobility_stations_costs_per_vtts)\n",
    "    \n",
    "    data_per_zone = df_data[df_data.zone_mobility_station.isin(relevant_mob_stations)].to_dict('records')\n",
    "    data_per_zone = {x['zone_mobility_station']: x for x in data_per_zone}\n",
    "    \n",
    "    mob_stations_per_npvm_zone = defaultdict(list)\n",
    "    infos_per_mob_station = {}\n",
    "    for e in gdf_mobility_stations_with_npvm_zone[gdf_mobility_stations_with_npvm_zone.ID.isin(relevant_mob_stations)].to_dict('records'):\n",
    "        mob_st_nr = e['Stationsnummer']\n",
    "        mob_st_name = e['Name']\n",
    "        zone_id = e['ID']\n",
    "        easting = e['easting']\n",
    "        northing = e['northing']\n",
    "        mob_stations_per_npvm_zone[zone_id] += [mob_st_nr]\n",
    "        if mob_st_nr in infos_per_mob_station:\n",
    "            raise ValueError('something wrong')\n",
    "        infos_per_mob_station[mob_st_nr] = {\n",
    "            'station_nr': mob_st_nr,\n",
    "            'station_name': mob_st_name,\n",
    "            'zone_id': zone_id,\n",
    "            'station_easting': easting,\n",
    "            'station_northing': northing\n",
    "        }\n",
    "    return {\n",
    "        'best_mobility_stations_costs_per_vtts': {k: df.to_dict('records') for k, df in best_mobility_stations_costs_per_vtts.items()}, \n",
    "        'data_per_zone': data_per_zone,\n",
    "        'mobility_stations_per_zone': dict(mob_stations_per_npvm_zone),\n",
    "        'infos_per_mobility_station': infos_per_mob_station\n",
    "    }"
   ]
  },
  {
   "cell_type": "code",
   "execution_count": null,
   "id": "db073fc0-5f3a-45da-ba99-fd8dcfcf5bfe",
   "metadata": {},
   "outputs": [],
   "source": [
    "%%time\n",
    "res = execute(from_zone_id, to_zone_id)"
   ]
  },
  {
   "cell_type": "code",
   "execution_count": null,
   "id": "2798f0c2-eb08-4abd-a662-cdb5a35190ba",
   "metadata": {},
   "outputs": [],
   "source": [
    "import json\n",
    "json.dumps(res)"
   ]
  },
  {
   "cell_type": "code",
   "execution_count": null,
   "id": "d11ac4dd-c492-43cd-a3f8-35a60d528dc2",
   "metadata": {},
   "outputs": [],
   "source": []
  }
 ],
 "metadata": {
  "kernelspec": {
   "display_name": "Python 3 (ipykernel)",
   "language": "python",
   "name": "python3"
  },
  "language_info": {
   "codemirror_mode": {
    "name": "ipython",
    "version": 3
   },
   "file_extension": ".py",
   "mimetype": "text/x-python",
   "name": "python",
   "nbconvert_exporter": "python",
   "pygments_lexer": "ipython3",
   "version": "3.10.8"
  }
 },
 "nbformat": 4,
 "nbformat_minor": 5
}
