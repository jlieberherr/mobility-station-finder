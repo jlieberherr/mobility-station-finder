{
 "cells": [
  {
   "cell_type": "code",
   "execution_count": 24,
   "id": "db59c3c7-95a6-4bd4-97ee-393bf4e9b6cc",
   "metadata": {},
   "outputs": [],
   "source": [
    "import os\n",
    "import psutil\n",
    "import geopandas as gpd\n",
    "from matrixconverters.read_ptv import ReadPTVMatrix\n",
    "import xarray as xr"
   ]
  },
  {
   "cell_type": "code",
   "execution_count": 2,
   "id": "b2a5c59b-9314-444f-9415-ceb15ff696bf",
   "metadata": {},
   "outputs": [],
   "source": [
    "os.chdir(\"..\")"
   ]
  },
  {
   "cell_type": "code",
   "execution_count": 3,
   "id": "d7a14d37-9c4e-40a0-b343-db730e1e0737",
   "metadata": {},
   "outputs": [],
   "source": [
    "from params.project_params import ENCODING_CP1252, CRS_EPSG_ID_WGS84\n",
    "from scripts.functions import get_gdf_mobility_stations, get_gdf_mobility_stations_with_npvm_zone, get_skim"
   ]
  },
  {
   "cell_type": "code",
   "execution_count": 4,
   "id": "d0f3f584-b70c-47d8-a977-e2894200b1ee",
   "metadata": {},
   "outputs": [],
   "source": [
    "path_to_npvm_zones_shp = os.path.join('data', 'Verkehrszonen_Schweiz_NPVM_2017_shp.zip')"
   ]
  },
  {
   "cell_type": "code",
   "execution_count": 5,
   "id": "849a7915-bee0-4f13-a6f8-313454583c2b",
   "metadata": {},
   "outputs": [],
   "source": [
    "path_mobility_stations = os.path.join('data', 'mobility-stationen-und-fahrzeuge-schweiz.csv')"
   ]
  },
  {
   "cell_type": "code",
   "execution_count": 6,
   "id": "3b015e07-aeb8-4566-8ba6-116650810e55",
   "metadata": {},
   "outputs": [],
   "source": [
    "skim_paths = {\n",
    "    'DWV_2017_ÖV_Reisezeit_CH_binär.mtx': 'pt_jt.nc',\n",
    "    '144_NTR_(OEV).mtx': 'pt_nt.nc',\n",
    "    'DWV_2017_ÖV_Distanz_CH_binär.mtx': 'pt_dist.nc',\n",
    "    'DWV_2017_Strasse_Reisezeit_CH_binär.mtx': 'road_jt.nc',\n",
    "    'DWV_2017_Strasse_Distanz_CH_binär.mtx': 'road_dist.nc'\n",
    "}"
   ]
  },
  {
   "cell_type": "code",
   "execution_count": 7,
   "id": "fe530e95-f974-44a1-a49c-21b40dca8469",
   "metadata": {},
   "outputs": [],
   "source": [
    "process = psutil.Process()"
   ]
  },
  {
   "cell_type": "code",
   "execution_count": 8,
   "id": "87dbd6dd-2278-40fd-ad4f-34903d62b544",
   "metadata": {},
   "outputs": [],
   "source": [
    "def print_memory_usage():\n",
    "    print(process.memory_info().rss / 1024 ** 2)"
   ]
  },
  {
   "cell_type": "code",
   "execution_count": 9,
   "id": "e9854f17-bf3e-4f76-b34b-e18679060c50",
   "metadata": {},
   "outputs": [
    {
     "name": "stdout",
     "output_type": "stream",
     "text": [
      "115.58984375\n"
     ]
    }
   ],
   "source": [
    "print_memory_usage()"
   ]
  },
  {
   "cell_type": "code",
   "execution_count": 10,
   "id": "3ec66027-e355-4784-9fdb-0ecb60059afe",
   "metadata": {},
   "outputs": [
    {
     "name": "stdout",
     "output_type": "stream",
     "text": [
      "204.39453125\n"
     ]
    }
   ],
   "source": [
    "gdf_npvm_zones = gpd.read_file(path_to_npvm_zones_shp, encoding=ENCODING_CP1252).to_crs(CRS_EPSG_ID_WGS84)\n",
    "print_memory_usage()"
   ]
  },
  {
   "cell_type": "code",
   "execution_count": 11,
   "id": "2d91a061-4838-4643-99c8-ca6e9eeaf947",
   "metadata": {},
   "outputs": [
    {
     "name": "stdout",
     "output_type": "stream",
     "text": [
      "208.8125\n"
     ]
    }
   ],
   "source": [
    "gdf_mobility_stations = get_gdf_mobility_stations(path_mobility_stations)\n",
    "print_memory_usage()"
   ]
  },
  {
   "cell_type": "code",
   "execution_count": 12,
   "id": "455260dc-5ada-4158-bd06-88bf1b55bb40",
   "metadata": {},
   "outputs": [
    {
     "name": "stdout",
     "output_type": "stream",
     "text": [
      "213.359375\n"
     ]
    }
   ],
   "source": [
    "gdf_mobility_stations_with_npvm_zone = get_gdf_mobility_stations_with_npvm_zone(gdf_mobility_stations, gdf_npvm_zones)\n",
    "print_memory_usage()"
   ]
  },
  {
   "cell_type": "code",
   "execution_count": 19,
   "id": "d2c525fb-8715-4441-9d38-cfd05b367923",
   "metadata": {},
   "outputs": [],
   "source": [
    "npvm_zones_with_mobility_station = list(set(gdf_mobility_stations_with_npvm_zone['ID'].values))"
   ]
  },
  {
   "cell_type": "code",
   "execution_count": 22,
   "id": "2800c746-6ab2-411a-b719-c6c851c482d9",
   "metadata": {},
   "outputs": [],
   "source": [
    "def read_skim_filter_and_write(path_old, path_new):\n",
    "    print_memory_usage()\n",
    "    print(path_old, path_new)\n",
    "    skim = ReadPTVMatrix(os.path.join('data', path_old))\n",
    "    skim_filtered = skim.sel(destinations=npvm_zones_with_mobility_station)\n",
    "    skim_filtered.to_netcdf(os.path.join('data', path_new))\n",
    "    print_memory_usage()"
   ]
  },
  {
   "cell_type": "code",
   "execution_count": 23,
   "id": "57d532ef-a76b-4be0-88f0-eea5a1e2763a",
   "metadata": {},
   "outputs": [
    {
     "name": "stdout",
     "output_type": "stream",
     "text": [
      "225.4765625\n",
      "DWV_2017_ÖV_Reisezeit_CH_binär.mtx pt_jt.nc\n",
      "799.265625\n",
      "233.86328125\n",
      "144_NTR_(OEV).mtx pt_nt.nc\n",
      "901.77734375\n",
      "234.71484375\n",
      "DWV_2017_ÖV_Distanz_CH_binär.mtx pt_dist.nc\n",
      "800.1328125\n",
      "234.73046875\n",
      "DWV_2017_Strasse_Reisezeit_CH_binär.mtx road_jt.nc\n",
      "800.140625\n",
      "234.73828125\n",
      "DWV_2017_Strasse_Distanz_CH_binär.mtx road_dist.nc\n",
      "800.140625\n"
     ]
    }
   ],
   "source": [
    "for k, v in skim_paths.items():\n",
    "    read_skim_filter_and_write(k, v)"
   ]
  },
  {
   "cell_type": "code",
   "execution_count": 27,
   "id": "a8872964-12f9-4f36-96f3-7f497f0dfe23",
   "metadata": {},
   "outputs": [
    {
     "name": "stdout",
     "output_type": "stream",
     "text": [
      "236.625\n",
      "244.17578125\n"
     ]
    }
   ],
   "source": [
    "print_memory_usage()\n",
    "skims = []\n",
    "for v in skim_paths.values():\n",
    "    skims += [xr.open_dataset(os.path.join('data', v))]\n",
    "print_memory_usage()"
   ]
  },
  {
   "cell_type": "code",
   "execution_count": 30,
   "id": "25e9b3eb-a7ca-4264-887e-68ba03925e71",
   "metadata": {},
   "outputs": [
    {
     "data": {
      "text/html": [
       "<div><svg style=\"position: absolute; width: 0; height: 0; overflow: hidden\">\n",
       "<defs>\n",
       "<symbol id=\"icon-database\" viewBox=\"0 0 32 32\">\n",
       "<path d=\"M16 0c-8.837 0-16 2.239-16 5v4c0 2.761 7.163 5 16 5s16-2.239 16-5v-4c0-2.761-7.163-5-16-5z\"></path>\n",
       "<path d=\"M16 17c-8.837 0-16-2.239-16-5v6c0 2.761 7.163 5 16 5s16-2.239 16-5v-6c0 2.761-7.163 5-16 5z\"></path>\n",
       "<path d=\"M16 26c-8.837 0-16-2.239-16-5v6c0 2.761 7.163 5 16 5s16-2.239 16-5v-6c0 2.761-7.163 5-16 5z\"></path>\n",
       "</symbol>\n",
       "<symbol id=\"icon-file-text2\" viewBox=\"0 0 32 32\">\n",
       "<path d=\"M28.681 7.159c-0.694-0.947-1.662-2.053-2.724-3.116s-2.169-2.030-3.116-2.724c-1.612-1.182-2.393-1.319-2.841-1.319h-15.5c-1.378 0-2.5 1.121-2.5 2.5v27c0 1.378 1.122 2.5 2.5 2.5h23c1.378 0 2.5-1.122 2.5-2.5v-19.5c0-0.448-0.137-1.23-1.319-2.841zM24.543 5.457c0.959 0.959 1.712 1.825 2.268 2.543h-4.811v-4.811c0.718 0.556 1.584 1.309 2.543 2.268zM28 29.5c0 0.271-0.229 0.5-0.5 0.5h-23c-0.271 0-0.5-0.229-0.5-0.5v-27c0-0.271 0.229-0.5 0.5-0.5 0 0 15.499-0 15.5 0v7c0 0.552 0.448 1 1 1h7v19.5z\"></path>\n",
       "<path d=\"M23 26h-14c-0.552 0-1-0.448-1-1s0.448-1 1-1h14c0.552 0 1 0.448 1 1s-0.448 1-1 1z\"></path>\n",
       "<path d=\"M23 22h-14c-0.552 0-1-0.448-1-1s0.448-1 1-1h14c0.552 0 1 0.448 1 1s-0.448 1-1 1z\"></path>\n",
       "<path d=\"M23 18h-14c-0.552 0-1-0.448-1-1s0.448-1 1-1h14c0.552 0 1 0.448 1 1s-0.448 1-1 1z\"></path>\n",
       "</symbol>\n",
       "</defs>\n",
       "</svg>\n",
       "<style>/* CSS stylesheet for displaying xarray objects in jupyterlab.\n",
       " *\n",
       " */\n",
       "\n",
       ":root {\n",
       "  --xr-font-color0: var(--jp-content-font-color0, rgba(0, 0, 0, 1));\n",
       "  --xr-font-color2: var(--jp-content-font-color2, rgba(0, 0, 0, 0.54));\n",
       "  --xr-font-color3: var(--jp-content-font-color3, rgba(0, 0, 0, 0.38));\n",
       "  --xr-border-color: var(--jp-border-color2, #e0e0e0);\n",
       "  --xr-disabled-color: var(--jp-layout-color3, #bdbdbd);\n",
       "  --xr-background-color: var(--jp-layout-color0, white);\n",
       "  --xr-background-color-row-even: var(--jp-layout-color1, white);\n",
       "  --xr-background-color-row-odd: var(--jp-layout-color2, #eeeeee);\n",
       "}\n",
       "\n",
       "html[theme=dark],\n",
       "body[data-theme=dark],\n",
       "body.vscode-dark {\n",
       "  --xr-font-color0: rgba(255, 255, 255, 1);\n",
       "  --xr-font-color2: rgba(255, 255, 255, 0.54);\n",
       "  --xr-font-color3: rgba(255, 255, 255, 0.38);\n",
       "  --xr-border-color: #1F1F1F;\n",
       "  --xr-disabled-color: #515151;\n",
       "  --xr-background-color: #111111;\n",
       "  --xr-background-color-row-even: #111111;\n",
       "  --xr-background-color-row-odd: #313131;\n",
       "}\n",
       "\n",
       ".xr-wrap {\n",
       "  display: block !important;\n",
       "  min-width: 300px;\n",
       "  max-width: 700px;\n",
       "}\n",
       "\n",
       ".xr-text-repr-fallback {\n",
       "  /* fallback to plain text repr when CSS is not injected (untrusted notebook) */\n",
       "  display: none;\n",
       "}\n",
       "\n",
       ".xr-header {\n",
       "  padding-top: 6px;\n",
       "  padding-bottom: 6px;\n",
       "  margin-bottom: 4px;\n",
       "  border-bottom: solid 1px var(--xr-border-color);\n",
       "}\n",
       "\n",
       ".xr-header > div,\n",
       ".xr-header > ul {\n",
       "  display: inline;\n",
       "  margin-top: 0;\n",
       "  margin-bottom: 0;\n",
       "}\n",
       "\n",
       ".xr-obj-type,\n",
       ".xr-array-name {\n",
       "  margin-left: 2px;\n",
       "  margin-right: 10px;\n",
       "}\n",
       "\n",
       ".xr-obj-type {\n",
       "  color: var(--xr-font-color2);\n",
       "}\n",
       "\n",
       ".xr-sections {\n",
       "  padding-left: 0 !important;\n",
       "  display: grid;\n",
       "  grid-template-columns: 150px auto auto 1fr 20px 20px;\n",
       "}\n",
       "\n",
       ".xr-section-item {\n",
       "  display: contents;\n",
       "}\n",
       "\n",
       ".xr-section-item input {\n",
       "  display: none;\n",
       "}\n",
       "\n",
       ".xr-section-item input + label {\n",
       "  color: var(--xr-disabled-color);\n",
       "}\n",
       "\n",
       ".xr-section-item input:enabled + label {\n",
       "  cursor: pointer;\n",
       "  color: var(--xr-font-color2);\n",
       "}\n",
       "\n",
       ".xr-section-item input:enabled + label:hover {\n",
       "  color: var(--xr-font-color0);\n",
       "}\n",
       "\n",
       ".xr-section-summary {\n",
       "  grid-column: 1;\n",
       "  color: var(--xr-font-color2);\n",
       "  font-weight: 500;\n",
       "}\n",
       "\n",
       ".xr-section-summary > span {\n",
       "  display: inline-block;\n",
       "  padding-left: 0.5em;\n",
       "}\n",
       "\n",
       ".xr-section-summary-in:disabled + label {\n",
       "  color: var(--xr-font-color2);\n",
       "}\n",
       "\n",
       ".xr-section-summary-in + label:before {\n",
       "  display: inline-block;\n",
       "  content: '►';\n",
       "  font-size: 11px;\n",
       "  width: 15px;\n",
       "  text-align: center;\n",
       "}\n",
       "\n",
       ".xr-section-summary-in:disabled + label:before {\n",
       "  color: var(--xr-disabled-color);\n",
       "}\n",
       "\n",
       ".xr-section-summary-in:checked + label:before {\n",
       "  content: '▼';\n",
       "}\n",
       "\n",
       ".xr-section-summary-in:checked + label > span {\n",
       "  display: none;\n",
       "}\n",
       "\n",
       ".xr-section-summary,\n",
       ".xr-section-inline-details {\n",
       "  padding-top: 4px;\n",
       "  padding-bottom: 4px;\n",
       "}\n",
       "\n",
       ".xr-section-inline-details {\n",
       "  grid-column: 2 / -1;\n",
       "}\n",
       "\n",
       ".xr-section-details {\n",
       "  display: none;\n",
       "  grid-column: 1 / -1;\n",
       "  margin-bottom: 5px;\n",
       "}\n",
       "\n",
       ".xr-section-summary-in:checked ~ .xr-section-details {\n",
       "  display: contents;\n",
       "}\n",
       "\n",
       ".xr-array-wrap {\n",
       "  grid-column: 1 / -1;\n",
       "  display: grid;\n",
       "  grid-template-columns: 20px auto;\n",
       "}\n",
       "\n",
       ".xr-array-wrap > label {\n",
       "  grid-column: 1;\n",
       "  vertical-align: top;\n",
       "}\n",
       "\n",
       ".xr-preview {\n",
       "  color: var(--xr-font-color3);\n",
       "}\n",
       "\n",
       ".xr-array-preview,\n",
       ".xr-array-data {\n",
       "  padding: 0 5px !important;\n",
       "  grid-column: 2;\n",
       "}\n",
       "\n",
       ".xr-array-data,\n",
       ".xr-array-in:checked ~ .xr-array-preview {\n",
       "  display: none;\n",
       "}\n",
       "\n",
       ".xr-array-in:checked ~ .xr-array-data,\n",
       ".xr-array-preview {\n",
       "  display: inline-block;\n",
       "}\n",
       "\n",
       ".xr-dim-list {\n",
       "  display: inline-block !important;\n",
       "  list-style: none;\n",
       "  padding: 0 !important;\n",
       "  margin: 0;\n",
       "}\n",
       "\n",
       ".xr-dim-list li {\n",
       "  display: inline-block;\n",
       "  padding: 0;\n",
       "  margin: 0;\n",
       "}\n",
       "\n",
       ".xr-dim-list:before {\n",
       "  content: '(';\n",
       "}\n",
       "\n",
       ".xr-dim-list:after {\n",
       "  content: ')';\n",
       "}\n",
       "\n",
       ".xr-dim-list li:not(:last-child):after {\n",
       "  content: ',';\n",
       "  padding-right: 5px;\n",
       "}\n",
       "\n",
       ".xr-has-index {\n",
       "  font-weight: bold;\n",
       "}\n",
       "\n",
       ".xr-var-list,\n",
       ".xr-var-item {\n",
       "  display: contents;\n",
       "}\n",
       "\n",
       ".xr-var-item > div,\n",
       ".xr-var-item label,\n",
       ".xr-var-item > .xr-var-name span {\n",
       "  background-color: var(--xr-background-color-row-even);\n",
       "  margin-bottom: 0;\n",
       "}\n",
       "\n",
       ".xr-var-item > .xr-var-name:hover span {\n",
       "  padding-right: 5px;\n",
       "}\n",
       "\n",
       ".xr-var-list > li:nth-child(odd) > div,\n",
       ".xr-var-list > li:nth-child(odd) > label,\n",
       ".xr-var-list > li:nth-child(odd) > .xr-var-name span {\n",
       "  background-color: var(--xr-background-color-row-odd);\n",
       "}\n",
       "\n",
       ".xr-var-name {\n",
       "  grid-column: 1;\n",
       "}\n",
       "\n",
       ".xr-var-dims {\n",
       "  grid-column: 2;\n",
       "}\n",
       "\n",
       ".xr-var-dtype {\n",
       "  grid-column: 3;\n",
       "  text-align: right;\n",
       "  color: var(--xr-font-color2);\n",
       "}\n",
       "\n",
       ".xr-var-preview {\n",
       "  grid-column: 4;\n",
       "}\n",
       "\n",
       ".xr-index-preview {\n",
       "  grid-column: 2 / 5;\n",
       "  color: var(--xr-font-color2);\n",
       "}\n",
       "\n",
       ".xr-var-name,\n",
       ".xr-var-dims,\n",
       ".xr-var-dtype,\n",
       ".xr-preview,\n",
       ".xr-attrs dt {\n",
       "  white-space: nowrap;\n",
       "  overflow: hidden;\n",
       "  text-overflow: ellipsis;\n",
       "  padding-right: 10px;\n",
       "}\n",
       "\n",
       ".xr-var-name:hover,\n",
       ".xr-var-dims:hover,\n",
       ".xr-var-dtype:hover,\n",
       ".xr-attrs dt:hover {\n",
       "  overflow: visible;\n",
       "  width: auto;\n",
       "  z-index: 1;\n",
       "}\n",
       "\n",
       ".xr-var-attrs,\n",
       ".xr-var-data,\n",
       ".xr-index-data {\n",
       "  display: none;\n",
       "  background-color: var(--xr-background-color) !important;\n",
       "  padding-bottom: 5px !important;\n",
       "}\n",
       "\n",
       ".xr-var-attrs-in:checked ~ .xr-var-attrs,\n",
       ".xr-var-data-in:checked ~ .xr-var-data,\n",
       ".xr-index-data-in:checked ~ .xr-index-data {\n",
       "  display: block;\n",
       "}\n",
       "\n",
       ".xr-var-data > table {\n",
       "  float: right;\n",
       "}\n",
       "\n",
       ".xr-var-name span,\n",
       ".xr-var-data,\n",
       ".xr-index-name div,\n",
       ".xr-index-data,\n",
       ".xr-attrs {\n",
       "  padding-left: 25px !important;\n",
       "}\n",
       "\n",
       ".xr-attrs,\n",
       ".xr-var-attrs,\n",
       ".xr-var-data,\n",
       ".xr-index-data {\n",
       "  grid-column: 1 / -1;\n",
       "}\n",
       "\n",
       "dl.xr-attrs {\n",
       "  padding: 0;\n",
       "  margin: 0;\n",
       "  display: grid;\n",
       "  grid-template-columns: 125px auto;\n",
       "}\n",
       "\n",
       ".xr-attrs dt,\n",
       ".xr-attrs dd {\n",
       "  padding: 0;\n",
       "  margin: 0;\n",
       "  float: left;\n",
       "  padding-right: 10px;\n",
       "  width: auto;\n",
       "}\n",
       "\n",
       ".xr-attrs dt {\n",
       "  font-weight: normal;\n",
       "  grid-column: 1;\n",
       "}\n",
       "\n",
       ".xr-attrs dt:hover span {\n",
       "  display: inline-block;\n",
       "  background: var(--xr-background-color);\n",
       "  padding-right: 10px;\n",
       "}\n",
       "\n",
       ".xr-attrs dd {\n",
       "  grid-column: 2;\n",
       "  white-space: pre-wrap;\n",
       "  word-break: break-all;\n",
       "}\n",
       "\n",
       ".xr-icon-database,\n",
       ".xr-icon-file-text2,\n",
       ".xr-no-icon {\n",
       "  display: inline-block;\n",
       "  vertical-align: middle;\n",
       "  width: 1em;\n",
       "  height: 1.5em !important;\n",
       "  stroke-width: 0;\n",
       "  stroke: currentColor;\n",
       "  fill: currentColor;\n",
       "}\n",
       "</style><pre class='xr-text-repr-fallback'>&lt;xarray.Dataset&gt;\n",
       "Dimensions:       (zone_no: 7978, zone_no2: 7978, origins: 7978,\n",
       "                   destinations: 1311)\n",
       "Coordinates:\n",
       "  * zone_no       (zone_no) int32 101001 201001 201002 ... 710101001 730101001\n",
       "  * zone_no2      (zone_no2) int32 101001 201001 201002 ... 710101001 730101001\n",
       "  * origins       (origins) int32 101001 201001 201002 ... 710101001 730101001\n",
       "  * destinations  (destinations) int32 575701002 15401001 ... 163201010 9601011\n",
       "Data variables:\n",
       "    matrix        (origins, destinations) float64 ...\n",
       "    zone_name     (zone_no) object ...\n",
       "    zone_names2   (zone_no2) object ...\n",
       "Attributes:\n",
       "    fn:                   data\\DWV_2017_Strasse_Reisezeit_CH_binär.mtx\n",
       "    ZeitVon:              nan\n",
       "    ZeitBis:              nan\n",
       "    Faktor:               1.0\n",
       "    VMAktKennung:         0\n",
       "    AnzBezeichnerlisten:  1\n",
       "    roundproc:            1\n",
       "    diagsum:              59946.9967931197</pre><div class='xr-wrap' style='display:none'><div class='xr-header'><div class='xr-obj-type'>xarray.Dataset</div></div><ul class='xr-sections'><li class='xr-section-item'><input id='section-9eda28a4-2484-4642-8511-fbca9bc14b5d' class='xr-section-summary-in' type='checkbox' disabled ><label for='section-9eda28a4-2484-4642-8511-fbca9bc14b5d' class='xr-section-summary'  title='Expand/collapse section'>Dimensions:</label><div class='xr-section-inline-details'><ul class='xr-dim-list'><li><span class='xr-has-index'>zone_no</span>: 7978</li><li><span class='xr-has-index'>zone_no2</span>: 7978</li><li><span class='xr-has-index'>origins</span>: 7978</li><li><span class='xr-has-index'>destinations</span>: 1311</li></ul></div><div class='xr-section-details'></div></li><li class='xr-section-item'><input id='section-6681947c-8f07-4f18-bbf0-6de3e1782b6e' class='xr-section-summary-in' type='checkbox'  checked><label for='section-6681947c-8f07-4f18-bbf0-6de3e1782b6e' class='xr-section-summary' >Coordinates: <span>(4)</span></label><div class='xr-section-inline-details'></div><div class='xr-section-details'><ul class='xr-var-list'><li class='xr-var-item'><div class='xr-var-name'><span class='xr-has-index'>zone_no</span></div><div class='xr-var-dims'>(zone_no)</div><div class='xr-var-dtype'>int32</div><div class='xr-var-preview xr-preview'>101001 201001 ... 730101001</div><input id='attrs-103a3490-f272-4dfc-8649-43f395b4fa35' class='xr-var-attrs-in' type='checkbox' disabled><label for='attrs-103a3490-f272-4dfc-8649-43f395b4fa35' title='Show/Hide attributes'><svg class='icon xr-icon-file-text2'><use xlink:href='#icon-file-text2'></use></svg></label><input id='data-0d0b36cf-0fab-4605-94f6-c0de3aafdebd' class='xr-var-data-in' type='checkbox'><label for='data-0d0b36cf-0fab-4605-94f6-c0de3aafdebd' title='Show/Hide data repr'><svg class='icon xr-icon-database'><use xlink:href='#icon-database'></use></svg></label><div class='xr-var-attrs'><dl class='xr-attrs'></dl></div><div class='xr-var-data'><pre>array([   101001,    201001,    201002, ..., 701101001, 710101001, 730101001])</pre></div></li><li class='xr-var-item'><div class='xr-var-name'><span class='xr-has-index'>zone_no2</span></div><div class='xr-var-dims'>(zone_no2)</div><div class='xr-var-dtype'>int32</div><div class='xr-var-preview xr-preview'>101001 201001 ... 730101001</div><input id='attrs-a97cc1de-744b-45f7-901f-c69251c9cdd8' class='xr-var-attrs-in' type='checkbox' disabled><label for='attrs-a97cc1de-744b-45f7-901f-c69251c9cdd8' title='Show/Hide attributes'><svg class='icon xr-icon-file-text2'><use xlink:href='#icon-file-text2'></use></svg></label><input id='data-aca92da0-50ee-4eab-98c4-4263584ca698' class='xr-var-data-in' type='checkbox'><label for='data-aca92da0-50ee-4eab-98c4-4263584ca698' title='Show/Hide data repr'><svg class='icon xr-icon-database'><use xlink:href='#icon-database'></use></svg></label><div class='xr-var-attrs'><dl class='xr-attrs'></dl></div><div class='xr-var-data'><pre>array([   101001,    201001,    201002, ..., 701101001, 710101001, 730101001])</pre></div></li><li class='xr-var-item'><div class='xr-var-name'><span class='xr-has-index'>origins</span></div><div class='xr-var-dims'>(origins)</div><div class='xr-var-dtype'>int32</div><div class='xr-var-preview xr-preview'>101001 201001 ... 730101001</div><input id='attrs-cd8b1609-b928-4cce-9719-371f30200b63' class='xr-var-attrs-in' type='checkbox' disabled><label for='attrs-cd8b1609-b928-4cce-9719-371f30200b63' title='Show/Hide attributes'><svg class='icon xr-icon-file-text2'><use xlink:href='#icon-file-text2'></use></svg></label><input id='data-511c103b-e75a-4e94-a0d8-36ddd647c3eb' class='xr-var-data-in' type='checkbox'><label for='data-511c103b-e75a-4e94-a0d8-36ddd647c3eb' title='Show/Hide data repr'><svg class='icon xr-icon-database'><use xlink:href='#icon-database'></use></svg></label><div class='xr-var-attrs'><dl class='xr-attrs'></dl></div><div class='xr-var-data'><pre>array([   101001,    201001,    201002, ..., 701101001, 710101001, 730101001])</pre></div></li><li class='xr-var-item'><div class='xr-var-name'><span class='xr-has-index'>destinations</span></div><div class='xr-var-dims'>(destinations)</div><div class='xr-var-dtype'>int32</div><div class='xr-var-preview xr-preview'>575701002 15401001 ... 9601011</div><input id='attrs-25a5ddf0-dc24-43f4-8f57-ae4c77bed811' class='xr-var-attrs-in' type='checkbox' disabled><label for='attrs-25a5ddf0-dc24-43f4-8f57-ae4c77bed811' title='Show/Hide attributes'><svg class='icon xr-icon-file-text2'><use xlink:href='#icon-file-text2'></use></svg></label><input id='data-a72ce15a-5899-4f72-a346-b74e64966c3c' class='xr-var-data-in' type='checkbox'><label for='data-a72ce15a-5899-4f72-a346-b74e64966c3c' title='Show/Hide data repr'><svg class='icon xr-icon-database'><use xlink:href='#icon-database'></use></svg></label><div class='xr-var-attrs'><dl class='xr-attrs'></dl></div><div class='xr-var-data'><pre>array([575701002,  15401001, 450601001, ...,   9601009, 163201010,   9601011])</pre></div></li></ul></div></li><li class='xr-section-item'><input id='section-93af4ebc-689d-4b3a-8bbf-1e087d246ad9' class='xr-section-summary-in' type='checkbox'  checked><label for='section-93af4ebc-689d-4b3a-8bbf-1e087d246ad9' class='xr-section-summary' >Data variables: <span>(3)</span></label><div class='xr-section-inline-details'></div><div class='xr-section-details'><ul class='xr-var-list'><li class='xr-var-item'><div class='xr-var-name'><span>matrix</span></div><div class='xr-var-dims'>(origins, destinations)</div><div class='xr-var-dtype'>float64</div><div class='xr-var-preview xr-preview'>...</div><input id='attrs-7a39ef02-b33a-4c46-8b39-dccaf276fcab' class='xr-var-attrs-in' type='checkbox' disabled><label for='attrs-7a39ef02-b33a-4c46-8b39-dccaf276fcab' title='Show/Hide attributes'><svg class='icon xr-icon-file-text2'><use xlink:href='#icon-file-text2'></use></svg></label><input id='data-09205709-9ec1-4b32-9001-c7b27d4a1f97' class='xr-var-data-in' type='checkbox'><label for='data-09205709-9ec1-4b32-9001-c7b27d4a1f97' title='Show/Hide data repr'><svg class='icon xr-icon-database'><use xlink:href='#icon-database'></use></svg></label><div class='xr-var-attrs'><dl class='xr-attrs'></dl></div><div class='xr-var-data'><pre>[10459158 values with dtype=float64]</pre></div></li><li class='xr-var-item'><div class='xr-var-name'><span>zone_name</span></div><div class='xr-var-dims'>(zone_no)</div><div class='xr-var-dtype'>object</div><div class='xr-var-preview xr-preview'>...</div><input id='attrs-a96a6e6a-f465-421e-9d22-d809505bf3c5' class='xr-var-attrs-in' type='checkbox' disabled><label for='attrs-a96a6e6a-f465-421e-9d22-d809505bf3c5' title='Show/Hide attributes'><svg class='icon xr-icon-file-text2'><use xlink:href='#icon-file-text2'></use></svg></label><input id='data-0ed2cd19-2544-45d4-b7e4-bd3cfde206e4' class='xr-var-data-in' type='checkbox'><label for='data-0ed2cd19-2544-45d4-b7e4-bd3cfde206e4' title='Show/Hide data repr'><svg class='icon xr-icon-database'><use xlink:href='#icon-database'></use></svg></label><div class='xr-var-attrs'><dl class='xr-attrs'></dl></div><div class='xr-var-data'><pre>[7978 values with dtype=object]</pre></div></li><li class='xr-var-item'><div class='xr-var-name'><span>zone_names2</span></div><div class='xr-var-dims'>(zone_no2)</div><div class='xr-var-dtype'>object</div><div class='xr-var-preview xr-preview'>...</div><input id='attrs-0f4bdd9e-0dd6-4663-ae0b-b954ed7cd394' class='xr-var-attrs-in' type='checkbox' disabled><label for='attrs-0f4bdd9e-0dd6-4663-ae0b-b954ed7cd394' title='Show/Hide attributes'><svg class='icon xr-icon-file-text2'><use xlink:href='#icon-file-text2'></use></svg></label><input id='data-2ffe4db0-e909-4045-8144-daec4a645593' class='xr-var-data-in' type='checkbox'><label for='data-2ffe4db0-e909-4045-8144-daec4a645593' title='Show/Hide data repr'><svg class='icon xr-icon-database'><use xlink:href='#icon-database'></use></svg></label><div class='xr-var-attrs'><dl class='xr-attrs'></dl></div><div class='xr-var-data'><pre>[7978 values with dtype=object]</pre></div></li></ul></div></li><li class='xr-section-item'><input id='section-b9ebc833-cc28-47b7-bac6-b4c6c1256a68' class='xr-section-summary-in' type='checkbox'  ><label for='section-b9ebc833-cc28-47b7-bac6-b4c6c1256a68' class='xr-section-summary' >Indexes: <span>(4)</span></label><div class='xr-section-inline-details'></div><div class='xr-section-details'><ul class='xr-var-list'><li class='xr-var-item'><div class='xr-index-name'><div>zone_no</div></div><div class='xr-index-preview'>PandasIndex</div><div></div><input id='index-bea1e732-a7cd-4026-97a8-8455be59bed8' class='xr-index-data-in' type='checkbox'/><label for='index-bea1e732-a7cd-4026-97a8-8455be59bed8' title='Show/Hide index repr'><svg class='icon xr-icon-database'><use xlink:href='#icon-database'></use></svg></label><div class='xr-index-data'><pre>PandasIndex(Int64Index([   101001,    201001,    201002,    201003,    201004,    201005,\n",
       "               201006,    201007,    201008,    201009,\n",
       "            ...\n",
       "            700401001, 700501001, 700601001, 700701001, 700801001, 700901001,\n",
       "            701001001, 701101001, 710101001, 730101001],\n",
       "           dtype=&#x27;int64&#x27;, name=&#x27;zone_no&#x27;, length=7978))</pre></div></li><li class='xr-var-item'><div class='xr-index-name'><div>zone_no2</div></div><div class='xr-index-preview'>PandasIndex</div><div></div><input id='index-f3ad1c4f-ae3a-47d0-9f89-e5e3d6f7fc74' class='xr-index-data-in' type='checkbox'/><label for='index-f3ad1c4f-ae3a-47d0-9f89-e5e3d6f7fc74' title='Show/Hide index repr'><svg class='icon xr-icon-database'><use xlink:href='#icon-database'></use></svg></label><div class='xr-index-data'><pre>PandasIndex(Int64Index([   101001,    201001,    201002,    201003,    201004,    201005,\n",
       "               201006,    201007,    201008,    201009,\n",
       "            ...\n",
       "            700401001, 700501001, 700601001, 700701001, 700801001, 700901001,\n",
       "            701001001, 701101001, 710101001, 730101001],\n",
       "           dtype=&#x27;int64&#x27;, name=&#x27;zone_no2&#x27;, length=7978))</pre></div></li><li class='xr-var-item'><div class='xr-index-name'><div>origins</div></div><div class='xr-index-preview'>PandasIndex</div><div></div><input id='index-b69a34f2-6b1d-4fc3-b04d-dcb63acfc4c1' class='xr-index-data-in' type='checkbox'/><label for='index-b69a34f2-6b1d-4fc3-b04d-dcb63acfc4c1' title='Show/Hide index repr'><svg class='icon xr-icon-database'><use xlink:href='#icon-database'></use></svg></label><div class='xr-index-data'><pre>PandasIndex(Int64Index([   101001,    201001,    201002,    201003,    201004,    201005,\n",
       "               201006,    201007,    201008,    201009,\n",
       "            ...\n",
       "            700401001, 700501001, 700601001, 700701001, 700801001, 700901001,\n",
       "            701001001, 701101001, 710101001, 730101001],\n",
       "           dtype=&#x27;int64&#x27;, name=&#x27;origins&#x27;, length=7978))</pre></div></li><li class='xr-var-item'><div class='xr-index-name'><div>destinations</div></div><div class='xr-index-preview'>PandasIndex</div><div></div><input id='index-6f221f6a-24de-4c31-8a0a-171189ebd398' class='xr-index-data-in' type='checkbox'/><label for='index-6f221f6a-24de-4c31-8a0a-171189ebd398' title='Show/Hide index repr'><svg class='icon xr-icon-database'><use xlink:href='#icon-database'></use></svg></label><div class='xr-index-data'><pre>PandasIndex(Int64Index([575701002,  15401001, 450601001,  15401009, 325501003, 661201007,\n",
       "            254501001, 567501004, 519201014, 519201022,\n",
       "            ...\n",
       "              6701001, 416301001,  35201001,  35201002,  60801001, 163201006,\n",
       "            163201007,   9601009, 163201010,   9601011],\n",
       "           dtype=&#x27;int64&#x27;, name=&#x27;destinations&#x27;, length=1311))</pre></div></li></ul></div></li><li class='xr-section-item'><input id='section-2d5f99d0-058a-42a7-aebf-2b85415b7355' class='xr-section-summary-in' type='checkbox'  checked><label for='section-2d5f99d0-058a-42a7-aebf-2b85415b7355' class='xr-section-summary' >Attributes: <span>(8)</span></label><div class='xr-section-inline-details'></div><div class='xr-section-details'><dl class='xr-attrs'><dt><span>fn :</span></dt><dd>data\\DWV_2017_Strasse_Reisezeit_CH_binär.mtx</dd><dt><span>ZeitVon :</span></dt><dd>nan</dd><dt><span>ZeitBis :</span></dt><dd>nan</dd><dt><span>Faktor :</span></dt><dd>1.0</dd><dt><span>VMAktKennung :</span></dt><dd>0</dd><dt><span>AnzBezeichnerlisten :</span></dt><dd>1</dd><dt><span>roundproc :</span></dt><dd>1</dd><dt><span>diagsum :</span></dt><dd>59946.9967931197</dd></dl></div></li></ul></div></div>"
      ],
      "text/plain": [
       "<xarray.Dataset>\n",
       "Dimensions:       (zone_no: 7978, zone_no2: 7978, origins: 7978,\n",
       "                   destinations: 1311)\n",
       "Coordinates:\n",
       "  * zone_no       (zone_no) int32 101001 201001 201002 ... 710101001 730101001\n",
       "  * zone_no2      (zone_no2) int32 101001 201001 201002 ... 710101001 730101001\n",
       "  * origins       (origins) int32 101001 201001 201002 ... 710101001 730101001\n",
       "  * destinations  (destinations) int32 575701002 15401001 ... 163201010 9601011\n",
       "Data variables:\n",
       "    matrix        (origins, destinations) float64 ...\n",
       "    zone_name     (zone_no) object ...\n",
       "    zone_names2   (zone_no2) object ...\n",
       "Attributes:\n",
       "    fn:                   data\\DWV_2017_Strasse_Reisezeit_CH_binär.mtx\n",
       "    ZeitVon:              nan\n",
       "    ZeitBis:              nan\n",
       "    Faktor:               1.0\n",
       "    VMAktKennung:         0\n",
       "    AnzBezeichnerlisten:  1\n",
       "    roundproc:            1\n",
       "    diagsum:              59946.9967931197"
      ]
     },
     "execution_count": 30,
     "metadata": {},
     "output_type": "execute_result"
    }
   ],
   "source": [
    "skims[3]"
   ]
  },
  {
   "cell_type": "code",
   "execution_count": 31,
   "id": "09752b60-ba8c-4f7d-8dd8-ea007850ddd1",
   "metadata": {},
   "outputs": [],
   "source": [
    "npvm_zone_per_mobility_station = {}\n",
    "for e in gdf_mobility_stations_with_npvm_zone[['Stationsnummer', 'ID']].to_dict('records'):\n",
    "    mob_stat_nr = e['Stationsnummer']\n",
    "    npvm_id = e['ID']\n",
    "    if mob_stat_nr in npvm_zone_per_mobility_station:\n",
    "        if npvm_id != npvm_zone_per_mobility_station[mob_stat_nr]:\n",
    "            raise ValueError(f'npvm zone for mobility station {mob_stat_nr} not unique')\n",
    "    else:\n",
    "        npvm_zone_per_mobility_station[mob_stat_nr] = npvm_id"
   ]
  },
  {
   "cell_type": "code",
   "execution_count": 38,
   "id": "684a4969-c625-4ae0-9726-11a35f728685",
   "metadata": {},
   "outputs": [
    {
     "name": "stdout",
     "output_type": "stream",
     "text": [
      "CPU times: total: 2.02 s\n",
      "Wall time: 2.02 s\n"
     ]
    }
   ],
   "source": [
    "%%time\n",
    "orig_npvm_zone = 201001\n",
    "data_per_mob_st_id = {}\n",
    "for mob_st_id, npvm_zone_id in npvm_zone_per_mobility_station.items():\n",
    "    data = []\n",
    "    for s in skims:\n",
    "        data += [s.sel(origins=orig_npvm_zone, destinations=npvm_zone_id)]\n",
    "    data_per_mob_st_id[mob_st_id, npvm_zone_id] = data\n",
    "        \n"
   ]
  },
  {
   "cell_type": "code",
   "execution_count": 46,
   "id": "64c5d47e-7ec2-4db7-83e6-4d89d9e49cfe",
   "metadata": {},
   "outputs": [
    {
     "name": "stdout",
     "output_type": "stream",
     "text": [
      "matrix\n"
     ]
    }
   ],
   "source": [
    "for e in s.sel(origins=orig_npvm_zone):\n",
    "    print(e.)\n",
    "    break"
   ]
  },
  {
   "cell_type": "code",
   "execution_count": 57,
   "id": "ca05e0ac-cecb-42d8-97ca-7e5c913e1499",
   "metadata": {},
   "outputs": [],
   "source": [
    "asdf = s.sel(origins=orig_npvm_zone)"
   ]
  },
  {
   "cell_type": "code",
   "execution_count": 70,
   "id": "7b43bccf-439d-4edc-b3c9-74a3229e8e16",
   "metadata": {},
   "outputs": [
    {
     "ename": "AttributeError",
     "evalue": "'str' object has no attribute 'values'",
     "output_type": "error",
     "traceback": [
      "\u001b[1;31m---------------------------------------------------------------------------\u001b[0m",
      "\u001b[1;31mAttributeError\u001b[0m                            Traceback (most recent call last)",
      "Cell \u001b[1;32mIn[70], line 2\u001b[0m\n\u001b[0;32m      1\u001b[0m \u001b[38;5;28;01mfor\u001b[39;00m e \u001b[38;5;129;01min\u001b[39;00m asdf:\n\u001b[1;32m----> 2\u001b[0m     \u001b[38;5;28mprint\u001b[39m(\u001b[43me\u001b[49m\u001b[38;5;241;43m.\u001b[39;49m\u001b[43mvalues\u001b[49m)\n\u001b[0;32m      3\u001b[0m     \u001b[38;5;28;01mbreak\u001b[39;00m\n",
      "\u001b[1;31mAttributeError\u001b[0m: 'str' object has no attribute 'values'"
     ]
    }
   ],
   "source": [
    "for e in asdf:\n",
    "    print(e.values)\n",
    "    break"
   ]
  },
  {
   "cell_type": "code",
   "execution_count": null,
   "id": "01b601c0-b88b-4084-9b2d-60e519329bde",
   "metadata": {},
   "outputs": [],
   "source": []
  }
 ],
 "metadata": {
  "kernelspec": {
   "display_name": "Python 3 (ipykernel)",
   "language": "python",
   "name": "python3"
  },
  "language_info": {
   "codemirror_mode": {
    "name": "ipython",
    "version": 3
   },
   "file_extension": ".py",
   "mimetype": "text/x-python",
   "name": "python",
   "nbconvert_exporter": "python",
   "pygments_lexer": "ipython3",
   "version": "3.10.8"
  }
 },
 "nbformat": 4,
 "nbformat_minor": 5
}
