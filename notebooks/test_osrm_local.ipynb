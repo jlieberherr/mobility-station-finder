{
 "cells": [
  {
   "cell_type": "code",
   "execution_count": 70,
   "id": "f22005e9-43c6-4592-b77e-f75a9a8506b1",
   "metadata": {},
   "outputs": [],
   "source": [
    "import requests\n",
    "import pandas as pd"
   ]
  },
  {
   "cell_type": "code",
   "execution_count": 71,
   "id": "702311bb-248e-463a-a623-740756b2bc41",
   "metadata": {},
   "outputs": [],
   "source": [
    "from_easting = 7.42354\n",
    "from_northing = 46.93682\n",
    "\n",
    "to_easting = 7.57965\n",
    "to_northing = 46.94323"
   ]
  },
  {
   "cell_type": "markdown",
   "id": "58027c24-ea60-49ef-9806-3c8cfa7756e2",
   "metadata": {},
   "source": [
    "# Car"
   ]
  },
  {
   "cell_type": "code",
   "execution_count": 72,
   "id": "4df4d633-9527-4423-9a31-30cc4dc97963",
   "metadata": {},
   "outputs": [],
   "source": [
    "url_car = rf\"http://127.0.0.1:5000/route/v1/driving/{from_easting},{from_northing};{to_easting},{to_northing}?steps=true\""
   ]
  },
  {
   "cell_type": "code",
   "execution_count": 73,
   "id": "ceb66cb6-6676-4a37-85af-e6ba97908682",
   "metadata": {},
   "outputs": [
    {
     "name": "stdout",
     "output_type": "stream",
     "text": [
      "CPU times: total: 0 ns\n",
      "Wall time: 29.5 ms\n"
     ]
    }
   ],
   "source": [
    "%%time\n",
    "res_car = requests.get(url_car).json()"
   ]
  },
  {
   "cell_type": "code",
   "execution_count": 75,
   "id": "e3b6db78-e24d-45cd-b485-95f81be7d8f7",
   "metadata": {},
   "outputs": [
    {
     "data": {
      "text/plain": [
       "17.196099999999998"
      ]
     },
     "execution_count": 75,
     "metadata": {},
     "output_type": "execute_result"
    }
   ],
   "source": [
    "res_car['routes'][0]['distance'] / 1000"
   ]
  },
  {
   "cell_type": "code",
   "execution_count": 76,
   "id": "174ebf80-808a-4d5b-b658-ec006988e706",
   "metadata": {},
   "outputs": [
    {
     "data": {
      "text/plain": [
       "23.066666666666666"
      ]
     },
     "execution_count": 76,
     "metadata": {},
     "output_type": "execute_result"
    }
   ],
   "source": [
    "res_car['routes'][0]['duration'] / 60"
   ]
  },
  {
   "cell_type": "markdown",
   "id": "7c50e63b-cb62-4420-a756-b01a64f4a114",
   "metadata": {},
   "source": [
    "# Bicycle"
   ]
  },
  {
   "cell_type": "code",
   "execution_count": 77,
   "id": "d49f185a-4ebf-4bad-8151-a66ab29693cc",
   "metadata": {},
   "outputs": [],
   "source": [
    "url_bicycle = rf\"http://127.0.0.1:6000/route/v1/driving/{from_easting},{from_northing};{to_easting},{to_northing}?steps=true\""
   ]
  },
  {
   "cell_type": "code",
   "execution_count": 78,
   "id": "c0744985-af74-46dc-ba94-1f84261f50ee",
   "metadata": {},
   "outputs": [
    {
     "name": "stdout",
     "output_type": "stream",
     "text": [
      "CPU times: total: 0 ns\n",
      "Wall time: 20 ms\n"
     ]
    }
   ],
   "source": [
    "%%time\n",
    "res_bicycle = requests.get(url_bicycle).json()"
   ]
  },
  {
   "cell_type": "code",
   "execution_count": 79,
   "id": "2b7f2af1-cabf-4566-8dec-fbc504b5e671",
   "metadata": {},
   "outputs": [
    {
     "data": {
      "text/plain": [
       "14.405299999999999"
      ]
     },
     "execution_count": 79,
     "metadata": {},
     "output_type": "execute_result"
    }
   ],
   "source": [
    "res_bicycle['routes'][0]['distance'] / 1000"
   ]
  },
  {
   "cell_type": "code",
   "execution_count": 80,
   "id": "921a50ce-d08e-41d7-9c10-582105bbb93b",
   "metadata": {},
   "outputs": [
    {
     "data": {
      "text/plain": [
       "62.50833333333333"
      ]
     },
     "execution_count": 80,
     "metadata": {},
     "output_type": "execute_result"
    }
   ],
   "source": [
    "res_bicycle['routes'][0]['duration'] / 60"
   ]
  },
  {
   "cell_type": "markdown",
   "id": "6d2e8fc9-530d-4fb2-908a-315f40cc474e",
   "metadata": {},
   "source": [
    "# Foot"
   ]
  },
  {
   "cell_type": "code",
   "execution_count": 81,
   "id": "b3ee863f-e46a-4e37-a793-b4f452f60669",
   "metadata": {},
   "outputs": [],
   "source": [
    "url_foot = rf\"http://127.0.0.1:7000/route/v1/driving/{from_easting},{from_northing};{to_easting},{to_northing}?steps=true\""
   ]
  },
  {
   "cell_type": "code",
   "execution_count": 82,
   "id": "8554a844-b35e-4d37-8240-24daa97fdb02",
   "metadata": {},
   "outputs": [],
   "source": [
    "res_foot = requests.get(url_foot).json()"
   ]
  },
  {
   "cell_type": "code",
   "execution_count": 83,
   "id": "a4e163c3-c9ef-4d6a-9d0b-a51653896dc8",
   "metadata": {},
   "outputs": [
    {
     "data": {
      "text/plain": [
       "14.326600000000001"
      ]
     },
     "execution_count": 83,
     "metadata": {},
     "output_type": "execute_result"
    }
   ],
   "source": [
    "res_foot['routes'][0]['distance'] / 1000"
   ]
  },
  {
   "cell_type": "code",
   "execution_count": 84,
   "id": "05f93885-0e51-47ca-aefd-ea102fe6336d",
   "metadata": {},
   "outputs": [
    {
     "data": {
      "text/plain": [
       "172.07166666666666"
      ]
     },
     "execution_count": 84,
     "metadata": {},
     "output_type": "execute_result"
    }
   ],
   "source": [
    "res_foot['routes'][0]['duration'] / 60"
   ]
  },
  {
   "cell_type": "markdown",
   "id": "c85e3bb1-895a-435c-90fa-97b9e1635201",
   "metadata": {},
   "source": [
    "# Matrix routing"
   ]
  },
  {
   "cell_type": "code",
   "execution_count": 104,
   "id": "30a7a042-700a-4c1e-aad8-06d0f8494470",
   "metadata": {},
   "outputs": [],
   "source": [
    "def get_matrix(port):\n",
    "    url_matrix = rf\"http://127.0.0.1:{port}/table/v1/driving/8.780822753906252,47.441092383072515;7.10161,46.80693;7.94136,47.2878;7.94422,47.28723;7.94426,47.2943;8.68576,47.369858;8.71032,47.34795;8.71756,47.34778;8.715572,47.352184;8.71318,47.35402;8.71958,47.3484;8.72482,47.34503;8.72599,47.3525;8.68604,47.42489;8.68596,47.42726;8.68952,47.42656;8.72308,47.40897;8.52907,47.3799;8.531334,47.383064;8.53395,47.3783;8.5332,47.38517;8.53585,47.38198;8.54235,47.38068;8.54407,47.3797;8.54285,47.38186;8.54211,47.3832;8.54352,47.38557;8.548451,47.406967;8.54569,47.3793;8.547121,47.37884;8.54875,47.37457;8.55008,47.3723;8.54627,47.38178;8.548753,47.380665;8.5489,47.38306;8.61861,47.41944;8.562324,47.449635;8.59262,47.412;6.94045,46.82023;8.62862,47.42056;8.595176,47.39685;8.60413,47.40381;8.751117,47.384808;8.752607,47.38695;8.71293,47.49962;8.71683,47.50253;8.72369,47.50053;8.72231,47.50538;8.72273,47.4985;8.72848,47.5046;8.73156,47.4943;8.73178,47.49617;8.738186,47.497242;8.73689,47.50266;8.73392,47.5014;8.74231,47.49312;8.74411,47.49621;8.7668,47.48703;7.14432,46.8013;7.15202,46.7991;7.15019,46.8015;7.15354,46.80576;7.161402,46.803467;7.1611,46.80615;8.77705,47.37055;8.78385,47.3672;8.62663,47.43851;8.65838,47.38477?destinations=0&annotations=duration,distance\"\n",
    "    res_matrix = requests.get(url_matrix).json()\n",
    "    return res_matrix"
   ]
  },
  {
   "cell_type": "code",
   "execution_count": 113,
   "id": "f006e2b7-2e21-4bc5-b48d-7416babd0158",
   "metadata": {},
   "outputs": [
    {
     "name": "stdout",
     "output_type": "stream",
     "text": [
      "CPU times: total: 15.6 ms\n",
      "Wall time: 54 ms\n"
     ]
    }
   ],
   "source": [
    "%%time\n",
    "res_car = get_matrix(5000)"
   ]
  },
  {
   "cell_type": "code",
   "execution_count": 114,
   "id": "fe5dcffc-75f9-4bb2-85d2-7b7acbec6ec8",
   "metadata": {},
   "outputs": [
    {
     "name": "stdout",
     "output_type": "stream",
     "text": [
      "CPU times: total: 15.6 ms\n",
      "Wall time: 179 ms\n"
     ]
    }
   ],
   "source": [
    "%%time\n",
    "res_bicycle = get_matrix(6000)"
   ]
  },
  {
   "cell_type": "code",
   "execution_count": 115,
   "id": "30f5669e-d0dc-45d9-ba29-7378f6eb7984",
   "metadata": {},
   "outputs": [
    {
     "name": "stdout",
     "output_type": "stream",
     "text": [
      "CPU times: total: 0 ns\n",
      "Wall time: 151 ms\n"
     ]
    }
   ],
   "source": [
    "%%time\n",
    "res_foot = get_matrix(7000)"
   ]
  },
  {
   "cell_type": "code",
   "execution_count": 136,
   "id": "a2879b81-c49f-470a-9766-fb6f73e5100c",
   "metadata": {},
   "outputs": [
    {
     "name": "stdout",
     "output_type": "stream",
     "text": [
      "68\n"
     ]
    }
   ],
   "source": [
    "df_durations = pd.DataFrame(list(zip(*[[x[0] for x in res_car[\"durations\"]], [x[0] for x in res_bicycle[\"durations\"]], [x[0] for x in res_foot[\"durations\"]]])), columns=[\"car\", \"bicycle\", \"foot\"]) / 60 / 60\n",
    "print(len(df_durations))"
   ]
  },
  {
   "cell_type": "code",
   "execution_count": 133,
   "id": "28deee9a-2547-4137-aacb-3b39b5da15e3",
   "metadata": {},
   "outputs": [
    {
     "data": {
      "text/html": [
       "<div>\n",
       "<style scoped>\n",
       "    .dataframe tbody tr th:only-of-type {\n",
       "        vertical-align: middle;\n",
       "    }\n",
       "\n",
       "    .dataframe tbody tr th {\n",
       "        vertical-align: top;\n",
       "    }\n",
       "\n",
       "    .dataframe thead th {\n",
       "        text-align: right;\n",
       "    }\n",
       "</style>\n",
       "<table border=\"1\" class=\"dataframe\">\n",
       "  <thead>\n",
       "    <tr style=\"text-align: right;\">\n",
       "      <th></th>\n",
       "      <th>car</th>\n",
       "      <th>bicycle</th>\n",
       "      <th>foot</th>\n",
       "    </tr>\n",
       "  </thead>\n",
       "  <tbody>\n",
       "    <tr>\n",
       "      <th>0</th>\n",
       "      <td>0.000000</td>\n",
       "      <td>0.000000</td>\n",
       "      <td>0.000000</td>\n",
       "    </tr>\n",
       "    <tr>\n",
       "      <th>1</th>\n",
       "      <td>2.168583</td>\n",
       "      <td>11.990167</td>\n",
       "      <td>33.468806</td>\n",
       "    </tr>\n",
       "    <tr>\n",
       "      <th>2</th>\n",
       "      <td>1.077139</td>\n",
       "      <td>5.693306</td>\n",
       "      <td>15.478972</td>\n",
       "    </tr>\n",
       "    <tr>\n",
       "      <th>3</th>\n",
       "      <td>1.071806</td>\n",
       "      <td>5.683083</td>\n",
       "      <td>15.443667</td>\n",
       "    </tr>\n",
       "    <tr>\n",
       "      <th>4</th>\n",
       "      <td>1.074028</td>\n",
       "      <td>5.625944</td>\n",
       "      <td>15.325000</td>\n",
       "    </tr>\n",
       "    <tr>\n",
       "      <th>...</th>\n",
       "      <td>...</td>\n",
       "      <td>...</td>\n",
       "      <td>...</td>\n",
       "    </tr>\n",
       "    <tr>\n",
       "      <th>63</th>\n",
       "      <td>2.138639</td>\n",
       "      <td>11.640556</td>\n",
       "      <td>32.490222</td>\n",
       "    </tr>\n",
       "    <tr>\n",
       "      <th>64</th>\n",
       "      <td>0.208389</td>\n",
       "      <td>0.700306</td>\n",
       "      <td>1.941667</td>\n",
       "    </tr>\n",
       "    <tr>\n",
       "      <th>65</th>\n",
       "      <td>0.216278</td>\n",
       "      <td>0.697778</td>\n",
       "      <td>1.972889</td>\n",
       "    </tr>\n",
       "    <tr>\n",
       "      <th>66</th>\n",
       "      <td>0.367806</td>\n",
       "      <td>1.121889</td>\n",
       "      <td>2.936028</td>\n",
       "    </tr>\n",
       "    <tr>\n",
       "      <th>67</th>\n",
       "      <td>0.305028</td>\n",
       "      <td>0.995500</td>\n",
       "      <td>2.682167</td>\n",
       "    </tr>\n",
       "  </tbody>\n",
       "</table>\n",
       "<p>68 rows × 3 columns</p>\n",
       "</div>"
      ],
      "text/plain": [
       "         car    bicycle       foot\n",
       "0   0.000000   0.000000   0.000000\n",
       "1   2.168583  11.990167  33.468806\n",
       "2   1.077139   5.693306  15.478972\n",
       "3   1.071806   5.683083  15.443667\n",
       "4   1.074028   5.625944  15.325000\n",
       "..       ...        ...        ...\n",
       "63  2.138639  11.640556  32.490222\n",
       "64  0.208389   0.700306   1.941667\n",
       "65  0.216278   0.697778   1.972889\n",
       "66  0.367806   1.121889   2.936028\n",
       "67  0.305028   0.995500   2.682167\n",
       "\n",
       "[68 rows x 3 columns]"
      ]
     },
     "execution_count": 133,
     "metadata": {},
     "output_type": "execute_result"
    }
   ],
   "source": [
    "df_durations"
   ]
  },
  {
   "cell_type": "code",
   "execution_count": 139,
   "id": "e4607f23-b219-4b6e-86f5-f7ba65512864",
   "metadata": {},
   "outputs": [],
   "source": [
    "df_distances = pd.DataFrame(list(zip(*[[x[0] for x in res_car[\"distances\"]], [x[0] for x in res_bicycle[\"distances\"]], [x[0] for x in res_foot[\"distances\"]]])), columns=[\"car\", \"bicycle\", \"foot\"]) / 1000"
   ]
  },
  {
   "cell_type": "code",
   "execution_count": 140,
   "id": "c863b723-f966-4db0-82a8-37e110de75b3",
   "metadata": {},
   "outputs": [
    {
     "name": "stdout",
     "output_type": "stream",
     "text": [
      "68\n"
     ]
    }
   ],
   "source": [
    "df_distances\n",
    "print(len(df_distances))"
   ]
  },
  {
   "cell_type": "code",
   "execution_count": 141,
   "id": "ad060e3f-71b3-4f88-a54e-c0a7ea139d87",
   "metadata": {},
   "outputs": [
    {
     "data": {
      "text/html": [
       "<div>\n",
       "<style scoped>\n",
       "    .dataframe tbody tr th:only-of-type {\n",
       "        vertical-align: middle;\n",
       "    }\n",
       "\n",
       "    .dataframe tbody tr th {\n",
       "        vertical-align: top;\n",
       "    }\n",
       "\n",
       "    .dataframe thead th {\n",
       "        text-align: right;\n",
       "    }\n",
       "</style>\n",
       "<table border=\"1\" class=\"dataframe\">\n",
       "  <thead>\n",
       "    <tr style=\"text-align: right;\">\n",
       "      <th></th>\n",
       "      <th>car</th>\n",
       "      <th>bicycle</th>\n",
       "      <th>foot</th>\n",
       "    </tr>\n",
       "  </thead>\n",
       "  <tbody>\n",
       "    <tr>\n",
       "      <th>0</th>\n",
       "      <td>0.0000</td>\n",
       "      <td>0.0000</td>\n",
       "      <td>0.0000</td>\n",
       "    </tr>\n",
       "    <tr>\n",
       "      <th>1</th>\n",
       "      <td>181.0175</td>\n",
       "      <td>173.0222</td>\n",
       "      <td>167.9472</td>\n",
       "    </tr>\n",
       "    <tr>\n",
       "      <th>2</th>\n",
       "      <td>83.4944</td>\n",
       "      <td>80.0349</td>\n",
       "      <td>76.9700</td>\n",
       "    </tr>\n",
       "    <tr>\n",
       "      <th>3</th>\n",
       "      <td>83.3962</td>\n",
       "      <td>79.9368</td>\n",
       "      <td>76.5318</td>\n",
       "    </tr>\n",
       "    <tr>\n",
       "      <th>4</th>\n",
       "      <td>83.3952</td>\n",
       "      <td>79.0578</td>\n",
       "      <td>76.2001</td>\n",
       "    </tr>\n",
       "    <tr>\n",
       "      <th>...</th>\n",
       "      <td>...</td>\n",
       "      <td>...</td>\n",
       "      <td>...</td>\n",
       "    </tr>\n",
       "    <tr>\n",
       "      <th>63</th>\n",
       "      <td>176.1773</td>\n",
       "      <td>167.9385</td>\n",
       "      <td>163.0881</td>\n",
       "    </tr>\n",
       "    <tr>\n",
       "      <th>64</th>\n",
       "      <td>9.9576</td>\n",
       "      <td>10.0945</td>\n",
       "      <td>9.6363</td>\n",
       "    </tr>\n",
       "    <tr>\n",
       "      <th>65</th>\n",
       "      <td>10.1832</td>\n",
       "      <td>10.1678</td>\n",
       "      <td>9.7924</td>\n",
       "    </tr>\n",
       "    <tr>\n",
       "      <th>66</th>\n",
       "      <td>16.7395</td>\n",
       "      <td>15.3610</td>\n",
       "      <td>14.6996</td>\n",
       "    </tr>\n",
       "    <tr>\n",
       "      <th>67</th>\n",
       "      <td>14.6653</td>\n",
       "      <td>14.0842</td>\n",
       "      <td>13.2682</td>\n",
       "    </tr>\n",
       "  </tbody>\n",
       "</table>\n",
       "<p>68 rows × 3 columns</p>\n",
       "</div>"
      ],
      "text/plain": [
       "         car   bicycle      foot\n",
       "0     0.0000    0.0000    0.0000\n",
       "1   181.0175  173.0222  167.9472\n",
       "2    83.4944   80.0349   76.9700\n",
       "3    83.3962   79.9368   76.5318\n",
       "4    83.3952   79.0578   76.2001\n",
       "..       ...       ...       ...\n",
       "63  176.1773  167.9385  163.0881\n",
       "64    9.9576   10.0945    9.6363\n",
       "65   10.1832   10.1678    9.7924\n",
       "66   16.7395   15.3610   14.6996\n",
       "67   14.6653   14.0842   13.2682\n",
       "\n",
       "[68 rows x 3 columns]"
      ]
     },
     "execution_count": 141,
     "metadata": {},
     "output_type": "execute_result"
    }
   ],
   "source": [
    "df_distances"
   ]
  }
 ],
 "metadata": {
  "kernelspec": {
   "display_name": "Python 3 (ipykernel)",
   "language": "python",
   "name": "python3"
  },
  "language_info": {
   "codemirror_mode": {
    "name": "ipython",
    "version": 3
   },
   "file_extension": ".py",
   "mimetype": "text/x-python",
   "name": "python",
   "nbconvert_exporter": "python",
   "pygments_lexer": "ipython3",
   "version": "3.10.8"
  }
 },
 "nbformat": 4,
 "nbformat_minor": 5
}
