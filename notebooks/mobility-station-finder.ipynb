{
 "cells": [
  {
   "cell_type": "markdown",
   "id": "dc3de318-193b-45d8-8bb5-d3443f50bd8a",
   "metadata": {},
   "source": [
    "# Mobility-Station-Finder"
   ]
  },
  {
   "cell_type": "markdown",
   "id": "b5cd0cbc-960c-448f-855d-bde140762b25",
   "metadata": {},
   "source": [
    "## Imports"
   ]
  },
  {
   "cell_type": "code",
   "execution_count": 1,
   "id": "a2a802a7-68e5-4f3c-ba20-33ccf20f6fca",
   "metadata": {},
   "outputs": [],
   "source": [
    "import geopandas as gpd\n",
    "from shapely.geometry import Point\n",
    "import pandas as pd\n",
    "from matrixconverters.read_ptv import ReadPTVMatrix\n",
    "import requests\n",
    "import os"
   ]
  },
  {
   "cell_type": "markdown",
   "id": "db92c254-6cce-4a2e-82aa-ae8b57defd9e",
   "metadata": {},
   "source": [
    "## Read and process static data"
   ]
  },
  {
   "cell_type": "markdown",
   "id": "4cea168a-baf1-409b-bf33-ed0e6980d364",
   "metadata": {},
   "source": [
    "### Paths"
   ]
  },
  {
   "cell_type": "code",
   "execution_count": 2,
   "id": "7c480fa4-49e2-4200-b96e-c2cd8d35fc45",
   "metadata": {},
   "outputs": [],
   "source": [
    "path_npvm_zones = os.path.join(\"..\", \"data\", \"Verkehrszonen_Schweiz_NPVM_2017_shp.zip\")\n",
    "path_mobility_stations = os.path.join(\"..\", \"data\", \"mobility-stationen-und-fahrzeuge-schweiz.csv\")\n",
    "path_pt_jrta = os.path.join(\"..\", \"data\", \"140_JRTA_(OEV).mtx\")\n",
    "path_pt_ntr = os.path.join(\"..\", \"data\", \"144_NTR_(OEV).mtx\")"
   ]
  },
  {
   "cell_type": "markdown",
   "id": "3badc5ba-0f4a-422b-bde4-701dfc7fed30",
   "metadata": {},
   "source": [
    "### Read NPVM-zones with shapes"
   ]
  },
  {
   "cell_type": "code",
   "execution_count": 3,
   "id": "0a5cb759-72c8-48a3-9e0c-002b61d4a432",
   "metadata": {},
   "outputs": [
    {
     "name": "stdout",
     "output_type": "stream",
     "text": [
      "CPU times: total: 3.44 s\n",
      "Wall time: 3.44 s\n"
     ]
    }
   ],
   "source": [
    "%time gdf_npvm_zones = gpd.read_file(path_npvm_zones, encoding=\"cp1252\").to_crs(4326)"
   ]
  },
  {
   "cell_type": "code",
   "execution_count": 4,
   "id": "5b04eedd-f734-42f2-96be-cefb1af8f5b5",
   "metadata": {},
   "outputs": [
    {
     "data": {
      "text/html": [
       "<div>\n",
       "<style scoped>\n",
       "    .dataframe tbody tr th:only-of-type {\n",
       "        vertical-align: middle;\n",
       "    }\n",
       "\n",
       "    .dataframe tbody tr th {\n",
       "        vertical-align: top;\n",
       "    }\n",
       "\n",
       "    .dataframe thead th {\n",
       "        text-align: right;\n",
       "    }\n",
       "</style>\n",
       "<table border=\"1\" class=\"dataframe\">\n",
       "  <thead>\n",
       "    <tr style=\"text-align: right;\">\n",
       "      <th></th>\n",
       "      <th>ID</th>\n",
       "      <th>ID_alt</th>\n",
       "      <th>ID_Gem</th>\n",
       "      <th>N_Gem</th>\n",
       "      <th>stg_type</th>\n",
       "      <th>N_stg_type</th>\n",
       "      <th>ID_KT</th>\n",
       "      <th>N_KT</th>\n",
       "      <th>ID_SL3</th>\n",
       "      <th>N_SL3</th>\n",
       "      <th>ID_Agglo</th>\n",
       "      <th>N_Agglo</th>\n",
       "      <th>ID_AMR</th>\n",
       "      <th>N_AMR</th>\n",
       "      <th>geometry</th>\n",
       "    </tr>\n",
       "  </thead>\n",
       "  <tbody>\n",
       "    <tr>\n",
       "      <th>0</th>\n",
       "      <td>101001</td>\n",
       "      <td>1</td>\n",
       "      <td>1</td>\n",
       "      <td>Aeugst am Albis</td>\n",
       "      <td>1</td>\n",
       "      <td>None</td>\n",
       "      <td>1</td>\n",
       "      <td>ZH</td>\n",
       "      <td>3</td>\n",
       "      <td>Ländlich</td>\n",
       "      <td>261</td>\n",
       "      <td>Zürich</td>\n",
       "      <td>12031</td>\n",
       "      <td>Dietikon–Schlieren</td>\n",
       "      <td>POLYGON ((8.47334 47.26128, 8.47334 47.26139, ...</td>\n",
       "    </tr>\n",
       "    <tr>\n",
       "      <th>1</th>\n",
       "      <td>201001</td>\n",
       "      <td>2</td>\n",
       "      <td>2</td>\n",
       "      <td>Affoltern am Albis</td>\n",
       "      <td>1</td>\n",
       "      <td>None</td>\n",
       "      <td>1</td>\n",
       "      <td>ZH</td>\n",
       "      <td>1</td>\n",
       "      <td>Städtisch</td>\n",
       "      <td>261</td>\n",
       "      <td>Zürich</td>\n",
       "      <td>12031</td>\n",
       "      <td>Dietikon–Schlieren</td>\n",
       "      <td>POLYGON ((8.42224 47.29775, 8.42282 47.29816, ...</td>\n",
       "    </tr>\n",
       "    <tr>\n",
       "      <th>2</th>\n",
       "      <td>201002</td>\n",
       "      <td>2</td>\n",
       "      <td>2</td>\n",
       "      <td>Affoltern am Albis</td>\n",
       "      <td>1</td>\n",
       "      <td>None</td>\n",
       "      <td>1</td>\n",
       "      <td>ZH</td>\n",
       "      <td>1</td>\n",
       "      <td>Städtisch</td>\n",
       "      <td>261</td>\n",
       "      <td>Zürich</td>\n",
       "      <td>12031</td>\n",
       "      <td>Dietikon–Schlieren</td>\n",
       "      <td>POLYGON ((8.44770 47.26794, 8.44767 47.26782, ...</td>\n",
       "    </tr>\n",
       "    <tr>\n",
       "      <th>3</th>\n",
       "      <td>201003</td>\n",
       "      <td>2</td>\n",
       "      <td>2</td>\n",
       "      <td>Affoltern am Albis</td>\n",
       "      <td>1</td>\n",
       "      <td>None</td>\n",
       "      <td>1</td>\n",
       "      <td>ZH</td>\n",
       "      <td>1</td>\n",
       "      <td>Städtisch</td>\n",
       "      <td>261</td>\n",
       "      <td>Zürich</td>\n",
       "      <td>12031</td>\n",
       "      <td>Dietikon–Schlieren</td>\n",
       "      <td>POLYGON ((8.43834 47.27714, 8.43814 47.27726, ...</td>\n",
       "    </tr>\n",
       "    <tr>\n",
       "      <th>4</th>\n",
       "      <td>201004</td>\n",
       "      <td>2</td>\n",
       "      <td>2</td>\n",
       "      <td>Affoltern am Albis</td>\n",
       "      <td>1</td>\n",
       "      <td>None</td>\n",
       "      <td>1</td>\n",
       "      <td>ZH</td>\n",
       "      <td>1</td>\n",
       "      <td>Städtisch</td>\n",
       "      <td>261</td>\n",
       "      <td>Zürich</td>\n",
       "      <td>12031</td>\n",
       "      <td>Dietikon–Schlieren</td>\n",
       "      <td>POLYGON ((8.45000 47.27949, 8.45007 47.27945, ...</td>\n",
       "    </tr>\n",
       "  </tbody>\n",
       "</table>\n",
       "</div>"
      ],
      "text/plain": [
       "       ID  ID_alt  ID_Gem               N_Gem  stg_type N_stg_type  ID_KT  \\\n",
       "0  101001       1       1     Aeugst am Albis         1       None      1   \n",
       "1  201001       2       2  Affoltern am Albis         1       None      1   \n",
       "2  201002       2       2  Affoltern am Albis         1       None      1   \n",
       "3  201003       2       2  Affoltern am Albis         1       None      1   \n",
       "4  201004       2       2  Affoltern am Albis         1       None      1   \n",
       "\n",
       "  N_KT  ID_SL3      N_SL3  ID_Agglo N_Agglo  ID_AMR               N_AMR  \\\n",
       "0   ZH       3   Ländlich       261  Zürich   12031  Dietikon–Schlieren   \n",
       "1   ZH       1  Städtisch       261  Zürich   12031  Dietikon–Schlieren   \n",
       "2   ZH       1  Städtisch       261  Zürich   12031  Dietikon–Schlieren   \n",
       "3   ZH       1  Städtisch       261  Zürich   12031  Dietikon–Schlieren   \n",
       "4   ZH       1  Städtisch       261  Zürich   12031  Dietikon–Schlieren   \n",
       "\n",
       "                                            geometry  \n",
       "0  POLYGON ((8.47334 47.26128, 8.47334 47.26139, ...  \n",
       "1  POLYGON ((8.42224 47.29775, 8.42282 47.29816, ...  \n",
       "2  POLYGON ((8.44770 47.26794, 8.44767 47.26782, ...  \n",
       "3  POLYGON ((8.43834 47.27714, 8.43814 47.27726, ...  \n",
       "4  POLYGON ((8.45000 47.27949, 8.45007 47.27945, ...  "
      ]
     },
     "execution_count": 4,
     "metadata": {},
     "output_type": "execute_result"
    }
   ],
   "source": [
    "gdf_npvm_zones.head()"
   ]
  },
  {
   "cell_type": "code",
   "execution_count": 5,
   "id": "badcfdbb-a4a6-471e-b9a6-51d8460b2b56",
   "metadata": {},
   "outputs": [
    {
     "name": "stdout",
     "output_type": "stream",
     "text": [
      "Anzahl NPVM-Zonen: 7978\n"
     ]
    }
   ],
   "source": [
    "print(\"Anzahl NPVM-Zonen: {}\".format(len(gdf_npvm_zones)))"
   ]
  },
  {
   "cell_type": "code",
   "execution_count": 6,
   "id": "5b115a0d-557a-4415-86bd-0c537e2a36db",
   "metadata": {},
   "outputs": [],
   "source": [
    "def get_npvm_zone(id_):\n",
    "    return gdf_npvm_zones[gdf_npvm_zones.ID == id_]"
   ]
  },
  {
   "cell_type": "code",
   "execution_count": 7,
   "id": "71e417e1-e238-49dd-ae20-c56987186594",
   "metadata": {},
   "outputs": [
    {
     "data": {
      "text/html": [
       "<div>\n",
       "<style scoped>\n",
       "    .dataframe tbody tr th:only-of-type {\n",
       "        vertical-align: middle;\n",
       "    }\n",
       "\n",
       "    .dataframe tbody tr th {\n",
       "        vertical-align: top;\n",
       "    }\n",
       "\n",
       "    .dataframe thead th {\n",
       "        text-align: right;\n",
       "    }\n",
       "</style>\n",
       "<table border=\"1\" class=\"dataframe\">\n",
       "  <thead>\n",
       "    <tr style=\"text-align: right;\">\n",
       "      <th></th>\n",
       "      <th>ID</th>\n",
       "      <th>ID_alt</th>\n",
       "      <th>ID_Gem</th>\n",
       "      <th>N_Gem</th>\n",
       "      <th>stg_type</th>\n",
       "      <th>N_stg_type</th>\n",
       "      <th>ID_KT</th>\n",
       "      <th>N_KT</th>\n",
       "      <th>ID_SL3</th>\n",
       "      <th>N_SL3</th>\n",
       "      <th>ID_Agglo</th>\n",
       "      <th>N_Agglo</th>\n",
       "      <th>ID_AMR</th>\n",
       "      <th>N_AMR</th>\n",
       "      <th>geometry</th>\n",
       "    </tr>\n",
       "  </thead>\n",
       "  <tbody>\n",
       "    <tr>\n",
       "      <th>1324</th>\n",
       "      <td>35101026</td>\n",
       "      <td>35103</td>\n",
       "      <td>351</td>\n",
       "      <td>Bern</td>\n",
       "      <td>1</td>\n",
       "      <td>None</td>\n",
       "      <td>2</td>\n",
       "      <td>BE</td>\n",
       "      <td>1</td>\n",
       "      <td>Städtisch</td>\n",
       "      <td>351</td>\n",
       "      <td>Bern</td>\n",
       "      <td>6012</td>\n",
       "      <td>Bern</td>\n",
       "      <td>POLYGON ((7.42354 46.93420, 7.42336 46.93393, ...</td>\n",
       "    </tr>\n",
       "  </tbody>\n",
       "</table>\n",
       "</div>"
      ],
      "text/plain": [
       "            ID  ID_alt  ID_Gem N_Gem  stg_type N_stg_type  ID_KT N_KT  ID_SL3  \\\n",
       "1324  35101026   35103     351  Bern         1       None      2   BE       1   \n",
       "\n",
       "          N_SL3  ID_Agglo N_Agglo  ID_AMR N_AMR  \\\n",
       "1324  Städtisch       351    Bern    6012  Bern   \n",
       "\n",
       "                                               geometry  \n",
       "1324  POLYGON ((7.42354 46.93420, 7.42336 46.93393, ...  "
      ]
     },
     "execution_count": 7,
     "metadata": {},
     "output_type": "execute_result"
    }
   ],
   "source": [
    "get_npvm_zone(35101026)"
   ]
  },
  {
   "cell_type": "markdown",
   "id": "82369f8b-2a46-416d-9319-6c905e71f68b",
   "metadata": {},
   "source": [
    "### Read Mobility-stations, assign NPVM-zones to Mobility-stations"
   ]
  },
  {
   "cell_type": "code",
   "execution_count": 14,
   "id": "b4cd5a13-f2ae-475b-b658-fb44b22ecc7b",
   "metadata": {},
   "outputs": [],
   "source": [
    "df_mobility_vechicles = pd.read_csv(path_mobility_stations, delimiter=\";\", encoding=\"utf8\")[[\"Stationsnummer\", \"Name\", \"Standort\"]].dropna()"
   ]
  },
  {
   "cell_type": "code",
   "execution_count": 15,
   "id": "d7ae35f9-15a4-4a2e-a84b-2296aeaee65f",
   "metadata": {},
   "outputs": [
    {
     "name": "stdout",
     "output_type": "stream",
     "text": [
      "Anzahl Mobility Fahrzeuge: 2662\n"
     ]
    }
   ],
   "source": [
    "print(\"Anzahl Mobility Fahrzeuge: {}\".format(len(df_mobility_vechicles)))"
   ]
  },
  {
   "cell_type": "code",
   "execution_count": 16,
   "id": "faad416e-0891-49bc-9263-bf19bf500798",
   "metadata": {},
   "outputs": [],
   "source": [
    "df_mobility_stations = df_mobility_vechicles.groupby(\"Stationsnummer\").first().reset_index()"
   ]
  },
  {
   "cell_type": "code",
   "execution_count": 17,
   "id": "775e0489-b136-4588-95d4-f723d8202ab2",
   "metadata": {},
   "outputs": [],
   "source": [
    "df_mobility_stations[\"lon\"] = df_mobility_stations[\"Standort\"].apply(lambda x: x.split(\",\")[1])\n",
    "df_mobility_stations[\"lat\"] = df_mobility_stations[\"Standort\"].apply(lambda x: x.split(\",\")[0])\n",
    "df_mobility_stations = gpd.GeoDataFrame(df_mobility_stations, geometry=gpd.points_from_xy(df_mobility_stations.lon, df_mobility_stations.lat), crs=4326)"
   ]
  },
  {
   "cell_type": "code",
   "execution_count": 18,
   "id": "39f64db3-0e43-4de2-8d77-11d854fedd21",
   "metadata": {},
   "outputs": [
    {
     "name": "stdout",
     "output_type": "stream",
     "text": [
      "Anzahl Mobility Stationen: 1550\n"
     ]
    }
   ],
   "source": [
    "print(\"Anzahl Mobility Stationen: {}\".format(len(df_mobility_stations)))"
   ]
  },
  {
   "cell_type": "code",
   "execution_count": 19,
   "id": "01abe261-0dbf-48c8-9646-0e26cc564ed4",
   "metadata": {},
   "outputs": [],
   "source": [
    "gdf_mobilty_stations_with_npvm_zone = gpd.sjoin(df_mobility_stations, gdf_npvm_zones)[[\"Stationsnummer\", \"Name\", \"geometry\", \"ID\", \"N_Gem\"]]"
   ]
  },
  {
   "cell_type": "code",
   "execution_count": 20,
   "id": "3e6e7b7f-560a-4d1d-adbb-ffec26a66cfc",
   "metadata": {},
   "outputs": [
    {
     "name": "stdout",
     "output_type": "stream",
     "text": [
      "Anzahl Mobility Standorte mit zugeordneter NPVM-Zone: 1549\n"
     ]
    }
   ],
   "source": [
    "print(\"Anzahl Mobility Standorte mit zugeordneter NPVM-Zone: {}\".format(len(gdf_mobilty_stations_with_npvm_zone)))"
   ]
  },
  {
   "cell_type": "code",
   "execution_count": 21,
   "id": "221eb029-9e7a-4473-b39a-aafdd82723f1",
   "metadata": {},
   "outputs": [
    {
     "data": {
      "text/html": [
       "<div>\n",
       "<style scoped>\n",
       "    .dataframe tbody tr th:only-of-type {\n",
       "        vertical-align: middle;\n",
       "    }\n",
       "\n",
       "    .dataframe tbody tr th {\n",
       "        vertical-align: top;\n",
       "    }\n",
       "\n",
       "    .dataframe thead th {\n",
       "        text-align: right;\n",
       "    }\n",
       "</style>\n",
       "<table border=\"1\" class=\"dataframe\">\n",
       "  <thead>\n",
       "    <tr style=\"text-align: right;\">\n",
       "      <th></th>\n",
       "      <th>Stationsnummer</th>\n",
       "      <th>Name</th>\n",
       "      <th>geometry</th>\n",
       "      <th>ID</th>\n",
       "      <th>N_Gem</th>\n",
       "    </tr>\n",
       "  </thead>\n",
       "  <tbody>\n",
       "    <tr>\n",
       "      <th>0</th>\n",
       "      <td>1006</td>\n",
       "      <td>Brugg Bahnhof</td>\n",
       "      <td>POINT (8.20942 47.48154)</td>\n",
       "      <td>409501008</td>\n",
       "      <td>Brugg</td>\n",
       "    </tr>\n",
       "    <tr>\n",
       "      <th>719</th>\n",
       "      <td>3215</td>\n",
       "      <td>Brugg Post Neumarkt / Bahnhofstrasse</td>\n",
       "      <td>POINT (8.20757 47.48216)</td>\n",
       "      <td>409501008</td>\n",
       "      <td>Brugg</td>\n",
       "    </tr>\n",
       "    <tr>\n",
       "      <th>1</th>\n",
       "      <td>1012</td>\n",
       "      <td>Arbon Bahnhof</td>\n",
       "      <td>POINT (9.43345 47.51032)</td>\n",
       "      <td>440101010</td>\n",
       "      <td>Arbon</td>\n",
       "    </tr>\n",
       "    <tr>\n",
       "      <th>2</th>\n",
       "      <td>1019</td>\n",
       "      <td>Basel Vogesenstrasse</td>\n",
       "      <td>POINT (7.57483 47.56869)</td>\n",
       "      <td>270101028</td>\n",
       "      <td>Basel</td>\n",
       "    </tr>\n",
       "    <tr>\n",
       "      <th>3</th>\n",
       "      <td>1024</td>\n",
       "      <td>Bellinzona Stazione</td>\n",
       "      <td>POINT (9.03017 46.19630)</td>\n",
       "      <td>500201015</td>\n",
       "      <td>Bellinzona</td>\n",
       "    </tr>\n",
       "  </tbody>\n",
       "</table>\n",
       "</div>"
      ],
      "text/plain": [
       "     Stationsnummer                                  Name  \\\n",
       "0              1006                         Brugg Bahnhof   \n",
       "719            3215  Brugg Post Neumarkt / Bahnhofstrasse   \n",
       "1              1012                         Arbon Bahnhof   \n",
       "2              1019                  Basel Vogesenstrasse   \n",
       "3              1024                   Bellinzona Stazione   \n",
       "\n",
       "                     geometry         ID       N_Gem  \n",
       "0    POINT (8.20942 47.48154)  409501008       Brugg  \n",
       "719  POINT (8.20757 47.48216)  409501008       Brugg  \n",
       "1    POINT (9.43345 47.51032)  440101010       Arbon  \n",
       "2    POINT (7.57483 47.56869)  270101028       Basel  \n",
       "3    POINT (9.03017 46.19630)  500201015  Bellinzona  "
      ]
     },
     "execution_count": 21,
     "metadata": {},
     "output_type": "execute_result"
    }
   ],
   "source": [
    "gdf_mobilty_stations_with_npvm_zone.head()"
   ]
  },
  {
   "cell_type": "code",
   "execution_count": 22,
   "id": "1fecf0a2-6d5a-418f-86c8-a5c5b3abe8c5",
   "metadata": {},
   "outputs": [],
   "source": [
    "gdf_npvm_zones_with_mobility_station = gdf_mobilty_stations_with_npvm_zone.dissolve(by=\"ID\", aggfunc={\"N_Gem\": \"first\", \"Name\": lambda x: list(x), \"Stationsnummer\": lambda x: list(x)}).reset_index()"
   ]
  },
  {
   "cell_type": "code",
   "execution_count": 23,
   "id": "ae1c06ec-e23d-4126-9717-f1dfa8d46678",
   "metadata": {},
   "outputs": [
    {
     "name": "stdout",
     "output_type": "stream",
     "text": [
      "Anzahl NPVM-Zonen mit Mobility-Standort: 1311\n"
     ]
    }
   ],
   "source": [
    "print(\"Anzahl NPVM-Zonen mit Mobility-Standort: {}\".format(len(gdf_npvm_zones_with_mobility_station)))"
   ]
  },
  {
   "cell_type": "markdown",
   "id": "535a725a-cb55-477b-abce-64e97cb5919d",
   "metadata": {},
   "source": [
    "### Read PT-skims"
   ]
  },
  {
   "cell_type": "code",
   "execution_count": 24,
   "id": "44def8b6-9e22-4ac2-b8b6-1c70a4487a25",
   "metadata": {},
   "outputs": [
    {
     "name": "stdout",
     "output_type": "stream",
     "text": [
      "CPU times: total: 6.91 s\n",
      "Wall time: 6.94 s\n"
     ]
    }
   ],
   "source": [
    "%time skim_jrta = ReadPTVMatrix(path_pt_jrta)"
   ]
  },
  {
   "cell_type": "code",
   "execution_count": 40,
   "id": "9fc45b9b-159e-4c4b-b0ff-8b682d61fafd",
   "metadata": {},
   "outputs": [
    {
     "data": {
      "text/plain": [
       "3"
      ]
     },
     "execution_count": 40,
     "metadata": {},
     "output_type": "execute_result"
    }
   ],
   "source": [
    "len(skim_jrta)"
   ]
  },
  {
   "cell_type": "code",
   "execution_count": 25,
   "id": "397782f2-c9d4-4820-8f3a-a7dbada321d7",
   "metadata": {},
   "outputs": [
    {
     "name": "stdout",
     "output_type": "stream",
     "text": [
      "CPU times: total: 7.73 s\n",
      "Wall time: 7.73 s\n"
     ]
    }
   ],
   "source": [
    "%time skim_ntr = ReadPTVMatrix(path_pt_ntr)"
   ]
  },
  {
   "cell_type": "code",
   "execution_count": 26,
   "id": "d42db127-8c61-4233-a2e1-8b8ee789d8c2",
   "metadata": {},
   "outputs": [],
   "source": [
    "def get_skim(from_npvm_zone_id, to_npvm_zone_id, skim_matrix):\n",
    "    return skim_matrix.sel(origins=from_npvm_zone_id).sel(destinations=to_npvm_zone_id).matrix.item()"
   ]
  },
  {
   "cell_type": "code",
   "execution_count": 27,
   "id": "ed948051-0051-4b40-ba4e-67060a065c69",
   "metadata": {},
   "outputs": [],
   "source": [
    "def get_jrta(from_npvm_zone_id, to_npvm_zone_id):\n",
    "    return get_skim(from_npvm_zone_id, to_npvm_zone_id, skim_jrta)"
   ]
  },
  {
   "cell_type": "code",
   "execution_count": 28,
   "id": "16c84c7f-b95f-42f0-b5a4-6a055ea08aff",
   "metadata": {},
   "outputs": [],
   "source": [
    "def get_ntr(from_npvm_zone_id, to_npvm_zone_id):\n",
    "    return get_skim(from_npvm_zone_id, to_npvm_zone_id, skim_ntr)"
   ]
  },
  {
   "cell_type": "markdown",
   "id": "1ed1291d-869b-4565-9cfe-1fe5f10a6575",
   "metadata": {},
   "source": [
    "## Execute query"
   ]
  },
  {
   "cell_type": "markdown",
   "id": "1a182e07-d318-42a7-bd06-2d7bae86f65e",
   "metadata": {},
   "source": [
    "### Constants"
   ]
  },
  {
   "cell_type": "code",
   "execution_count": 41,
   "id": "4121dd75-bf9a-40ea-8ffc-f5ed0adbb900",
   "metadata": {},
   "outputs": [],
   "source": [
    "GEOMETRY = \"geometry\"\n",
    "EASTING = \"easting\"\n",
    "NORTHING = \"northing\"\n",
    "\n",
    "NPVM_ID = \"ID\"\n",
    "STATIONSNUMMER = \"Stationsnummer\"\n",
    "MIV_DISTANZ_BIS_ZIEL_KM = \"MIV_Distanz_bis_Ziel_km\"\n",
    "MIV_ZEIT_BIS_ZIEL_MIN = \"MIV_Zeit_bis_Ziel_min\"\n",
    "\n",
    "DISTANCES = \"distances\"\n",
    "DURATIONS = \"durations\"\n",
    "\n",
    "OEV_JRTA_VON_START_MIN = \"OEV_JRTA_von_Start_min\"\n",
    "OEV_NTR_VON_START = \"OEV_NTR_von_Start\"\n",
    "\n",
    "KOSTEN_CHF = \"Kosten_CHF\"\n",
    "\n",
    "CHF_PER_KM_MOBILITY = 0.75\n",
    "MIN_PER_TRANSFER = 20.0\n",
    "FILTER_FACTOR = 1.05\n",
    "\n",
    "OUTPUT_TYPE_GDF = \"gdf\"\n",
    "OUTPUT_TYPE_DICT = \"dict\""
   ]
  },
  {
   "cell_type": "markdown",
   "id": "b1971d40-3119-4b79-aa4e-8ec5220af09a",
   "metadata": {},
   "source": [
    "### Functions"
   ]
  },
  {
   "cell_type": "code",
   "execution_count": 42,
   "id": "7e54faab-e74d-4edf-89bd-88d1be74aea8",
   "metadata": {},
   "outputs": [],
   "source": [
    "def get_gdf_point_with_npvm_zone_id(point_easting_northing, gdf_npvm_zones):\n",
    "    point = Point(point_easting_northing[0], point_easting_northing[1])\n",
    "    gdf_point = gpd.GeoDataFrame({'geometry': [point]}, crs=\"EPSG:4326\")\n",
    "    gdf_point_with_zone = gpd.sjoin(gdf_point, gdf_npvm_zones)[[\"ID\", \"N_Gem\", \"geometry\"]]\n",
    "    return gdf_point_with_zone"
   ]
  },
  {
   "cell_type": "code",
   "execution_count": 43,
   "id": "e88fe977-5a4e-4db6-967b-5a6f0e338d9e",
   "metadata": {},
   "outputs": [],
   "source": [
    "def get_npvm_zone_id(gdf_point_with_npvm_zone_id):\n",
    "    if len(gdf_point_with_npvm_zone_id) != 1:\n",
    "        raise ValueError(\"only one entry exprected, but there are {}\".format(len(gdf_point_with_npvm_zone_id)))\n",
    "    return gdf_point_with_npvm_zone_id[\"ID\"].item()"
   ]
  },
  {
   "cell_type": "code",
   "execution_count": 44,
   "id": "64f92d36-158d-4019-90ed-e60d154822a1",
   "metadata": {},
   "outputs": [],
   "source": [
    "def get_potential_mobility_stations(gdf_orig_with_npvm_zone_id, gdf_dest_with_npvm_zone_id, gdf_mobilty_stations_with_npvm_zone, factor=1.5, constant=30.0):\n",
    "    orig_zone_id = get_npvm_zone_id(gdf_orig_with_npvm_zone_id)\n",
    "    dest_zone_id = get_npvm_zone_id(gdf_dest_with_npvm_zone_id)\n",
    "    jrta_orig_dest = get_jrta(orig_zone_id, dest_zone_id)\n",
    "    potential_stations_ids = []\n",
    "    for station_id, zone_id in gdf_mobilty_stations_with_npvm_zone[[\"Stationsnummer\", \"ID\"]].values.tolist():\n",
    "        jrta_orig_station = get_jrta(orig_zone_id, zone_id)\n",
    "        jrta_station_dest = get_jrta(zone_id, dest_zone_id)\n",
    "        if jrta_orig_station + jrta_station_dest <= factor * jrta_orig_dest + constant:\n",
    "            potential_stations_ids += [station_id]\n",
    "    df_potential_station_ids = pd.DataFrame(potential_stations_ids, columns=[\"Stationsnummer\"])\n",
    "    return pd.merge(gdf_mobilty_stations_with_npvm_zone, df_potential_station_ids, on=[\"Stationsnummer\"])"
   ]
  },
  {
   "cell_type": "code",
   "execution_count": 45,
   "id": "13ee9354-ec40-48c9-bdb0-239a3ba16bbe",
   "metadata": {},
   "outputs": [],
   "source": [
    "def collect_data_on_potential_npvm_zones(gdf_orig_with_npvm_zone_id, gdf_dest_with_npvm_zone_id, gdf_potential_mobility_stations):\n",
    "    list_potential_mobility_stations = list(gdf_potential_mobility_stations.to_dict(\"records\"))\n",
    "    coords_str = \"{},{}\".format(gdf_dest_with_npvm_zone_id[GEOMETRY].x.item(), gdf_dest_with_npvm_zone_id[GEOMETRY].y.item())\n",
    "    for pot_mob_st in list_potential_mobility_stations:\n",
    "        center = pot_mob_st[GEOMETRY].centroid\n",
    "        coords_str += \";{},{}\".format(center.x, center.y)\n",
    "    url = \"https://router.project-osrm.org/table/v1/driving/{}?destinations=0&annotations=duration,distance\".format(coords_str)\n",
    "    res = requests.get(url).json()\n",
    "    road_distances_from_potential_mobility_station_to_dest_per_stationsnummer = {x[STATIONSNUMMER]: res[DISTANCES][n + 1][0] for n, x in enumerate(list_potential_mobility_stations)}\n",
    "    road_durations_from_potential_mobility_station_to_dest_per_stationsnummer = {x[STATIONSNUMMER]: res[DURATIONS][n + 1][0] for n, x in enumerate(list_potential_mobility_stations)}\n",
    "    \n",
    "    pd_distances = pd.DataFrame(list(road_distances_from_potential_mobility_station_to_dest_per_stationsnummer.items()), columns=[STATIONSNUMMER, MIV_DISTANZ_BIS_ZIEL_KM])\n",
    "    pd_distances[MIV_DISTANZ_BIS_ZIEL_KM] = pd_distances[MIV_DISTANZ_BIS_ZIEL_KM] / 1000.0\n",
    "    \n",
    "    pd_durations= pd.DataFrame(list(road_durations_from_potential_mobility_station_to_dest_per_stationsnummer.items()), columns=[STATIONSNUMMER, MIV_ZEIT_BIS_ZIEL_MIN])\n",
    "    pd_durations[MIV_ZEIT_BIS_ZIEL_MIN] = pd_durations[MIV_ZEIT_BIS_ZIEL_MIN] / 60.0\n",
    "\n",
    "    gdf_potential_mobility_stations_with_data = pd.merge(gdf_potential_mobility_stations, pd_distances, on=[STATIONSNUMMER])\n",
    "    gdf_potential_mobility_stations_with_data = pd.merge(gdf_potential_mobility_stations_with_data, pd_durations, on=[STATIONSNUMMER])\n",
    "    \n",
    "    \n",
    "    zone_ids_list = set(x.item() for x in gdf_potential_mobility_stations[[NPVM_ID]].values)\n",
    "    orig_zone_id = get_npvm_zone_id(gdf_orig_with_npvm_zone_id)\n",
    "    jrta_list = [(x, get_jrta(orig_zone_id, x)) for x in zone_ids_list]\n",
    "    ntr_list = [(x, get_ntr(orig_zone_id, x)) for x in zone_ids_list]\n",
    "    \n",
    "    pd_jrtas = pd.DataFrame(jrta_list, columns=[NPVM_ID, OEV_JRTA_VON_START_MIN])\n",
    "    pd_ntrs = pd.DataFrame(ntr_list, columns=[NPVM_ID, OEV_NTR_VON_START])\n",
    "    \n",
    "    gdf_potential_mobility_stations_with_data = pd.merge(gdf_potential_mobility_stations_with_data, pd_jrtas, on=[NPVM_ID])\n",
    "    gdf_potential_mobility_stations_with_data = pd.merge(gdf_potential_mobility_stations_with_data, pd_ntrs, on=[NPVM_ID])\n",
    "    if len(gdf_potential_mobility_stations) != len(gdf_potential_mobility_stations_with_data):\n",
    "        raise ValueError(\"# mobility stations has changed\")\n",
    "    return gdf_potential_mobility_stations_with_data"
   ]
  },
  {
   "cell_type": "code",
   "execution_count": 46,
   "id": "4f10f25e-cfee-48ba-b352-86eb1096c65a",
   "metadata": {},
   "outputs": [],
   "source": [
    "def calc_generalized_costs(gdf_potential_mobility_stations_with_data, vtt_chf_per_h=20):\n",
    "    gdf_potential_mobility_stations_with_data[KOSTEN_CHF] = \\\n",
    "        CHF_PER_KM_MOBILITY * gdf_potential_mobility_stations_with_data[MIV_DISTANZ_BIS_ZIEL_KM] + \\\n",
    "        (gdf_potential_mobility_stations_with_data[MIV_ZEIT_BIS_ZIEL_MIN] + gdf_potential_mobility_stations_with_data[OEV_JRTA_VON_START_MIN] + \n",
    "        gdf_potential_mobility_stations_with_data[OEV_NTR_VON_START] * MIN_PER_TRANSFER) / 60.0 * vtt_chf_per_h\n",
    "    return gdf_potential_mobility_stations_with_data.sort_values(by=KOSTEN_CHF, ascending=True)"
   ]
  },
  {
   "cell_type": "code",
   "execution_count": 47,
   "id": "f547a096-53a9-4552-9c7b-7c5d0c30aaf9",
   "metadata": {},
   "outputs": [],
   "source": [
    "def calc_best_mobility_stations_per_vtt(gdf_potential_mobility_stations_with_data, vtt_chf_per_h, output_type=OUTPUT_TYPE_GDF):\n",
    "    df_tmp = calc_generalized_costs(gdf_potential_mobility_stations_with_data, vtt_chf_per_h=vtt_chf_per_h)\n",
    "    min_cost = df_tmp[KOSTEN_CHF].min()\n",
    "    df_tmp = df_tmp[df_tmp[KOSTEN_CHF] <= min_cost * FILTER_FACTOR]\n",
    "    df_tmp = pd.merge(gdf_potential_mobility_stations_with_data, df_tmp[[NPVM_ID]], on=NPVM_ID).sort_values(by=KOSTEN_CHF)\n",
    "    if output_type == OUTPUT_TYPE_GDF:\n",
    "        return df_tmp\n",
    "    elif output_type == OUTPUT_TYPE_DICT:\n",
    "        return df_tmp.to_dict(\"records\")"
   ]
  },
  {
   "cell_type": "code",
   "execution_count": 48,
   "id": "ff2f1a95-e7d8-45b9-b378-23535df2906b",
   "metadata": {},
   "outputs": [],
   "source": [
    "def get_best_mobility_statons_per_vtt(orig_lon_lat, dest_lon_lat, output_type=OUTPUT_TYPE_GDF):\n",
    "    gdf_orig_with_npvm_zone_id = get_gdf_point_with_npvm_zone_id(orig_lon_lat, gdf_npvm_zones)\n",
    "    gdf_dest_with_npvm_zone_id = get_gdf_point_with_npvm_zone_id(dest_lon_lat, gdf_npvm_zones)\n",
    "    gdf_potential_mobility_stations = get_potential_mobility_stations(gdf_orig_with_npvm_zone_id, gdf_dest_with_npvm_zone_id, gdf_mobilty_stations_with_npvm_zone)\n",
    "    gdf_potential_mobility_stations_with_data = collect_data_on_potential_npvm_zones(gdf_orig_with_npvm_zone_id, gdf_dest_with_npvm_zone_id, gdf_potential_mobility_stations)\n",
    "    best_mobility_stations_per_vtt = {vtt: calc_best_mobility_stations_per_vtt(gdf_potential_mobility_stations_with_data, vtt, output_type=output_type) for vtt in range(0, 101)}\n",
    "    gdf_potential_mobility_stations_with_data[EASTING] = gdf_potential_mobility_stations_with_data[GEOMETRY].x\n",
    "    gdf_potential_mobility_stations_with_data[NORTHING] = gdf_potential_mobility_stations_with_data[GEOMETRY].y\n",
    "    gdf_potential_mobility_stations_with_data = gdf_potential_mobility_stations_with_data.drop([KOSTEN_CHF], axis=1)\n",
    "    return best_mobility_stations_per_vtt, gdf_potential_mobility_stations_with_data"
   ]
  },
  {
   "cell_type": "markdown",
   "id": "3c188133-769e-4927-99d7-f9c58708a58b",
   "metadata": {},
   "source": [
    "### Execute"
   ]
  },
  {
   "cell_type": "code",
   "execution_count": null,
   "id": "4cbedcc8-9acd-483c-9eae-8d64ee1d7fa2",
   "metadata": {},
   "outputs": [],
   "source": []
  },
  {
   "cell_type": "code",
   "execution_count": 49,
   "id": "a8d5c5a4-8fc7-41d9-9153-af001f5ef718",
   "metadata": {},
   "outputs": [],
   "source": [
    "orig_lon_lat = (7.423570, 46.936620)\n",
    "dest_lon_lat = (7.343680184933122, 46.551891386747386)\n",
    "\n",
    "best_mobility_stations_per_vtt, gdf_potential_mobility_stations_with_data = get_best_mobility_statons_per_vtt(orig_lon_lat, dest_lon_lat)"
   ]
  },
  {
   "cell_type": "markdown",
   "id": "dce795e4-fd13-410b-810b-9cd892e95ef6",
   "metadata": {},
   "source": [
    "### Visualize situation on map"
   ]
  },
  {
   "cell_type": "code",
   "execution_count": null,
   "id": "554e1dd5-3bb0-4bbe-95be-44ccb89983ba",
   "metadata": {},
   "outputs": [],
   "source": [
    "bounds = gdf_potential_mobility_stations_with_data.total_bounds\n",
    "bounds = [[bounds[1], bounds[0]], [bounds[3], bounds[2]]]\n",
    "bounds"
   ]
  },
  {
   "cell_type": "code",
   "execution_count": null,
   "id": "31227655-bc93-41d7-b755-1e035a127176",
   "metadata": {},
   "outputs": [],
   "source": [
    "def show_best_mobility_stations_per_vtt(vtt):\n",
    "    geo_data = GeoData(geo_dataframe=best_mobility_stations_per_vtt[vtt],\n",
    "        style={'color': 'black', 'radius':8, 'fillColor': '#3366cc', 'opacity':0.5, 'weight':1.9, 'dashArray':'2', 'fillOpacity':0.6},\n",
    "        hover_style={'fillColor': 'red' , 'fillOpacity': 0.2},\n",
    "        point_style={'radius': 5, 'color': 'red', 'fillOpacity': 0.8, 'fillColor': 'blue', 'weight': 3},\n",
    "        name = 'Mobility-Stationen')\n",
    "    for l in m.layers:\n",
    "        if type(l) == GeoData:\n",
    "            m.remove_layer(l)\n",
    "    m.add_layer(geo_data)"
   ]
  },
  {
   "cell_type": "code",
   "execution_count": null,
   "id": "7b04a5da-6677-4dd4-bd1e-e50859902093",
   "metadata": {},
   "outputs": [],
   "source": [
    "def on_slider_changed(event):\n",
    "    show_best_mobility_stations_per_vtt(event[\"new\"])"
   ]
  },
  {
   "cell_type": "code",
   "execution_count": null,
   "id": "5cc10526-f95f-4f15-989c-5d372220e94d",
   "metadata": {},
   "outputs": [],
   "source": [
    "from ipyleaflet import Map, GeoData, basemaps, LayersControl, FullScreenControl, Marker, WidgetControl\n",
    "from ipywidgets import IntSlider\n",
    "import geopandas\n",
    "import json\n",
    "\n",
    "vtt_slider = IntSlider(description='Zeitkosten', min=0, max=100, value=20)\n",
    "vtt_slider.observe(on_slider_changed, names='value')\n",
    "\n",
    "widget_control = WidgetControl(widget=vtt_slider, position='topright')\n",
    "\n",
    "m = Map(center=(52.3,8.0), zoom = 3, basemap= basemaps.Esri.WorldTopoMap, scroll_wheel_zoom=True)\n",
    "m.add_control(widget_control)\n",
    "\n",
    "m.fit_bounds(bounds)\n",
    "show_best_mobility_stations_per_vtt(vtt_slider.value)\n",
    "m.add_control(FullScreenControl())\n",
    "\n",
    "m.layout.width = '100%'\n",
    "m.layout.height = '500px'\n",
    "\n",
    "orig_marker = Marker(location=(orig_lon_lat[1], orig_lon_lat[0]) , draggable=False)\n",
    "dest_marker = Marker(location=(dest_lon_lat[1], dest_lon_lat[0]) , draggable=False)\n",
    "\n",
    "m.add_layer(orig_marker)\n",
    "m.add_layer(dest_marker)\n",
    "\n",
    "m"
   ]
  },
  {
   "cell_type": "code",
   "execution_count": null,
   "id": "38951cc5-0bdc-4864-88cd-ab2ba351043f",
   "metadata": {},
   "outputs": [],
   "source": []
  }
 ],
 "metadata": {
  "kernelspec": {
   "display_name": "Python 3 (ipykernel)",
   "language": "python",
   "name": "python3"
  },
  "language_info": {
   "codemirror_mode": {
    "name": "ipython",
    "version": 3
   },
   "file_extension": ".py",
   "mimetype": "text/x-python",
   "name": "python",
   "nbconvert_exporter": "python",
   "pygments_lexer": "ipython3",
   "version": "3.10.8"
  }
 },
 "nbformat": 4,
 "nbformat_minor": 5
}
