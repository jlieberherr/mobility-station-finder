{
 "cells": [
  {
   "cell_type": "markdown",
   "id": "dc3de318-193b-45d8-8bb5-d3443f50bd8a",
   "metadata": {},
   "source": [
    "# Mobility-Station-Finder"
   ]
  },
  {
   "cell_type": "markdown",
   "id": "b5cd0cbc-960c-448f-855d-bde140762b25",
   "metadata": {},
   "source": [
    "## Imports"
   ]
  },
  {
   "cell_type": "code",
   "execution_count": 1,
   "id": "a2a802a7-68e5-4f3c-ba20-33ccf20f6fca",
   "metadata": {},
   "outputs": [],
   "source": [
    "import geopandas as gpd\n",
    "from shapely.geometry import Point\n",
    "import pandas as pd\n",
    "from matrixconverters.read_ptv import ReadPTVMatrix\n",
    "import requests\n",
    "import os"
   ]
  },
  {
   "cell_type": "markdown",
   "id": "db92c254-6cce-4a2e-82aa-ae8b57defd9e",
   "metadata": {},
   "source": [
    "## Read and process static data"
   ]
  },
  {
   "cell_type": "markdown",
   "id": "4cea168a-baf1-409b-bf33-ed0e6980d364",
   "metadata": {},
   "source": [
    "### Paths"
   ]
  },
  {
   "cell_type": "code",
   "execution_count": 2,
   "id": "7c480fa4-49e2-4200-b96e-c2cd8d35fc45",
   "metadata": {},
   "outputs": [],
   "source": [
    "path_npvm_zones = os.path.join(\"..\", \"data\", \"Verkehrszonen_Schweiz_NPVM_2017_shp.zip\")\n",
    "path_mobility_stations = os.path.join(\"..\", \"data\", \"mobility-stationen-und-fahrzeuge-schweiz.csv\")\n",
    "path_pt_jrta = os.path.join(\"..\", \"data\", \"140_JRTA_(OEV).mtx\")\n",
    "path_pt_ntr = os.path.join(\"..\", \"data\", \"144_NTR_(OEV).mtx\")"
   ]
  },
  {
   "cell_type": "markdown",
   "id": "3badc5ba-0f4a-422b-bde4-701dfc7fed30",
   "metadata": {},
   "source": [
    "### Read NPVM-zones with shapes"
   ]
  },
  {
   "cell_type": "code",
   "execution_count": 3,
   "id": "0a5cb759-72c8-48a3-9e0c-002b61d4a432",
   "metadata": {},
   "outputs": [
    {
     "name": "stdout",
     "output_type": "stream",
     "text": [
      "CPU times: total: 3.56 s\n",
      "Wall time: 3.6 s\n"
     ]
    }
   ],
   "source": [
    "%time gdf_npvm_zones = gpd.read_file(path_npvm_zones, encoding=\"cp1252\").to_crs(4326)"
   ]
  },
  {
   "cell_type": "code",
   "execution_count": 4,
   "id": "5b04eedd-f734-42f2-96be-cefb1af8f5b5",
   "metadata": {},
   "outputs": [
    {
     "data": {
      "text/html": [
       "<div>\n",
       "<style scoped>\n",
       "    .dataframe tbody tr th:only-of-type {\n",
       "        vertical-align: middle;\n",
       "    }\n",
       "\n",
       "    .dataframe tbody tr th {\n",
       "        vertical-align: top;\n",
       "    }\n",
       "\n",
       "    .dataframe thead th {\n",
       "        text-align: right;\n",
       "    }\n",
       "</style>\n",
       "<table border=\"1\" class=\"dataframe\">\n",
       "  <thead>\n",
       "    <tr style=\"text-align: right;\">\n",
       "      <th></th>\n",
       "      <th>ID</th>\n",
       "      <th>ID_alt</th>\n",
       "      <th>ID_Gem</th>\n",
       "      <th>N_Gem</th>\n",
       "      <th>stg_type</th>\n",
       "      <th>N_stg_type</th>\n",
       "      <th>ID_KT</th>\n",
       "      <th>N_KT</th>\n",
       "      <th>ID_SL3</th>\n",
       "      <th>N_SL3</th>\n",
       "      <th>ID_Agglo</th>\n",
       "      <th>N_Agglo</th>\n",
       "      <th>ID_AMR</th>\n",
       "      <th>N_AMR</th>\n",
       "      <th>geometry</th>\n",
       "    </tr>\n",
       "  </thead>\n",
       "  <tbody>\n",
       "    <tr>\n",
       "      <th>7973</th>\n",
       "      <td>700901001</td>\n",
       "      <td>5150000</td>\n",
       "      <td>7009</td>\n",
       "      <td>Gamprin</td>\n",
       "      <td>1</td>\n",
       "      <td>None</td>\n",
       "      <td>27</td>\n",
       "      <td>LIE</td>\n",
       "      <td>0</td>\n",
       "      <td>None</td>\n",
       "      <td>0</td>\n",
       "      <td>None</td>\n",
       "      <td>0</td>\n",
       "      <td>None</td>\n",
       "      <td>MULTIPOLYGON (((9.50614 47.21097, 9.50610 47.2...</td>\n",
       "    </tr>\n",
       "    <tr>\n",
       "      <th>7974</th>\n",
       "      <td>701001001</td>\n",
       "      <td>5150000</td>\n",
       "      <td>7010</td>\n",
       "      <td>Ruggell</td>\n",
       "      <td>1</td>\n",
       "      <td>None</td>\n",
       "      <td>27</td>\n",
       "      <td>LIE</td>\n",
       "      <td>0</td>\n",
       "      <td>None</td>\n",
       "      <td>0</td>\n",
       "      <td>None</td>\n",
       "      <td>0</td>\n",
       "      <td>None</td>\n",
       "      <td>POLYGON ((9.51171 47.23131, 9.51032 47.23177, ...</td>\n",
       "    </tr>\n",
       "    <tr>\n",
       "      <th>7975</th>\n",
       "      <td>701101001</td>\n",
       "      <td>5150000</td>\n",
       "      <td>7011</td>\n",
       "      <td>Schellenberg</td>\n",
       "      <td>1</td>\n",
       "      <td>None</td>\n",
       "      <td>27</td>\n",
       "      <td>LIE</td>\n",
       "      <td>0</td>\n",
       "      <td>None</td>\n",
       "      <td>0</td>\n",
       "      <td>None</td>\n",
       "      <td>0</td>\n",
       "      <td>None</td>\n",
       "      <td>POLYGON ((9.52844 47.22566, 9.52873 47.22565, ...</td>\n",
       "    </tr>\n",
       "    <tr>\n",
       "      <th>7976</th>\n",
       "      <td>710101001</td>\n",
       "      <td>999999</td>\n",
       "      <td>7101</td>\n",
       "      <td>Büsingen</td>\n",
       "      <td>1</td>\n",
       "      <td>None</td>\n",
       "      <td>28</td>\n",
       "      <td>Enk.</td>\n",
       "      <td>0</td>\n",
       "      <td>None</td>\n",
       "      <td>0</td>\n",
       "      <td>None</td>\n",
       "      <td>0</td>\n",
       "      <td>None</td>\n",
       "      <td>POLYGON ((8.65987 47.68940, 8.65996 47.69056, ...</td>\n",
       "    </tr>\n",
       "    <tr>\n",
       "      <th>7977</th>\n",
       "      <td>730101001</td>\n",
       "      <td>999999</td>\n",
       "      <td>7301</td>\n",
       "      <td>Campione d'Italia</td>\n",
       "      <td>1</td>\n",
       "      <td>None</td>\n",
       "      <td>28</td>\n",
       "      <td>Enk.</td>\n",
       "      <td>0</td>\n",
       "      <td>None</td>\n",
       "      <td>0</td>\n",
       "      <td>None</td>\n",
       "      <td>0</td>\n",
       "      <td>None</td>\n",
       "      <td>POLYGON ((8.96282 45.97463, 8.96687 45.98419, ...</td>\n",
       "    </tr>\n",
       "  </tbody>\n",
       "</table>\n",
       "</div>"
      ],
      "text/plain": [
       "             ID   ID_alt  ID_Gem              N_Gem  stg_type N_stg_type  \\\n",
       "7973  700901001  5150000    7009            Gamprin         1       None   \n",
       "7974  701001001  5150000    7010            Ruggell         1       None   \n",
       "7975  701101001  5150000    7011       Schellenberg         1       None   \n",
       "7976  710101001   999999    7101           Büsingen         1       None   \n",
       "7977  730101001   999999    7301  Campione d'Italia         1       None   \n",
       "\n",
       "      ID_KT  N_KT  ID_SL3 N_SL3  ID_Agglo N_Agglo  ID_AMR N_AMR  \\\n",
       "7973     27   LIE       0  None         0    None       0  None   \n",
       "7974     27   LIE       0  None         0    None       0  None   \n",
       "7975     27   LIE       0  None         0    None       0  None   \n",
       "7976     28  Enk.       0  None         0    None       0  None   \n",
       "7977     28  Enk.       0  None         0    None       0  None   \n",
       "\n",
       "                                               geometry  \n",
       "7973  MULTIPOLYGON (((9.50614 47.21097, 9.50610 47.2...  \n",
       "7974  POLYGON ((9.51171 47.23131, 9.51032 47.23177, ...  \n",
       "7975  POLYGON ((9.52844 47.22566, 9.52873 47.22565, ...  \n",
       "7976  POLYGON ((8.65987 47.68940, 8.65996 47.69056, ...  \n",
       "7977  POLYGON ((8.96282 45.97463, 8.96687 45.98419, ...  "
      ]
     },
     "execution_count": 4,
     "metadata": {},
     "output_type": "execute_result"
    }
   ],
   "source": [
    "gdf_npvm_zones.tail()"
   ]
  },
  {
   "cell_type": "code",
   "execution_count": 5,
   "id": "badcfdbb-a4a6-471e-b9a6-51d8460b2b56",
   "metadata": {},
   "outputs": [
    {
     "name": "stdout",
     "output_type": "stream",
     "text": [
      "Anzahl NPVM-Zonen: 7978\n"
     ]
    }
   ],
   "source": [
    "print(\"Anzahl NPVM-Zonen: {}\".format(len(gdf_npvm_zones)))"
   ]
  },
  {
   "cell_type": "code",
   "execution_count": 6,
   "id": "5b115a0d-557a-4415-86bd-0c537e2a36db",
   "metadata": {},
   "outputs": [],
   "source": [
    "def get_npvm_zone(id_):\n",
    "    return gdf_npvm_zones[gdf_npvm_zones.ID == id_]"
   ]
  },
  {
   "cell_type": "code",
   "execution_count": 7,
   "id": "71e417e1-e238-49dd-ae20-c56987186594",
   "metadata": {},
   "outputs": [
    {
     "data": {
      "text/html": [
       "<div>\n",
       "<style scoped>\n",
       "    .dataframe tbody tr th:only-of-type {\n",
       "        vertical-align: middle;\n",
       "    }\n",
       "\n",
       "    .dataframe tbody tr th {\n",
       "        vertical-align: top;\n",
       "    }\n",
       "\n",
       "    .dataframe thead th {\n",
       "        text-align: right;\n",
       "    }\n",
       "</style>\n",
       "<table border=\"1\" class=\"dataframe\">\n",
       "  <thead>\n",
       "    <tr style=\"text-align: right;\">\n",
       "      <th></th>\n",
       "      <th>ID</th>\n",
       "      <th>ID_alt</th>\n",
       "      <th>ID_Gem</th>\n",
       "      <th>N_Gem</th>\n",
       "      <th>stg_type</th>\n",
       "      <th>N_stg_type</th>\n",
       "      <th>ID_KT</th>\n",
       "      <th>N_KT</th>\n",
       "      <th>ID_SL3</th>\n",
       "      <th>N_SL3</th>\n",
       "      <th>ID_Agglo</th>\n",
       "      <th>N_Agglo</th>\n",
       "      <th>ID_AMR</th>\n",
       "      <th>N_AMR</th>\n",
       "      <th>geometry</th>\n",
       "    </tr>\n",
       "  </thead>\n",
       "  <tbody>\n",
       "    <tr>\n",
       "      <th>1324</th>\n",
       "      <td>35101026</td>\n",
       "      <td>35103</td>\n",
       "      <td>351</td>\n",
       "      <td>Bern</td>\n",
       "      <td>1</td>\n",
       "      <td>None</td>\n",
       "      <td>2</td>\n",
       "      <td>BE</td>\n",
       "      <td>1</td>\n",
       "      <td>Städtisch</td>\n",
       "      <td>351</td>\n",
       "      <td>Bern</td>\n",
       "      <td>6012</td>\n",
       "      <td>Bern</td>\n",
       "      <td>POLYGON ((7.42354 46.93420, 7.42336 46.93393, ...</td>\n",
       "    </tr>\n",
       "  </tbody>\n",
       "</table>\n",
       "</div>"
      ],
      "text/plain": [
       "            ID  ID_alt  ID_Gem N_Gem  stg_type N_stg_type  ID_KT N_KT  ID_SL3  \\\n",
       "1324  35101026   35103     351  Bern         1       None      2   BE       1   \n",
       "\n",
       "          N_SL3  ID_Agglo N_Agglo  ID_AMR N_AMR  \\\n",
       "1324  Städtisch       351    Bern    6012  Bern   \n",
       "\n",
       "                                               geometry  \n",
       "1324  POLYGON ((7.42354 46.93420, 7.42336 46.93393, ...  "
      ]
     },
     "execution_count": 7,
     "metadata": {},
     "output_type": "execute_result"
    }
   ],
   "source": [
    "get_npvm_zone(35101026)"
   ]
  },
  {
   "cell_type": "markdown",
   "id": "82369f8b-2a46-416d-9319-6c905e71f68b",
   "metadata": {},
   "source": [
    "### Read Mobility-stations, assign NPVM-zones to Mobility-stations"
   ]
  },
  {
   "cell_type": "code",
   "execution_count": 8,
   "id": "b4cd5a13-f2ae-475b-b658-fb44b22ecc7b",
   "metadata": {},
   "outputs": [],
   "source": [
    "df_mobility_vechicles = pd.read_csv(path_mobility_stations, delimiter=\";\", encoding=\"utf8\")[[\"Stationsnummer\", \"Name\", \"Standort\"]].dropna()"
   ]
  },
  {
   "cell_type": "code",
   "execution_count": 9,
   "id": "d7ae35f9-15a4-4a2e-a84b-2296aeaee65f",
   "metadata": {},
   "outputs": [
    {
     "name": "stdout",
     "output_type": "stream",
     "text": [
      "Anzahl Mobility Fahrzeuge: 2662\n"
     ]
    }
   ],
   "source": [
    "print(\"Anzahl Mobility Fahrzeuge: {}\".format(len(df_mobility_vechicles)))"
   ]
  },
  {
   "cell_type": "code",
   "execution_count": 10,
   "id": "faad416e-0891-49bc-9263-bf19bf500798",
   "metadata": {},
   "outputs": [],
   "source": [
    "df_mobility_stations = df_mobility_vechicles.groupby(\"Stationsnummer\").first().reset_index()"
   ]
  },
  {
   "cell_type": "code",
   "execution_count": 11,
   "id": "775e0489-b136-4588-95d4-f723d8202ab2",
   "metadata": {},
   "outputs": [],
   "source": [
    "df_mobility_stations[\"lon\"] = df_mobility_stations[\"Standort\"].apply(lambda x: x.split(\",\")[1])\n",
    "df_mobility_stations[\"lat\"] = df_mobility_stations[\"Standort\"].apply(lambda x: x.split(\",\")[0])\n",
    "df_mobility_stations = gpd.GeoDataFrame(df_mobility_stations, geometry=gpd.points_from_xy(df_mobility_stations.lon, df_mobility_stations.lat), crs=4326)"
   ]
  },
  {
   "cell_type": "code",
   "execution_count": 12,
   "id": "39f64db3-0e43-4de2-8d77-11d854fedd21",
   "metadata": {},
   "outputs": [
    {
     "name": "stdout",
     "output_type": "stream",
     "text": [
      "Anzahl Mobility Stationen: 1550\n"
     ]
    }
   ],
   "source": [
    "print(\"Anzahl Mobility Stationen: {}\".format(len(df_mobility_stations)))"
   ]
  },
  {
   "cell_type": "code",
   "execution_count": 13,
   "id": "01abe261-0dbf-48c8-9646-0e26cc564ed4",
   "metadata": {},
   "outputs": [],
   "source": [
    "gdf_mobilty_stations_with_npvm_zone = gpd.sjoin(df_mobility_stations, gdf_npvm_zones)[[\"Stationsnummer\", \"Name\", \"geometry\", \"ID\", \"N_Gem\"]]"
   ]
  },
  {
   "cell_type": "code",
   "execution_count": 14,
   "id": "3e6e7b7f-560a-4d1d-adbb-ffec26a66cfc",
   "metadata": {},
   "outputs": [
    {
     "name": "stdout",
     "output_type": "stream",
     "text": [
      "Anzahl Mobility Standorte mit zugeordneter NPVM-Zone: 1549\n"
     ]
    }
   ],
   "source": [
    "print(\"Anzahl Mobility Standorte mit zugeordneter NPVM-Zone: {}\".format(len(gdf_mobilty_stations_with_npvm_zone)))"
   ]
  },
  {
   "cell_type": "code",
   "execution_count": 15,
   "id": "221eb029-9e7a-4473-b39a-aafdd82723f1",
   "metadata": {},
   "outputs": [
    {
     "data": {
      "text/html": [
       "<div>\n",
       "<style scoped>\n",
       "    .dataframe tbody tr th:only-of-type {\n",
       "        vertical-align: middle;\n",
       "    }\n",
       "\n",
       "    .dataframe tbody tr th {\n",
       "        vertical-align: top;\n",
       "    }\n",
       "\n",
       "    .dataframe thead th {\n",
       "        text-align: right;\n",
       "    }\n",
       "</style>\n",
       "<table border=\"1\" class=\"dataframe\">\n",
       "  <thead>\n",
       "    <tr style=\"text-align: right;\">\n",
       "      <th></th>\n",
       "      <th>Stationsnummer</th>\n",
       "      <th>Name</th>\n",
       "      <th>geometry</th>\n",
       "      <th>ID</th>\n",
       "      <th>N_Gem</th>\n",
       "    </tr>\n",
       "  </thead>\n",
       "  <tbody>\n",
       "    <tr>\n",
       "      <th>0</th>\n",
       "      <td>1006</td>\n",
       "      <td>Brugg Bahnhof</td>\n",
       "      <td>POINT (8.20942 47.48154)</td>\n",
       "      <td>409501008</td>\n",
       "      <td>Brugg</td>\n",
       "    </tr>\n",
       "    <tr>\n",
       "      <th>719</th>\n",
       "      <td>3215</td>\n",
       "      <td>Brugg Post Neumarkt / Bahnhofstrasse</td>\n",
       "      <td>POINT (8.20757 47.48216)</td>\n",
       "      <td>409501008</td>\n",
       "      <td>Brugg</td>\n",
       "    </tr>\n",
       "    <tr>\n",
       "      <th>1</th>\n",
       "      <td>1012</td>\n",
       "      <td>Arbon Bahnhof</td>\n",
       "      <td>POINT (9.43345 47.51032)</td>\n",
       "      <td>440101010</td>\n",
       "      <td>Arbon</td>\n",
       "    </tr>\n",
       "    <tr>\n",
       "      <th>2</th>\n",
       "      <td>1019</td>\n",
       "      <td>Basel Vogesenstrasse</td>\n",
       "      <td>POINT (7.57483 47.56869)</td>\n",
       "      <td>270101028</td>\n",
       "      <td>Basel</td>\n",
       "    </tr>\n",
       "    <tr>\n",
       "      <th>3</th>\n",
       "      <td>1024</td>\n",
       "      <td>Bellinzona Stazione</td>\n",
       "      <td>POINT (9.03017 46.19630)</td>\n",
       "      <td>500201015</td>\n",
       "      <td>Bellinzona</td>\n",
       "    </tr>\n",
       "  </tbody>\n",
       "</table>\n",
       "</div>"
      ],
      "text/plain": [
       "     Stationsnummer                                  Name  \\\n",
       "0              1006                         Brugg Bahnhof   \n",
       "719            3215  Brugg Post Neumarkt / Bahnhofstrasse   \n",
       "1              1012                         Arbon Bahnhof   \n",
       "2              1019                  Basel Vogesenstrasse   \n",
       "3              1024                   Bellinzona Stazione   \n",
       "\n",
       "                     geometry         ID       N_Gem  \n",
       "0    POINT (8.20942 47.48154)  409501008       Brugg  \n",
       "719  POINT (8.20757 47.48216)  409501008       Brugg  \n",
       "1    POINT (9.43345 47.51032)  440101010       Arbon  \n",
       "2    POINT (7.57483 47.56869)  270101028       Basel  \n",
       "3    POINT (9.03017 46.19630)  500201015  Bellinzona  "
      ]
     },
     "execution_count": 15,
     "metadata": {},
     "output_type": "execute_result"
    }
   ],
   "source": [
    "gdf_mobilty_stations_with_npvm_zone.head()"
   ]
  },
  {
   "cell_type": "code",
   "execution_count": 16,
   "id": "1fecf0a2-6d5a-418f-86c8-a5c5b3abe8c5",
   "metadata": {},
   "outputs": [],
   "source": [
    "gdf_npvm_zones_with_mobility_station = gdf_mobilty_stations_with_npvm_zone.dissolve(by=\"ID\", aggfunc={\"N_Gem\": \"first\", \"Name\": lambda x: list(x), \"Stationsnummer\": lambda x: list(x)}).reset_index()"
   ]
  },
  {
   "cell_type": "code",
   "execution_count": 17,
   "id": "ae1c06ec-e23d-4126-9717-f1dfa8d46678",
   "metadata": {},
   "outputs": [
    {
     "name": "stdout",
     "output_type": "stream",
     "text": [
      "Anzahl NPVM-Zonen mit Mobility-Standort: 1311\n"
     ]
    }
   ],
   "source": [
    "print(\"Anzahl NPVM-Zonen mit Mobility-Standort: {}\".format(len(gdf_npvm_zones_with_mobility_station)))"
   ]
  },
  {
   "cell_type": "markdown",
   "id": "535a725a-cb55-477b-abce-64e97cb5919d",
   "metadata": {},
   "source": [
    "### Read PT-skims"
   ]
  },
  {
   "cell_type": "code",
   "execution_count": 18,
   "id": "44def8b6-9e22-4ac2-b8b6-1c70a4487a25",
   "metadata": {},
   "outputs": [
    {
     "name": "stdout",
     "output_type": "stream",
     "text": [
      "CPU times: total: 7.81 s\n",
      "Wall time: 7.9 s\n"
     ]
    }
   ],
   "source": [
    "%time skim_jrta = ReadPTVMatrix(path_pt_jrta)"
   ]
  },
  {
   "cell_type": "code",
   "execution_count": 19,
   "id": "9fc45b9b-159e-4c4b-b0ff-8b682d61fafd",
   "metadata": {},
   "outputs": [
    {
     "data": {
      "text/plain": [
       "3"
      ]
     },
     "execution_count": 19,
     "metadata": {},
     "output_type": "execute_result"
    }
   ],
   "source": [
    "len(skim_jrta)"
   ]
  },
  {
   "cell_type": "code",
   "execution_count": 20,
   "id": "397782f2-c9d4-4820-8f3a-a7dbada321d7",
   "metadata": {},
   "outputs": [
    {
     "name": "stdout",
     "output_type": "stream",
     "text": [
      "CPU times: total: 7.47 s\n",
      "Wall time: 7.54 s\n"
     ]
    }
   ],
   "source": [
    "%time skim_ntr = ReadPTVMatrix(path_pt_ntr)"
   ]
  },
  {
   "cell_type": "code",
   "execution_count": 21,
   "id": "d42db127-8c61-4233-a2e1-8b8ee789d8c2",
   "metadata": {},
   "outputs": [],
   "source": [
    "def get_skim(from_npvm_zone_id, to_npvm_zone_id, skim_matrix):\n",
    "    return skim_matrix.sel(origins=from_npvm_zone_id).sel(destinations=to_npvm_zone_id).matrix.item()"
   ]
  },
  {
   "cell_type": "code",
   "execution_count": 22,
   "id": "ed948051-0051-4b40-ba4e-67060a065c69",
   "metadata": {},
   "outputs": [],
   "source": [
    "def get_jrta(from_npvm_zone_id, to_npvm_zone_id):\n",
    "    return get_skim(from_npvm_zone_id, to_npvm_zone_id, skim_jrta)"
   ]
  },
  {
   "cell_type": "code",
   "execution_count": 23,
   "id": "16c84c7f-b95f-42f0-b5a4-6a055ea08aff",
   "metadata": {},
   "outputs": [],
   "source": [
    "def get_ntr(from_npvm_zone_id, to_npvm_zone_id):\n",
    "    return get_skim(from_npvm_zone_id, to_npvm_zone_id, skim_ntr)"
   ]
  },
  {
   "cell_type": "markdown",
   "id": "1ed1291d-869b-4565-9cfe-1fe5f10a6575",
   "metadata": {},
   "source": [
    "## Execute query"
   ]
  },
  {
   "cell_type": "markdown",
   "id": "1a182e07-d318-42a7-bd06-2d7bae86f65e",
   "metadata": {},
   "source": [
    "### Constants"
   ]
  },
  {
   "cell_type": "code",
   "execution_count": 24,
   "id": "4121dd75-bf9a-40ea-8ffc-f5ed0adbb900",
   "metadata": {},
   "outputs": [],
   "source": [
    "GEOMETRY = \"geometry\"\n",
    "EASTING = \"easting\"\n",
    "NORTHING = \"northing\"\n",
    "\n",
    "NPVM_ID = \"ID\"\n",
    "STATIONSNUMMER = \"Stationsnummer\"\n",
    "MIV_DISTANZ_BIS_ZIEL_KM = \"MIV_Distanz_bis_Ziel_km\"\n",
    "MIV_ZEIT_BIS_ZIEL_MIN = \"MIV_Zeit_bis_Ziel_min\"\n",
    "\n",
    "DISTANCES = \"distances\"\n",
    "DURATIONS = \"durations\"\n",
    "\n",
    "OEV_JRTA_VON_START_MIN = \"OEV_JRTA_von_Start_min\"\n",
    "OEV_NTR_VON_START = \"OEV_NTR_von_Start\"\n",
    "\n",
    "KOSTEN_CHF = \"Kosten_CHF\"\n",
    "\n",
    "CHF_PER_KM_MOBILITY = 0.75\n",
    "MIN_PER_TRANSFER = 20.0\n",
    "FILTER_FACTOR = 1.05\n",
    "\n",
    "OUTPUT_TYPE_GDF = \"gdf\"\n",
    "OUTPUT_TYPE_DICT = \"dict\""
   ]
  },
  {
   "cell_type": "markdown",
   "id": "b1971d40-3119-4b79-aa4e-8ec5220af09a",
   "metadata": {},
   "source": [
    "### Functions"
   ]
  },
  {
   "cell_type": "code",
   "execution_count": 25,
   "id": "7e54faab-e74d-4edf-89bd-88d1be74aea8",
   "metadata": {},
   "outputs": [],
   "source": [
    "def get_gdf_point_with_npvm_zone_id(point_easting_northing, gdf_npvm_zones):\n",
    "    point = Point(point_easting_northing[0], point_easting_northing[1])\n",
    "    gdf_point = gpd.GeoDataFrame({'geometry': [point]}, crs=\"EPSG:4326\")\n",
    "    gdf_point_with_zone = gpd.sjoin(gdf_point, gdf_npvm_zones)[[\"ID\", \"N_Gem\", \"geometry\"]]\n",
    "    return gdf_point_with_zone"
   ]
  },
  {
   "cell_type": "code",
   "execution_count": 26,
   "id": "e88fe977-5a4e-4db6-967b-5a6f0e338d9e",
   "metadata": {},
   "outputs": [],
   "source": [
    "def get_npvm_zone_id(gdf_point_with_npvm_zone_id):\n",
    "    if len(gdf_point_with_npvm_zone_id) != 1:\n",
    "        raise ValueError(\"only one entry exprected, but there are {}\".format(len(gdf_point_with_npvm_zone_id)))\n",
    "    return gdf_point_with_npvm_zone_id[\"ID\"].item()"
   ]
  },
  {
   "cell_type": "code",
   "execution_count": 27,
   "id": "64f92d36-158d-4019-90ed-e60d154822a1",
   "metadata": {},
   "outputs": [],
   "source": [
    "def get_potential_mobility_stations(gdf_orig_with_npvm_zone_id, gdf_dest_with_npvm_zone_id, gdf_mobilty_stations_with_npvm_zone, factor=1.5, constant=30.0):\n",
    "    orig_zone_id = get_npvm_zone_id(gdf_orig_with_npvm_zone_id)\n",
    "    dest_zone_id = get_npvm_zone_id(gdf_dest_with_npvm_zone_id)\n",
    "    jrta_orig_dest = get_jrta(orig_zone_id, dest_zone_id)\n",
    "    potential_stations_ids = []\n",
    "    for station_id, zone_id in gdf_mobilty_stations_with_npvm_zone[[\"Stationsnummer\", \"ID\"]].values.tolist():\n",
    "        jrta_orig_station = get_jrta(orig_zone_id, zone_id)\n",
    "        jrta_station_dest = get_jrta(zone_id, dest_zone_id)\n",
    "        if jrta_orig_station + jrta_station_dest <= factor * jrta_orig_dest + constant:\n",
    "            potential_stations_ids += [station_id]\n",
    "    df_potential_station_ids = pd.DataFrame(potential_stations_ids, columns=[\"Stationsnummer\"])\n",
    "    return pd.merge(gdf_mobilty_stations_with_npvm_zone, df_potential_station_ids, on=[\"Stationsnummer\"])"
   ]
  },
  {
   "cell_type": "code",
   "execution_count": 34,
   "id": "13ee9354-ec40-48c9-bdb0-239a3ba16bbe",
   "metadata": {},
   "outputs": [],
   "source": [
    "def collect_data_on_potential_npvm_zones(gdf_orig_with_npvm_zone_id, gdf_dest_with_npvm_zone_id, gdf_potential_mobility_stations):\n",
    "    list_potential_mobility_stations = list(gdf_potential_mobility_stations.to_dict(\"records\"))\n",
    "    coords_str = \"{},{}\".format(gdf_dest_with_npvm_zone_id[GEOMETRY].x.item(), gdf_dest_with_npvm_zone_id[GEOMETRY].y.item())\n",
    "    for pot_mob_st in list_potential_mobility_stations:\n",
    "        center = pot_mob_st[GEOMETRY].centroid\n",
    "        coords_str += \";{},{}\".format(center.x, center.y)\n",
    "    url = \"https://router.project-osrm.org/table/v1/driving/{}?destinations=0&annotations=duration,distance\".format(coords_str)\n",
    "    print(url)\n",
    "    res = requests.get(url).json()\n",
    "    road_distances_from_potential_mobility_station_to_dest_per_stationsnummer = {x[STATIONSNUMMER]: res[DISTANCES][n + 1][0] for n, x in enumerate(list_potential_mobility_stations)}\n",
    "    road_durations_from_potential_mobility_station_to_dest_per_stationsnummer = {x[STATIONSNUMMER]: res[DURATIONS][n + 1][0] for n, x in enumerate(list_potential_mobility_stations)}\n",
    "    \n",
    "    pd_distances = pd.DataFrame(list(road_distances_from_potential_mobility_station_to_dest_per_stationsnummer.items()), columns=[STATIONSNUMMER, MIV_DISTANZ_BIS_ZIEL_KM])\n",
    "    pd_distances[MIV_DISTANZ_BIS_ZIEL_KM] = pd_distances[MIV_DISTANZ_BIS_ZIEL_KM] / 1000.0\n",
    "    \n",
    "    pd_durations= pd.DataFrame(list(road_durations_from_potential_mobility_station_to_dest_per_stationsnummer.items()), columns=[STATIONSNUMMER, MIV_ZEIT_BIS_ZIEL_MIN])\n",
    "    pd_durations[MIV_ZEIT_BIS_ZIEL_MIN] = pd_durations[MIV_ZEIT_BIS_ZIEL_MIN] / 60.0\n",
    "\n",
    "    gdf_potential_mobility_stations_with_data = pd.merge(gdf_potential_mobility_stations, pd_distances, on=[STATIONSNUMMER])\n",
    "    gdf_potential_mobility_stations_with_data = pd.merge(gdf_potential_mobility_stations_with_data, pd_durations, on=[STATIONSNUMMER])\n",
    "    \n",
    "    \n",
    "    zone_ids_list = set(x.item() for x in gdf_potential_mobility_stations[[NPVM_ID]].values)\n",
    "    orig_zone_id = get_npvm_zone_id(gdf_orig_with_npvm_zone_id)\n",
    "    jrta_list = [(x, get_jrta(orig_zone_id, x)) for x in zone_ids_list]\n",
    "    ntr_list = [(x, get_ntr(orig_zone_id, x)) for x in zone_ids_list]\n",
    "    \n",
    "    pd_jrtas = pd.DataFrame(jrta_list, columns=[NPVM_ID, OEV_JRTA_VON_START_MIN])\n",
    "    pd_ntrs = pd.DataFrame(ntr_list, columns=[NPVM_ID, OEV_NTR_VON_START])\n",
    "    \n",
    "    gdf_potential_mobility_stations_with_data = pd.merge(gdf_potential_mobility_stations_with_data, pd_jrtas, on=[NPVM_ID])\n",
    "    gdf_potential_mobility_stations_with_data = pd.merge(gdf_potential_mobility_stations_with_data, pd_ntrs, on=[NPVM_ID])\n",
    "    if len(gdf_potential_mobility_stations) != len(gdf_potential_mobility_stations_with_data):\n",
    "        raise ValueError(\"# mobility stations has changed\")\n",
    "    return gdf_potential_mobility_stations_with_data"
   ]
  },
  {
   "cell_type": "code",
   "execution_count": 35,
   "id": "4f10f25e-cfee-48ba-b352-86eb1096c65a",
   "metadata": {},
   "outputs": [],
   "source": [
    "def calc_generalized_costs(gdf_potential_mobility_stations_with_data, vtt_chf_per_h=20):\n",
    "    gdf_potential_mobility_stations_with_data[KOSTEN_CHF] = \\\n",
    "        CHF_PER_KM_MOBILITY * gdf_potential_mobility_stations_with_data[MIV_DISTANZ_BIS_ZIEL_KM] + \\\n",
    "        (gdf_potential_mobility_stations_with_data[MIV_ZEIT_BIS_ZIEL_MIN] + gdf_potential_mobility_stations_with_data[OEV_JRTA_VON_START_MIN] + \n",
    "        gdf_potential_mobility_stations_with_data[OEV_NTR_VON_START] * MIN_PER_TRANSFER) / 60.0 * vtt_chf_per_h\n",
    "    return gdf_potential_mobility_stations_with_data.sort_values(by=KOSTEN_CHF, ascending=True)"
   ]
  },
  {
   "cell_type": "code",
   "execution_count": 36,
   "id": "f547a096-53a9-4552-9c7b-7c5d0c30aaf9",
   "metadata": {},
   "outputs": [],
   "source": [
    "def calc_best_mobility_stations_per_vtt(gdf_potential_mobility_stations_with_data, vtt_chf_per_h, output_type=OUTPUT_TYPE_GDF):\n",
    "    df_tmp = calc_generalized_costs(gdf_potential_mobility_stations_with_data, vtt_chf_per_h=vtt_chf_per_h)\n",
    "    min_cost = df_tmp[KOSTEN_CHF].min()\n",
    "    df_tmp = df_tmp[df_tmp[KOSTEN_CHF] <= min_cost * FILTER_FACTOR]\n",
    "    df_tmp = pd.merge(gdf_potential_mobility_stations_with_data, df_tmp[[NPVM_ID]], on=NPVM_ID).sort_values(by=KOSTEN_CHF)\n",
    "    if output_type == OUTPUT_TYPE_GDF:\n",
    "        return df_tmp\n",
    "    elif output_type == OUTPUT_TYPE_DICT:\n",
    "        return df_tmp.to_dict(\"records\")"
   ]
  },
  {
   "cell_type": "code",
   "execution_count": 37,
   "id": "ff2f1a95-e7d8-45b9-b378-23535df2906b",
   "metadata": {},
   "outputs": [],
   "source": [
    "def get_best_mobility_statons_per_vtt(orig_lon_lat, dest_lon_lat, output_type=OUTPUT_TYPE_GDF):\n",
    "    gdf_orig_with_npvm_zone_id = get_gdf_point_with_npvm_zone_id(orig_lon_lat, gdf_npvm_zones)\n",
    "    gdf_dest_with_npvm_zone_id = get_gdf_point_with_npvm_zone_id(dest_lon_lat, gdf_npvm_zones)\n",
    "    gdf_potential_mobility_stations = get_potential_mobility_stations(gdf_orig_with_npvm_zone_id, gdf_dest_with_npvm_zone_id, gdf_mobilty_stations_with_npvm_zone)\n",
    "    gdf_potential_mobility_stations_with_data = collect_data_on_potential_npvm_zones(gdf_orig_with_npvm_zone_id, gdf_dest_with_npvm_zone_id, gdf_potential_mobility_stations)\n",
    "    gdf_potential_mobility_stations_with_data[EASTING] = gdf_potential_mobility_stations_with_data[GEOMETRY].x\n",
    "    gdf_potential_mobility_stations_with_data[NORTHING] = gdf_potential_mobility_stations_with_data[GEOMETRY].y\n",
    "    gdf_potential_mobility_stations_with_data = gdf_potential_mobility_stations_with_data.drop([GEOMETRY], axis=1)\n",
    "    best_mobility_stations_per_vtt = {vtt: calc_best_mobility_stations_per_vtt(gdf_potential_mobility_stations_with_data, vtt, output_type=output_type) for vtt in range(0, 101)}\n",
    "    gdf_potential_mobility_stations_with_data = gdf_potential_mobility_stations_with_data.drop([KOSTEN_CHF], axis=1)\n",
    "    return best_mobility_stations_per_vtt, gdf_potential_mobility_stations_with_data"
   ]
  },
  {
   "cell_type": "markdown",
   "id": "3c188133-769e-4927-99d7-f9c58708a58b",
   "metadata": {},
   "source": [
    "### Execute"
   ]
  },
  {
   "cell_type": "code",
   "execution_count": 38,
   "id": "a8d5c5a4-8fc7-41d9-9153-af001f5ef718",
   "metadata": {},
   "outputs": [
    {
     "name": "stdout",
     "output_type": "stream",
     "text": [
      "https://router.project-osrm.org/table/v1/driving/7.343680184933122,46.551891386747386;7.50005,46.8865;7.61934,47.06081;7.61717,47.05301;7.62025,47.0575;7.49684,46.97619;7.85111,46.68304;7.415457,46.925044;7.41711,46.9261;7.78534,46.93856;7.45275,47.02118;7.5598,46.87452;7.56539,46.877;7.50695,46.93334;7.481261,46.956961;7.63106,46.7708;7.68016,46.6865;7.62823,46.75613;7.62172,46.76;7.562351,46.930089;7.477321,46.973678;7.441294,46.935842;7.437648,46.939032;7.43421,46.97588;7.15019,46.8015;7.38656,47.04189;7.65042,46.5884;7.465257,46.949174;7.47129,46.94561;7.468618,46.949573;7.45245,46.96033;7.45469,46.9627;7.42947,46.95339;7.4293,46.95281;7.428195,46.954612;7.42859,46.9504;7.42706,46.9297;7.42921,46.9306;7.433957,46.926768;7.47647,46.93779;7.44335,46.945178;7.44423,46.94077;7.44356,46.9446;7.24573,47.1322;7.2459,47.13461;7.15354,46.80576;7.62178,46.8811;7.30569,47.07726;7.416166,46.91041;7.61516,46.73598;7.368433,46.876606;7.63479,46.78196;7.25079,47.13242;7.465484,46.942559;7.46723,46.94481;7.46115,46.9435;7.461776,46.94469;7.192847,46.974817;7.43417,46.94623;7.50759,47.04756;7.90245,47.3515;7.254248,46.862877;7.45098,46.97374;7.55517,46.87381;7.62483,46.74064;7.444281,46.95653;7.44639,46.95558;7.44681,46.9578;7.38364,46.94701;7.380554,46.945127;7.90995,47.34708;7.376833,46.966838;7.546405,46.953143;7.513601,46.814053;7.5349,47.1302;7.458108,46.947791;7.42889,46.93683;7.6555,47.01614;7.194116,46.975117;7.47278,46.90889;7.44979,46.959825;7.452762,46.958819;7.90714,47.3536;7.39438,46.937;7.393958,46.941125;7.396374,46.939121;7.56825,46.84071;7.43299,46.9503;7.43276,46.9491;7.45203,46.99348;7.62819,47.05053;7.411384,46.944603;7.4377,46.9495;7.43679,46.9505;7.43788,46.9522;7.49383,46.89395;7.44762,46.96079;7.47784,46.98173;7.46902,46.95318;7.495994,46.858503;7.45885,46.9789;7.49895,47.0193;7.389051,46.945688;7.43216,46.9545;7.43154,46.95496;7.64556,46.7445;7.24739,47.13922;7.494952,46.957752;7.496486,46.959974;7.48147,46.9643;7.4262,46.94859;7.425807,46.945077;7.449496,46.951775;7.45297,46.95557;7.452017,46.955289;7.45796,46.953229;7.4028,46.94723;7.40677,46.94837;7.375679,46.553206;7.461567,46.99964;7.449868,46.949137;7.45178,46.949;7.483279,46.947602;7.88215,46.29368;7.372256,46.943554;7.43149,46.95727;7.432943,46.956438;7.43409,46.95759;7.437309,46.957135;7.48387,47.01615;7.423562,46.953353;7.42722,46.95527;7.61361,46.75667;7.44681,46.9495;7.48673,46.97798;7.485135,46.973383;7.417025,46.93618;7.55107,46.86891;7.54128,46.78686;7.45839,46.932;7.377609,46.926121;7.67656803,46.69053705;7.485649,46.931445;7.432409,46.940836;7.43251,46.9381;7.61374,47.0641;7.61651,46.7441;7.46468,46.9665;7.54547,46.8989;7.427766,46.940042;7.41906,46.9407;7.471921,46.951653;7.15202,46.7991;7.46213,46.9456;7.49863,46.9571;7.4519,46.9573;7.45498,46.9584;7.45237,46.9971;7.453001,46.964997;7.46404,46.9676;7.441604,46.972783;7.49613,46.9707;7.44714,46.9281;7.452303,46.928154;7.44819,46.9309;7.4486,46.944;7.44743,46.9372;7.46758,46.9356;7.45855,46.9593;7.46349,46.9591;7.428287,46.942912;7.6258,46.7495;7.23925,47.1361;7.46805,46.9919;7.422215,46.975847;7.421611,46.930916;7.44764,46.9466;7.57919,46.66;7.45017,46.9584;7.401379,46.942687;7.40442,46.946086;7.3056,47.079;7.14432,46.8013;7.427919,46.942269;7.428637,46.940721;7.508697,46.95572;7.38609,46.943;7.456732,46.925424;7.464288,46.920392;7.50381,46.9328;7.62106,46.7339;7.5226,47.0857;7.43818,46.9301;7.45615,46.9488;7.43641,46.9444;7.46168,46.9542;7.42118,46.9388;7.161402,46.803467;7.46255,46.9628;7.24835,47.1373;7.43762,46.9369;7.425266,46.921163;7.156441,46.808909;7.418711,46.926451;7.451083,47.020719;7.415571,46.929208;7.61317,47.05331;7.625881,46.755683;7.628311,46.754666;7.622895,46.75368;7.15217,46.79691;7.459783,46.999242;7.636441,46.778289;7.621102,47.049226;7.38535,46.9317;7.564719,46.925484;7.333513,46.955094;7.484926,46.949808;7.514548,46.958258;7.18996,46.850191;7.911318,47.350914;7.624822,47.054843;7.454874,46.943706;7.635508,46.905267;7.416099,46.945529;7.1611,46.80615?destinations=0&annotations=duration,distance\n"
     ]
    }
   ],
   "source": [
    "orig_lon_lat = (7.423570, 46.936620)\n",
    "dest_lon_lat = (7.343680184933122, 46.551891386747386)\n",
    "\n",
    "best_mobility_stations_per_vtt, gdf_potential_mobility_stations_with_data = get_best_mobility_statons_per_vtt(orig_lon_lat, dest_lon_lat, output_type=OUTPUT_TYPE_DICT)"
   ]
  },
  {
   "cell_type": "code",
   "execution_count": 39,
   "id": "b149b4cd-ec0c-42b4-9c56-cb1f6024fd7b",
   "metadata": {},
   "outputs": [
    {
     "data": {
      "text/plain": [
       "'{\"0\": [{\"Stationsnummer\": 3139, \"Name\": \"Zweisimmen Bahnhof\", \"ID\": 79401002, \"N_Gem\": \"Zweisimmen\", \"MIV_Distanz_bis_Ziel_km\": 8.474, \"MIV_Zeit_bis_Ziel_min\": 20.19, \"OEV_JRTA_von_Start_min\": 125.92819560283505, \"OEV_NTR_von_Start\": 1.422151922783864, \"easting\": 7.375679, \"northing\": 46.553206, \"Kosten_CHF\": 6.3555}], \"1\": [{\"Stationsnummer\": 3139, \"Name\": \"Zweisimmen Bahnhof\", \"ID\": 79401002, \"N_Gem\": \"Zweisimmen\", \"MIV_Distanz_bis_Ziel_km\": 8.474, \"MIV_Zeit_bis_Ziel_min\": 20.19, \"OEV_JRTA_von_Start_min\": 125.92819560283505, \"OEV_NTR_von_Start\": 1.422151922783864, \"easting\": 7.375679, \"northing\": 46.553206, \"Kosten_CHF\": 9.264853900975206}], \"2\": [{\"Stationsnummer\": 3139, \"Name\": \"Zweisimmen Bahnhof\", \"ID\": 79401002, \"N_Gem\": \"Zweisimmen\", \"MIV_Distanz_bis_Ziel_km\": 8.474, \"MIV_Zeit_bis_Ziel_min\": 20.19, \"OEV_JRTA_von_Start_min\": 125.92819560283505, \"OEV_NTR_von_Start\": 1.422151922783864, \"easting\": 7.375679, \"northing\": 46.553206, \"Kosten_CHF\": 12.174207801950411}], \"3\": [{\"Stationsnummer\": 3139, \"Name\": \"Zweisimmen Bahnhof\", \"ID\": 79401002, \"N_Gem\": \"Zweisimmen\", \"MIV_Distanz_bis_Ziel_km\": 8.474, \"MIV_Zeit_bis_Ziel_min\": 20.19, \"OEV_JRTA_von_Start_min\": 125.92819560283505, \"OEV_NTR_von_Start\": 1.422151922783864, \"easting\": 7.375679, \"northing\": 46.553206, \"Kosten_CHF\": 15.083561702925618}], \"4\": [{\"Stationsnummer\": 3139, \"Name\": \"Zweisimmen Bahnhof\", \"ID\": 79401002, \"N_Gem\": \"Zweisimmen\", \"MIV_Distanz_bis_Ziel_km\": 8.474, \"MIV_Zeit_bis_Ziel_min\": 20.19, \"OEV_JRTA_von_Start_min\": 125.92819560283505, \"OEV_NTR_von_Start\": 1.422151922783864, \"easting\": 7.375679, \"northing\": 46.553206, \"Kosten_CHF\": 17.992915603900823}], \"5\": [{\"Stationsnummer\": 3139, \"Name\": \"Zweisimmen Bahnhof\", \"ID\": 79401002, \"N_Gem\": \"Zweisimmen\", \"MIV_Distanz_bis_Ziel_km\": 8.474, \"MIV_Zeit_bis_Ziel_min\": 20.19, \"OEV_JRTA_von_Start_min\": 125.92819560283505, \"OEV_NTR_von_Start\": 1.422151922783864, \"easting\": 7.375679, \"northing\": 46.553206, \"Kosten_CHF\": 20.902269504876028}], \"6\": [{\"Stationsnummer\": 3139, \"Name\": \"Zweisimmen Bahnhof\", \"ID\": 79401002, \"N_Gem\": \"Zweisimmen\", \"MIV_Distanz_bis_Ziel_km\": 8.474, \"MIV_Zeit_bis_Ziel_min\": 20.19, \"OEV_JRTA_von_Start_min\": 125.92819560283505, \"OEV_NTR_von_Start\": 1.422151922783864, \"easting\": 7.375679, \"northing\": 46.553206, \"Kosten_CHF\": 23.811623405851233}], \"7\": [{\"Stationsnummer\": 3139, \"Name\": \"Zweisimmen Bahnhof\", \"ID\": 79401002, \"N_Gem\": \"Zweisimmen\", \"MIV_Distanz_bis_Ziel_km\": 8.474, \"MIV_Zeit_bis_Ziel_min\": 20.19, \"OEV_JRTA_von_Start_min\": 125.92819560283505, \"OEV_NTR_von_Start\": 1.422151922783864, \"easting\": 7.375679, \"northing\": 46.553206, \"Kosten_CHF\": 26.720977306826438}], \"8\": [{\"Stationsnummer\": 3139, \"Name\": \"Zweisimmen Bahnhof\", \"ID\": 79401002, \"N_Gem\": \"Zweisimmen\", \"MIV_Distanz_bis_Ziel_km\": 8.474, \"MIV_Zeit_bis_Ziel_min\": 20.19, \"OEV_JRTA_von_Start_min\": 125.92819560283505, \"OEV_NTR_von_Start\": 1.422151922783864, \"easting\": 7.375679, \"northing\": 46.553206, \"Kosten_CHF\": 29.630331207801643}], \"9\": [{\"Stationsnummer\": 3139, \"Name\": \"Zweisimmen Bahnhof\", \"ID\": 79401002, \"N_Gem\": \"Zweisimmen\", \"MIV_Distanz_bis_Ziel_km\": 8.474, \"MIV_Zeit_bis_Ziel_min\": 20.19, \"OEV_JRTA_von_Start_min\": 125.92819560283505, \"OEV_NTR_von_Start\": 1.422151922783864, \"easting\": 7.375679, \"northing\": 46.553206, \"Kosten_CHF\": 32.53968510877685}], \"10\": [{\"Stationsnummer\": 3139, \"Name\": \"Zweisimmen Bahnhof\", \"ID\": 79401002, \"N_Gem\": \"Zweisimmen\", \"MIV_Distanz_bis_Ziel_km\": 8.474, \"MIV_Zeit_bis_Ziel_min\": 20.19, \"OEV_JRTA_von_Start_min\": 125.92819560283505, \"OEV_NTR_von_Start\": 1.422151922783864, \"easting\": 7.375679, \"northing\": 46.553206, \"Kosten_CHF\": 35.449039009752056}], \"11\": [{\"Stationsnummer\": 3139, \"Name\": \"Zweisimmen Bahnhof\", \"ID\": 79401002, \"N_Gem\": \"Zweisimmen\", \"MIV_Distanz_bis_Ziel_km\": 8.474, \"MIV_Zeit_bis_Ziel_min\": 20.19, \"OEV_JRTA_von_Start_min\": 125.92819560283505, \"OEV_NTR_von_Start\": 1.422151922783864, \"easting\": 7.375679, \"northing\": 46.553206, \"Kosten_CHF\": 38.35839291072726}], \"12\": [{\"Stationsnummer\": 3139, \"Name\": \"Zweisimmen Bahnhof\", \"ID\": 79401002, \"N_Gem\": \"Zweisimmen\", \"MIV_Distanz_bis_Ziel_km\": 8.474, \"MIV_Zeit_bis_Ziel_min\": 20.19, \"OEV_JRTA_von_Start_min\": 125.92819560283505, \"OEV_NTR_von_Start\": 1.422151922783864, \"easting\": 7.375679, \"northing\": 46.553206, \"Kosten_CHF\": 41.267746811702466}], \"13\": [{\"Stationsnummer\": 3139, \"Name\": \"Zweisimmen Bahnhof\", \"ID\": 79401002, \"N_Gem\": \"Zweisimmen\", \"MIV_Distanz_bis_Ziel_km\": 8.474, \"MIV_Zeit_bis_Ziel_min\": 20.19, \"OEV_JRTA_von_Start_min\": 125.92819560283505, \"OEV_NTR_von_Start\": 1.422151922783864, \"easting\": 7.375679, \"northing\": 46.553206, \"Kosten_CHF\": 44.17710071267767}], \"14\": [{\"Stationsnummer\": 3139, \"Name\": \"Zweisimmen Bahnhof\", \"ID\": 79401002, \"N_Gem\": \"Zweisimmen\", \"MIV_Distanz_bis_Ziel_km\": 8.474, \"MIV_Zeit_bis_Ziel_min\": 20.19, \"OEV_JRTA_von_Start_min\": 125.92819560283505, \"OEV_NTR_von_Start\": 1.422151922783864, \"easting\": 7.375679, \"northing\": 46.553206, \"Kosten_CHF\": 47.086454613652876}], \"15\": [{\"Stationsnummer\": 3139, \"Name\": \"Zweisimmen Bahnhof\", \"ID\": 79401002, \"N_Gem\": \"Zweisimmen\", \"MIV_Distanz_bis_Ziel_km\": 8.474, \"MIV_Zeit_bis_Ziel_min\": 20.19, \"OEV_JRTA_von_Start_min\": 125.92819560283505, \"OEV_NTR_von_Start\": 1.422151922783864, \"easting\": 7.375679, \"northing\": 46.553206, \"Kosten_CHF\": 49.99580851462808}], \"16\": [{\"Stationsnummer\": 3139, \"Name\": \"Zweisimmen Bahnhof\", \"ID\": 79401002, \"N_Gem\": \"Zweisimmen\", \"MIV_Distanz_bis_Ziel_km\": 8.474, \"MIV_Zeit_bis_Ziel_min\": 20.19, \"OEV_JRTA_von_Start_min\": 125.92819560283505, \"OEV_NTR_von_Start\": 1.422151922783864, \"easting\": 7.375679, \"northing\": 46.553206, \"Kosten_CHF\": 52.905162415603286}], \"17\": [{\"Stationsnummer\": 3139, \"Name\": \"Zweisimmen Bahnhof\", \"ID\": 79401002, \"N_Gem\": \"Zweisimmen\", \"MIV_Distanz_bis_Ziel_km\": 8.474, \"MIV_Zeit_bis_Ziel_min\": 20.19, \"OEV_JRTA_von_Start_min\": 125.92819560283505, \"OEV_NTR_von_Start\": 1.422151922783864, \"easting\": 7.375679, \"northing\": 46.553206, \"Kosten_CHF\": 55.81451631657849}], \"18\": [{\"Stationsnummer\": 3139, \"Name\": \"Zweisimmen Bahnhof\", \"ID\": 79401002, \"N_Gem\": \"Zweisimmen\", \"MIV_Distanz_bis_Ziel_km\": 8.474, \"MIV_Zeit_bis_Ziel_min\": 20.19, \"OEV_JRTA_von_Start_min\": 125.92819560283505, \"OEV_NTR_von_Start\": 1.422151922783864, \"easting\": 7.375679, \"northing\": 46.553206, \"Kosten_CHF\": 58.723870217553696}], \"19\": [{\"Stationsnummer\": 3139, \"Name\": \"Zweisimmen Bahnhof\", \"ID\": 79401002, \"N_Gem\": \"Zweisimmen\", \"MIV_Distanz_bis_Ziel_km\": 8.474, \"MIV_Zeit_bis_Ziel_min\": 20.19, \"OEV_JRTA_von_Start_min\": 125.92819560283505, \"OEV_NTR_von_Start\": 1.422151922783864, \"easting\": 7.375679, \"northing\": 46.553206, \"Kosten_CHF\": 61.6332241185289}], \"20\": [{\"Stationsnummer\": 3139, \"Name\": \"Zweisimmen Bahnhof\", \"ID\": 79401002, \"N_Gem\": \"Zweisimmen\", \"MIV_Distanz_bis_Ziel_km\": 8.474, \"MIV_Zeit_bis_Ziel_min\": 20.19, \"OEV_JRTA_von_Start_min\": 125.92819560283505, \"OEV_NTR_von_Start\": 1.422151922783864, \"easting\": 7.375679, \"northing\": 46.553206, \"Kosten_CHF\": 64.5425780195041}], \"21\": [{\"Stationsnummer\": 3139, \"Name\": \"Zweisimmen Bahnhof\", \"ID\": 79401002, \"N_Gem\": \"Zweisimmen\", \"MIV_Distanz_bis_Ziel_km\": 8.474, \"MIV_Zeit_bis_Ziel_min\": 20.19, \"OEV_JRTA_von_Start_min\": 125.92819560283505, \"OEV_NTR_von_Start\": 1.422151922783864, \"easting\": 7.375679, \"northing\": 46.553206, \"Kosten_CHF\": 67.45193192047931}], \"22\": [{\"Stationsnummer\": 3139, \"Name\": \"Zweisimmen Bahnhof\", \"ID\": 79401002, \"N_Gem\": \"Zweisimmen\", \"MIV_Distanz_bis_Ziel_km\": 8.474, \"MIV_Zeit_bis_Ziel_min\": 20.19, \"OEV_JRTA_von_Start_min\": 125.92819560283505, \"OEV_NTR_von_Start\": 1.422151922783864, \"easting\": 7.375679, \"northing\": 46.553206, \"Kosten_CHF\": 70.36128582145453}], \"23\": [{\"Stationsnummer\": 3139, \"Name\": \"Zweisimmen Bahnhof\", \"ID\": 79401002, \"N_Gem\": \"Zweisimmen\", \"MIV_Distanz_bis_Ziel_km\": 8.474, \"MIV_Zeit_bis_Ziel_min\": 20.19, \"OEV_JRTA_von_Start_min\": 125.92819560283505, \"OEV_NTR_von_Start\": 1.422151922783864, \"easting\": 7.375679, \"northing\": 46.553206, \"Kosten_CHF\": 73.27063972242973}], \"24\": [{\"Stationsnummer\": 3139, \"Name\": \"Zweisimmen Bahnhof\", \"ID\": 79401002, \"N_Gem\": \"Zweisimmen\", \"MIV_Distanz_bis_Ziel_km\": 8.474, \"MIV_Zeit_bis_Ziel_min\": 20.19, \"OEV_JRTA_von_Start_min\": 125.92819560283505, \"OEV_NTR_von_Start\": 1.422151922783864, \"easting\": 7.375679, \"northing\": 46.553206, \"Kosten_CHF\": 76.17999362340494}], \"25\": [{\"Stationsnummer\": 3139, \"Name\": \"Zweisimmen Bahnhof\", \"ID\": 79401002, \"N_Gem\": \"Zweisimmen\", \"MIV_Distanz_bis_Ziel_km\": 8.474, \"MIV_Zeit_bis_Ziel_min\": 20.19, \"OEV_JRTA_von_Start_min\": 125.92819560283505, \"OEV_NTR_von_Start\": 1.422151922783864, \"easting\": 7.375679, \"northing\": 46.553206, \"Kosten_CHF\": 79.08934752438014}], \"26\": [{\"Stationsnummer\": 3139, \"Name\": \"Zweisimmen Bahnhof\", \"ID\": 79401002, \"N_Gem\": \"Zweisimmen\", \"MIV_Distanz_bis_Ziel_km\": 8.474, \"MIV_Zeit_bis_Ziel_min\": 20.19, \"OEV_JRTA_von_Start_min\": 125.92819560283505, \"OEV_NTR_von_Start\": 1.422151922783864, \"easting\": 7.375679, \"northing\": 46.553206, \"Kosten_CHF\": 81.99870142535535}], \"27\": [{\"Stationsnummer\": 3139, \"Name\": \"Zweisimmen Bahnhof\", \"ID\": 79401002, \"N_Gem\": \"Zweisimmen\", \"MIV_Distanz_bis_Ziel_km\": 8.474, \"MIV_Zeit_bis_Ziel_min\": 20.19, \"OEV_JRTA_von_Start_min\": 125.92819560283505, \"OEV_NTR_von_Start\": 1.422151922783864, \"easting\": 7.375679, \"northing\": 46.553206, \"Kosten_CHF\": 84.90805532633055}], \"28\": [{\"Stationsnummer\": 3139, \"Name\": \"Zweisimmen Bahnhof\", \"ID\": 79401002, \"N_Gem\": \"Zweisimmen\", \"MIV_Distanz_bis_Ziel_km\": 8.474, \"MIV_Zeit_bis_Ziel_min\": 20.19, \"OEV_JRTA_von_Start_min\": 125.92819560283505, \"OEV_NTR_von_Start\": 1.422151922783864, \"easting\": 7.375679, \"northing\": 46.553206, \"Kosten_CHF\": 87.81740922730576}], \"29\": [{\"Stationsnummer\": 3139, \"Name\": \"Zweisimmen Bahnhof\", \"ID\": 79401002, \"N_Gem\": \"Zweisimmen\", \"MIV_Distanz_bis_Ziel_km\": 8.474, \"MIV_Zeit_bis_Ziel_min\": 20.19, \"OEV_JRTA_von_Start_min\": 125.92819560283505, \"OEV_NTR_von_Start\": 1.422151922783864, \"easting\": 7.375679, \"northing\": 46.553206, \"Kosten_CHF\": 90.72676312828096}], \"30\": [{\"Stationsnummer\": 3139, \"Name\": \"Zweisimmen Bahnhof\", \"ID\": 79401002, \"N_Gem\": \"Zweisimmen\", \"MIV_Distanz_bis_Ziel_km\": 8.474, \"MIV_Zeit_bis_Ziel_min\": 20.19, \"OEV_JRTA_von_Start_min\": 125.92819560283505, \"OEV_NTR_von_Start\": 1.422151922783864, \"easting\": 7.375679, \"northing\": 46.553206, \"Kosten_CHF\": 93.63611702925617}, {\"Stationsnummer\": 4662, \"Name\": \"Bern Kirchbergerstrasse\", \"ID\": 35101026, \"N_Gem\": \"Bern\", \"MIV_Distanz_bis_Ziel_km\": 75.5127, \"MIV_Zeit_bis_Ziel_min\": 83.21666666666667, \"OEV_JRTA_von_Start_min\": 0.0, \"OEV_NTR_von_Start\": 0.0, \"easting\": 7.42118, \"northing\": 46.9388, \"Kosten_CHF\": 98.24285833333333}], \"31\": [{\"Stationsnummer\": 3139, \"Name\": \"Zweisimmen Bahnhof\", \"ID\": 79401002, \"N_Gem\": \"Zweisimmen\", \"MIV_Distanz_bis_Ziel_km\": 8.474, \"MIV_Zeit_bis_Ziel_min\": 20.19, \"OEV_JRTA_von_Start_min\": 125.92819560283505, \"OEV_NTR_von_Start\": 1.422151922783864, \"easting\": 7.375679, \"northing\": 46.553206, \"Kosten_CHF\": 96.54547093023137}, {\"Stationsnummer\": 4662, \"Name\": \"Bern Kirchbergerstrasse\", \"ID\": 35101026, \"N_Gem\": \"Bern\", \"MIV_Distanz_bis_Ziel_km\": 75.5127, \"MIV_Zeit_bis_Ziel_min\": 83.21666666666667, \"OEV_JRTA_von_Start_min\": 0.0, \"OEV_NTR_von_Start\": 0.0, \"easting\": 7.42118, \"northing\": 46.9388, \"Kosten_CHF\": 99.62980277777777}, {\"Stationsnummer\": 4133, \"Name\": \"Spiez Kirche\", \"ID\": 76801005, \"N_Gem\": \"Spiez\", \"MIV_Distanz_bis_Ziel_km\": 40.6188, \"MIV_Zeit_bis_Ziel_min\": 56.76833333333333, \"OEV_JRTA_von_Start_min\": 59.26542879470806, \"OEV_NTR_von_Start\": 1.0, \"easting\": 7.67656803, \"northing\": 46.69053705, \"Kosten_CHF\": 100.7482104328214}], \"32\": [{\"Stationsnummer\": 3139, \"Name\": \"Zweisimmen Bahnhof\", \"ID\": 79401002, \"N_Gem\": \"Zweisimmen\", \"MIV_Distanz_bis_Ziel_km\": 8.474, \"MIV_Zeit_bis_Ziel_min\": 20.19, \"OEV_JRTA_von_Start_min\": 125.92819560283505, \"OEV_NTR_von_Start\": 1.422151922783864, \"easting\": 7.375679, \"northing\": 46.553206, \"Kosten_CHF\": 99.45482483120658}, {\"Stationsnummer\": 4662, \"Name\": \"Bern Kirchbergerstrasse\", \"ID\": 35101026, \"N_Gem\": \"Bern\", \"MIV_Distanz_bis_Ziel_km\": 75.5127, \"MIV_Zeit_bis_Ziel_min\": 83.21666666666667, \"OEV_JRTA_von_Start_min\": 0.0, \"OEV_NTR_von_Start\": 0.0, \"easting\": 7.42118, \"northing\": 46.9388, \"Kosten_CHF\": 101.01674722222222}, {\"Stationsnummer\": 4133, \"Name\": \"Spiez Kirche\", \"ID\": 76801005, \"N_Gem\": \"Spiez\", \"MIV_Distanz_bis_Ziel_km\": 40.6188, \"MIV_Zeit_bis_Ziel_min\": 56.76833333333333, \"OEV_JRTA_von_Start_min\": 59.26542879470806, \"OEV_NTR_von_Start\": 1.0, \"easting\": 7.67656803, \"northing\": 46.69053705, \"Kosten_CHF\": 103.01543980162208}, {\"Stationsnummer\": 4481, \"Name\": \"Thun Hohmad\", \"ID\": 94201017, \"N_Gem\": \"Thun\", \"MIV_Distanz_bis_Ziel_km\": 46.9002, \"MIV_Zeit_bis_Ziel_min\": 61.50666666666667, \"OEV_JRTA_von_Start_min\": 46.98007910129366, \"OEV_NTR_von_Start\": 1.0000862113986713, \"easting\": 7.6258, \"northing\": 46.7495, \"Kosten_CHF\": 103.70233399783135}, {\"Stationsnummer\": 5920, \"Name\": \"Thun Fliederweg\", \"ID\": 94201018, \"N_Gem\": \"Thun\", \"MIV_Distanz_bis_Ziel_km\": 47.312400000000004, \"MIV_Zeit_bis_Ziel_min\": 61.97666666666667, \"OEV_JRTA_von_Start_min\": 46.96341112267605, \"OEV_NTR_von_Start\": 1.0000862198512204, \"easting\": 7.622895, \"northing\": 46.75368, \"Kosten_CHF\": 104.25326116606249}, {\"Stationsnummer\": 1138, \"Name\": \"Thun Bahnhof\", \"ID\": 94201016, \"N_Gem\": \"Thun\", \"MIV_Distanz_bis_Ziel_km\": 47.819199999999995, \"MIV_Zeit_bis_Ziel_min\": 62.62833333333333, \"OEV_JRTA_von_Start_min\": 45.91332633448353, \"OEV_NTR_von_Start\": 1.0000867659213921, \"easting\": 7.62823, \"northing\": 46.75613, \"Kosten_CHF\": 104.42087732599717}, {\"Stationsnummer\": 5861, \"Name\": \"Thun Bahnhof / Parkhaus City S\\\\u00fcd\", \"ID\": 94201018, \"N_Gem\": \"Thun\", \"MIV_Distanz_bis_Ziel_km\": 47.5028, \"MIV_Zeit_bis_Ziel_min\": 62.08166666666667, \"OEV_JRTA_von_Start_min\": 46.96341112267605, \"OEV_NTR_von_Start\": 1.0000862198512204, \"easting\": 7.628311, \"northing\": 46.754666, \"Kosten_CHF\": 104.45206116606246}, {\"Stationsnummer\": 4855, \"Name\": \"Thun Schlossmattstrasse\", \"ID\": 94201018, \"N_Gem\": \"Thun\", \"MIV_Distanz_bis_Ziel_km\": 47.606199999999994, \"MIV_Zeit_bis_Ziel_min\": 62.32833333333333, \"OEV_JRTA_von_Start_min\": 46.96341112267605, \"OEV_NTR_von_Start\": 1.0000862198512204, \"easting\": 7.625881, \"northing\": 46.755683, \"Kosten_CHF\": 104.66116672161803}, {\"Stationsnummer\": 4183, \"Name\": \"Thun Selveareal\", \"ID\": 94201016, \"N_Gem\": \"Thun\", \"MIV_Distanz_bis_Ziel_km\": 48.560900000000004, \"MIV_Zeit_bis_Ziel_min\": 64.01833333333333, \"OEV_JRTA_von_Start_min\": 45.91332633448353, \"OEV_NTR_von_Start\": 1.0000867659213921, \"easting\": 7.62172, \"northing\": 46.76, \"Kosten_CHF\": 105.71848565933051}], \"33\": [{\"Stationsnummer\": 3139, \"Name\": \"Zweisimmen Bahnhof\", \"ID\": 79401002, \"N_Gem\": \"Zweisimmen\", \"MIV_Distanz_bis_Ziel_km\": 8.474, \"MIV_Zeit_bis_Ziel_min\": 20.19, \"OEV_JRTA_von_Start_min\": 125.92819560283505, \"OEV_NTR_von_Start\": 1.422151922783864, \"easting\": 7.375679, \"northing\": 46.553206, \"Kosten_CHF\": 102.36417873218178}, {\"Stationsnummer\": 4662, \"Name\": \"Bern Kirchbergerstrasse\", \"ID\": 35101026, \"N_Gem\": \"Bern\", \"MIV_Distanz_bis_Ziel_km\": 75.5127, \"MIV_Zeit_bis_Ziel_min\": 83.21666666666667, \"OEV_JRTA_von_Start_min\": 0.0, \"OEV_NTR_von_Start\": 0.0, \"easting\": 7.42118, \"northing\": 46.9388, \"Kosten_CHF\": 102.40369166666667}, {\"Stationsnummer\": 4133, \"Name\": \"Spiez Kirche\", \"ID\": 76801005, \"N_Gem\": \"Spiez\", \"MIV_Distanz_bis_Ziel_km\": 40.6188, \"MIV_Zeit_bis_Ziel_min\": 56.76833333333333, \"OEV_JRTA_von_Start_min\": 59.26542879470806, \"OEV_NTR_von_Start\": 1.0, \"easting\": 7.67656803, \"northing\": 46.69053705, \"Kosten_CHF\": 105.28266917042276}, {\"Stationsnummer\": 4481, \"Name\": \"Thun Hohmad\", \"ID\": 94201017, \"N_Gem\": \"Thun\", \"MIV_Distanz_bis_Ziel_km\": 46.9002, \"MIV_Zeit_bis_Ziel_min\": 61.50666666666667, \"OEV_JRTA_von_Start_min\": 46.98007910129366, \"OEV_NTR_von_Start\": 1.0000862113986713, \"easting\": 7.6258, \"northing\": 46.7495, \"Kosten_CHF\": 105.84380849776358}, {\"Stationsnummer\": 4921, \"Name\": \"Bern Lentulusrain\", \"ID\": 35101031, \"N_Gem\": \"Bern\", \"MIV_Distanz_bis_Ziel_km\": 74.7673, \"MIV_Zeit_bis_Ziel_min\": 81.71333333333334, \"OEV_JRTA_von_Start_min\": 9.668588142302761, \"OEV_NTR_von_Start\": 0.002108885125016281, \"easting\": 7.428637, \"northing\": 46.940721, \"Kosten_CHF\": 106.35872954797503}, {\"Stationsnummer\": 4921, \"Name\": \"Bern Lentulusrain\", \"ID\": 35101031, \"N_Gem\": \"Bern\", \"MIV_Distanz_bis_Ziel_km\": 74.7673, \"MIV_Zeit_bis_Ziel_min\": 81.71333333333334, \"OEV_JRTA_von_Start_min\": 9.668588142302761, \"OEV_NTR_von_Start\": 0.002108885125016281, \"easting\": 7.428637, \"northing\": 46.940721, \"Kosten_CHF\": 106.35872954797503}, {\"Stationsnummer\": 5920, \"Name\": \"Thun Fliederweg\", \"ID\": 94201018, \"N_Gem\": \"Thun\", \"MIV_Distanz_bis_Ziel_km\": 47.312400000000004, \"MIV_Zeit_bis_Ziel_min\": 61.97666666666667, \"OEV_JRTA_von_Start_min\": 46.96341112267605, \"OEV_NTR_von_Start\": 1.0000862198512204, \"easting\": 7.622895, \"northing\": 46.75368, \"Kosten_CHF\": 106.40229120250194}, {\"Stationsnummer\": 5920, \"Name\": \"Thun Fliederweg\", \"ID\": 94201018, \"N_Gem\": \"Thun\", \"MIV_Distanz_bis_Ziel_km\": 47.312400000000004, \"MIV_Zeit_bis_Ziel_min\": 61.97666666666667, \"OEV_JRTA_von_Start_min\": 46.96341112267605, \"OEV_NTR_von_Start\": 1.0000862198512204, \"easting\": 7.622895, \"northing\": 46.75368, \"Kosten_CHF\": 106.40229120250194}, {\"Stationsnummer\": 5920, \"Name\": \"Thun Fliederweg\", \"ID\": 94201018, \"N_Gem\": \"Thun\", \"MIV_Distanz_bis_Ziel_km\": 47.312400000000004, \"MIV_Zeit_bis_Ziel_min\": 61.97666666666667, \"OEV_JRTA_von_Start_min\": 46.96341112267605, \"OEV_NTR_von_Start\": 1.0000862198512204, \"easting\": 7.622895, \"northing\": 46.75368, \"Kosten_CHF\": 106.40229120250194}, {\"Stationsnummer\": 1138, \"Name\": \"Thun Bahnhof\", \"ID\": 94201016, \"N_Gem\": \"Thun\", \"MIV_Distanz_bis_Ziel_km\": 47.819199999999995, \"MIV_Zeit_bis_Ziel_min\": 62.62833333333333, \"OEV_JRTA_von_Start_min\": 45.91332633448353, \"OEV_NTR_von_Start\": 1.0000867659213921, \"easting\": 7.62823, \"northing\": 46.75613, \"Kosten_CHF\": 106.56326724243456}, {\"Stationsnummer\": 5861, \"Name\": \"Thun Bahnhof / Parkhaus City S\\\\u00fcd\", \"ID\": 94201018, \"N_Gem\": \"Thun\", \"MIV_Distanz_bis_Ziel_km\": 47.5028, \"MIV_Zeit_bis_Ziel_min\": 62.08166666666667, \"OEV_JRTA_von_Start_min\": 46.96341112267605, \"OEV_NTR_von_Start\": 1.0000862198512204, \"easting\": 7.628311, \"northing\": 46.754666, \"Kosten_CHF\": 106.60284120250192}, {\"Stationsnummer\": 5861, \"Name\": \"Thun Bahnhof / Parkhaus City S\\\\u00fcd\", \"ID\": 94201018, \"N_Gem\": \"Thun\", \"MIV_Distanz_bis_Ziel_km\": 47.5028, \"MIV_Zeit_bis_Ziel_min\": 62.08166666666667, \"OEV_JRTA_von_Start_min\": 46.96341112267605, \"OEV_NTR_von_Start\": 1.0000862198512204, \"easting\": 7.628311, \"northing\": 46.754666, \"Kosten_CHF\": 106.60284120250192}, {\"Stationsnummer\": 5861, \"Name\": \"Thun Bahnhof / Parkhaus City S\\\\u00fcd\", \"ID\": 94201018, \"N_Gem\": \"Thun\", \"MIV_Distanz_bis_Ziel_km\": 47.5028, \"MIV_Zeit_bis_Ziel_min\": 62.08166666666667, \"OEV_JRTA_von_Start_min\": 46.96341112267605, \"OEV_NTR_von_Start\": 1.0000862198512204, \"easting\": 7.628311, \"northing\": 46.754666, \"Kosten_CHF\": 106.60284120250192}, {\"Stationsnummer\": 4855, \"Name\": \"Thun Schlossmattstrasse\", \"ID\": 94201018, \"N_Gem\": \"Thun\", \"MIV_Distanz_bis_Ziel_km\": 47.606199999999994, \"MIV_Zeit_bis_Ziel_min\": 62.32833333333333, \"OEV_JRTA_von_Start_min\": 46.96341112267605, \"OEV_NTR_von_Start\": 1.0000862198512204, \"easting\": 7.625881, \"northing\": 46.755683, \"Kosten_CHF\": 106.81605786916859}, {\"Stationsnummer\": 4855, \"Name\": \"Thun Schlossmattstrasse\", \"ID\": 94201018, \"N_Gem\": \"Thun\", \"MIV_Distanz_bis_Ziel_km\": 47.606199999999994, \"MIV_Zeit_bis_Ziel_min\": 62.32833333333333, \"OEV_JRTA_von_Start_min\": 46.96341112267605, \"OEV_NTR_von_Start\": 1.0000862198512204, \"easting\": 7.625881, \"northing\": 46.755683, \"Kosten_CHF\": 106.81605786916859}, {\"Stationsnummer\": 4855, \"Name\": \"Thun Schlossmattstrasse\", \"ID\": 94201018, \"N_Gem\": \"Thun\", \"MIV_Distanz_bis_Ziel_km\": 47.606199999999994, \"MIV_Zeit_bis_Ziel_min\": 62.32833333333333, \"OEV_JRTA_von_Start_min\": 46.96341112267605, \"OEV_NTR_von_Start\": 1.0000862198512204, \"easting\": 7.625881, \"northing\": 46.755683, \"Kosten_CHF\": 106.81605786916859}, {\"Stationsnummer\": 4652, \"Name\": \"Bern Kapellenstrasse\", \"ID\": 35101048, \"N_Gem\": \"Bern\", \"MIV_Distanz_bis_Ziel_km\": 74.6257, \"MIV_Zeit_bis_Ziel_min\": 81.21000000000001, \"OEV_JRTA_von_Start_min\": 11.462131434498724, \"OEV_NTR_von_Start\": 0.002104084758829338, \"easting\": 7.43641, \"northing\": 46.9444, \"Kosten_CHF\": 106.96209222132143}, {\"Stationsnummer\": 4812, \"Name\": \"Wabern Tram-Endstation\", \"ID\": 35501033, \"N_Gem\": \"K\\\\u00f6niz\", \"MIV_Distanz_bis_Ziel_km\": 71.52069999999999, \"MIV_Zeit_bis_Ziel_min\": 81.06166666666667, \"OEV_JRTA_von_Start_min\": 15.725516425436158, \"OEV_NTR_von_Start\": 0.009219283358145283, \"easting\": 7.452303, \"northing\": 46.928154, \"Kosten_CHF\": 106.97488781759614}, {\"Stationsnummer\": 4274, \"Name\": \"Bern Lentulusstrasse\", \"ID\": 35101028, \"N_Gem\": \"Bern\", \"MIV_Distanz_bis_Ziel_km\": 74.9071, \"MIV_Zeit_bis_Ziel_min\": 81.76166666666667, \"OEV_JRTA_von_Start_min\": 10.950000000000006, \"OEV_NTR_von_Start\": 0.0, \"easting\": 7.427766, \"northing\": 46.940042, \"Kosten_CHF\": 107.17174166666666}, {\"Stationsnummer\": 2432, \"Name\": \"Kehrsatz Bahnhof\", \"ID\": 87001003, \"N_Gem\": \"Kehrsatz\", \"MIV_Distanz_bis_Ziel_km\": 68.7799, \"MIV_Zeit_bis_Ziel_min\": 78.15666666666667, \"OEV_JRTA_von_Start_min\": 23.283333333333335, \"OEV_NTR_von_Start\": 0.0, \"easting\": 7.47278, \"northing\": 46.90889, \"Kosten_CHF\": 107.376925}, {\"Stationsnummer\": 2712, \"Name\": \"Belp Lindenrain / Steinbach\", \"ID\": 86101001, \"N_Gem\": \"Belp\", \"MIV_Distanz_bis_Ziel_km\": 66.5273, \"MIV_Zeit_bis_Ziel_min\": 75.16166666666666, \"OEV_JRTA_von_Start_min\": 29.379670424540073, \"OEV_NTR_von_Start\": 0.0, \"easting\": 7.49383, \"northing\": 46.89395, \"Kosten_CHF\": 107.3932104001637}, {\"Stationsnummer\": 4593, \"Name\": \"Bern Tscharnerstrasse\", \"ID\": 35101031, \"N_Gem\": \"Bern\", \"MIV_Distanz_bis_Ziel_km\": 75.46039999999999, \"MIV_Zeit_bis_Ziel_min\": 82.66666666666667, \"OEV_JRTA_von_Start_min\": 9.668588142302761, \"OEV_NTR_von_Start\": 0.002108885125016281, \"easting\": 7.427919, \"northing\": 46.942269, \"Kosten_CHF\": 107.40288788130836}, {\"Stationsnummer\": 4593, \"Name\": \"Bern Tscharnerstrasse\", \"ID\": 35101031, \"N_Gem\": \"Bern\", \"MIV_Distanz_bis_Ziel_km\": 75.46039999999999, \"MIV_Zeit_bis_Ziel_min\": 82.66666666666667, \"OEV_JRTA_von_Start_min\": 9.668588142302761, \"OEV_NTR_von_Start\": 0.002108885125016281, \"easting\": 7.427919, \"northing\": 46.942269, \"Kosten_CHF\": 107.40288788130836}, {\"Stationsnummer\": 1131, \"Name\": \"Spiez Bahnhof\", \"ID\": 76801007, \"N_Gem\": \"Spiez\", \"MIV_Distanz_bis_Ziel_km\": 41.0384, \"MIV_Zeit_bis_Ziel_min\": 57.36666666666667, \"OEV_JRTA_von_Start_min\": 62.049425927382245, \"OEV_NTR_von_Start\": 1.0, \"easting\": 7.68016, \"northing\": 46.6865, \"Kosten_CHF\": 107.4576509267269}, {\"Stationsnummer\": 4183, \"Name\": \"Thun Selveareal\", \"ID\": 94201016, \"N_Gem\": \"Thun\", \"MIV_Distanz_bis_Ziel_km\": 48.560900000000004, \"MIV_Zeit_bis_Ziel_min\": 64.01833333333333, \"OEV_JRTA_von_Start_min\": 45.91332633448353, \"OEV_NTR_von_Start\": 1.0000867659213921, \"easting\": 7.62172, \"northing\": 46.76, \"Kosten_CHF\": 107.88404224243459}, {\"Stationsnummer\": 4454, \"Name\": \"Bern Fischerm\\\\u00e4tteli / Weissensteinstrasse\", \"ID\": 35101028, \"N_Gem\": \"Bern\", \"MIV_Distanz_bis_Ziel_km\": 75.56280000000001, \"MIV_Zeit_bis_Ziel_min\": 82.94, \"OEV_JRTA_von_Start_min\": 10.950000000000006, \"OEV_NTR_von_Start\": 0.0, \"easting\": 7.41906, \"northing\": 46.9407, \"Kosten_CHF\": 108.3116}, {\"Stationsnummer\": 4406, \"Name\": \"Wabern Parkhaus Gurtenbahn\", \"ID\": 35501033, \"N_Gem\": \"K\\\\u00f6niz\", \"MIV_Distanz_bis_Ziel_km\": 72.2538, \"MIV_Zeit_bis_Ziel_min\": 82.97833333333332, \"OEV_JRTA_von_Start_min\": 15.725516425436158, \"OEV_NTR_von_Start\": 0.009219283358145283, \"easting\": 7.44714, \"northing\": 46.9281, \"Kosten_CHF\": 108.57887948426281}], \"34\": [{\"Stationsnummer\": 4662, \"Name\": \"Bern Kirchbergerstrasse\", \"ID\": 35101026, \"N_Gem\": \"Bern\", \"MIV_Distanz_bis_Ziel_km\": 75.5127, \"MIV_Zeit_bis_Ziel_min\": 83.21666666666667, \"OEV_JRTA_von_Start_min\": 0.0, \"OEV_NTR_von_Start\": 0.0, \"easting\": 7.42118, \"northing\": 46.9388, \"Kosten_CHF\": 103.79063611111111}, {\"Stationsnummer\": 3139, \"Name\": \"Zweisimmen Bahnhof\", \"ID\": 79401002, \"N_Gem\": \"Zweisimmen\", \"MIV_Distanz_bis_Ziel_km\": 8.474, \"MIV_Zeit_bis_Ziel_min\": 20.19, \"OEV_JRTA_von_Start_min\": 125.92819560283505, \"OEV_NTR_von_Start\": 1.422151922783864, \"easting\": 7.375679, \"northing\": 46.553206, \"Kosten_CHF\": 105.27353263315699}, {\"Stationsnummer\": 4133, \"Name\": \"Spiez Kirche\", \"ID\": 76801005, \"N_Gem\": \"Spiez\", \"MIV_Distanz_bis_Ziel_km\": 40.6188, \"MIV_Zeit_bis_Ziel_min\": 56.76833333333333, \"OEV_JRTA_von_Start_min\": 59.26542879470806, \"OEV_NTR_von_Start\": 1.0, \"easting\": 7.67656803, \"northing\": 46.69053705, \"Kosten_CHF\": 107.54989853922346}, {\"Stationsnummer\": 4921, \"Name\": \"Bern Lentulusrain\", \"ID\": 35101031, \"N_Gem\": \"Bern\", \"MIV_Distanz_bis_Ziel_km\": 74.7673, \"MIV_Zeit_bis_Ziel_min\": 81.71333333333334, \"OEV_JRTA_von_Start_min\": 9.668588142302761, \"OEV_NTR_von_Start\": 0.002108885125016281, \"easting\": 7.428637, \"northing\": 46.940721, \"Kosten_CHF\": 107.88246453427732}, {\"Stationsnummer\": 4921, \"Name\": \"Bern Lentulusrain\", \"ID\": 35101031, \"N_Gem\": \"Bern\", \"MIV_Distanz_bis_Ziel_km\": 74.7673, \"MIV_Zeit_bis_Ziel_min\": 81.71333333333334, \"OEV_JRTA_von_Start_min\": 9.668588142302761, \"OEV_NTR_von_Start\": 0.002108885125016281, \"easting\": 7.428637, \"northing\": 46.940721, \"Kosten_CHF\": 107.88246453427732}, {\"Stationsnummer\": 4481, \"Name\": \"Thun Hohmad\", \"ID\": 94201017, \"N_Gem\": \"Thun\", \"MIV_Distanz_bis_Ziel_km\": 46.9002, \"MIV_Zeit_bis_Ziel_min\": 61.50666666666667, \"OEV_JRTA_von_Start_min\": 46.98007910129366, \"OEV_NTR_von_Start\": 1.0000862113986713, \"easting\": 7.6258, \"northing\": 46.7495, \"Kosten_CHF\": 107.9852829976958}, {\"Stationsnummer\": 4652, \"Name\": \"Bern Kapellenstrasse\", \"ID\": 35101048, \"N_Gem\": \"Bern\", \"MIV_Distanz_bis_Ziel_km\": 74.6257, \"MIV_Zeit_bis_Ziel_min\": 81.21000000000001, \"OEV_JRTA_von_Start_min\": 11.462131434498724, \"OEV_NTR_von_Start\": 0.002104084758829338, \"easting\": 7.43641, \"northing\": 46.9444, \"Kosten_CHF\": 108.50732910681602}, {\"Stationsnummer\": 5920, \"Name\": \"Thun Fliederweg\", \"ID\": 94201018, \"N_Gem\": \"Thun\", \"MIV_Distanz_bis_Ziel_km\": 47.312400000000004, \"MIV_Zeit_bis_Ziel_min\": 61.97666666666667, \"OEV_JRTA_von_Start_min\": 46.96341112267605, \"OEV_NTR_von_Start\": 1.0000862198512204, \"easting\": 7.622895, \"northing\": 46.75368, \"Kosten_CHF\": 108.5513212389414}, {\"Stationsnummer\": 5920, \"Name\": \"Thun Fliederweg\", \"ID\": 94201018, \"N_Gem\": \"Thun\", \"MIV_Distanz_bis_Ziel_km\": 47.312400000000004, \"MIV_Zeit_bis_Ziel_min\": 61.97666666666667, \"OEV_JRTA_von_Start_min\": 46.96341112267605, \"OEV_NTR_von_Start\": 1.0000862198512204, \"easting\": 7.622895, \"northing\": 46.75368, \"Kosten_CHF\": 108.5513212389414}, {\"Stationsnummer\": 5920, \"Name\": \"Thun Fliederweg\", \"ID\": 94201018, \"N_Gem\": \"Thun\", \"MIV_Distanz_bis_Ziel_km\": 47.312400000000004, \"MIV_Zeit_bis_Ziel_min\": 61.97666666666667, \"OEV_JRTA_von_Start_min\": 46.96341112267605, \"OEV_NTR_von_Start\": 1.0000862198512204, \"easting\": 7.622895, \"northing\": 46.75368, \"Kosten_CHF\": 108.5513212389414}, {\"Stationsnummer\": 4812, \"Name\": \"Wabern Tram-Endstation\", \"ID\": 35501033, \"N_Gem\": \"K\\\\u00f6niz\", \"MIV_Distanz_bis_Ziel_km\": 71.52069999999999, \"MIV_Zeit_bis_Ziel_min\": 81.06166666666667, \"OEV_JRTA_von_Start_min\": 15.725516425436158, \"OEV_NTR_von_Start\": 0.009219283358145283, \"easting\": 7.452303, \"northing\": 46.928154, \"Kosten_CHF\": 108.59108063025057}, {\"Stationsnummer\": 1138, \"Name\": \"Thun Bahnhof\", \"ID\": 94201016, \"N_Gem\": \"Thun\", \"MIV_Distanz_bis_Ziel_km\": 47.819199999999995, \"MIV_Zeit_bis_Ziel_min\": 62.62833333333333, \"OEV_JRTA_von_Start_min\": 45.91332633448353, \"OEV_NTR_von_Start\": 1.0000867659213921, \"easting\": 7.62823, \"northing\": 46.75613, \"Kosten_CHF\": 108.70565715887199}, {\"Stationsnummer\": 4274, \"Name\": \"Bern Lentulusstrasse\", \"ID\": 35101028, \"N_Gem\": \"Bern\", \"MIV_Distanz_bis_Ziel_km\": 74.9071, \"MIV_Zeit_bis_Ziel_min\": 81.76166666666667, \"OEV_JRTA_von_Start_min\": 10.950000000000006, \"OEV_NTR_von_Start\": 0.0, \"easting\": 7.427766, \"northing\": 46.940042, \"Kosten_CHF\": 108.71693611111111}, {\"Stationsnummer\": 5861, \"Name\": \"Thun Bahnhof / Parkhaus City S\\\\u00fcd\", \"ID\": 94201018, \"N_Gem\": \"Thun\", \"MIV_Distanz_bis_Ziel_km\": 47.5028, \"MIV_Zeit_bis_Ziel_min\": 62.08166666666667, \"OEV_JRTA_von_Start_min\": 46.96341112267605, \"OEV_NTR_von_Start\": 1.0000862198512204, \"easting\": 7.628311, \"northing\": 46.754666, \"Kosten_CHF\": 108.75362123894136}, {\"Stationsnummer\": 5861, \"Name\": \"Thun Bahnhof / Parkhaus City S\\\\u00fcd\", \"ID\": 94201018, \"N_Gem\": \"Thun\", \"MIV_Distanz_bis_Ziel_km\": 47.5028, \"MIV_Zeit_bis_Ziel_min\": 62.08166666666667, \"OEV_JRTA_von_Start_min\": 46.96341112267605, \"OEV_NTR_von_Start\": 1.0000862198512204, \"easting\": 7.628311, \"northing\": 46.754666, \"Kosten_CHF\": 108.75362123894136}, {\"Stationsnummer\": 5861, \"Name\": \"Thun Bahnhof / Parkhaus City S\\\\u00fcd\", \"ID\": 94201018, \"N_Gem\": \"Thun\", \"MIV_Distanz_bis_Ziel_km\": 47.5028, \"MIV_Zeit_bis_Ziel_min\": 62.08166666666667, \"OEV_JRTA_von_Start_min\": 46.96341112267605, \"OEV_NTR_von_Start\": 1.0000862198512204, \"easting\": 7.628311, \"northing\": 46.754666, \"Kosten_CHF\": 108.75362123894136}, {\"Stationsnummer\": 4593, \"Name\": \"Bern Tscharnerstrasse\", \"ID\": 35101031, \"N_Gem\": \"Bern\", \"MIV_Distanz_bis_Ziel_km\": 75.46039999999999, \"MIV_Zeit_bis_Ziel_min\": 82.66666666666667, \"OEV_JRTA_von_Start_min\": 9.668588142302761, \"OEV_NTR_von_Start\": 0.002108885125016281, \"easting\": 7.427919, \"northing\": 46.942269, \"Kosten_CHF\": 108.94251175649953}, {\"Stationsnummer\": 4593, \"Name\": \"Bern Tscharnerstrasse\", \"ID\": 35101031, \"N_Gem\": \"Bern\", \"MIV_Distanz_bis_Ziel_km\": 75.46039999999999, \"MIV_Zeit_bis_Ziel_min\": 82.66666666666667, \"OEV_JRTA_von_Start_min\": 9.668588142302761, \"OEV_NTR_von_Start\": 0.002108885125016281, \"easting\": 7.427919, \"northing\": 46.942269, \"Kosten_CHF\": 108.94251175649953}, {\"Stationsnummer\": 4855, \"Name\": \"Thun Schlossmattstrasse\", \"ID\": 94201018, \"N_Gem\": \"Thun\", \"MIV_Distanz_bis_Ziel_km\": 47.606199999999994, \"MIV_Zeit_bis_Ziel_min\": 62.32833333333333, \"OEV_JRTA_von_Start_min\": 46.96341112267605, \"OEV_NTR_von_Start\": 1.0000862198512204, \"easting\": 7.625881, \"northing\": 46.755683, \"Kosten_CHF\": 108.97094901671915}, {\"Stationsnummer\": 4855, \"Name\": \"Thun Schlossmattstrasse\", \"ID\": 94201018, \"N_Gem\": \"Thun\", \"MIV_Distanz_bis_Ziel_km\": 47.606199999999994, \"MIV_Zeit_bis_Ziel_min\": 62.32833333333333, \"OEV_JRTA_von_Start_min\": 46.96341112267605, \"OEV_NTR_von_Start\": 1.0000862198512204, \"easting\": 7.625881, \"northing\": 46.755683, \"Kosten_CHF\": 108.97094901671915}, {\"Stationsnummer\": 4855, \"Name\": \"Thun Schlossmattstrasse\", \"ID\": 94201018, \"N_Gem\": \"Thun\", \"MIV_Distanz_bis_Ziel_km\": 47.606199999999994, \"MIV_Zeit_bis_Ziel_min\": 62.32833333333333, \"OEV_JRTA_von_Start_min\": 46.96341112267605, \"OEV_NTR_von_Start\": 1.0000862198512204, \"easting\": 7.625881, \"northing\": 46.755683, \"Kosten_CHF\": 108.97094901671915}, {\"Stationsnummer\": 4454, \"Name\": \"Bern Fischerm\\\\u00e4tteli / Weissensteinstrasse\", \"ID\": 35101028, \"N_Gem\": \"Bern\", \"MIV_Distanz_bis_Ziel_km\": 75.56280000000001, \"MIV_Zeit_bis_Ziel_min\": 82.94, \"OEV_JRTA_von_Start_min\": 10.950000000000006, \"OEV_NTR_von_Start\": 0.0, \"easting\": 7.41906, \"northing\": 46.9407, \"Kosten_CHF\": 109.87643333333334}, {\"Stationsnummer\": 4183, \"Name\": \"Thun Selveareal\", \"ID\": 94201016, \"N_Gem\": \"Thun\", \"MIV_Distanz_bis_Ziel_km\": 48.560900000000004, \"MIV_Zeit_bis_Ziel_min\": 64.01833333333333, \"OEV_JRTA_von_Start_min\": 45.91332633448353, \"OEV_NTR_von_Start\": 1.0000867659213921, \"easting\": 7.62172, \"northing\": 46.76, \"Kosten_CHF\": 110.04959882553867}, {\"Stationsnummer\": 4406, \"Name\": \"Wabern Parkhaus Gurtenbahn\", \"ID\": 35501033, \"N_Gem\": \"K\\\\u00f6niz\", \"MIV_Distanz_bis_Ziel_km\": 72.2538, \"MIV_Zeit_bis_Ziel_min\": 82.97833333333332, \"OEV_JRTA_von_Start_min\": 15.725516425436158, \"OEV_NTR_von_Start\": 0.009219283358145283, \"easting\": 7.44714, \"northing\": 46.9281, \"Kosten_CHF\": 110.22701674136168}], \"35\": [{\"Stationsnummer\": 4662, \"Name\": \"Bern Kirchbergerstrasse\", \"ID\": 35101026, \"N_Gem\": \"Bern\", \"MIV_Distanz_bis_Ziel_km\": 75.5127, \"MIV_Zeit_bis_Ziel_min\": 83.21666666666667, \"OEV_JRTA_von_Start_min\": 0.0, \"OEV_NTR_von_Start\": 0.0, \"easting\": 7.42118, \"northing\": 46.9388, \"Kosten_CHF\": 105.17758055555555}, {\"Stationsnummer\": 3139, \"Name\": \"Zweisimmen Bahnhof\", \"ID\": 79401002, \"N_Gem\": \"Zweisimmen\", \"MIV_Distanz_bis_Ziel_km\": 8.474, \"MIV_Zeit_bis_Ziel_min\": 20.19, \"OEV_JRTA_von_Start_min\": 125.92819560283505, \"OEV_NTR_von_Start\": 1.422151922783864, \"easting\": 7.375679, \"northing\": 46.553206, \"Kosten_CHF\": 108.1828865341322}, {\"Stationsnummer\": 4921, \"Name\": \"Bern Lentulusrain\", \"ID\": 35101031, \"N_Gem\": \"Bern\", \"MIV_Distanz_bis_Ziel_km\": 74.7673, \"MIV_Zeit_bis_Ziel_min\": 81.71333333333334, \"OEV_JRTA_von_Start_min\": 9.668588142302761, \"OEV_NTR_von_Start\": 0.002108885125016281, \"easting\": 7.428637, \"northing\": 46.940721, \"Kosten_CHF\": 109.40619952057958}, {\"Stationsnummer\": 4133, \"Name\": \"Spiez Kirche\", \"ID\": 76801005, \"N_Gem\": \"Spiez\", \"MIV_Distanz_bis_Ziel_km\": 40.6188, \"MIV_Zeit_bis_Ziel_min\": 56.76833333333333, \"OEV_JRTA_von_Start_min\": 59.26542879470806, \"OEV_NTR_von_Start\": 1.0, \"easting\": 7.67656803, \"northing\": 46.69053705, \"Kosten_CHF\": 109.81712790802415}, {\"Stationsnummer\": 4652, \"Name\": \"Bern Kapellenstrasse\", \"ID\": 35101048, \"N_Gem\": \"Bern\", \"MIV_Distanz_bis_Ziel_km\": 74.6257, \"MIV_Zeit_bis_Ziel_min\": 81.21000000000001, \"OEV_JRTA_von_Start_min\": 11.462131434498724, \"OEV_NTR_von_Start\": 0.002104084758829338, \"easting\": 7.43641, \"northing\": 46.9444, \"Kosten_CHF\": 110.0525659923106}, {\"Stationsnummer\": 4481, \"Name\": \"Thun Hohmad\", \"ID\": 94201017, \"N_Gem\": \"Thun\", \"MIV_Distanz_bis_Ziel_km\": 46.9002, \"MIV_Zeit_bis_Ziel_min\": 61.50666666666667, \"OEV_JRTA_von_Start_min\": 46.98007910129366, \"OEV_NTR_von_Start\": 1.0000862113986713, \"easting\": 7.6258, \"northing\": 46.7495, \"Kosten_CHF\": 110.12675749762803}, {\"Stationsnummer\": 4812, \"Name\": \"Wabern Tram-Endstation\", \"ID\": 35501033, \"N_Gem\": \"K\\\\u00f6niz\", \"MIV_Distanz_bis_Ziel_km\": 71.52069999999999, \"MIV_Zeit_bis_Ziel_min\": 81.06166666666667, \"OEV_JRTA_von_Start_min\": 15.725516425436158, \"OEV_NTR_von_Start\": 0.009219283358145283, \"easting\": 7.452303, \"northing\": 46.928154, \"Kosten_CHF\": 110.207273442905}, {\"Stationsnummer\": 4274, \"Name\": \"Bern Lentulusstrasse\", \"ID\": 35101028, \"N_Gem\": \"Bern\", \"MIV_Distanz_bis_Ziel_km\": 74.9071, \"MIV_Zeit_bis_Ziel_min\": 81.76166666666667, \"OEV_JRTA_von_Start_min\": 10.950000000000006, \"OEV_NTR_von_Start\": 0.0, \"easting\": 7.427766, \"northing\": 46.940042, \"Kosten_CHF\": 110.26213055555556}, {\"Stationsnummer\": 4593, \"Name\": \"Bern Tscharnerstrasse\", \"ID\": 35101031, \"N_Gem\": \"Bern\", \"MIV_Distanz_bis_Ziel_km\": 75.46039999999999, \"MIV_Zeit_bis_Ziel_min\": 82.66666666666667, \"OEV_JRTA_von_Start_min\": 9.668588142302761, \"OEV_NTR_von_Start\": 0.002108885125016281, \"easting\": 7.427919, \"northing\": 46.942269, \"Kosten_CHF\": 110.48213563169068}, {\"Stationsnummer\": 4454, \"Name\": \"Bern Fischerm\\\\u00e4tteli / Weissensteinstrasse\", \"ID\": 35101028, \"N_Gem\": \"Bern\", \"MIV_Distanz_bis_Ziel_km\": 75.56280000000001, \"MIV_Zeit_bis_Ziel_min\": 82.94, \"OEV_JRTA_von_Start_min\": 10.950000000000006, \"OEV_NTR_von_Start\": 0.0, \"easting\": 7.41906, \"northing\": 46.9407, \"Kosten_CHF\": 111.44126666666668}, {\"Stationsnummer\": 4406, \"Name\": \"Wabern Parkhaus Gurtenbahn\", \"ID\": 35501033, \"N_Gem\": \"K\\\\u00f6niz\", \"MIV_Distanz_bis_Ziel_km\": 72.2538, \"MIV_Zeit_bis_Ziel_min\": 82.97833333333332, \"OEV_JRTA_von_Start_min\": 15.725516425436158, \"OEV_NTR_von_Start\": 0.009219283358145283, \"easting\": 7.44714, \"northing\": 46.9281, \"Kosten_CHF\": 111.87515399846055}], \"36\": [{\"Stationsnummer\": 4662, \"Name\": \"Bern Kirchbergerstrasse\", \"ID\": 35101026, \"N_Gem\": \"Bern\", \"MIV_Distanz_bis_Ziel_km\": 75.5127, \"MIV_Zeit_bis_Ziel_min\": 83.21666666666667, \"OEV_JRTA_von_Start_min\": 0.0, \"OEV_NTR_von_Start\": 0.0, \"easting\": 7.42118, \"northing\": 46.9388, \"Kosten_CHF\": 106.564525}, {\"Stationsnummer\": 4921, \"Name\": \"Bern Lentulusrain\", \"ID\": 35101031, \"N_Gem\": \"Bern\", \"MIV_Distanz_bis_Ziel_km\": 74.7673, \"MIV_Zeit_bis_Ziel_min\": 81.71333333333334, \"OEV_JRTA_von_Start_min\": 9.668588142302761, \"OEV_NTR_von_Start\": 0.002108885125016281, \"easting\": 7.428637, \"northing\": 46.940721, \"Kosten_CHF\": 110.92993450688186}, {\"Stationsnummer\": 3139, \"Name\": \"Zweisimmen Bahnhof\", \"ID\": 79401002, \"N_Gem\": \"Zweisimmen\", \"MIV_Distanz_bis_Ziel_km\": 8.474, \"MIV_Zeit_bis_Ziel_min\": 20.19, \"OEV_JRTA_von_Start_min\": 125.92819560283505, \"OEV_NTR_von_Start\": 1.422151922783864, \"easting\": 7.375679, \"northing\": 46.553206, \"Kosten_CHF\": 111.0922404351074}, {\"Stationsnummer\": 4652, \"Name\": \"Bern Kapellenstrasse\", \"ID\": 35101048, \"N_Gem\": \"Bern\", \"MIV_Distanz_bis_Ziel_km\": 74.6257, \"MIV_Zeit_bis_Ziel_min\": 81.21000000000001, \"OEV_JRTA_von_Start_min\": 11.462131434498724, \"OEV_NTR_von_Start\": 0.002104084758829338, \"easting\": 7.43641, \"northing\": 46.9444, \"Kosten_CHF\": 111.5978028778052}, {\"Stationsnummer\": 4274, \"Name\": \"Bern Lentulusstrasse\", \"ID\": 35101028, \"N_Gem\": \"Bern\", \"MIV_Distanz_bis_Ziel_km\": 74.9071, \"MIV_Zeit_bis_Ziel_min\": 81.76166666666667, \"OEV_JRTA_von_Start_min\": 10.950000000000006, \"OEV_NTR_von_Start\": 0.0, \"easting\": 7.427766, \"northing\": 46.940042, \"Kosten_CHF\": 111.80732499999999}, {\"Stationsnummer\": 4812, \"Name\": \"Wabern Tram-Endstation\", \"ID\": 35501033, \"N_Gem\": \"K\\\\u00f6niz\", \"MIV_Distanz_bis_Ziel_km\": 71.52069999999999, \"MIV_Zeit_bis_Ziel_min\": 81.06166666666667, \"OEV_JRTA_von_Start_min\": 15.725516425436158, \"OEV_NTR_von_Start\": 0.009219283358145283, \"easting\": 7.452303, \"northing\": 46.928154, \"Kosten_CHF\": 111.82346625555942}, {\"Stationsnummer\": 4593, \"Name\": \"Bern Tscharnerstrasse\", \"ID\": 35101031, \"N_Gem\": \"Bern\", \"MIV_Distanz_bis_Ziel_km\": 75.46039999999999, \"MIV_Zeit_bis_Ziel_min\": 82.66666666666667, \"OEV_JRTA_von_Start_min\": 9.668588142302761, \"OEV_NTR_von_Start\": 0.002108885125016281, \"easting\": 7.427919, \"northing\": 46.942269, \"Kosten_CHF\": 112.02175950688185}, {\"Stationsnummer\": 4454, \"Name\": \"Bern Fischerm\\\\u00e4tteli / Weissensteinstrasse\", \"ID\": 35101028, \"N_Gem\": \"Bern\", \"MIV_Distanz_bis_Ziel_km\": 75.56280000000001, \"MIV_Zeit_bis_Ziel_min\": 82.94, \"OEV_JRTA_von_Start_min\": 10.950000000000006, \"OEV_NTR_von_Start\": 0.0, \"easting\": 7.41906, \"northing\": 46.9407, \"Kosten_CHF\": 113.0061}, {\"Stationsnummer\": 4406, \"Name\": \"Wabern Parkhaus Gurtenbahn\", \"ID\": 35501033, \"N_Gem\": \"K\\\\u00f6niz\", \"MIV_Distanz_bis_Ziel_km\": 72.2538, \"MIV_Zeit_bis_Ziel_min\": 82.97833333333332, \"OEV_JRTA_von_Start_min\": 15.725516425436158, \"OEV_NTR_von_Start\": 0.009219283358145283, \"easting\": 7.44714, \"northing\": 46.9281, \"Kosten_CHF\": 113.52329125555943}], \"37\": [{\"Stationsnummer\": 4662, \"Name\": \"Bern Kirchbergerstrasse\", \"ID\": 35101026, \"N_Gem\": \"Bern\", \"MIV_Distanz_bis_Ziel_km\": 75.5127, \"MIV_Zeit_bis_Ziel_min\": 83.21666666666667, \"OEV_JRTA_von_Start_min\": 0.0, \"OEV_NTR_von_Start\": 0.0, \"easting\": 7.42118, \"northing\": 46.9388, \"Kosten_CHF\": 107.95146944444444}, {\"Stationsnummer\": 4921, \"Name\": \"Bern Lentulusrain\", \"ID\": 35101031, \"N_Gem\": \"Bern\", \"MIV_Distanz_bis_Ziel_km\": 74.7673, \"MIV_Zeit_bis_Ziel_min\": 81.71333333333334, \"OEV_JRTA_von_Start_min\": 9.668588142302761, \"OEV_NTR_von_Start\": 0.002108885125016281, \"easting\": 7.428637, \"northing\": 46.940721, \"Kosten_CHF\": 112.45366949318414}, {\"Stationsnummer\": 4652, \"Name\": \"Bern Kapellenstrasse\", \"ID\": 35101048, \"N_Gem\": \"Bern\", \"MIV_Distanz_bis_Ziel_km\": 74.6257, \"MIV_Zeit_bis_Ziel_min\": 81.21000000000001, \"OEV_JRTA_von_Start_min\": 11.462131434498724, \"OEV_NTR_von_Start\": 0.002104084758829338, \"easting\": 7.43641, \"northing\": 46.9444, \"Kosten_CHF\": 113.14303976329978}, {\"Stationsnummer\": 4593, \"Name\": \"Bern Tscharnerstrasse\", \"ID\": 35101031, \"N_Gem\": \"Bern\", \"MIV_Distanz_bis_Ziel_km\": 75.46039999999999, \"MIV_Zeit_bis_Ziel_min\": 82.66666666666667, \"OEV_JRTA_von_Start_min\": 9.668588142302761, \"OEV_NTR_von_Start\": 0.002108885125016281, \"easting\": 7.427919, \"northing\": 46.942269, \"Kosten_CHF\": 113.56138338207302}], \"38\": [{\"Stationsnummer\": 4662, \"Name\": \"Bern Kirchbergerstrasse\", \"ID\": 35101026, \"N_Gem\": \"Bern\", \"MIV_Distanz_bis_Ziel_km\": 75.5127, \"MIV_Zeit_bis_Ziel_min\": 83.21666666666667, \"OEV_JRTA_von_Start_min\": 0.0, \"OEV_NTR_von_Start\": 0.0, \"easting\": 7.42118, \"northing\": 46.9388, \"Kosten_CHF\": 109.33841388888888}, {\"Stationsnummer\": 4921, \"Name\": \"Bern Lentulusrain\", \"ID\": 35101031, \"N_Gem\": \"Bern\", \"MIV_Distanz_bis_Ziel_km\": 74.7673, \"MIV_Zeit_bis_Ziel_min\": 81.71333333333334, \"OEV_JRTA_von_Start_min\": 9.668588142302761, \"OEV_NTR_von_Start\": 0.002108885125016281, \"easting\": 7.428637, \"northing\": 46.940721, \"Kosten_CHF\": 113.97740447948641}, {\"Stationsnummer\": 4652, \"Name\": \"Bern Kapellenstrasse\", \"ID\": 35101048, \"N_Gem\": \"Bern\", \"MIV_Distanz_bis_Ziel_km\": 74.6257, \"MIV_Zeit_bis_Ziel_min\": 81.21000000000001, \"OEV_JRTA_von_Start_min\": 11.462131434498724, \"OEV_NTR_von_Start\": 0.002104084758829338, \"easting\": 7.43641, \"northing\": 46.9444, \"Kosten_CHF\": 114.68827664879437}, {\"Stationsnummer\": 4593, \"Name\": \"Bern Tscharnerstrasse\", \"ID\": 35101031, \"N_Gem\": \"Bern\", \"MIV_Distanz_bis_Ziel_km\": 75.46039999999999, \"MIV_Zeit_bis_Ziel_min\": 82.66666666666667, \"OEV_JRTA_von_Start_min\": 9.668588142302761, \"OEV_NTR_von_Start\": 0.002108885125016281, \"easting\": 7.427919, \"northing\": 46.942269, \"Kosten_CHF\": 115.10100725726417}], \"39\": [{\"Stationsnummer\": 4662, \"Name\": \"Bern Kirchbergerstrasse\", \"ID\": 35101026, \"N_Gem\": \"Bern\", \"MIV_Distanz_bis_Ziel_km\": 75.5127, \"MIV_Zeit_bis_Ziel_min\": 83.21666666666667, \"OEV_JRTA_von_Start_min\": 0.0, \"OEV_NTR_von_Start\": 0.0, \"easting\": 7.42118, \"northing\": 46.9388, \"Kosten_CHF\": 110.72535833333333}, {\"Stationsnummer\": 4921, \"Name\": \"Bern Lentulusrain\", \"ID\": 35101031, \"N_Gem\": \"Bern\", \"MIV_Distanz_bis_Ziel_km\": 74.7673, \"MIV_Zeit_bis_Ziel_min\": 81.71333333333334, \"OEV_JRTA_von_Start_min\": 9.668588142302761, \"OEV_NTR_von_Start\": 0.002108885125016281, \"easting\": 7.428637, \"northing\": 46.940721, \"Kosten_CHF\": 115.50113946578868}, {\"Stationsnummer\": 4652, \"Name\": \"Bern Kapellenstrasse\", \"ID\": 35101048, \"N_Gem\": \"Bern\", \"MIV_Distanz_bis_Ziel_km\": 74.6257, \"MIV_Zeit_bis_Ziel_min\": 81.21000000000001, \"OEV_JRTA_von_Start_min\": 11.462131434498724, \"OEV_NTR_von_Start\": 0.002104084758829338, \"easting\": 7.43641, \"northing\": 46.9444, \"Kosten_CHF\": 116.23351353428896}, {\"Stationsnummer\": 4593, \"Name\": \"Bern Tscharnerstrasse\", \"ID\": 35101031, \"N_Gem\": \"Bern\", \"MIV_Distanz_bis_Ziel_km\": 75.46039999999999, \"MIV_Zeit_bis_Ziel_min\": 82.66666666666667, \"OEV_JRTA_von_Start_min\": 9.668588142302761, \"OEV_NTR_von_Start\": 0.002108885125016281, \"easting\": 7.427919, \"northing\": 46.942269, \"Kosten_CHF\": 116.64063113245534}], \"40\": [{\"Stationsnummer\": 4662, \"Name\": \"Bern Kirchbergerstrasse\", \"ID\": 35101026, \"N_Gem\": \"Bern\", \"MIV_Distanz_bis_Ziel_km\": 75.5127, \"MIV_Zeit_bis_Ziel_min\": 83.21666666666667, \"OEV_JRTA_von_Start_min\": 0.0, \"OEV_NTR_von_Start\": 0.0, \"easting\": 7.42118, \"northing\": 46.9388, \"Kosten_CHF\": 112.11230277777778}, {\"Stationsnummer\": 4921, \"Name\": \"Bern Lentulusrain\", \"ID\": 35101031, \"N_Gem\": \"Bern\", \"MIV_Distanz_bis_Ziel_km\": 74.7673, \"MIV_Zeit_bis_Ziel_min\": 81.71333333333334, \"OEV_JRTA_von_Start_min\": 9.668588142302761, \"OEV_NTR_von_Start\": 0.002108885125016281, \"easting\": 7.428637, \"northing\": 46.940721, \"Kosten_CHF\": 117.02487445209096}, {\"Stationsnummer\": 4593, \"Name\": \"Bern Tscharnerstrasse\", \"ID\": 35101031, \"N_Gem\": \"Bern\", \"MIV_Distanz_bis_Ziel_km\": 75.46039999999999, \"MIV_Zeit_bis_Ziel_min\": 82.66666666666667, \"OEV_JRTA_von_Start_min\": 9.668588142302761, \"OEV_NTR_von_Start\": 0.002108885125016281, \"easting\": 7.427919, \"northing\": 46.942269, \"Kosten_CHF\": 118.18025500764651}], \"41\": [{\"Stationsnummer\": 4662, \"Name\": \"Bern Kirchbergerstrasse\", \"ID\": 35101026, \"N_Gem\": \"Bern\", \"MIV_Distanz_bis_Ziel_km\": 75.5127, \"MIV_Zeit_bis_Ziel_min\": 83.21666666666667, \"OEV_JRTA_von_Start_min\": 0.0, \"OEV_NTR_von_Start\": 0.0, \"easting\": 7.42118, \"northing\": 46.9388, \"Kosten_CHF\": 113.49924722222222}, {\"Stationsnummer\": 4921, \"Name\": \"Bern Lentulusrain\", \"ID\": 35101031, \"N_Gem\": \"Bern\", \"MIV_Distanz_bis_Ziel_km\": 74.7673, \"MIV_Zeit_bis_Ziel_min\": 81.71333333333334, \"OEV_JRTA_von_Start_min\": 9.668588142302761, \"OEV_NTR_von_Start\": 0.002108885125016281, \"easting\": 7.428637, \"northing\": 46.940721, \"Kosten_CHF\": 118.54860943839323}, {\"Stationsnummer\": 4593, \"Name\": \"Bern Tscharnerstrasse\", \"ID\": 35101031, \"N_Gem\": \"Bern\", \"MIV_Distanz_bis_Ziel_km\": 75.46039999999999, \"MIV_Zeit_bis_Ziel_min\": 82.66666666666667, \"OEV_JRTA_von_Start_min\": 9.668588142302761, \"OEV_NTR_von_Start\": 0.002108885125016281, \"easting\": 7.427919, \"northing\": 46.942269, \"Kosten_CHF\": 119.71987888283766}], \"42\": [{\"Stationsnummer\": 4662, \"Name\": \"Bern Kirchbergerstrasse\", \"ID\": 35101026, \"N_Gem\": \"Bern\", \"MIV_Distanz_bis_Ziel_km\": 75.5127, \"MIV_Zeit_bis_Ziel_min\": 83.21666666666667, \"OEV_JRTA_von_Start_min\": 0.0, \"OEV_NTR_von_Start\": 0.0, \"easting\": 7.42118, \"northing\": 46.9388, \"Kosten_CHF\": 114.88619166666666}, {\"Stationsnummer\": 4921, \"Name\": \"Bern Lentulusrain\", \"ID\": 35101031, \"N_Gem\": \"Bern\", \"MIV_Distanz_bis_Ziel_km\": 74.7673, \"MIV_Zeit_bis_Ziel_min\": 81.71333333333334, \"OEV_JRTA_von_Start_min\": 9.668588142302761, \"OEV_NTR_von_Start\": 0.002108885125016281, \"easting\": 7.428637, \"northing\": 46.940721, \"Kosten_CHF\": 120.0723444246955}, {\"Stationsnummer\": 4593, \"Name\": \"Bern Tscharnerstrasse\", \"ID\": 35101031, \"N_Gem\": \"Bern\", \"MIV_Distanz_bis_Ziel_km\": 75.46039999999999, \"MIV_Zeit_bis_Ziel_min\": 82.66666666666667, \"OEV_JRTA_von_Start_min\": 9.668588142302761, \"OEV_NTR_von_Start\": 0.002108885125016281, \"easting\": 7.427919, \"northing\": 46.942269, \"Kosten_CHF\": 121.25950275802883}], \"43\": [{\"Stationsnummer\": 4662, \"Name\": \"Bern Kirchbergerstrasse\", \"ID\": 35101026, \"N_Gem\": \"Bern\", \"MIV_Distanz_bis_Ziel_km\": 75.5127, \"MIV_Zeit_bis_Ziel_min\": 83.21666666666667, \"OEV_JRTA_von_Start_min\": 0.0, \"OEV_NTR_von_Start\": 0.0, \"easting\": 7.42118, \"northing\": 46.9388, \"Kosten_CHF\": 116.27313611111111}, {\"Stationsnummer\": 4921, \"Name\": \"Bern Lentulusrain\", \"ID\": 35101031, \"N_Gem\": \"Bern\", \"MIV_Distanz_bis_Ziel_km\": 74.7673, \"MIV_Zeit_bis_Ziel_min\": 81.71333333333334, \"OEV_JRTA_von_Start_min\": 9.668588142302761, \"OEV_NTR_von_Start\": 0.002108885125016281, \"easting\": 7.428637, \"northing\": 46.940721, \"Kosten_CHF\": 121.59607941099779}, {\"Stationsnummer\": 4593, \"Name\": \"Bern Tscharnerstrasse\", \"ID\": 35101031, \"N_Gem\": \"Bern\", \"MIV_Distanz_bis_Ziel_km\": 75.46039999999999, \"MIV_Zeit_bis_Ziel_min\": 82.66666666666667, \"OEV_JRTA_von_Start_min\": 9.668588142302761, \"OEV_NTR_von_Start\": 0.002108885125016281, \"easting\": 7.427919, \"northing\": 46.942269, \"Kosten_CHF\": 122.79912663321998}], \"44\": [{\"Stationsnummer\": 4662, \"Name\": \"Bern Kirchbergerstrasse\", \"ID\": 35101026, \"N_Gem\": \"Bern\", \"MIV_Distanz_bis_Ziel_km\": 75.5127, \"MIV_Zeit_bis_Ziel_min\": 83.21666666666667, \"OEV_JRTA_von_Start_min\": 0.0, \"OEV_NTR_von_Start\": 0.0, \"easting\": 7.42118, \"northing\": 46.9388, \"Kosten_CHF\": 117.66008055555555}, {\"Stationsnummer\": 4921, \"Name\": \"Bern Lentulusrain\", \"ID\": 35101031, \"N_Gem\": \"Bern\", \"MIV_Distanz_bis_Ziel_km\": 74.7673, \"MIV_Zeit_bis_Ziel_min\": 81.71333333333334, \"OEV_JRTA_von_Start_min\": 9.668588142302761, \"OEV_NTR_von_Start\": 0.002108885125016281, \"easting\": 7.428637, \"northing\": 46.940721, \"Kosten_CHF\": 123.11981439730005}, {\"Stationsnummer\": 4593, \"Name\": \"Bern Tscharnerstrasse\", \"ID\": 35101031, \"N_Gem\": \"Bern\", \"MIV_Distanz_bis_Ziel_km\": 75.46039999999999, \"MIV_Zeit_bis_Ziel_min\": 82.66666666666667, \"OEV_JRTA_von_Start_min\": 9.668588142302761, \"OEV_NTR_von_Start\": 0.002108885125016281, \"easting\": 7.427919, \"northing\": 46.942269, \"Kosten_CHF\": 124.33875050841115}], \"45\": [{\"Stationsnummer\": 4662, \"Name\": \"Bern Kirchbergerstrasse\", \"ID\": 35101026, \"N_Gem\": \"Bern\", \"MIV_Distanz_bis_Ziel_km\": 75.5127, \"MIV_Zeit_bis_Ziel_min\": 83.21666666666667, \"OEV_JRTA_von_Start_min\": 0.0, \"OEV_NTR_von_Start\": 0.0, \"easting\": 7.42118, \"northing\": 46.9388, \"Kosten_CHF\": 119.04702499999999}, {\"Stationsnummer\": 4921, \"Name\": \"Bern Lentulusrain\", \"ID\": 35101031, \"N_Gem\": \"Bern\", \"MIV_Distanz_bis_Ziel_km\": 74.7673, \"MIV_Zeit_bis_Ziel_min\": 81.71333333333334, \"OEV_JRTA_von_Start_min\": 9.668588142302761, \"OEV_NTR_von_Start\": 0.002108885125016281, \"easting\": 7.428637, \"northing\": 46.940721, \"Kosten_CHF\": 124.64354938360233}, {\"Stationsnummer\": 4593, \"Name\": \"Bern Tscharnerstrasse\", \"ID\": 35101031, \"N_Gem\": \"Bern\", \"MIV_Distanz_bis_Ziel_km\": 75.46039999999999, \"MIV_Zeit_bis_Ziel_min\": 82.66666666666667, \"OEV_JRTA_von_Start_min\": 9.668588142302761, \"OEV_NTR_von_Start\": 0.002108885125016281, \"easting\": 7.427919, \"northing\": 46.942269, \"Kosten_CHF\": 125.8783743836023}], \"46\": [{\"Stationsnummer\": 4662, \"Name\": \"Bern Kirchbergerstrasse\", \"ID\": 35101026, \"N_Gem\": \"Bern\", \"MIV_Distanz_bis_Ziel_km\": 75.5127, \"MIV_Zeit_bis_Ziel_min\": 83.21666666666667, \"OEV_JRTA_von_Start_min\": 0.0, \"OEV_NTR_von_Start\": 0.0, \"easting\": 7.42118, \"northing\": 46.9388, \"Kosten_CHF\": 120.43396944444444}, {\"Stationsnummer\": 4921, \"Name\": \"Bern Lentulusrain\", \"ID\": 35101031, \"N_Gem\": \"Bern\", \"MIV_Distanz_bis_Ziel_km\": 74.7673, \"MIV_Zeit_bis_Ziel_min\": 81.71333333333334, \"OEV_JRTA_von_Start_min\": 9.668588142302761, \"OEV_NTR_von_Start\": 0.002108885125016281, \"easting\": 7.428637, \"northing\": 46.940721, \"Kosten_CHF\": 126.16728436990459}, {\"Stationsnummer\": 4593, \"Name\": \"Bern Tscharnerstrasse\", \"ID\": 35101031, \"N_Gem\": \"Bern\", \"MIV_Distanz_bis_Ziel_km\": 75.46039999999999, \"MIV_Zeit_bis_Ziel_min\": 82.66666666666667, \"OEV_JRTA_von_Start_min\": 9.668588142302761, \"OEV_NTR_von_Start\": 0.002108885125016281, \"easting\": 7.427919, \"northing\": 46.942269, \"Kosten_CHF\": 127.41799825879347}], \"47\": [{\"Stationsnummer\": 4662, \"Name\": \"Bern Kirchbergerstrasse\", \"ID\": 35101026, \"N_Gem\": \"Bern\", \"MIV_Distanz_bis_Ziel_km\": 75.5127, \"MIV_Zeit_bis_Ziel_min\": 83.21666666666667, \"OEV_JRTA_von_Start_min\": 0.0, \"OEV_NTR_von_Start\": 0.0, \"easting\": 7.42118, \"northing\": 46.9388, \"Kosten_CHF\": 121.8209138888889}, {\"Stationsnummer\": 4921, \"Name\": \"Bern Lentulusrain\", \"ID\": 35101031, \"N_Gem\": \"Bern\", \"MIV_Distanz_bis_Ziel_km\": 74.7673, \"MIV_Zeit_bis_Ziel_min\": 81.71333333333334, \"OEV_JRTA_von_Start_min\": 9.668588142302761, \"OEV_NTR_von_Start\": 0.002108885125016281, \"easting\": 7.428637, \"northing\": 46.940721, \"Kosten_CHF\": 127.69101935620688}, {\"Stationsnummer\": 4593, \"Name\": \"Bern Tscharnerstrasse\", \"ID\": 35101031, \"N_Gem\": \"Bern\", \"MIV_Distanz_bis_Ziel_km\": 75.46039999999999, \"MIV_Zeit_bis_Ziel_min\": 82.66666666666667, \"OEV_JRTA_von_Start_min\": 9.668588142302761, \"OEV_NTR_von_Start\": 0.002108885125016281, \"easting\": 7.427919, \"northing\": 46.942269, \"Kosten_CHF\": 128.95762213398464}], \"48\": [{\"Stationsnummer\": 4662, \"Name\": \"Bern Kirchbergerstrasse\", \"ID\": 35101026, \"N_Gem\": \"Bern\", \"MIV_Distanz_bis_Ziel_km\": 75.5127, \"MIV_Zeit_bis_Ziel_min\": 83.21666666666667, \"OEV_JRTA_von_Start_min\": 0.0, \"OEV_NTR_von_Start\": 0.0, \"easting\": 7.42118, \"northing\": 46.9388, \"Kosten_CHF\": 123.20785833333333}, {\"Stationsnummer\": 4921, \"Name\": \"Bern Lentulusrain\", \"ID\": 35101031, \"N_Gem\": \"Bern\", \"MIV_Distanz_bis_Ziel_km\": 74.7673, \"MIV_Zeit_bis_Ziel_min\": 81.71333333333334, \"OEV_JRTA_von_Start_min\": 9.668588142302761, \"OEV_NTR_von_Start\": 0.002108885125016281, \"easting\": 7.428637, \"northing\": 46.940721, \"Kosten_CHF\": 129.21475434250914}, {\"Stationsnummer\": 4593, \"Name\": \"Bern Tscharnerstrasse\", \"ID\": 35101031, \"N_Gem\": \"Bern\", \"MIV_Distanz_bis_Ziel_km\": 75.46039999999999, \"MIV_Zeit_bis_Ziel_min\": 82.66666666666667, \"OEV_JRTA_von_Start_min\": 9.668588142302761, \"OEV_NTR_von_Start\": 0.002108885125016281, \"easting\": 7.427919, \"northing\": 46.942269, \"Kosten_CHF\": 130.4972460091758}], \"49\": [{\"Stationsnummer\": 4662, \"Name\": \"Bern Kirchbergerstrasse\", \"ID\": 35101026, \"N_Gem\": \"Bern\", \"MIV_Distanz_bis_Ziel_km\": 75.5127, \"MIV_Zeit_bis_Ziel_min\": 83.21666666666667, \"OEV_JRTA_von_Start_min\": 0.0, \"OEV_NTR_von_Start\": 0.0, \"easting\": 7.42118, \"northing\": 46.9388, \"Kosten_CHF\": 124.59480277777777}, {\"Stationsnummer\": 4921, \"Name\": \"Bern Lentulusrain\", \"ID\": 35101031, \"N_Gem\": \"Bern\", \"MIV_Distanz_bis_Ziel_km\": 74.7673, \"MIV_Zeit_bis_Ziel_min\": 81.71333333333334, \"OEV_JRTA_von_Start_min\": 9.668588142302761, \"OEV_NTR_von_Start\": 0.002108885125016281, \"easting\": 7.428637, \"northing\": 46.940721, \"Kosten_CHF\": 130.73848932881143}, {\"Stationsnummer\": 4593, \"Name\": \"Bern Tscharnerstrasse\", \"ID\": 35101031, \"N_Gem\": \"Bern\", \"MIV_Distanz_bis_Ziel_km\": 75.46039999999999, \"MIV_Zeit_bis_Ziel_min\": 82.66666666666667, \"OEV_JRTA_von_Start_min\": 9.668588142302761, \"OEV_NTR_von_Start\": 0.002108885125016281, \"easting\": 7.427919, \"northing\": 46.942269, \"Kosten_CHF\": 132.03686988436698}], \"50\": [{\"Stationsnummer\": 4662, \"Name\": \"Bern Kirchbergerstrasse\", \"ID\": 35101026, \"N_Gem\": \"Bern\", \"MIV_Distanz_bis_Ziel_km\": 75.5127, \"MIV_Zeit_bis_Ziel_min\": 83.21666666666667, \"OEV_JRTA_von_Start_min\": 0.0, \"OEV_NTR_von_Start\": 0.0, \"easting\": 7.42118, \"northing\": 46.9388, \"Kosten_CHF\": 125.98174722222222}, {\"Stationsnummer\": 4921, \"Name\": \"Bern Lentulusrain\", \"ID\": 35101031, \"N_Gem\": \"Bern\", \"MIV_Distanz_bis_Ziel_km\": 74.7673, \"MIV_Zeit_bis_Ziel_min\": 81.71333333333334, \"OEV_JRTA_von_Start_min\": 9.668588142302761, \"OEV_NTR_von_Start\": 0.002108885125016281, \"easting\": 7.428637, \"northing\": 46.940721, \"Kosten_CHF\": 132.26222431511368}, {\"Stationsnummer\": 4593, \"Name\": \"Bern Tscharnerstrasse\", \"ID\": 35101031, \"N_Gem\": \"Bern\", \"MIV_Distanz_bis_Ziel_km\": 75.46039999999999, \"MIV_Zeit_bis_Ziel_min\": 82.66666666666667, \"OEV_JRTA_von_Start_min\": 9.668588142302761, \"OEV_NTR_von_Start\": 0.002108885125016281, \"easting\": 7.427919, \"northing\": 46.942269, \"Kosten_CHF\": 133.5764937595581}], \"51\": [{\"Stationsnummer\": 4662, \"Name\": \"Bern Kirchbergerstrasse\", \"ID\": 35101026, \"N_Gem\": \"Bern\", \"MIV_Distanz_bis_Ziel_km\": 75.5127, \"MIV_Zeit_bis_Ziel_min\": 83.21666666666667, \"OEV_JRTA_von_Start_min\": 0.0, \"OEV_NTR_von_Start\": 0.0, \"easting\": 7.42118, \"northing\": 46.9388, \"Kosten_CHF\": 127.36869166666666}], \"52\": [{\"Stationsnummer\": 4662, \"Name\": \"Bern Kirchbergerstrasse\", \"ID\": 35101026, \"N_Gem\": \"Bern\", \"MIV_Distanz_bis_Ziel_km\": 75.5127, \"MIV_Zeit_bis_Ziel_min\": 83.21666666666667, \"OEV_JRTA_von_Start_min\": 0.0, \"OEV_NTR_von_Start\": 0.0, \"easting\": 7.42118, \"northing\": 46.9388, \"Kosten_CHF\": 128.75563611111113}], \"53\": [{\"Stationsnummer\": 4662, \"Name\": \"Bern Kirchbergerstrasse\", \"ID\": 35101026, \"N_Gem\": \"Bern\", \"MIV_Distanz_bis_Ziel_km\": 75.5127, \"MIV_Zeit_bis_Ziel_min\": 83.21666666666667, \"OEV_JRTA_von_Start_min\": 0.0, \"OEV_NTR_von_Start\": 0.0, \"easting\": 7.42118, \"northing\": 46.9388, \"Kosten_CHF\": 130.14258055555555}], \"54\": [{\"Stationsnummer\": 4662, \"Name\": \"Bern Kirchbergerstrasse\", \"ID\": 35101026, \"N_Gem\": \"Bern\", \"MIV_Distanz_bis_Ziel_km\": 75.5127, \"MIV_Zeit_bis_Ziel_min\": 83.21666666666667, \"OEV_JRTA_von_Start_min\": 0.0, \"OEV_NTR_von_Start\": 0.0, \"easting\": 7.42118, \"northing\": 46.9388, \"Kosten_CHF\": 131.529525}], \"55\": [{\"Stationsnummer\": 4662, \"Name\": \"Bern Kirchbergerstrasse\", \"ID\": 35101026, \"N_Gem\": \"Bern\", \"MIV_Distanz_bis_Ziel_km\": 75.5127, \"MIV_Zeit_bis_Ziel_min\": 83.21666666666667, \"OEV_JRTA_von_Start_min\": 0.0, \"OEV_NTR_von_Start\": 0.0, \"easting\": 7.42118, \"northing\": 46.9388, \"Kosten_CHF\": 132.91646944444443}], \"56\": [{\"Stationsnummer\": 4662, \"Name\": \"Bern Kirchbergerstrasse\", \"ID\": 35101026, \"N_Gem\": \"Bern\", \"MIV_Distanz_bis_Ziel_km\": 75.5127, \"MIV_Zeit_bis_Ziel_min\": 83.21666666666667, \"OEV_JRTA_von_Start_min\": 0.0, \"OEV_NTR_von_Start\": 0.0, \"easting\": 7.42118, \"northing\": 46.9388, \"Kosten_CHF\": 134.30341388888888}], \"57\": [{\"Stationsnummer\": 4662, \"Name\": \"Bern Kirchbergerstrasse\", \"ID\": 35101026, \"N_Gem\": \"Bern\", \"MIV_Distanz_bis_Ziel_km\": 75.5127, \"MIV_Zeit_bis_Ziel_min\": 83.21666666666667, \"OEV_JRTA_von_Start_min\": 0.0, \"OEV_NTR_von_Start\": 0.0, \"easting\": 7.42118, \"northing\": 46.9388, \"Kosten_CHF\": 135.69035833333334}], \"58\": [{\"Stationsnummer\": 4662, \"Name\": \"Bern Kirchbergerstrasse\", \"ID\": 35101026, \"N_Gem\": \"Bern\", \"MIV_Distanz_bis_Ziel_km\": 75.5127, \"MIV_Zeit_bis_Ziel_min\": 83.21666666666667, \"OEV_JRTA_von_Start_min\": 0.0, \"OEV_NTR_von_Start\": 0.0, \"easting\": 7.42118, \"northing\": 46.9388, \"Kosten_CHF\": 137.0773027777778}], \"59\": [{\"Stationsnummer\": 4662, \"Name\": \"Bern Kirchbergerstrasse\", \"ID\": 35101026, \"N_Gem\": \"Bern\", \"MIV_Distanz_bis_Ziel_km\": 75.5127, \"MIV_Zeit_bis_Ziel_min\": 83.21666666666667, \"OEV_JRTA_von_Start_min\": 0.0, \"OEV_NTR_von_Start\": 0.0, \"easting\": 7.42118, \"northing\": 46.9388, \"Kosten_CHF\": 138.46424722222224}], \"60\": [{\"Stationsnummer\": 4662, \"Name\": \"Bern Kirchbergerstrasse\", \"ID\": 35101026, \"N_Gem\": \"Bern\", \"MIV_Distanz_bis_Ziel_km\": 75.5127, \"MIV_Zeit_bis_Ziel_min\": 83.21666666666667, \"OEV_JRTA_von_Start_min\": 0.0, \"OEV_NTR_von_Start\": 0.0, \"easting\": 7.42118, \"northing\": 46.9388, \"Kosten_CHF\": 139.85119166666667}], \"61\": [{\"Stationsnummer\": 4662, \"Name\": \"Bern Kirchbergerstrasse\", \"ID\": 35101026, \"N_Gem\": \"Bern\", \"MIV_Distanz_bis_Ziel_km\": 75.5127, \"MIV_Zeit_bis_Ziel_min\": 83.21666666666667, \"OEV_JRTA_von_Start_min\": 0.0, \"OEV_NTR_von_Start\": 0.0, \"easting\": 7.42118, \"northing\": 46.9388, \"Kosten_CHF\": 141.23813611111112}], \"62\": [{\"Stationsnummer\": 4662, \"Name\": \"Bern Kirchbergerstrasse\", \"ID\": 35101026, \"N_Gem\": \"Bern\", \"MIV_Distanz_bis_Ziel_km\": 75.5127, \"MIV_Zeit_bis_Ziel_min\": 83.21666666666667, \"OEV_JRTA_von_Start_min\": 0.0, \"OEV_NTR_von_Start\": 0.0, \"easting\": 7.42118, \"northing\": 46.9388, \"Kosten_CHF\": 142.62508055555554}], \"63\": [{\"Stationsnummer\": 4662, \"Name\": \"Bern Kirchbergerstrasse\", \"ID\": 35101026, \"N_Gem\": \"Bern\", \"MIV_Distanz_bis_Ziel_km\": 75.5127, \"MIV_Zeit_bis_Ziel_min\": 83.21666666666667, \"OEV_JRTA_von_Start_min\": 0.0, \"OEV_NTR_von_Start\": 0.0, \"easting\": 7.42118, \"northing\": 46.9388, \"Kosten_CHF\": 144.012025}], \"64\": [{\"Stationsnummer\": 4662, \"Name\": \"Bern Kirchbergerstrasse\", \"ID\": 35101026, \"N_Gem\": \"Bern\", \"MIV_Distanz_bis_Ziel_km\": 75.5127, \"MIV_Zeit_bis_Ziel_min\": 83.21666666666667, \"OEV_JRTA_von_Start_min\": 0.0, \"OEV_NTR_von_Start\": 0.0, \"easting\": 7.42118, \"northing\": 46.9388, \"Kosten_CHF\": 145.39896944444445}], \"65\": [{\"Stationsnummer\": 4662, \"Name\": \"Bern Kirchbergerstrasse\", \"ID\": 35101026, \"N_Gem\": \"Bern\", \"MIV_Distanz_bis_Ziel_km\": 75.5127, \"MIV_Zeit_bis_Ziel_min\": 83.21666666666667, \"OEV_JRTA_von_Start_min\": 0.0, \"OEV_NTR_von_Start\": 0.0, \"easting\": 7.42118, \"northing\": 46.9388, \"Kosten_CHF\": 146.7859138888889}], \"66\": [{\"Stationsnummer\": 4662, \"Name\": \"Bern Kirchbergerstrasse\", \"ID\": 35101026, \"N_Gem\": \"Bern\", \"MIV_Distanz_bis_Ziel_km\": 75.5127, \"MIV_Zeit_bis_Ziel_min\": 83.21666666666667, \"OEV_JRTA_von_Start_min\": 0.0, \"OEV_NTR_von_Start\": 0.0, \"easting\": 7.42118, \"northing\": 46.9388, \"Kosten_CHF\": 148.17285833333335}], \"67\": [{\"Stationsnummer\": 4662, \"Name\": \"Bern Kirchbergerstrasse\", \"ID\": 35101026, \"N_Gem\": \"Bern\", \"MIV_Distanz_bis_Ziel_km\": 75.5127, \"MIV_Zeit_bis_Ziel_min\": 83.21666666666667, \"OEV_JRTA_von_Start_min\": 0.0, \"OEV_NTR_von_Start\": 0.0, \"easting\": 7.42118, \"northing\": 46.9388, \"Kosten_CHF\": 149.55980277777778}], \"68\": [{\"Stationsnummer\": 4662, \"Name\": \"Bern Kirchbergerstrasse\", \"ID\": 35101026, \"N_Gem\": \"Bern\", \"MIV_Distanz_bis_Ziel_km\": 75.5127, \"MIV_Zeit_bis_Ziel_min\": 83.21666666666667, \"OEV_JRTA_von_Start_min\": 0.0, \"OEV_NTR_von_Start\": 0.0, \"easting\": 7.42118, \"northing\": 46.9388, \"Kosten_CHF\": 150.94674722222223}], \"69\": [{\"Stationsnummer\": 4662, \"Name\": \"Bern Kirchbergerstrasse\", \"ID\": 35101026, \"N_Gem\": \"Bern\", \"MIV_Distanz_bis_Ziel_km\": 75.5127, \"MIV_Zeit_bis_Ziel_min\": 83.21666666666667, \"OEV_JRTA_von_Start_min\": 0.0, \"OEV_NTR_von_Start\": 0.0, \"easting\": 7.42118, \"northing\": 46.9388, \"Kosten_CHF\": 152.33369166666665}], \"70\": [{\"Stationsnummer\": 4662, \"Name\": \"Bern Kirchbergerstrasse\", \"ID\": 35101026, \"N_Gem\": \"Bern\", \"MIV_Distanz_bis_Ziel_km\": 75.5127, \"MIV_Zeit_bis_Ziel_min\": 83.21666666666667, \"OEV_JRTA_von_Start_min\": 0.0, \"OEV_NTR_von_Start\": 0.0, \"easting\": 7.42118, \"northing\": 46.9388, \"Kosten_CHF\": 153.7206361111111}], \"71\": [{\"Stationsnummer\": 4662, \"Name\": \"Bern Kirchbergerstrasse\", \"ID\": 35101026, \"N_Gem\": \"Bern\", \"MIV_Distanz_bis_Ziel_km\": 75.5127, \"MIV_Zeit_bis_Ziel_min\": 83.21666666666667, \"OEV_JRTA_von_Start_min\": 0.0, \"OEV_NTR_von_Start\": 0.0, \"easting\": 7.42118, \"northing\": 46.9388, \"Kosten_CHF\": 155.10758055555556}], \"72\": [{\"Stationsnummer\": 4662, \"Name\": \"Bern Kirchbergerstrasse\", \"ID\": 35101026, \"N_Gem\": \"Bern\", \"MIV_Distanz_bis_Ziel_km\": 75.5127, \"MIV_Zeit_bis_Ziel_min\": 83.21666666666667, \"OEV_JRTA_von_Start_min\": 0.0, \"OEV_NTR_von_Start\": 0.0, \"easting\": 7.42118, \"northing\": 46.9388, \"Kosten_CHF\": 156.494525}], \"73\": [{\"Stationsnummer\": 4662, \"Name\": \"Bern Kirchbergerstrasse\", \"ID\": 35101026, \"N_Gem\": \"Bern\", \"MIV_Distanz_bis_Ziel_km\": 75.5127, \"MIV_Zeit_bis_Ziel_min\": 83.21666666666667, \"OEV_JRTA_von_Start_min\": 0.0, \"OEV_NTR_von_Start\": 0.0, \"easting\": 7.42118, \"northing\": 46.9388, \"Kosten_CHF\": 157.88146944444446}], \"74\": [{\"Stationsnummer\": 4662, \"Name\": \"Bern Kirchbergerstrasse\", \"ID\": 35101026, \"N_Gem\": \"Bern\", \"MIV_Distanz_bis_Ziel_km\": 75.5127, \"MIV_Zeit_bis_Ziel_min\": 83.21666666666667, \"OEV_JRTA_von_Start_min\": 0.0, \"OEV_NTR_von_Start\": 0.0, \"easting\": 7.42118, \"northing\": 46.9388, \"Kosten_CHF\": 159.2684138888889}], \"75\": [{\"Stationsnummer\": 4662, \"Name\": \"Bern Kirchbergerstrasse\", \"ID\": 35101026, \"N_Gem\": \"Bern\", \"MIV_Distanz_bis_Ziel_km\": 75.5127, \"MIV_Zeit_bis_Ziel_min\": 83.21666666666667, \"OEV_JRTA_von_Start_min\": 0.0, \"OEV_NTR_von_Start\": 0.0, \"easting\": 7.42118, \"northing\": 46.9388, \"Kosten_CHF\": 160.65535833333334}], \"76\": [{\"Stationsnummer\": 4662, \"Name\": \"Bern Kirchbergerstrasse\", \"ID\": 35101026, \"N_Gem\": \"Bern\", \"MIV_Distanz_bis_Ziel_km\": 75.5127, \"MIV_Zeit_bis_Ziel_min\": 83.21666666666667, \"OEV_JRTA_von_Start_min\": 0.0, \"OEV_NTR_von_Start\": 0.0, \"easting\": 7.42118, \"northing\": 46.9388, \"Kosten_CHF\": 162.04230277777776}], \"77\": [{\"Stationsnummer\": 4662, \"Name\": \"Bern Kirchbergerstrasse\", \"ID\": 35101026, \"N_Gem\": \"Bern\", \"MIV_Distanz_bis_Ziel_km\": 75.5127, \"MIV_Zeit_bis_Ziel_min\": 83.21666666666667, \"OEV_JRTA_von_Start_min\": 0.0, \"OEV_NTR_von_Start\": 0.0, \"easting\": 7.42118, \"northing\": 46.9388, \"Kosten_CHF\": 163.42924722222222}], \"78\": [{\"Stationsnummer\": 4662, \"Name\": \"Bern Kirchbergerstrasse\", \"ID\": 35101026, \"N_Gem\": \"Bern\", \"MIV_Distanz_bis_Ziel_km\": 75.5127, \"MIV_Zeit_bis_Ziel_min\": 83.21666666666667, \"OEV_JRTA_von_Start_min\": 0.0, \"OEV_NTR_von_Start\": 0.0, \"easting\": 7.42118, \"northing\": 46.9388, \"Kosten_CHF\": 164.81619166666667}], \"79\": [{\"Stationsnummer\": 4662, \"Name\": \"Bern Kirchbergerstrasse\", \"ID\": 35101026, \"N_Gem\": \"Bern\", \"MIV_Distanz_bis_Ziel_km\": 75.5127, \"MIV_Zeit_bis_Ziel_min\": 83.21666666666667, \"OEV_JRTA_von_Start_min\": 0.0, \"OEV_NTR_von_Start\": 0.0, \"easting\": 7.42118, \"northing\": 46.9388, \"Kosten_CHF\": 166.20313611111112}], \"80\": [{\"Stationsnummer\": 4662, \"Name\": \"Bern Kirchbergerstrasse\", \"ID\": 35101026, \"N_Gem\": \"Bern\", \"MIV_Distanz_bis_Ziel_km\": 75.5127, \"MIV_Zeit_bis_Ziel_min\": 83.21666666666667, \"OEV_JRTA_von_Start_min\": 0.0, \"OEV_NTR_von_Start\": 0.0, \"easting\": 7.42118, \"northing\": 46.9388, \"Kosten_CHF\": 167.59008055555557}], \"81\": [{\"Stationsnummer\": 4662, \"Name\": \"Bern Kirchbergerstrasse\", \"ID\": 35101026, \"N_Gem\": \"Bern\", \"MIV_Distanz_bis_Ziel_km\": 75.5127, \"MIV_Zeit_bis_Ziel_min\": 83.21666666666667, \"OEV_JRTA_von_Start_min\": 0.0, \"OEV_NTR_von_Start\": 0.0, \"easting\": 7.42118, \"northing\": 46.9388, \"Kosten_CHF\": 168.977025}], \"82\": [{\"Stationsnummer\": 4662, \"Name\": \"Bern Kirchbergerstrasse\", \"ID\": 35101026, \"N_Gem\": \"Bern\", \"MIV_Distanz_bis_Ziel_km\": 75.5127, \"MIV_Zeit_bis_Ziel_min\": 83.21666666666667, \"OEV_JRTA_von_Start_min\": 0.0, \"OEV_NTR_von_Start\": 0.0, \"easting\": 7.42118, \"northing\": 46.9388, \"Kosten_CHF\": 170.36396944444445}], \"83\": [{\"Stationsnummer\": 4662, \"Name\": \"Bern Kirchbergerstrasse\", \"ID\": 35101026, \"N_Gem\": \"Bern\", \"MIV_Distanz_bis_Ziel_km\": 75.5127, \"MIV_Zeit_bis_Ziel_min\": 83.21666666666667, \"OEV_JRTA_von_Start_min\": 0.0, \"OEV_NTR_von_Start\": 0.0, \"easting\": 7.42118, \"northing\": 46.9388, \"Kosten_CHF\": 171.75091388888887}], \"84\": [{\"Stationsnummer\": 4662, \"Name\": \"Bern Kirchbergerstrasse\", \"ID\": 35101026, \"N_Gem\": \"Bern\", \"MIV_Distanz_bis_Ziel_km\": 75.5127, \"MIV_Zeit_bis_Ziel_min\": 83.21666666666667, \"OEV_JRTA_von_Start_min\": 0.0, \"OEV_NTR_von_Start\": 0.0, \"easting\": 7.42118, \"northing\": 46.9388, \"Kosten_CHF\": 173.13785833333333}], \"85\": [{\"Stationsnummer\": 4662, \"Name\": \"Bern Kirchbergerstrasse\", \"ID\": 35101026, \"N_Gem\": \"Bern\", \"MIV_Distanz_bis_Ziel_km\": 75.5127, \"MIV_Zeit_bis_Ziel_min\": 83.21666666666667, \"OEV_JRTA_von_Start_min\": 0.0, \"OEV_NTR_von_Start\": 0.0, \"easting\": 7.42118, \"northing\": 46.9388, \"Kosten_CHF\": 174.52480277777778}], \"86\": [{\"Stationsnummer\": 4662, \"Name\": \"Bern Kirchbergerstrasse\", \"ID\": 35101026, \"N_Gem\": \"Bern\", \"MIV_Distanz_bis_Ziel_km\": 75.5127, \"MIV_Zeit_bis_Ziel_min\": 83.21666666666667, \"OEV_JRTA_von_Start_min\": 0.0, \"OEV_NTR_von_Start\": 0.0, \"easting\": 7.42118, \"northing\": 46.9388, \"Kosten_CHF\": 175.91174722222223}], \"87\": [{\"Stationsnummer\": 4662, \"Name\": \"Bern Kirchbergerstrasse\", \"ID\": 35101026, \"N_Gem\": \"Bern\", \"MIV_Distanz_bis_Ziel_km\": 75.5127, \"MIV_Zeit_bis_Ziel_min\": 83.21666666666667, \"OEV_JRTA_von_Start_min\": 0.0, \"OEV_NTR_von_Start\": 0.0, \"easting\": 7.42118, \"northing\": 46.9388, \"Kosten_CHF\": 177.29869166666668}], \"88\": [{\"Stationsnummer\": 4662, \"Name\": \"Bern Kirchbergerstrasse\", \"ID\": 35101026, \"N_Gem\": \"Bern\", \"MIV_Distanz_bis_Ziel_km\": 75.5127, \"MIV_Zeit_bis_Ziel_min\": 83.21666666666667, \"OEV_JRTA_von_Start_min\": 0.0, \"OEV_NTR_von_Start\": 0.0, \"easting\": 7.42118, \"northing\": 46.9388, \"Kosten_CHF\": 178.6856361111111}], \"89\": [{\"Stationsnummer\": 4662, \"Name\": \"Bern Kirchbergerstrasse\", \"ID\": 35101026, \"N_Gem\": \"Bern\", \"MIV_Distanz_bis_Ziel_km\": 75.5127, \"MIV_Zeit_bis_Ziel_min\": 83.21666666666667, \"OEV_JRTA_von_Start_min\": 0.0, \"OEV_NTR_von_Start\": 0.0, \"easting\": 7.42118, \"northing\": 46.9388, \"Kosten_CHF\": 180.07258055555556}], \"90\": [{\"Stationsnummer\": 4662, \"Name\": \"Bern Kirchbergerstrasse\", \"ID\": 35101026, \"N_Gem\": \"Bern\", \"MIV_Distanz_bis_Ziel_km\": 75.5127, \"MIV_Zeit_bis_Ziel_min\": 83.21666666666667, \"OEV_JRTA_von_Start_min\": 0.0, \"OEV_NTR_von_Start\": 0.0, \"easting\": 7.42118, \"northing\": 46.9388, \"Kosten_CHF\": 181.45952499999999}], \"91\": [{\"Stationsnummer\": 4662, \"Name\": \"Bern Kirchbergerstrasse\", \"ID\": 35101026, \"N_Gem\": \"Bern\", \"MIV_Distanz_bis_Ziel_km\": 75.5127, \"MIV_Zeit_bis_Ziel_min\": 83.21666666666667, \"OEV_JRTA_von_Start_min\": 0.0, \"OEV_NTR_von_Start\": 0.0, \"easting\": 7.42118, \"northing\": 46.9388, \"Kosten_CHF\": 182.84646944444444}], \"92\": [{\"Stationsnummer\": 4662, \"Name\": \"Bern Kirchbergerstrasse\", \"ID\": 35101026, \"N_Gem\": \"Bern\", \"MIV_Distanz_bis_Ziel_km\": 75.5127, \"MIV_Zeit_bis_Ziel_min\": 83.21666666666667, \"OEV_JRTA_von_Start_min\": 0.0, \"OEV_NTR_von_Start\": 0.0, \"easting\": 7.42118, \"northing\": 46.9388, \"Kosten_CHF\": 184.2334138888889}], \"93\": [{\"Stationsnummer\": 4662, \"Name\": \"Bern Kirchbergerstrasse\", \"ID\": 35101026, \"N_Gem\": \"Bern\", \"MIV_Distanz_bis_Ziel_km\": 75.5127, \"MIV_Zeit_bis_Ziel_min\": 83.21666666666667, \"OEV_JRTA_von_Start_min\": 0.0, \"OEV_NTR_von_Start\": 0.0, \"easting\": 7.42118, \"northing\": 46.9388, \"Kosten_CHF\": 185.62035833333334}], \"94\": [{\"Stationsnummer\": 4662, \"Name\": \"Bern Kirchbergerstrasse\", \"ID\": 35101026, \"N_Gem\": \"Bern\", \"MIV_Distanz_bis_Ziel_km\": 75.5127, \"MIV_Zeit_bis_Ziel_min\": 83.21666666666667, \"OEV_JRTA_von_Start_min\": 0.0, \"OEV_NTR_von_Start\": 0.0, \"easting\": 7.42118, \"northing\": 46.9388, \"Kosten_CHF\": 187.0073027777778}], \"95\": [{\"Stationsnummer\": 4662, \"Name\": \"Bern Kirchbergerstrasse\", \"ID\": 35101026, \"N_Gem\": \"Bern\", \"MIV_Distanz_bis_Ziel_km\": 75.5127, \"MIV_Zeit_bis_Ziel_min\": 83.21666666666667, \"OEV_JRTA_von_Start_min\": 0.0, \"OEV_NTR_von_Start\": 0.0, \"easting\": 7.42118, \"northing\": 46.9388, \"Kosten_CHF\": 188.39424722222222}], \"96\": [{\"Stationsnummer\": 4662, \"Name\": \"Bern Kirchbergerstrasse\", \"ID\": 35101026, \"N_Gem\": \"Bern\", \"MIV_Distanz_bis_Ziel_km\": 75.5127, \"MIV_Zeit_bis_Ziel_min\": 83.21666666666667, \"OEV_JRTA_von_Start_min\": 0.0, \"OEV_NTR_von_Start\": 0.0, \"easting\": 7.42118, \"northing\": 46.9388, \"Kosten_CHF\": 189.78119166666667}], \"97\": [{\"Stationsnummer\": 4662, \"Name\": \"Bern Kirchbergerstrasse\", \"ID\": 35101026, \"N_Gem\": \"Bern\", \"MIV_Distanz_bis_Ziel_km\": 75.5127, \"MIV_Zeit_bis_Ziel_min\": 83.21666666666667, \"OEV_JRTA_von_Start_min\": 0.0, \"OEV_NTR_von_Start\": 0.0, \"easting\": 7.42118, \"northing\": 46.9388, \"Kosten_CHF\": 191.16813611111112}], \"98\": [{\"Stationsnummer\": 4662, \"Name\": \"Bern Kirchbergerstrasse\", \"ID\": 35101026, \"N_Gem\": \"Bern\", \"MIV_Distanz_bis_Ziel_km\": 75.5127, \"MIV_Zeit_bis_Ziel_min\": 83.21666666666667, \"OEV_JRTA_von_Start_min\": 0.0, \"OEV_NTR_von_Start\": 0.0, \"easting\": 7.42118, \"northing\": 46.9388, \"Kosten_CHF\": 192.55508055555555}], \"99\": [{\"Stationsnummer\": 4662, \"Name\": \"Bern Kirchbergerstrasse\", \"ID\": 35101026, \"N_Gem\": \"Bern\", \"MIV_Distanz_bis_Ziel_km\": 75.5127, \"MIV_Zeit_bis_Ziel_min\": 83.21666666666667, \"OEV_JRTA_von_Start_min\": 0.0, \"OEV_NTR_von_Start\": 0.0, \"easting\": 7.42118, \"northing\": 46.9388, \"Kosten_CHF\": 193.942025}], \"100\": [{\"Stationsnummer\": 4662, \"Name\": \"Bern Kirchbergerstrasse\", \"ID\": 35101026, \"N_Gem\": \"Bern\", \"MIV_Distanz_bis_Ziel_km\": 75.5127, \"MIV_Zeit_bis_Ziel_min\": 83.21666666666667, \"OEV_JRTA_von_Start_min\": 0.0, \"OEV_NTR_von_Start\": 0.0, \"easting\": 7.42118, \"northing\": 46.9388, \"Kosten_CHF\": 195.32896944444445}]}'"
      ]
     },
     "execution_count": 39,
     "metadata": {},
     "output_type": "execute_result"
    }
   ],
   "source": [
    "import json\n",
    "json.dumps(best_mobility_stations_per_vtt)"
   ]
  },
  {
   "cell_type": "markdown",
   "id": "dce795e4-fd13-410b-810b-9cd892e95ef6",
   "metadata": {},
   "source": [
    "### Visualize situation on map"
   ]
  },
  {
   "cell_type": "code",
   "execution_count": null,
   "id": "554e1dd5-3bb0-4bbe-95be-44ccb89983ba",
   "metadata": {},
   "outputs": [],
   "source": [
    "bounds = gdf_potential_mobility_stations_with_data.total_bounds\n",
    "bounds = [[bounds[1], bounds[0]], [bounds[3], bounds[2]]]\n",
    "bounds"
   ]
  },
  {
   "cell_type": "code",
   "execution_count": null,
   "id": "31227655-bc93-41d7-b755-1e035a127176",
   "metadata": {},
   "outputs": [],
   "source": [
    "def show_best_mobility_stations_per_vtt(vtt):\n",
    "    geo_data = GeoData(geo_dataframe=best_mobility_stations_per_vtt[vtt],\n",
    "        style={'color': 'black', 'radius':8, 'fillColor': '#3366cc', 'opacity':0.5, 'weight':1.9, 'dashArray':'2', 'fillOpacity':0.6},\n",
    "        hover_style={'fillColor': 'red' , 'fillOpacity': 0.2},\n",
    "        point_style={'radius': 5, 'color': 'red', 'fillOpacity': 0.8, 'fillColor': 'blue', 'weight': 3},\n",
    "        name = 'Mobility-Stationen')\n",
    "    for l in m.layers:\n",
    "        if type(l) == GeoData:\n",
    "            m.remove_layer(l)\n",
    "    m.add_layer(geo_data)"
   ]
  },
  {
   "cell_type": "code",
   "execution_count": null,
   "id": "7b04a5da-6677-4dd4-bd1e-e50859902093",
   "metadata": {},
   "outputs": [],
   "source": [
    "def on_slider_changed(event):\n",
    "    show_best_mobility_stations_per_vtt(event[\"new\"])"
   ]
  },
  {
   "cell_type": "code",
   "execution_count": null,
   "id": "5cc10526-f95f-4f15-989c-5d372220e94d",
   "metadata": {},
   "outputs": [],
   "source": [
    "from ipyleaflet import Map, GeoData, basemaps, LayersControl, FullScreenControl, Marker, WidgetControl\n",
    "from ipywidgets import IntSlider\n",
    "import geopandas\n",
    "import json\n",
    "\n",
    "vtt_slider = IntSlider(description='Zeitkosten', min=0, max=100, value=20)\n",
    "vtt_slider.observe(on_slider_changed, names='value')\n",
    "\n",
    "widget_control = WidgetControl(widget=vtt_slider, position='topright')\n",
    "\n",
    "m = Map(center=(52.3,8.0), zoom = 3, basemap= basemaps.Esri.WorldTopoMap, scroll_wheel_zoom=True)\n",
    "m.add_control(widget_control)\n",
    "\n",
    "m.fit_bounds(bounds)\n",
    "show_best_mobility_stations_per_vtt(vtt_slider.value)\n",
    "m.add_control(FullScreenControl())\n",
    "\n",
    "m.layout.width = '100%'\n",
    "m.layout.height = '500px'\n",
    "\n",
    "orig_marker = Marker(location=(orig_lon_lat[1], orig_lon_lat[0]) , draggable=False)\n",
    "dest_marker = Marker(location=(dest_lon_lat[1], dest_lon_lat[0]) , draggable=False)\n",
    "\n",
    "m.add_layer(orig_marker)\n",
    "m.add_layer(dest_marker)\n",
    "\n",
    "m"
   ]
  },
  {
   "cell_type": "code",
   "execution_count": null,
   "id": "38951cc5-0bdc-4864-88cd-ab2ba351043f",
   "metadata": {},
   "outputs": [],
   "source": []
  }
 ],
 "metadata": {
  "kernelspec": {
   "display_name": "Python 3 (ipykernel)",
   "language": "python",
   "name": "python3"
  },
  "language_info": {
   "codemirror_mode": {
    "name": "ipython",
    "version": 3
   },
   "file_extension": ".py",
   "mimetype": "text/x-python",
   "name": "python",
   "nbconvert_exporter": "python",
   "pygments_lexer": "ipython3",
   "version": "3.10.8"
  }
 },
 "nbformat": 4,
 "nbformat_minor": 5
}
