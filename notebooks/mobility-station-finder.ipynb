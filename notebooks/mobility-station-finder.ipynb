{
 "cells": [
  {
   "cell_type": "markdown",
   "id": "dc3de318-193b-45d8-8bb5-d3443f50bd8a",
   "metadata": {},
   "source": [
    "# Mobility-Station-Finder"
   ]
  },
  {
   "cell_type": "markdown",
   "id": "b5cd0cbc-960c-448f-855d-bde140762b25",
   "metadata": {},
   "source": [
    "## Imports"
   ]
  },
  {
   "cell_type": "code",
   "execution_count": 1,
   "id": "a2a802a7-68e5-4f3c-ba20-33ccf20f6fca",
   "metadata": {},
   "outputs": [],
   "source": [
    "import geopandas as gpd\n",
    "from shapely.geometry import Point\n",
    "import pandas as pd\n",
    "from matrixconverters.read_ptv import ReadPTVMatrix\n",
    "import requests\n",
    "import os"
   ]
  },
  {
   "cell_type": "markdown",
   "id": "db92c254-6cce-4a2e-82aa-ae8b57defd9e",
   "metadata": {},
   "source": [
    "## Read and process static data"
   ]
  },
  {
   "cell_type": "markdown",
   "id": "4cea168a-baf1-409b-bf33-ed0e6980d364",
   "metadata": {},
   "source": [
    "### Paths"
   ]
  },
  {
   "cell_type": "code",
   "execution_count": 2,
   "id": "7c480fa4-49e2-4200-b96e-c2cd8d35fc45",
   "metadata": {},
   "outputs": [],
   "source": [
    "path_npvm_zones = os.path.join(\"..\", \"data\", \"Verkehrszonen_Schweiz_NPVM_2017_shp.zip\")\n",
    "path_mobility_stations = os.path.join(\"..\", \"data\", \"mobility-stationen-und-fahrzeuge-schweiz.csv\")\n",
    "path_pt_jrta = os.path.join(\"..\", \"data\", \"140_JRTA_(OEV).mtx\")\n",
    "path_pt_ntr = os.path.join(\"..\", \"data\", \"144_NTR_(OEV).mtx\")"
   ]
  },
  {
   "cell_type": "markdown",
   "id": "3badc5ba-0f4a-422b-bde4-701dfc7fed30",
   "metadata": {},
   "source": [
    "### Read NPVM-zones with shapes"
   ]
  },
  {
   "cell_type": "code",
   "execution_count": 3,
   "id": "0a5cb759-72c8-48a3-9e0c-002b61d4a432",
   "metadata": {},
   "outputs": [
    {
     "name": "stdout",
     "output_type": "stream",
     "text": [
      "CPU times: total: 4.23 s\n",
      "Wall time: 4.25 s\n"
     ]
    }
   ],
   "source": [
    "%time gdf_npvm_zones = gpd.read_file(path_npvm_zones, encoding=\"cp1252\").to_crs(4326)"
   ]
  },
  {
   "cell_type": "code",
   "execution_count": 4,
   "id": "5b04eedd-f734-42f2-96be-cefb1af8f5b5",
   "metadata": {},
   "outputs": [
    {
     "data": {
      "text/html": [
       "<div>\n",
       "<style scoped>\n",
       "    .dataframe tbody tr th:only-of-type {\n",
       "        vertical-align: middle;\n",
       "    }\n",
       "\n",
       "    .dataframe tbody tr th {\n",
       "        vertical-align: top;\n",
       "    }\n",
       "\n",
       "    .dataframe thead th {\n",
       "        text-align: right;\n",
       "    }\n",
       "</style>\n",
       "<table border=\"1\" class=\"dataframe\">\n",
       "  <thead>\n",
       "    <tr style=\"text-align: right;\">\n",
       "      <th></th>\n",
       "      <th>ID</th>\n",
       "      <th>ID_alt</th>\n",
       "      <th>ID_Gem</th>\n",
       "      <th>N_Gem</th>\n",
       "      <th>stg_type</th>\n",
       "      <th>N_stg_type</th>\n",
       "      <th>ID_KT</th>\n",
       "      <th>N_KT</th>\n",
       "      <th>ID_SL3</th>\n",
       "      <th>N_SL3</th>\n",
       "      <th>ID_Agglo</th>\n",
       "      <th>N_Agglo</th>\n",
       "      <th>ID_AMR</th>\n",
       "      <th>N_AMR</th>\n",
       "      <th>geometry</th>\n",
       "    </tr>\n",
       "  </thead>\n",
       "  <tbody>\n",
       "    <tr>\n",
       "      <th>0</th>\n",
       "      <td>101001</td>\n",
       "      <td>1</td>\n",
       "      <td>1</td>\n",
       "      <td>Aeugst am Albis</td>\n",
       "      <td>1</td>\n",
       "      <td>None</td>\n",
       "      <td>1</td>\n",
       "      <td>ZH</td>\n",
       "      <td>3</td>\n",
       "      <td>Ländlich</td>\n",
       "      <td>261</td>\n",
       "      <td>Zürich</td>\n",
       "      <td>12031</td>\n",
       "      <td>Dietikon–Schlieren</td>\n",
       "      <td>POLYGON ((8.47334 47.26128, 8.47334 47.26139, ...</td>\n",
       "    </tr>\n",
       "    <tr>\n",
       "      <th>1</th>\n",
       "      <td>201001</td>\n",
       "      <td>2</td>\n",
       "      <td>2</td>\n",
       "      <td>Affoltern am Albis</td>\n",
       "      <td>1</td>\n",
       "      <td>None</td>\n",
       "      <td>1</td>\n",
       "      <td>ZH</td>\n",
       "      <td>1</td>\n",
       "      <td>Städtisch</td>\n",
       "      <td>261</td>\n",
       "      <td>Zürich</td>\n",
       "      <td>12031</td>\n",
       "      <td>Dietikon–Schlieren</td>\n",
       "      <td>POLYGON ((8.42224 47.29775, 8.42282 47.29816, ...</td>\n",
       "    </tr>\n",
       "    <tr>\n",
       "      <th>2</th>\n",
       "      <td>201002</td>\n",
       "      <td>2</td>\n",
       "      <td>2</td>\n",
       "      <td>Affoltern am Albis</td>\n",
       "      <td>1</td>\n",
       "      <td>None</td>\n",
       "      <td>1</td>\n",
       "      <td>ZH</td>\n",
       "      <td>1</td>\n",
       "      <td>Städtisch</td>\n",
       "      <td>261</td>\n",
       "      <td>Zürich</td>\n",
       "      <td>12031</td>\n",
       "      <td>Dietikon–Schlieren</td>\n",
       "      <td>POLYGON ((8.44770 47.26794, 8.44767 47.26782, ...</td>\n",
       "    </tr>\n",
       "    <tr>\n",
       "      <th>3</th>\n",
       "      <td>201003</td>\n",
       "      <td>2</td>\n",
       "      <td>2</td>\n",
       "      <td>Affoltern am Albis</td>\n",
       "      <td>1</td>\n",
       "      <td>None</td>\n",
       "      <td>1</td>\n",
       "      <td>ZH</td>\n",
       "      <td>1</td>\n",
       "      <td>Städtisch</td>\n",
       "      <td>261</td>\n",
       "      <td>Zürich</td>\n",
       "      <td>12031</td>\n",
       "      <td>Dietikon–Schlieren</td>\n",
       "      <td>POLYGON ((8.43834 47.27714, 8.43814 47.27726, ...</td>\n",
       "    </tr>\n",
       "    <tr>\n",
       "      <th>4</th>\n",
       "      <td>201004</td>\n",
       "      <td>2</td>\n",
       "      <td>2</td>\n",
       "      <td>Affoltern am Albis</td>\n",
       "      <td>1</td>\n",
       "      <td>None</td>\n",
       "      <td>1</td>\n",
       "      <td>ZH</td>\n",
       "      <td>1</td>\n",
       "      <td>Städtisch</td>\n",
       "      <td>261</td>\n",
       "      <td>Zürich</td>\n",
       "      <td>12031</td>\n",
       "      <td>Dietikon–Schlieren</td>\n",
       "      <td>POLYGON ((8.45000 47.27949, 8.45007 47.27945, ...</td>\n",
       "    </tr>\n",
       "  </tbody>\n",
       "</table>\n",
       "</div>"
      ],
      "text/plain": [
       "       ID  ID_alt  ID_Gem               N_Gem  stg_type N_stg_type  ID_KT  \\\n",
       "0  101001       1       1     Aeugst am Albis         1       None      1   \n",
       "1  201001       2       2  Affoltern am Albis         1       None      1   \n",
       "2  201002       2       2  Affoltern am Albis         1       None      1   \n",
       "3  201003       2       2  Affoltern am Albis         1       None      1   \n",
       "4  201004       2       2  Affoltern am Albis         1       None      1   \n",
       "\n",
       "  N_KT  ID_SL3      N_SL3  ID_Agglo N_Agglo  ID_AMR               N_AMR  \\\n",
       "0   ZH       3   Ländlich       261  Zürich   12031  Dietikon–Schlieren   \n",
       "1   ZH       1  Städtisch       261  Zürich   12031  Dietikon–Schlieren   \n",
       "2   ZH       1  Städtisch       261  Zürich   12031  Dietikon–Schlieren   \n",
       "3   ZH       1  Städtisch       261  Zürich   12031  Dietikon–Schlieren   \n",
       "4   ZH       1  Städtisch       261  Zürich   12031  Dietikon–Schlieren   \n",
       "\n",
       "                                            geometry  \n",
       "0  POLYGON ((8.47334 47.26128, 8.47334 47.26139, ...  \n",
       "1  POLYGON ((8.42224 47.29775, 8.42282 47.29816, ...  \n",
       "2  POLYGON ((8.44770 47.26794, 8.44767 47.26782, ...  \n",
       "3  POLYGON ((8.43834 47.27714, 8.43814 47.27726, ...  \n",
       "4  POLYGON ((8.45000 47.27949, 8.45007 47.27945, ...  "
      ]
     },
     "execution_count": 4,
     "metadata": {},
     "output_type": "execute_result"
    }
   ],
   "source": [
    "gdf_npvm_zones.head()"
   ]
  },
  {
   "cell_type": "code",
   "execution_count": 5,
   "id": "badcfdbb-a4a6-471e-b9a6-51d8460b2b56",
   "metadata": {},
   "outputs": [
    {
     "name": "stdout",
     "output_type": "stream",
     "text": [
      "Anzahl NPVM-Zonen: 7978\n"
     ]
    }
   ],
   "source": [
    "print(\"Anzahl NPVM-Zonen: {}\".format(len(gdf_npvm_zones)))"
   ]
  },
  {
   "cell_type": "code",
   "execution_count": 6,
   "id": "5b115a0d-557a-4415-86bd-0c537e2a36db",
   "metadata": {},
   "outputs": [],
   "source": [
    "def get_npvm_zone(id_):\n",
    "    return gdf_npvm_zones[gdf_npvm_zones.ID == id_]"
   ]
  },
  {
   "cell_type": "code",
   "execution_count": 7,
   "id": "71e417e1-e238-49dd-ae20-c56987186594",
   "metadata": {},
   "outputs": [
    {
     "data": {
      "text/html": [
       "<div>\n",
       "<style scoped>\n",
       "    .dataframe tbody tr th:only-of-type {\n",
       "        vertical-align: middle;\n",
       "    }\n",
       "\n",
       "    .dataframe tbody tr th {\n",
       "        vertical-align: top;\n",
       "    }\n",
       "\n",
       "    .dataframe thead th {\n",
       "        text-align: right;\n",
       "    }\n",
       "</style>\n",
       "<table border=\"1\" class=\"dataframe\">\n",
       "  <thead>\n",
       "    <tr style=\"text-align: right;\">\n",
       "      <th></th>\n",
       "      <th>ID</th>\n",
       "      <th>ID_alt</th>\n",
       "      <th>ID_Gem</th>\n",
       "      <th>N_Gem</th>\n",
       "      <th>stg_type</th>\n",
       "      <th>N_stg_type</th>\n",
       "      <th>ID_KT</th>\n",
       "      <th>N_KT</th>\n",
       "      <th>ID_SL3</th>\n",
       "      <th>N_SL3</th>\n",
       "      <th>ID_Agglo</th>\n",
       "      <th>N_Agglo</th>\n",
       "      <th>ID_AMR</th>\n",
       "      <th>N_AMR</th>\n",
       "      <th>geometry</th>\n",
       "    </tr>\n",
       "  </thead>\n",
       "  <tbody>\n",
       "    <tr>\n",
       "      <th>84</th>\n",
       "      <td>5301003</td>\n",
       "      <td>53</td>\n",
       "      <td>53</td>\n",
       "      <td>Bülach</td>\n",
       "      <td>1</td>\n",
       "      <td>None</td>\n",
       "      <td>1</td>\n",
       "      <td>ZH</td>\n",
       "      <td>1</td>\n",
       "      <td>Städtisch</td>\n",
       "      <td>261</td>\n",
       "      <td>Zürich</td>\n",
       "      <td>12032</td>\n",
       "      <td>Kloten</td>\n",
       "      <td>POLYGON ((8.53973 47.51618, 8.54007 47.51529, ...</td>\n",
       "    </tr>\n",
       "  </tbody>\n",
       "</table>\n",
       "</div>"
      ],
      "text/plain": [
       "         ID  ID_alt  ID_Gem   N_Gem  stg_type N_stg_type  ID_KT N_KT  ID_SL3  \\\n",
       "84  5301003      53      53  Bülach         1       None      1   ZH       1   \n",
       "\n",
       "        N_SL3  ID_Agglo N_Agglo  ID_AMR   N_AMR  \\\n",
       "84  Städtisch       261  Zürich   12032  Kloten   \n",
       "\n",
       "                                             geometry  \n",
       "84  POLYGON ((8.53973 47.51618, 8.54007 47.51529, ...  "
      ]
     },
     "execution_count": 7,
     "metadata": {},
     "output_type": "execute_result"
    }
   ],
   "source": [
    "get_npvm_zone(5301003)"
   ]
  },
  {
   "cell_type": "markdown",
   "id": "82369f8b-2a46-416d-9319-6c905e71f68b",
   "metadata": {},
   "source": [
    "### Read Mobility-stations, assign NPVM-zones to Mobility-stations"
   ]
  },
  {
   "cell_type": "code",
   "execution_count": 8,
   "id": "b4cd5a13-f2ae-475b-b658-fb44b22ecc7b",
   "metadata": {},
   "outputs": [],
   "source": [
    "df_mobility_vechicles = pd.read_csv(path_mobility_stations, delimiter=\";\", encoding=\"utf8\")[[\"Stationsnummer\", \"Name\", \"Standort\"]].dropna()"
   ]
  },
  {
   "cell_type": "code",
   "execution_count": 9,
   "id": "d7ae35f9-15a4-4a2e-a84b-2296aeaee65f",
   "metadata": {},
   "outputs": [
    {
     "name": "stdout",
     "output_type": "stream",
     "text": [
      "Anzahl Mobility Fahrzeuge: 2662\n"
     ]
    }
   ],
   "source": [
    "print(\"Anzahl Mobility Fahrzeuge: {}\".format(len(df_mobility_vechicles)))"
   ]
  },
  {
   "cell_type": "code",
   "execution_count": 10,
   "id": "faad416e-0891-49bc-9263-bf19bf500798",
   "metadata": {},
   "outputs": [],
   "source": [
    "df_mobility_stations = df_mobility_vechicles.groupby(\"Stationsnummer\").first().reset_index()"
   ]
  },
  {
   "cell_type": "code",
   "execution_count": 11,
   "id": "775e0489-b136-4588-95d4-f723d8202ab2",
   "metadata": {},
   "outputs": [],
   "source": [
    "df_mobility_stations[\"lon\"] = df_mobility_stations[\"Standort\"].apply(lambda x: x.split(\",\")[1])\n",
    "df_mobility_stations[\"lat\"] = df_mobility_stations[\"Standort\"].apply(lambda x: x.split(\",\")[0])\n",
    "df_mobility_stations = gpd.GeoDataFrame(df_mobility_stations, geometry=gpd.points_from_xy(df_mobility_stations.lon, df_mobility_stations.lat), crs=4326)"
   ]
  },
  {
   "cell_type": "code",
   "execution_count": 12,
   "id": "39f64db3-0e43-4de2-8d77-11d854fedd21",
   "metadata": {},
   "outputs": [
    {
     "name": "stdout",
     "output_type": "stream",
     "text": [
      "Anzahl Mobility Stationen: 1550\n"
     ]
    }
   ],
   "source": [
    "print(\"Anzahl Mobility Stationen: {}\".format(len(df_mobility_stations)))"
   ]
  },
  {
   "cell_type": "code",
   "execution_count": 13,
   "id": "01abe261-0dbf-48c8-9646-0e26cc564ed4",
   "metadata": {},
   "outputs": [],
   "source": [
    "gdf_mobilty_stations_with_npvm_zone = gpd.sjoin(df_mobility_stations, gdf_npvm_zones)[[\"Stationsnummer\", \"Name\", \"geometry\", \"ID\", \"N_Gem\"]]"
   ]
  },
  {
   "cell_type": "code",
   "execution_count": 14,
   "id": "3e6e7b7f-560a-4d1d-adbb-ffec26a66cfc",
   "metadata": {},
   "outputs": [
    {
     "name": "stdout",
     "output_type": "stream",
     "text": [
      "Anzahl Mobility Standorte mit zugeordneter NPVM-Zone: 1549\n"
     ]
    }
   ],
   "source": [
    "print(\"Anzahl Mobility Standorte mit zugeordneter NPVM-Zone: {}\".format(len(gdf_mobilty_stations_with_npvm_zone)))"
   ]
  },
  {
   "cell_type": "code",
   "execution_count": 15,
   "id": "221eb029-9e7a-4473-b39a-aafdd82723f1",
   "metadata": {},
   "outputs": [
    {
     "data": {
      "text/html": [
       "<div>\n",
       "<style scoped>\n",
       "    .dataframe tbody tr th:only-of-type {\n",
       "        vertical-align: middle;\n",
       "    }\n",
       "\n",
       "    .dataframe tbody tr th {\n",
       "        vertical-align: top;\n",
       "    }\n",
       "\n",
       "    .dataframe thead th {\n",
       "        text-align: right;\n",
       "    }\n",
       "</style>\n",
       "<table border=\"1\" class=\"dataframe\">\n",
       "  <thead>\n",
       "    <tr style=\"text-align: right;\">\n",
       "      <th></th>\n",
       "      <th>Stationsnummer</th>\n",
       "      <th>Name</th>\n",
       "      <th>geometry</th>\n",
       "      <th>ID</th>\n",
       "      <th>N_Gem</th>\n",
       "    </tr>\n",
       "  </thead>\n",
       "  <tbody>\n",
       "    <tr>\n",
       "      <th>0</th>\n",
       "      <td>1006</td>\n",
       "      <td>Brugg Bahnhof</td>\n",
       "      <td>POINT (8.20942 47.48154)</td>\n",
       "      <td>409501008</td>\n",
       "      <td>Brugg</td>\n",
       "    </tr>\n",
       "    <tr>\n",
       "      <th>719</th>\n",
       "      <td>3215</td>\n",
       "      <td>Brugg Post Neumarkt / Bahnhofstrasse</td>\n",
       "      <td>POINT (8.20757 47.48216)</td>\n",
       "      <td>409501008</td>\n",
       "      <td>Brugg</td>\n",
       "    </tr>\n",
       "    <tr>\n",
       "      <th>1</th>\n",
       "      <td>1012</td>\n",
       "      <td>Arbon Bahnhof</td>\n",
       "      <td>POINT (9.43345 47.51032)</td>\n",
       "      <td>440101010</td>\n",
       "      <td>Arbon</td>\n",
       "    </tr>\n",
       "    <tr>\n",
       "      <th>2</th>\n",
       "      <td>1019</td>\n",
       "      <td>Basel Vogesenstrasse</td>\n",
       "      <td>POINT (7.57483 47.56869)</td>\n",
       "      <td>270101028</td>\n",
       "      <td>Basel</td>\n",
       "    </tr>\n",
       "    <tr>\n",
       "      <th>3</th>\n",
       "      <td>1024</td>\n",
       "      <td>Bellinzona Stazione</td>\n",
       "      <td>POINT (9.03017 46.19630)</td>\n",
       "      <td>500201015</td>\n",
       "      <td>Bellinzona</td>\n",
       "    </tr>\n",
       "  </tbody>\n",
       "</table>\n",
       "</div>"
      ],
      "text/plain": [
       "     Stationsnummer                                  Name  \\\n",
       "0              1006                         Brugg Bahnhof   \n",
       "719            3215  Brugg Post Neumarkt / Bahnhofstrasse   \n",
       "1              1012                         Arbon Bahnhof   \n",
       "2              1019                  Basel Vogesenstrasse   \n",
       "3              1024                   Bellinzona Stazione   \n",
       "\n",
       "                     geometry         ID       N_Gem  \n",
       "0    POINT (8.20942 47.48154)  409501008       Brugg  \n",
       "719  POINT (8.20757 47.48216)  409501008       Brugg  \n",
       "1    POINT (9.43345 47.51032)  440101010       Arbon  \n",
       "2    POINT (7.57483 47.56869)  270101028       Basel  \n",
       "3    POINT (9.03017 46.19630)  500201015  Bellinzona  "
      ]
     },
     "execution_count": 15,
     "metadata": {},
     "output_type": "execute_result"
    }
   ],
   "source": [
    "gdf_mobilty_stations_with_npvm_zone.head()"
   ]
  },
  {
   "cell_type": "code",
   "execution_count": 16,
   "id": "1fecf0a2-6d5a-418f-86c8-a5c5b3abe8c5",
   "metadata": {},
   "outputs": [],
   "source": [
    "gdf_npvm_zones_with_mobility_station = gdf_mobilty_stations_with_npvm_zone.dissolve(by=\"ID\", aggfunc={\"N_Gem\": \"first\", \"Name\": lambda x: list(x), \"Stationsnummer\": lambda x: list(x)}).reset_index()"
   ]
  },
  {
   "cell_type": "code",
   "execution_count": 17,
   "id": "ae1c06ec-e23d-4126-9717-f1dfa8d46678",
   "metadata": {},
   "outputs": [
    {
     "name": "stdout",
     "output_type": "stream",
     "text": [
      "Anzahl NPVM-Zonen mit Mobility-Standort: 1311\n"
     ]
    }
   ],
   "source": [
    "print(\"Anzahl NPVM-Zonen mit Mobility-Standort: {}\".format(len(gdf_npvm_zones_with_mobility_station)))"
   ]
  },
  {
   "cell_type": "code",
   "execution_count": 18,
   "id": "0b3732fb-1272-4e9a-9c46-b78eb5495d7f",
   "metadata": {},
   "outputs": [
    {
     "data": {
      "text/plain": [
       "'            ID                  geometry    N_Gem  \\\\\\n911  378601001  POINT (9.87270 46.53347)  Samedan   \\n\\n                               Name Stationsnummer  \\n911  [Samedan Bahnhof / via Retica]         [4906]  '"
      ]
     },
     "execution_count": 18,
     "metadata": {},
     "output_type": "execute_result"
    }
   ],
   "source": [
    "\"{}\".format(gdf_npvm_zones_with_mobility_station[gdf_npvm_zones_with_mobility_station.N_Gem == \"Samedan\"])"
   ]
  },
  {
   "cell_type": "markdown",
   "id": "535a725a-cb55-477b-abce-64e97cb5919d",
   "metadata": {},
   "source": [
    "### Read PT-skims"
   ]
  },
  {
   "cell_type": "code",
   "execution_count": 19,
   "id": "44def8b6-9e22-4ac2-b8b6-1c70a4487a25",
   "metadata": {},
   "outputs": [
    {
     "name": "stdout",
     "output_type": "stream",
     "text": [
      "CPU times: total: 8.53 s\n",
      "Wall time: 8.56 s\n"
     ]
    }
   ],
   "source": [
    "%time skim_jrta = ReadPTVMatrix(path_pt_jrta)"
   ]
  },
  {
   "cell_type": "code",
   "execution_count": 20,
   "id": "397782f2-c9d4-4820-8f3a-a7dbada321d7",
   "metadata": {},
   "outputs": [
    {
     "name": "stdout",
     "output_type": "stream",
     "text": [
      "CPU times: total: 8.33 s\n",
      "Wall time: 8.38 s\n"
     ]
    }
   ],
   "source": [
    "%time skim_ntr = ReadPTVMatrix(path_pt_ntr)"
   ]
  },
  {
   "cell_type": "code",
   "execution_count": 21,
   "id": "d42db127-8c61-4233-a2e1-8b8ee789d8c2",
   "metadata": {},
   "outputs": [],
   "source": [
    "def get_skim(skim_matrix, from_npvm_zone_id, to_npvm_zone_id):\n",
    "    return skim_matrix.sel(origins=from_npvm_zone_id).sel(destinations=to_npvm_zone_id).matrix.item()"
   ]
  },
  {
   "cell_type": "code",
   "execution_count": 22,
   "id": "ed948051-0051-4b40-ba4e-67060a065c69",
   "metadata": {},
   "outputs": [],
   "source": [
    "def get_jrta(from_npvm_zone_id, to_npvm_zone_id):\n",
    "    return get_skim(skim_jrta, from_npvm_zone_id, to_npvm_zone_id)"
   ]
  },
  {
   "cell_type": "code",
   "execution_count": 23,
   "id": "16c84c7f-b95f-42f0-b5a4-6a055ea08aff",
   "metadata": {},
   "outputs": [],
   "source": [
    "def get_ntr(from_npvm_zone_id, to_npvm_zone_id):\n",
    "    return get_skim(skim_ntr, from_npvm_zone_id, to_npvm_zone_id)"
   ]
  },
  {
   "cell_type": "code",
   "execution_count": 24,
   "id": "9ca67766-f894-4a82-87c7-df51b93850f9",
   "metadata": {},
   "outputs": [
    {
     "data": {
      "text/plain": [
       "286.0875843780647"
      ]
     },
     "execution_count": 24,
     "metadata": {},
     "output_type": "execute_result"
    }
   ],
   "source": [
    "get_jrta(378601001, 35101026)"
   ]
  },
  {
   "cell_type": "code",
   "execution_count": 25,
   "id": "98b6ac49-4939-4496-bec6-9d0e8bf98eb0",
   "metadata": {},
   "outputs": [
    {
     "data": {
      "text/plain": [
       "3.000000000000001"
      ]
     },
     "execution_count": 25,
     "metadata": {},
     "output_type": "execute_result"
    }
   ],
   "source": [
    "get_ntr(378601001, 35101026)"
   ]
  },
  {
   "cell_type": "markdown",
   "id": "1ed1291d-869b-4565-9cfe-1fe5f10a6575",
   "metadata": {},
   "source": [
    "## Execute query"
   ]
  },
  {
   "cell_type": "markdown",
   "id": "b1971d40-3119-4b79-aa4e-8ec5220af09a",
   "metadata": {},
   "source": [
    "### Define origin and destination and assign NPVM-Zone"
   ]
  },
  {
   "cell_type": "code",
   "execution_count": 26,
   "id": "33086e09-dd66-4d50-afdf-fc97bd8e012e",
   "metadata": {},
   "outputs": [],
   "source": [
    "orig_lon_lat = (7.423570, 46.936620)\n",
    "dest_lon_lat = (7.695260, 46.828541)"
   ]
  },
  {
   "cell_type": "code",
   "execution_count": 27,
   "id": "7e54faab-e74d-4edf-89bd-88d1be74aea8",
   "metadata": {},
   "outputs": [],
   "source": [
    "def get_npvm_zone_id(point_easting_northing, gdf_npvm_zones):\n",
    "    point = Point(point_easting_northing[0], point_easting_northing[1])\n",
    "    gdf_point = gpd.GeoDataFrame({'geometry': [point]}, crs=\"EPSG:4326\")\n",
    "    gdf_point_with_zone = gpd.sjoin(gdf_point, gdf_npvm_zones)[[\"ID\", \"N_Gem\", \"geometry\"]]\n",
    "    return gdf_point_with_zone[\"ID\"].item()"
   ]
  },
  {
   "cell_type": "code",
   "execution_count": 28,
   "id": "00323ad2-38e1-459d-84a7-174284159a12",
   "metadata": {},
   "outputs": [
    {
     "data": {
      "text/plain": [
       "35101026"
      ]
     },
     "execution_count": 28,
     "metadata": {},
     "output_type": "execute_result"
    }
   ],
   "source": [
    "get_npvm_zone_id((7.423570, 46.936620), gdf_npvm_zones)"
   ]
  },
  {
   "cell_type": "code",
   "execution_count": 29,
   "id": "00dc03b1-cefd-4dcf-bda9-4bf7316a0b69",
   "metadata": {},
   "outputs": [],
   "source": [
    "orig_zone_id = get_npvm_zone_id(orig_lon_lat, gdf_npvm_zones)\n",
    "dest_zone_id = get_npvm_zone_id(dest_lon_lat, gdf_npvm_zones)"
   ]
  },
  {
   "cell_type": "code",
   "execution_count": 30,
   "id": "e3a4455e-f95d-481c-bd11-9491fd2194c2",
   "metadata": {},
   "outputs": [
    {
     "name": "stdout",
     "output_type": "stream",
     "text": [
      "35101026\n",
      "92301001\n"
     ]
    },
    {
     "data": {
      "text/plain": [
       "101.2076327070268"
      ]
     },
     "execution_count": 30,
     "metadata": {},
     "output_type": "execute_result"
    }
   ],
   "source": [
    "print(orig_zone_id)\n",
    "print(dest_zone_id)\n",
    "get_jrta(orig_zone_id, dest_zone_id)"
   ]
  },
  {
   "cell_type": "code",
   "execution_count": 78,
   "id": "64f92d36-158d-4019-90ed-e60d154822a1",
   "metadata": {},
   "outputs": [],
   "source": [
    "def get_potential_mobility_stations(orig_zone_id, dest_zone_id, gdf_mobilty_stations_with_npvm_zone, factor=1.5, constant=30.0):\n",
    "    jrta_orig_dest = get_jrta(orig_zone_id, dest_zone_id)\n",
    "    potential_stations_ids = []\n",
    "    for station_id, zone_id in gdf_mobilty_stations_with_npvm_zone[[\"Stationsnummer\", \"ID\"]].values.tolist():\n",
    "        jrta_orig_station = get_jrta(orig_zone_id, zone_id)\n",
    "        jrta_station_dest = get_jrta(zone_id, dest_zone_id)\n",
    "        if jrta_orig_station + jrta_station_dest <= factor * jrta_orig_dest + constant:\n",
    "            potential_stations_ids += [station_id]\n",
    "    df_potential_station_ids = pd.DataFrame(potential_stations_ids, columns=[\"Stationsnummer\"])\n",
    "    return pd.merge(gdf_mobilty_stations_with_npvm_zone, df_potential_station_ids, on=[\"Stationsnummer\"])"
   ]
  },
  {
   "cell_type": "code",
   "execution_count": 79,
   "id": "85fa706b-84c2-458b-a9b8-65420660a7e9",
   "metadata": {},
   "outputs": [
    {
     "data": {
      "text/html": [
       "<div>\n",
       "<style scoped>\n",
       "    .dataframe tbody tr th:only-of-type {\n",
       "        vertical-align: middle;\n",
       "    }\n",
       "\n",
       "    .dataframe tbody tr th {\n",
       "        vertical-align: top;\n",
       "    }\n",
       "\n",
       "    .dataframe thead th {\n",
       "        text-align: right;\n",
       "    }\n",
       "</style>\n",
       "<table border=\"1\" class=\"dataframe\">\n",
       "  <thead>\n",
       "    <tr style=\"text-align: right;\">\n",
       "      <th></th>\n",
       "      <th>Stationsnummer</th>\n",
       "      <th>Name</th>\n",
       "      <th>geometry</th>\n",
       "      <th>ID</th>\n",
       "      <th>N_Gem</th>\n",
       "    </tr>\n",
       "  </thead>\n",
       "  <tbody>\n",
       "    <tr>\n",
       "      <th>0</th>\n",
       "      <td>1027</td>\n",
       "      <td>Belp Bahnhof</td>\n",
       "      <td>POINT (7.50005 46.88650)</td>\n",
       "      <td>86101006</td>\n",
       "      <td>Belp</td>\n",
       "    </tr>\n",
       "    <tr>\n",
       "      <th>1</th>\n",
       "      <td>1040</td>\n",
       "      <td>Burgdorf Bahnhof</td>\n",
       "      <td>POINT (7.61934 47.06081)</td>\n",
       "      <td>40401007</td>\n",
       "      <td>Burgdorf</td>\n",
       "    </tr>\n",
       "    <tr>\n",
       "      <th>2</th>\n",
       "      <td>1041</td>\n",
       "      <td>Burgdorf Steinhof</td>\n",
       "      <td>POINT (7.61717 47.05301)</td>\n",
       "      <td>40401009</td>\n",
       "      <td>Burgdorf</td>\n",
       "    </tr>\n",
       "    <tr>\n",
       "      <th>3</th>\n",
       "      <td>4402</td>\n",
       "      <td>Burgdorf Pestalozzistrasse / Berner Fachhochsc...</td>\n",
       "      <td>POINT (7.62025 47.05750)</td>\n",
       "      <td>40401009</td>\n",
       "      <td>Burgdorf</td>\n",
       "    </tr>\n",
       "    <tr>\n",
       "      <th>4</th>\n",
       "      <td>1075</td>\n",
       "      <td>Köniz Bahnhof</td>\n",
       "      <td>POINT (7.41546 46.92504)</td>\n",
       "      <td>35501018</td>\n",
       "      <td>Köniz</td>\n",
       "    </tr>\n",
       "    <tr>\n",
       "      <th>...</th>\n",
       "      <td>...</td>\n",
       "      <td>...</td>\n",
       "      <td>...</td>\n",
       "      <td>...</td>\n",
       "      <td>...</td>\n",
       "    </tr>\n",
       "    <tr>\n",
       "      <th>193</th>\n",
       "      <td>5908</td>\n",
       "      <td>Burgdorf Oberstadt / Emmentalstrasse</td>\n",
       "      <td>POINT (7.62482 47.05484)</td>\n",
       "      <td>40401014</td>\n",
       "      <td>Burgdorf</td>\n",
       "    </tr>\n",
       "    <tr>\n",
       "      <th>194</th>\n",
       "      <td>5909</td>\n",
       "      <td>Bern Kollerweg</td>\n",
       "      <td>POINT (7.45487 46.94371)</td>\n",
       "      <td>35101082</td>\n",
       "      <td>Bern</td>\n",
       "    </tr>\n",
       "    <tr>\n",
       "      <th>195</th>\n",
       "      <td>5926</td>\n",
       "      <td>Grosshöchstetten Bahnhof</td>\n",
       "      <td>POINT (7.63551 46.90527)</td>\n",
       "      <td>60801001</td>\n",
       "      <td>Grosshöchstetten</td>\n",
       "    </tr>\n",
       "    <tr>\n",
       "      <th>196</th>\n",
       "      <td>5963</td>\n",
       "      <td>Bern Huebergass</td>\n",
       "      <td>POINT (7.41610 46.94553)</td>\n",
       "      <td>35101025</td>\n",
       "      <td>Bern</td>\n",
       "    </tr>\n",
       "    <tr>\n",
       "      <th>197</th>\n",
       "      <td>5990</td>\n",
       "      <td>Fribourg Bourg / Tilleul</td>\n",
       "      <td>POINT (7.16110 46.80615)</td>\n",
       "      <td>219601017</td>\n",
       "      <td>Fribourg</td>\n",
       "    </tr>\n",
       "  </tbody>\n",
       "</table>\n",
       "<p>198 rows × 5 columns</p>\n",
       "</div>"
      ],
      "text/plain": [
       "     Stationsnummer                                               Name  \\\n",
       "0              1027                                       Belp Bahnhof   \n",
       "1              1040                                   Burgdorf Bahnhof   \n",
       "2              1041                                  Burgdorf Steinhof   \n",
       "3              4402  Burgdorf Pestalozzistrasse / Berner Fachhochsc...   \n",
       "4              1075                                      Köniz Bahnhof   \n",
       "..              ...                                                ...   \n",
       "193            5908               Burgdorf Oberstadt / Emmentalstrasse   \n",
       "194            5909                                     Bern Kollerweg   \n",
       "195            5926                           Grosshöchstetten Bahnhof   \n",
       "196            5963                                    Bern Huebergass   \n",
       "197            5990                           Fribourg Bourg / Tilleul   \n",
       "\n",
       "                     geometry         ID             N_Gem  \n",
       "0    POINT (7.50005 46.88650)   86101006              Belp  \n",
       "1    POINT (7.61934 47.06081)   40401007          Burgdorf  \n",
       "2    POINT (7.61717 47.05301)   40401009          Burgdorf  \n",
       "3    POINT (7.62025 47.05750)   40401009          Burgdorf  \n",
       "4    POINT (7.41546 46.92504)   35501018             Köniz  \n",
       "..                        ...        ...               ...  \n",
       "193  POINT (7.62482 47.05484)   40401014          Burgdorf  \n",
       "194  POINT (7.45487 46.94371)   35101082              Bern  \n",
       "195  POINT (7.63551 46.90527)   60801001  Grosshöchstetten  \n",
       "196  POINT (7.41610 46.94553)   35101025              Bern  \n",
       "197  POINT (7.16110 46.80615)  219601017          Fribourg  \n",
       "\n",
       "[198 rows x 5 columns]"
      ]
     },
     "execution_count": 79,
     "metadata": {},
     "output_type": "execute_result"
    }
   ],
   "source": [
    "get_potential_mobility_stations(orig_zone_id, dest_zone_id, gdf_mobilty_stations_with_npvm_zone)"
   ]
  },
  {
   "cell_type": "code",
   "execution_count": 33,
   "id": "e3ca41f1-9a3f-4758-a377-d39fae6f2da0",
   "metadata": {},
   "outputs": [],
   "source": [
    "orig_point = Point(orig_lon_lat[0], orig_lon_lat[1])\n",
    "dest_point = Point(dest_lon_lat[0], dest_lon_lat[1])"
   ]
  },
  {
   "cell_type": "code",
   "execution_count": 34,
   "id": "9b8b3242-bb4f-4f79-9b9b-1a8e4acec0ce",
   "metadata": {},
   "outputs": [],
   "source": [
    "gdf_orig = gpd.GeoDataFrame({'geometry': [orig_point]}, crs=\"EPSG:4326\")\n",
    "gdf_dest = gpd.GeoDataFrame({'geometry': [dest_point]}, crs=\"EPSG:4326\")"
   ]
  },
  {
   "cell_type": "code",
   "execution_count": 35,
   "id": "e2cf6580-2e01-47e2-8940-7dc2278bff8c",
   "metadata": {},
   "outputs": [],
   "source": [
    "gdf_orig_with_zone = gpd.sjoin(gdf_orig, gdf_npvm_zones)[[\"ID\", \"N_Gem\", \"geometry\"]]\n",
    "gdf_dest_zone = gpd.sjoin(gdf_orig, gdf_npvm_zones)[[\"ID\", \"N_Gem\", \"geometry\"]]"
   ]
  },
  {
   "cell_type": "code",
   "execution_count": 36,
   "id": "ac3ac142-5024-468e-8680-01ff77ca2552",
   "metadata": {},
   "outputs": [
    {
     "data": {
      "text/html": [
       "<div>\n",
       "<style scoped>\n",
       "    .dataframe tbody tr th:only-of-type {\n",
       "        vertical-align: middle;\n",
       "    }\n",
       "\n",
       "    .dataframe tbody tr th {\n",
       "        vertical-align: top;\n",
       "    }\n",
       "\n",
       "    .dataframe thead th {\n",
       "        text-align: right;\n",
       "    }\n",
       "</style>\n",
       "<table border=\"1\" class=\"dataframe\">\n",
       "  <thead>\n",
       "    <tr style=\"text-align: right;\">\n",
       "      <th></th>\n",
       "      <th>ID</th>\n",
       "      <th>N_Gem</th>\n",
       "      <th>geometry</th>\n",
       "    </tr>\n",
       "  </thead>\n",
       "  <tbody>\n",
       "    <tr>\n",
       "      <th>0</th>\n",
       "      <td>35101026</td>\n",
       "      <td>Bern</td>\n",
       "      <td>POINT (7.42357 46.93662)</td>\n",
       "    </tr>\n",
       "  </tbody>\n",
       "</table>\n",
       "</div>"
      ],
      "text/plain": [
       "         ID N_Gem                  geometry\n",
       "0  35101026  Bern  POINT (7.42357 46.93662)"
      ]
     },
     "execution_count": 36,
     "metadata": {},
     "output_type": "execute_result"
    }
   ],
   "source": [
    "gdf_orig_with_zone"
   ]
  },
  {
   "cell_type": "code",
   "execution_count": 37,
   "id": "3f46efe7-20ef-41bd-982c-02d49b892c40",
   "metadata": {},
   "outputs": [
    {
     "data": {
      "text/html": [
       "<div>\n",
       "<style scoped>\n",
       "    .dataframe tbody tr th:only-of-type {\n",
       "        vertical-align: middle;\n",
       "    }\n",
       "\n",
       "    .dataframe tbody tr th {\n",
       "        vertical-align: top;\n",
       "    }\n",
       "\n",
       "    .dataframe thead th {\n",
       "        text-align: right;\n",
       "    }\n",
       "</style>\n",
       "<table border=\"1\" class=\"dataframe\">\n",
       "  <thead>\n",
       "    <tr style=\"text-align: right;\">\n",
       "      <th></th>\n",
       "      <th>ID</th>\n",
       "      <th>N_Gem</th>\n",
       "      <th>geometry</th>\n",
       "    </tr>\n",
       "  </thead>\n",
       "  <tbody>\n",
       "    <tr>\n",
       "      <th>0</th>\n",
       "      <td>35101026</td>\n",
       "      <td>Bern</td>\n",
       "      <td>POINT (7.42357 46.93662)</td>\n",
       "    </tr>\n",
       "  </tbody>\n",
       "</table>\n",
       "</div>"
      ],
      "text/plain": [
       "         ID N_Gem                  geometry\n",
       "0  35101026  Bern  POINT (7.42357 46.93662)"
      ]
     },
     "execution_count": 37,
     "metadata": {},
     "output_type": "execute_result"
    }
   ],
   "source": [
    "gdf_dest_zone"
   ]
  },
  {
   "cell_type": "code",
   "execution_count": 38,
   "id": "f49d75ba-4b03-4d65-a0f5-38202979b03d",
   "metadata": {},
   "outputs": [],
   "source": [
    "orig_zone_id = gdf_orig_with_zone[\"ID\"].item()"
   ]
  },
  {
   "cell_type": "markdown",
   "id": "4268f130-4c2a-4ade-a246-2c4ed0cb5379",
   "metadata": {},
   "source": [
    "### Compute potential NPVM-zones with Mobility-station"
   ]
  },
  {
   "cell_type": "code",
   "execution_count": 39,
   "id": "b479eeae-7ccd-4d97-90ae-08f53cef9372",
   "metadata": {},
   "outputs": [],
   "source": [
    "gdf_circle_around_orig  = gpd.GeoDataFrame(geometry=gdf_orig_with_zone.to_crs(2026).buffer(5*1000).to_crs(4326), crs=\"EPSG:4326\")\n",
    "gdf_circle_around_dest = gpd.GeoDataFrame(geometry=gdf_dest_zone.to_crs(2026).buffer(100*1000).to_crs(4326), crs=\"EPSG:4326\")"
   ]
  },
  {
   "cell_type": "code",
   "execution_count": 40,
   "id": "abb5771b-31b3-483d-b554-97d2e84f9b1c",
   "metadata": {},
   "outputs": [
    {
     "data": {
      "text/html": [
       "<div>\n",
       "<style scoped>\n",
       "    .dataframe tbody tr th:only-of-type {\n",
       "        vertical-align: middle;\n",
       "    }\n",
       "\n",
       "    .dataframe tbody tr th {\n",
       "        vertical-align: top;\n",
       "    }\n",
       "\n",
       "    .dataframe thead th {\n",
       "        text-align: right;\n",
       "    }\n",
       "</style>\n",
       "<table border=\"1\" class=\"dataframe\">\n",
       "  <thead>\n",
       "    <tr style=\"text-align: right;\">\n",
       "      <th></th>\n",
       "      <th>geometry</th>\n",
       "    </tr>\n",
       "  </thead>\n",
       "  <tbody>\n",
       "    <tr>\n",
       "      <th>0</th>\n",
       "      <td>POLYGON ((7.40836 46.90462, 7.40386 46.90580, ...</td>\n",
       "    </tr>\n",
       "  </tbody>\n",
       "</table>\n",
       "</div>"
      ],
      "text/plain": [
       "                                            geometry\n",
       "0  POLYGON ((7.40836 46.90462, 7.40386 46.90580, ..."
      ]
     },
     "execution_count": 40,
     "metadata": {},
     "output_type": "execute_result"
    }
   ],
   "source": [
    "gdf_circle_around_orig"
   ]
  },
  {
   "cell_type": "code",
   "execution_count": 41,
   "id": "c2557622-2ec5-4b28-a8ce-a91e99fe07b1",
   "metadata": {},
   "outputs": [
    {
     "data": {
      "text/html": [
       "<div>\n",
       "<style scoped>\n",
       "    .dataframe tbody tr th:only-of-type {\n",
       "        vertical-align: middle;\n",
       "    }\n",
       "\n",
       "    .dataframe tbody tr th {\n",
       "        vertical-align: top;\n",
       "    }\n",
       "\n",
       "    .dataframe thead th {\n",
       "        text-align: right;\n",
       "    }\n",
       "</style>\n",
       "<table border=\"1\" class=\"dataframe\">\n",
       "  <thead>\n",
       "    <tr style=\"text-align: right;\">\n",
       "      <th></th>\n",
       "      <th>geometry</th>\n",
       "    </tr>\n",
       "  </thead>\n",
       "  <tbody>\n",
       "    <tr>\n",
       "      <th>0</th>\n",
       "      <td>POLYGON ((7.12418 46.29940, 7.03584 46.32239, ...</td>\n",
       "    </tr>\n",
       "  </tbody>\n",
       "</table>\n",
       "</div>"
      ],
      "text/plain": [
       "                                            geometry\n",
       "0  POLYGON ((7.12418 46.29940, 7.03584 46.32239, ..."
      ]
     },
     "execution_count": 41,
     "metadata": {},
     "output_type": "execute_result"
    }
   ],
   "source": [
    "gdf_circle_around_dest"
   ]
  },
  {
   "cell_type": "code",
   "execution_count": 42,
   "id": "6f2a3ce7-b296-426d-bdf7-3ace972b728b",
   "metadata": {},
   "outputs": [],
   "source": [
    "gdf_npvm_zones_with_mobility_station_in_orig_circle = gpd.sjoin(gdf_npvm_zones_with_mobility_station, gdf_circle_around_orig)\n",
    "gdf_npvm_zones_with_mobility_station_in_dest_circle = gpd.sjoin(gdf_npvm_zones_with_mobility_station, gdf_circle_around_dest)"
   ]
  },
  {
   "cell_type": "code",
   "execution_count": 43,
   "id": "8d312a07-a59a-4846-aca3-355d2ccffbcc",
   "metadata": {},
   "outputs": [
    {
     "name": "stdout",
     "output_type": "stream",
     "text": [
      "Anzahl NPVM-Zonen mit Mobility-Station im Umkreis des Startpunkts: 63\n",
      "Anzahl NPVM-Zonen mit Mobility-Station im Umkreis des Zielpunkts: 549\n"
     ]
    }
   ],
   "source": [
    "print(\"Anzahl NPVM-Zonen mit Mobility-Station im Umkreis des Startpunkts: {}\".format(len(gdf_npvm_zones_with_mobility_station_in_orig_circle)))\n",
    "print(\"Anzahl NPVM-Zonen mit Mobility-Station im Umkreis des Zielpunkts: {}\".format(len(gdf_npvm_zones_with_mobility_station_in_dest_circle)))"
   ]
  },
  {
   "cell_type": "code",
   "execution_count": 44,
   "id": "7f0c02b9-7b96-4c93-8a61-0311ec2ed6f7",
   "metadata": {},
   "outputs": [
    {
     "data": {
      "text/html": [
       "<div>\n",
       "<style scoped>\n",
       "    .dataframe tbody tr th:only-of-type {\n",
       "        vertical-align: middle;\n",
       "    }\n",
       "\n",
       "    .dataframe tbody tr th {\n",
       "        vertical-align: top;\n",
       "    }\n",
       "\n",
       "    .dataframe thead th {\n",
       "        text-align: right;\n",
       "    }\n",
       "</style>\n",
       "<table border=\"1\" class=\"dataframe\">\n",
       "  <thead>\n",
       "    <tr style=\"text-align: right;\">\n",
       "      <th></th>\n",
       "      <th>ID</th>\n",
       "      <th>geometry</th>\n",
       "      <th>N_Gem</th>\n",
       "      <th>Name</th>\n",
       "      <th>Stationsnummer</th>\n",
       "      <th>index_right</th>\n",
       "    </tr>\n",
       "  </thead>\n",
       "  <tbody>\n",
       "    <tr>\n",
       "      <th>347</th>\n",
       "      <td>35101004</td>\n",
       "      <td>MULTIPOINT (7.38055 46.94513, 7.38364 46.94701)</td>\n",
       "      <td>Bern</td>\n",
       "      <td>[Bern Migros Bethlehem, Bern Brünnen / Riedbac...</td>\n",
       "      <td>[2180, 4718]</td>\n",
       "      <td>0</td>\n",
       "    </tr>\n",
       "    <tr>\n",
       "      <th>348</th>\n",
       "      <td>35101006</td>\n",
       "      <td>POINT (7.38535 46.93170)</td>\n",
       "      <td>Bern</td>\n",
       "      <td>[Bern Bümpliz / Wangenstrasse]</td>\n",
       "      <td>[5248]</td>\n",
       "      <td>0</td>\n",
       "    </tr>\n",
       "    <tr>\n",
       "      <th>349</th>\n",
       "      <td>35101007</td>\n",
       "      <td>POINT (7.38609 46.94300)</td>\n",
       "      <td>Bern</td>\n",
       "      <td>[Bern Bümpliz / Brünnenstrasse]</td>\n",
       "      <td>[4604]</td>\n",
       "      <td>0</td>\n",
       "    </tr>\n",
       "    <tr>\n",
       "      <th>350</th>\n",
       "      <td>35101011</td>\n",
       "      <td>POINT (7.38905 46.94569)</td>\n",
       "      <td>Bern</td>\n",
       "      <td>[Bern Bümpliz Nord Bahnhof]</td>\n",
       "      <td>[2902]</td>\n",
       "      <td>0</td>\n",
       "    </tr>\n",
       "    <tr>\n",
       "      <th>351</th>\n",
       "      <td>35101016</td>\n",
       "      <td>MULTIPOINT (7.39396 46.94112, 7.39438 46.93700...</td>\n",
       "      <td>Bern</td>\n",
       "      <td>[Bern Bümpliz Süd Bahnhof, Bern Bümpliz Zentru...</td>\n",
       "      <td>[2537, 3921, 4073]</td>\n",
       "      <td>0</td>\n",
       "    </tr>\n",
       "  </tbody>\n",
       "</table>\n",
       "</div>"
      ],
      "text/plain": [
       "           ID                                           geometry N_Gem  \\\n",
       "347  35101004    MULTIPOINT (7.38055 46.94513, 7.38364 46.94701)  Bern   \n",
       "348  35101006                           POINT (7.38535 46.93170)  Bern   \n",
       "349  35101007                           POINT (7.38609 46.94300)  Bern   \n",
       "350  35101011                           POINT (7.38905 46.94569)  Bern   \n",
       "351  35101016  MULTIPOINT (7.39396 46.94112, 7.39438 46.93700...  Bern   \n",
       "\n",
       "                                                  Name      Stationsnummer  \\\n",
       "347  [Bern Migros Bethlehem, Bern Brünnen / Riedbac...        [2180, 4718]   \n",
       "348                     [Bern Bümpliz / Wangenstrasse]              [5248]   \n",
       "349                    [Bern Bümpliz / Brünnenstrasse]              [4604]   \n",
       "350                        [Bern Bümpliz Nord Bahnhof]              [2902]   \n",
       "351  [Bern Bümpliz Süd Bahnhof, Bern Bümpliz Zentru...  [2537, 3921, 4073]   \n",
       "\n",
       "     index_right  \n",
       "347            0  \n",
       "348            0  \n",
       "349            0  \n",
       "350            0  \n",
       "351            0  "
      ]
     },
     "execution_count": 44,
     "metadata": {},
     "output_type": "execute_result"
    }
   ],
   "source": [
    "gdf_npvm_zones_with_mobility_station_in_orig_circle.head()"
   ]
  },
  {
   "cell_type": "code",
   "execution_count": 45,
   "id": "5c666fa8-c6d8-4b98-a58f-9c84ca07f856",
   "metadata": {},
   "outputs": [
    {
     "data": {
      "text/html": [
       "<div>\n",
       "<style scoped>\n",
       "    .dataframe tbody tr th:only-of-type {\n",
       "        vertical-align: middle;\n",
       "    }\n",
       "\n",
       "    .dataframe tbody tr th {\n",
       "        vertical-align: top;\n",
       "    }\n",
       "\n",
       "    .dataframe thead th {\n",
       "        text-align: right;\n",
       "    }\n",
       "</style>\n",
       "<table border=\"1\" class=\"dataframe\">\n",
       "  <thead>\n",
       "    <tr style=\"text-align: right;\">\n",
       "      <th></th>\n",
       "      <th>ID</th>\n",
       "      <th>geometry</th>\n",
       "      <th>N_Gem</th>\n",
       "      <th>Name</th>\n",
       "      <th>Stationsnummer</th>\n",
       "      <th>index_right</th>\n",
       "    </tr>\n",
       "  </thead>\n",
       "  <tbody>\n",
       "  </tbody>\n",
       "</table>\n",
       "</div>"
      ],
      "text/plain": [
       "Empty GeoDataFrame\n",
       "Columns: [ID, geometry, N_Gem, Name, Stationsnummer, index_right]\n",
       "Index: []"
      ]
     },
     "execution_count": 45,
     "metadata": {},
     "output_type": "execute_result"
    }
   ],
   "source": [
    "gdf_npvm_zones_with_mobility_station_in_dest_circle[gdf_npvm_zones_with_mobility_station_in_dest_circle.N_Gem == \"Samedan\"]"
   ]
  },
  {
   "cell_type": "code",
   "execution_count": 46,
   "id": "ee308b30-70cf-44c7-af48-60b488b80a1a",
   "metadata": {},
   "outputs": [],
   "source": [
    "gdf_npvm_zones_with_potential_mobility_station = pd.concat([gdf_npvm_zones_with_mobility_station_in_orig_circle, gdf_npvm_zones_with_mobility_station_in_dest_circle]).groupby(\"ID\").first().reset_index().drop([\"index_right\"], axis=1)"
   ]
  },
  {
   "cell_type": "code",
   "execution_count": 47,
   "id": "0c7ada34-8b49-49fb-ae42-d4d0782f0ce1",
   "metadata": {},
   "outputs": [
    {
     "name": "stdout",
     "output_type": "stream",
     "text": [
      "Anzahl NPVM-Zonen mit Mobility-Station im Umkreis des Start- oder Zielpunkts: 549\n"
     ]
    }
   ],
   "source": [
    "print(\"Anzahl NPVM-Zonen mit Mobility-Station im Umkreis des Start- oder Zielpunkts: {}\".format(len(gdf_npvm_zones_with_potential_mobility_station)))"
   ]
  },
  {
   "cell_type": "code",
   "execution_count": 48,
   "id": "d25e618f-06df-4e42-adde-8eca2dc4524f",
   "metadata": {},
   "outputs": [
    {
     "data": {
      "text/html": [
       "<div>\n",
       "<style scoped>\n",
       "    .dataframe tbody tr th:only-of-type {\n",
       "        vertical-align: middle;\n",
       "    }\n",
       "\n",
       "    .dataframe tbody tr th {\n",
       "        vertical-align: top;\n",
       "    }\n",
       "\n",
       "    .dataframe thead th {\n",
       "        text-align: right;\n",
       "    }\n",
       "</style>\n",
       "<table border=\"1\" class=\"dataframe\">\n",
       "  <thead>\n",
       "    <tr style=\"text-align: right;\">\n",
       "      <th></th>\n",
       "      <th>ID</th>\n",
       "      <th>geometry</th>\n",
       "      <th>N_Gem</th>\n",
       "      <th>Name</th>\n",
       "      <th>Stationsnummer</th>\n",
       "    </tr>\n",
       "  </thead>\n",
       "  <tbody>\n",
       "    <tr>\n",
       "      <th>0</th>\n",
       "      <td>30101004</td>\n",
       "      <td>POINT (7.27780 47.04357)</td>\n",
       "      <td>Aarberg</td>\n",
       "      <td>[Aarberg Bahnhof]</td>\n",
       "      <td>[2672]</td>\n",
       "    </tr>\n",
       "    <tr>\n",
       "      <th>1</th>\n",
       "      <td>30601005</td>\n",
       "      <td>POINT (7.30569 47.07726)</td>\n",
       "      <td>Lyss</td>\n",
       "      <td>[Lyss Bahnhof]</td>\n",
       "      <td>[1579]</td>\n",
       "    </tr>\n",
       "    <tr>\n",
       "      <th>2</th>\n",
       "      <td>30601007</td>\n",
       "      <td>POINT (7.30560 47.07900)</td>\n",
       "      <td>Lyss</td>\n",
       "      <td>[Lyss Busswilstrasse]</td>\n",
       "      <td>[4565]</td>\n",
       "    </tr>\n",
       "    <tr>\n",
       "      <th>3</th>\n",
       "      <td>30601012</td>\n",
       "      <td>POINT (7.31873 47.09890)</td>\n",
       "      <td>Lyss</td>\n",
       "      <td>[Busswil Bahnhof]</td>\n",
       "      <td>[4222]</td>\n",
       "    </tr>\n",
       "    <tr>\n",
       "      <th>4</th>\n",
       "      <td>31101002</td>\n",
       "      <td>POINT (7.38656 47.04189)</td>\n",
       "      <td>Schüpfen</td>\n",
       "      <td>[Schüpfen Bahnhof]</td>\n",
       "      <td>[1249]</td>\n",
       "    </tr>\n",
       "  </tbody>\n",
       "</table>\n",
       "</div>"
      ],
      "text/plain": [
       "         ID                  geometry     N_Gem                   Name  \\\n",
       "0  30101004  POINT (7.27780 47.04357)   Aarberg      [Aarberg Bahnhof]   \n",
       "1  30601005  POINT (7.30569 47.07726)      Lyss         [Lyss Bahnhof]   \n",
       "2  30601007  POINT (7.30560 47.07900)      Lyss  [Lyss Busswilstrasse]   \n",
       "3  30601012  POINT (7.31873 47.09890)      Lyss      [Busswil Bahnhof]   \n",
       "4  31101002  POINT (7.38656 47.04189)  Schüpfen     [Schüpfen Bahnhof]   \n",
       "\n",
       "  Stationsnummer  \n",
       "0         [2672]  \n",
       "1         [1579]  \n",
       "2         [4565]  \n",
       "3         [4222]  \n",
       "4         [1249]  "
      ]
     },
     "execution_count": 48,
     "metadata": {},
     "output_type": "execute_result"
    }
   ],
   "source": [
    "gdf_npvm_zones_with_potential_mobility_station.head()"
   ]
  },
  {
   "cell_type": "code",
   "execution_count": 49,
   "id": "9e2448ca-0380-4f36-9e5f-cb1aa6d00c44",
   "metadata": {},
   "outputs": [
    {
     "data": {
      "text/html": [
       "<div>\n",
       "<style scoped>\n",
       "    .dataframe tbody tr th:only-of-type {\n",
       "        vertical-align: middle;\n",
       "    }\n",
       "\n",
       "    .dataframe tbody tr th {\n",
       "        vertical-align: top;\n",
       "    }\n",
       "\n",
       "    .dataframe thead th {\n",
       "        text-align: right;\n",
       "    }\n",
       "</style>\n",
       "<table border=\"1\" class=\"dataframe\">\n",
       "  <thead>\n",
       "    <tr style=\"text-align: right;\">\n",
       "      <th></th>\n",
       "      <th>ID</th>\n",
       "      <th>geometry</th>\n",
       "      <th>N_Gem</th>\n",
       "      <th>Name</th>\n",
       "      <th>Stationsnummer</th>\n",
       "    </tr>\n",
       "  </thead>\n",
       "  <tbody>\n",
       "    <tr>\n",
       "      <th>2</th>\n",
       "      <td>30601007</td>\n",
       "      <td>POINT (7.30560 47.07900)</td>\n",
       "      <td>Lyss</td>\n",
       "      <td>[Lyss Busswilstrasse]</td>\n",
       "      <td>[4565]</td>\n",
       "    </tr>\n",
       "  </tbody>\n",
       "</table>\n",
       "</div>"
      ],
      "text/plain": [
       "         ID                  geometry N_Gem                   Name  \\\n",
       "2  30601007  POINT (7.30560 47.07900)  Lyss  [Lyss Busswilstrasse]   \n",
       "\n",
       "  Stationsnummer  \n",
       "2         [4565]  "
      ]
     },
     "execution_count": 49,
     "metadata": {},
     "output_type": "execute_result"
    }
   ],
   "source": [
    "gdf_npvm_zones_with_potential_mobility_station[gdf_npvm_zones_with_potential_mobility_station.ID == 30601007]"
   ]
  },
  {
   "cell_type": "markdown",
   "id": "d827a70f-27d6-4bd4-97ac-cf27492efe90",
   "metadata": {},
   "source": [
    "### Get Mobility travel time and distance from ORMS"
   ]
  },
  {
   "cell_type": "code",
   "execution_count": 50,
   "id": "4121dd75-bf9a-40ea-8ffc-f5ed0adbb900",
   "metadata": {},
   "outputs": [],
   "source": [
    "MIV_DISTANZ_BIS_ZIEL_KM = \"MIV_Distanz_bis_Ziel_km\"\n",
    "MIV_ZEIT_BIS_ZIEL_MIN = \"MIV_Zeit_bis_Ziel_min\"\n",
    "\n",
    "OEV_JRTA_VON_START_MIN = \"OEV_JRTA_von_Start_min\"\n",
    "OEV_NTR_VON_START = \"OEV_NTR_von_Start\""
   ]
  },
  {
   "cell_type": "code",
   "execution_count": 73,
   "id": "13ee9354-ec40-48c9-bdb0-239a3ba16bbe",
   "metadata": {},
   "outputs": [],
   "source": [
    "# TODO hier weitermachen. Diese Funktion funktioniert noch nicht wie gewünscht\n",
    "def collect_data_on_potential_npvm_zones(orig_zone_id, gdf_npvm_zones_with_potential_mobility_station):\n",
    "    list_npvm_zones_with_potential_mobility_station = list(gdf_npvm_zones_with_potential_mobility_station.to_records())\n",
    "    coords_str = \"{},{}\".format(dest_point.x, dest_point.y)\n",
    "    for pot_mob_st in list_npvm_zones_with_potential_mobility_station:\n",
    "        center = pot_mob_st[3].centroid\n",
    "        coords_str += \";{},{}\".format(center.x, center.y)\n",
    "    url = \"https://router.project-osrm.org/table/v1/driving/{}?destinations=0&annotations=duration,distance\".format(coords_str)\n",
    "    res = requests.get(url).json()\n",
    "    road_distances_from_npvm_zones_with_potential_mobility_station_to_dest_per_npvm_zone_id = {x[4]: res[\"distances\"][x[0] + 1][0] for x in list_npvm_zones_with_potential_mobility_station}\n",
    "    road_durations_from_npvm_zones_with_potential_mobility_station_to_dest_per_npvm_zone_id = {x[4]: res[\"durations\"][x[0] + 1][0] for x in list_npvm_zones_with_potential_mobility_station}\n",
    "    \n",
    "    pd_distances = pd.DataFrame(list(road_distances_from_npvm_zones_with_potential_mobility_station_to_dest_per_npvm_zone_id.items()), columns=[\"ID\", \"MIV_Distanz_bis_Ziel_km\"])\n",
    "    pd_distances[MIV_DISTANZ_BIS_ZIEL_KM] = pd_distances[MIV_DISTANZ_BIS_ZIEL_KM] / 1000.0\n",
    "    print(len(pd_distances))\n",
    "    \n",
    "    pd_durations= pd.DataFrame(list(road_durations_from_npvm_zones_with_potential_mobility_station_to_dest_per_npvm_zone_id.items()), columns=[\"ID\", \"MIV_Zeit_bis_Ziel_min\"])\n",
    "    pd_durations[MIV_ZEIT_BIS_ZIEL_MIN] = pd_durations[MIV_ZEIT_BIS_ZIEL_MIN] / 60.0\n",
    "    print(len(pd_durations))\n",
    "\n",
    "    gdf_npvm_zones_with_potential_mobility_station_with_data = pd.merge(gdf_npvm_zones_with_potential_mobility_station, pd_distances, on=[\"ID\"])\n",
    "    gdf_npvm_zones_with_potential_mobility_station_with_data = pd.merge(gdf_npvm_zones_with_potential_mobility_station_with_data, pd_durations, on=[\"ID\"])\n",
    "    \n",
    "    print(len(gdf_npvm_zones_with_potential_mobility_station_with_data))\n",
    "    \n",
    "    zone_ids_list = [x.item() for x in gdf_npvm_zones_with_potential_mobility_station[[\"ID\"]].values]\n",
    "    jrta_list = [(x, get_jrta(orig_zone_id, x)) for x in zone_ids_list]\n",
    "    ntr_list = [(x, get_ntr(orig_zone_id, x)) for x in zone_ids_list]\n",
    "    \n",
    "    pd_jrtas = pd.DataFrame(jrta_list, columns=[\"ID\", OEV_JRTA_VON_START_MIN])\n",
    "    pd_ntrs = pd.DataFrame(ntr_list, columns=[\"ID\", OEV_NTR_VON_START])\n",
    "    \n",
    "    gdf_npvm_zones_with_potential_mobility_station_with_data = pd.merge(gdf_npvm_zones_with_potential_mobility_station_with_data, pd_jrtas, on=[\"ID\"])\n",
    "    gdf_npvm_zones_with_potential_mobility_station_with_data = pd.merge(gdf_npvm_zones_with_potential_mobility_station_with_data, pd_ntrs, on=[\"ID\"])\n",
    "    \n",
    "    return gdf_npvm_zones_with_potential_mobility_station_with_data"
   ]
  },
  {
   "cell_type": "code",
   "execution_count": 74,
   "id": "502c3287-82ae-498b-9789-5faf268c4c7d",
   "metadata": {},
   "outputs": [
    {
     "data": {
      "text/html": [
       "<div>\n",
       "<style scoped>\n",
       "    .dataframe tbody tr th:only-of-type {\n",
       "        vertical-align: middle;\n",
       "    }\n",
       "\n",
       "    .dataframe tbody tr th {\n",
       "        vertical-align: top;\n",
       "    }\n",
       "\n",
       "    .dataframe thead th {\n",
       "        text-align: right;\n",
       "    }\n",
       "</style>\n",
       "<table border=\"1\" class=\"dataframe\">\n",
       "  <thead>\n",
       "    <tr style=\"text-align: right;\">\n",
       "      <th></th>\n",
       "      <th>Stationsnummer</th>\n",
       "      <th>Name</th>\n",
       "      <th>geometry</th>\n",
       "      <th>ID</th>\n",
       "      <th>N_Gem</th>\n",
       "    </tr>\n",
       "  </thead>\n",
       "  <tbody>\n",
       "    <tr>\n",
       "      <th>0</th>\n",
       "      <td>1027</td>\n",
       "      <td>Belp Bahnhof</td>\n",
       "      <td>POINT (7.50005 46.88650)</td>\n",
       "      <td>86101006</td>\n",
       "      <td>Belp</td>\n",
       "    </tr>\n",
       "    <tr>\n",
       "      <th>1</th>\n",
       "      <td>1040</td>\n",
       "      <td>Burgdorf Bahnhof</td>\n",
       "      <td>POINT (7.61934 47.06081)</td>\n",
       "      <td>40401007</td>\n",
       "      <td>Burgdorf</td>\n",
       "    </tr>\n",
       "    <tr>\n",
       "      <th>2</th>\n",
       "      <td>1041</td>\n",
       "      <td>Burgdorf Steinhof</td>\n",
       "      <td>POINT (7.61717 47.05301)</td>\n",
       "      <td>40401009</td>\n",
       "      <td>Burgdorf</td>\n",
       "    </tr>\n",
       "    <tr>\n",
       "      <th>3</th>\n",
       "      <td>4402</td>\n",
       "      <td>Burgdorf Pestalozzistrasse / Berner Fachhochsc...</td>\n",
       "      <td>POINT (7.62025 47.05750)</td>\n",
       "      <td>40401009</td>\n",
       "      <td>Burgdorf</td>\n",
       "    </tr>\n",
       "    <tr>\n",
       "      <th>4</th>\n",
       "      <td>1075</td>\n",
       "      <td>Köniz Bahnhof</td>\n",
       "      <td>POINT (7.41546 46.92504)</td>\n",
       "      <td>35501018</td>\n",
       "      <td>Köniz</td>\n",
       "    </tr>\n",
       "  </tbody>\n",
       "</table>\n",
       "</div>"
      ],
      "text/plain": [
       "   Stationsnummer                                               Name  \\\n",
       "0            1027                                       Belp Bahnhof   \n",
       "1            1040                                   Burgdorf Bahnhof   \n",
       "2            1041                                  Burgdorf Steinhof   \n",
       "3            4402  Burgdorf Pestalozzistrasse / Berner Fachhochsc...   \n",
       "4            1075                                      Köniz Bahnhof   \n",
       "\n",
       "                   geometry        ID     N_Gem  \n",
       "0  POINT (7.50005 46.88650)  86101006      Belp  \n",
       "1  POINT (7.61934 47.06081)  40401007  Burgdorf  \n",
       "2  POINT (7.61717 47.05301)  40401009  Burgdorf  \n",
       "3  POINT (7.62025 47.05750)  40401009  Burgdorf  \n",
       "4  POINT (7.41546 46.92504)  35501018     Köniz  "
      ]
     },
     "execution_count": 74,
     "metadata": {},
     "output_type": "execute_result"
    }
   ],
   "source": [
    "gdf_npvm_zones_with_potential_mobility_station = get_potential_mobility_stations(orig_zone_id, dest_zone_id, gdf_mobilty_stations_with_npvm_zone)\n",
    "gdf_npvm_zones_with_potential_mobility_station.head()"
   ]
  },
  {
   "cell_type": "code",
   "execution_count": 75,
   "id": "bceb5e25-7fe7-4af9-8f6e-0ca0ff968d66",
   "metadata": {},
   "outputs": [
    {
     "name": "stdout",
     "output_type": "stream",
     "text": [
      "148\n",
      "148\n",
      "198\n"
     ]
    },
    {
     "data": {
      "text/html": [
       "<div>\n",
       "<style scoped>\n",
       "    .dataframe tbody tr th:only-of-type {\n",
       "        vertical-align: middle;\n",
       "    }\n",
       "\n",
       "    .dataframe tbody tr th {\n",
       "        vertical-align: top;\n",
       "    }\n",
       "\n",
       "    .dataframe thead th {\n",
       "        text-align: right;\n",
       "    }\n",
       "</style>\n",
       "<table border=\"1\" class=\"dataframe\">\n",
       "  <thead>\n",
       "    <tr style=\"text-align: right;\">\n",
       "      <th></th>\n",
       "      <th>Stationsnummer</th>\n",
       "      <th>Name</th>\n",
       "      <th>geometry</th>\n",
       "      <th>ID</th>\n",
       "      <th>N_Gem</th>\n",
       "      <th>MIV_Distanz_bis_Ziel_km</th>\n",
       "      <th>MIV_Zeit_bis_Ziel_min</th>\n",
       "      <th>OEV_JRTA_von_Start_min</th>\n",
       "      <th>OEV_NTR_von_Start</th>\n",
       "    </tr>\n",
       "  </thead>\n",
       "  <tbody>\n",
       "    <tr>\n",
       "      <th>0</th>\n",
       "      <td>1027</td>\n",
       "      <td>Belp Bahnhof</td>\n",
       "      <td>POINT (7.50005 46.88650)</td>\n",
       "      <td>86101006</td>\n",
       "      <td>Belp</td>\n",
       "      <td>30.0800</td>\n",
       "      <td>29.845000</td>\n",
       "      <td>30.413020</td>\n",
       "      <td>0.000000</td>\n",
       "    </tr>\n",
       "    <tr>\n",
       "      <th>1</th>\n",
       "      <td>1040</td>\n",
       "      <td>Burgdorf Bahnhof</td>\n",
       "      <td>POINT (7.61934 47.06081)</td>\n",
       "      <td>40401007</td>\n",
       "      <td>Burgdorf</td>\n",
       "      <td>42.7260</td>\n",
       "      <td>51.641667</td>\n",
       "      <td>45.149267</td>\n",
       "      <td>1.000000</td>\n",
       "    </tr>\n",
       "    <tr>\n",
       "      <th>2</th>\n",
       "      <td>1041</td>\n",
       "      <td>Burgdorf Steinhof</td>\n",
       "      <td>POINT (7.61717 47.05301)</td>\n",
       "      <td>40401009</td>\n",
       "      <td>Burgdorf</td>\n",
       "      <td>41.2089</td>\n",
       "      <td>48.831667</td>\n",
       "      <td>52.161444</td>\n",
       "      <td>1.565170</td>\n",
       "    </tr>\n",
       "    <tr>\n",
       "      <th>3</th>\n",
       "      <td>1041</td>\n",
       "      <td>Burgdorf Steinhof</td>\n",
       "      <td>POINT (7.61717 47.05301)</td>\n",
       "      <td>40401009</td>\n",
       "      <td>Burgdorf</td>\n",
       "      <td>41.2089</td>\n",
       "      <td>48.831667</td>\n",
       "      <td>52.161444</td>\n",
       "      <td>1.565170</td>\n",
       "    </tr>\n",
       "    <tr>\n",
       "      <th>4</th>\n",
       "      <td>1041</td>\n",
       "      <td>Burgdorf Steinhof</td>\n",
       "      <td>POINT (7.61717 47.05301)</td>\n",
       "      <td>40401009</td>\n",
       "      <td>Burgdorf</td>\n",
       "      <td>41.2089</td>\n",
       "      <td>48.831667</td>\n",
       "      <td>52.161444</td>\n",
       "      <td>1.565170</td>\n",
       "    </tr>\n",
       "    <tr>\n",
       "      <th>...</th>\n",
       "      <td>...</td>\n",
       "      <td>...</td>\n",
       "      <td>...</td>\n",
       "      <td>...</td>\n",
       "      <td>...</td>\n",
       "      <td>...</td>\n",
       "      <td>...</td>\n",
       "      <td>...</td>\n",
       "      <td>...</td>\n",
       "    </tr>\n",
       "    <tr>\n",
       "      <th>715</th>\n",
       "      <td>5908</td>\n",
       "      <td>Burgdorf Oberstadt / Emmentalstrasse</td>\n",
       "      <td>POINT (7.62482 47.05484)</td>\n",
       "      <td>40401014</td>\n",
       "      <td>Burgdorf</td>\n",
       "      <td>40.7884</td>\n",
       "      <td>47.708333</td>\n",
       "      <td>45.399546</td>\n",
       "      <td>1.000000</td>\n",
       "    </tr>\n",
       "    <tr>\n",
       "      <th>716</th>\n",
       "      <td>5909</td>\n",
       "      <td>Bern Kollerweg</td>\n",
       "      <td>POINT (7.45487 46.94371)</td>\n",
       "      <td>35101082</td>\n",
       "      <td>Bern</td>\n",
       "      <td>36.6293</td>\n",
       "      <td>33.620000</td>\n",
       "      <td>25.576906</td>\n",
       "      <td>1.020846</td>\n",
       "    </tr>\n",
       "    <tr>\n",
       "      <th>717</th>\n",
       "      <td>5926</td>\n",
       "      <td>Grosshöchstetten Bahnhof</td>\n",
       "      <td>POINT (7.63551 46.90527)</td>\n",
       "      <td>60801001</td>\n",
       "      <td>Grosshöchstetten</td>\n",
       "      <td>18.9012</td>\n",
       "      <td>22.728333</td>\n",
       "      <td>66.197192</td>\n",
       "      <td>2.000207</td>\n",
       "    </tr>\n",
       "    <tr>\n",
       "      <th>718</th>\n",
       "      <td>5963</td>\n",
       "      <td>Bern Huebergass</td>\n",
       "      <td>POINT (7.41610 46.94553)</td>\n",
       "      <td>35101025</td>\n",
       "      <td>Bern</td>\n",
       "      <td>39.9269</td>\n",
       "      <td>38.528333</td>\n",
       "      <td>15.428683</td>\n",
       "      <td>1.000000</td>\n",
       "    </tr>\n",
       "    <tr>\n",
       "      <th>719</th>\n",
       "      <td>5990</td>\n",
       "      <td>Fribourg Bourg / Tilleul</td>\n",
       "      <td>POINT (7.16110 46.80615)</td>\n",
       "      <td>219601017</td>\n",
       "      <td>Fribourg</td>\n",
       "      <td>72.7822</td>\n",
       "      <td>60.328333</td>\n",
       "      <td>49.594822</td>\n",
       "      <td>1.004089</td>\n",
       "    </tr>\n",
       "  </tbody>\n",
       "</table>\n",
       "<p>720 rows × 9 columns</p>\n",
       "</div>"
      ],
      "text/plain": [
       "     Stationsnummer                                  Name  \\\n",
       "0              1027                          Belp Bahnhof   \n",
       "1              1040                      Burgdorf Bahnhof   \n",
       "2              1041                     Burgdorf Steinhof   \n",
       "3              1041                     Burgdorf Steinhof   \n",
       "4              1041                     Burgdorf Steinhof   \n",
       "..              ...                                   ...   \n",
       "715            5908  Burgdorf Oberstadt / Emmentalstrasse   \n",
       "716            5909                        Bern Kollerweg   \n",
       "717            5926              Grosshöchstetten Bahnhof   \n",
       "718            5963                       Bern Huebergass   \n",
       "719            5990              Fribourg Bourg / Tilleul   \n",
       "\n",
       "                     geometry         ID             N_Gem  \\\n",
       "0    POINT (7.50005 46.88650)   86101006              Belp   \n",
       "1    POINT (7.61934 47.06081)   40401007          Burgdorf   \n",
       "2    POINT (7.61717 47.05301)   40401009          Burgdorf   \n",
       "3    POINT (7.61717 47.05301)   40401009          Burgdorf   \n",
       "4    POINT (7.61717 47.05301)   40401009          Burgdorf   \n",
       "..                        ...        ...               ...   \n",
       "715  POINT (7.62482 47.05484)   40401014          Burgdorf   \n",
       "716  POINT (7.45487 46.94371)   35101082              Bern   \n",
       "717  POINT (7.63551 46.90527)   60801001  Grosshöchstetten   \n",
       "718  POINT (7.41610 46.94553)   35101025              Bern   \n",
       "719  POINT (7.16110 46.80615)  219601017          Fribourg   \n",
       "\n",
       "     MIV_Distanz_bis_Ziel_km  MIV_Zeit_bis_Ziel_min  OEV_JRTA_von_Start_min  \\\n",
       "0                    30.0800              29.845000               30.413020   \n",
       "1                    42.7260              51.641667               45.149267   \n",
       "2                    41.2089              48.831667               52.161444   \n",
       "3                    41.2089              48.831667               52.161444   \n",
       "4                    41.2089              48.831667               52.161444   \n",
       "..                       ...                    ...                     ...   \n",
       "715                  40.7884              47.708333               45.399546   \n",
       "716                  36.6293              33.620000               25.576906   \n",
       "717                  18.9012              22.728333               66.197192   \n",
       "718                  39.9269              38.528333               15.428683   \n",
       "719                  72.7822              60.328333               49.594822   \n",
       "\n",
       "     OEV_NTR_von_Start  \n",
       "0             0.000000  \n",
       "1             1.000000  \n",
       "2             1.565170  \n",
       "3             1.565170  \n",
       "4             1.565170  \n",
       "..                 ...  \n",
       "715           1.000000  \n",
       "716           1.020846  \n",
       "717           2.000207  \n",
       "718           1.000000  \n",
       "719           1.004089  \n",
       "\n",
       "[720 rows x 9 columns]"
      ]
     },
     "execution_count": 75,
     "metadata": {},
     "output_type": "execute_result"
    }
   ],
   "source": [
    "collect_data_on_potential_npvm_zones(orig_zone_id, gdf_npvm_zones_with_potential_mobility_station)"
   ]
  },
  {
   "cell_type": "code",
   "execution_count": null,
   "id": "6e8d981f-09e0-4ae0-8b86-19110f631a63",
   "metadata": {},
   "outputs": [],
   "source": [
    "list_npvm_zones_with_potential_mobility_station = list(gdf_npvm_zones_with_potential_mobility_station.to_records())"
   ]
  },
  {
   "cell_type": "code",
   "execution_count": null,
   "id": "683dfdeb-9fd4-4fa1-8751-75d42cfc84c4",
   "metadata": {},
   "outputs": [],
   "source": [
    "list_npvm_zones_with_potential_mobility_station[:3]"
   ]
  },
  {
   "cell_type": "code",
   "execution_count": null,
   "id": "c56feeb6-2fe0-4fad-861a-274afa38ec1b",
   "metadata": {},
   "outputs": [],
   "source": [
    "coords_str = \"{},{}\".format(dest_point.x, dest_point.y)\n",
    "for pot_mob_st in list_npvm_zones_with_potential_mobility_station:\n",
    "    center = pot_mob_st[3].centroid\n",
    "    coords_str += \";{},{}\".format(center.x, center.y)\n",
    "url = \"https://router.project-osrm.org/table/v1/driving/{}?destinations=0&annotations=duration,distance\".format(coords_str)"
   ]
  },
  {
   "cell_type": "code",
   "execution_count": null,
   "id": "3c2516a2-3f83-4bdd-bef4-66ec60046c44",
   "metadata": {},
   "outputs": [],
   "source": [
    "%time res = requests.get(url).json()"
   ]
  },
  {
   "cell_type": "code",
   "execution_count": null,
   "id": "d08a6156-700d-4c20-b4ee-5dcbd8b22f31",
   "metadata": {},
   "outputs": [],
   "source": [
    "road_distances_from_npvm_zones_with_potential_mobility_station_to_dest_per_npvm_zone_id = {x[1]: res[\"distances\"][x[0] + 1][0] for x in list_npvm_zones_with_potential_mobility_station}\n",
    "road_durations_from_npvm_zones_with_potential_mobility_station_to_dest_per_npvm_zone_id = {x[1]: res[\"durations\"][x[0] + 1][0] for x in list_npvm_zones_with_potential_mobility_station}"
   ]
  },
  {
   "cell_type": "code",
   "execution_count": null,
   "id": "ebabfb9f-3a1a-4ffd-87d4-75f6214eb7f1",
   "metadata": {},
   "outputs": [],
   "source": [
    "print(\"Anzahl Distanzen: {}\".format(len(road_distances_from_npvm_zones_with_potential_mobility_station_to_dest_per_npvm_zone_id)))\n",
    "print(\"Anzahl Reisezeiten: {}\".format(len(road_durations_from_npvm_zones_with_potential_mobility_station_to_dest_per_npvm_zone_id)))"
   ]
  },
  {
   "cell_type": "code",
   "execution_count": null,
   "id": "4b0b0fec-65d9-43c6-b37b-5ed97289930a",
   "metadata": {},
   "outputs": [],
   "source": [
    "gdf_npvm_zones_with_potential_mobility_station.head()"
   ]
  },
  {
   "cell_type": "code",
   "execution_count": null,
   "id": "d85570d8-25ee-417c-86b9-5896d15c932f",
   "metadata": {},
   "outputs": [],
   "source": [
    "MIV_DISTANZ_BIS_ZIEL_KM = \"MIV_Distanz_bis_Ziel_km\"\n",
    "MIV_ZEIT_BIS_ZIEL_MIN = \"MIV_Zeit_bis_Ziel_min\""
   ]
  },
  {
   "cell_type": "code",
   "execution_count": null,
   "id": "b4c3deb6-8dd9-4c78-91b2-0e447d4c3079",
   "metadata": {},
   "outputs": [],
   "source": [
    "pd_distances = pd.DataFrame(list(road_distances_from_npvm_zones_with_potential_mobility_station_to_dest_per_npvm_zone_id.items()), columns=[\"ID\", \"MIV_Distanz_bis_Ziel_km\"])\n",
    "pd_distances[MIV_DISTANZ_BIS_ZIEL_KM] = pd_distances[MIV_DISTANZ_BIS_ZIEL_KM] / 1000.0\n",
    "pd_durations= pd.DataFrame(list(road_durations_from_npvm_zones_with_potential_mobility_station_to_dest_per_npvm_zone_id.items()), columns=[\"ID\", \"MIV_Zeit_bis_Ziel_min\"])\n",
    "pd_durations[MIV_ZEIT_BIS_ZIEL_MIN] = pd_durations[MIV_ZEIT_BIS_ZIEL_MIN] / 60.0\n",
    "\n",
    "gdf_npvm_zones_with_potential_mobility_station_with_data = pd.merge(gdf_npvm_zones_with_potential_mobility_station, pd_distances, on=[\"ID\"])\n",
    "gdf_npvm_zones_with_potential_mobility_station_with_data = pd.merge(gdf_npvm_zones_with_potential_mobility_station_with_data, pd_durations, on=[\"ID\"])\n"
   ]
  },
  {
   "cell_type": "code",
   "execution_count": null,
   "id": "b2d7c29d-3430-44e4-8d2d-bba2732da221",
   "metadata": {},
   "outputs": [],
   "source": [
    "gdf_npvm_zones_with_potential_mobility_station_with_data.head()"
   ]
  },
  {
   "cell_type": "markdown",
   "id": "74032ccc-8fff-480f-b8fe-7472e7296083",
   "metadata": {},
   "source": [
    "### Get pt skims from origin to potential Mobility stations"
   ]
  },
  {
   "cell_type": "code",
   "execution_count": null,
   "id": "931d7ac2-6b39-4b32-9a3c-2d7f13df5ed5",
   "metadata": {},
   "outputs": [],
   "source": [
    "OEV_JRTA_VON_START_MIN = \"OEV_JRTA_von_Start_min\"\n",
    "OEV_NTR_VON_START = \"OEV_NTR_von_Start\""
   ]
  },
  {
   "cell_type": "code",
   "execution_count": null,
   "id": "898120c0-2cde-40d8-a6de-2c2ba51a1403",
   "metadata": {},
   "outputs": [],
   "source": [
    "zone_ids_list = [x.item() for x in gdf_npvm_zones_with_potential_mobility_station[[\"ID\"]].values]\n",
    "jrta_list = [(x, get_jrta(orig_zone_id, x)) for x in zone_ids_list]\n",
    "ntr_list = [(x, get_ntr(orig_zone_id, x)) for x in zone_ids_list]"
   ]
  },
  {
   "cell_type": "code",
   "execution_count": null,
   "id": "3304df34-2b50-40ed-97c2-896587d031de",
   "metadata": {},
   "outputs": [],
   "source": [
    "pd_jrtas = pd.DataFrame(jrta_list, columns=[\"ID\", OEV_JRTA_VON_START_MIN])\n",
    "pd_ntrs = pd.DataFrame(ntr_list, columns=[\"ID\", OEV_NTR_VON_START])"
   ]
  },
  {
   "cell_type": "code",
   "execution_count": null,
   "id": "8a6fa11c-c24c-4b49-b84b-108cf64d1b3e",
   "metadata": {},
   "outputs": [],
   "source": [
    "gdf_npvm_zones_with_potential_mobility_station_with_data = pd.merge(gdf_npvm_zones_with_potential_mobility_station_with_data, pd_jrtas, on=[\"ID\"])\n",
    "gdf_npvm_zones_with_potential_mobility_station_with_data = pd.merge(gdf_npvm_zones_with_potential_mobility_station_with_data, pd_ntrs, on=[\"ID\"])"
   ]
  },
  {
   "cell_type": "code",
   "execution_count": null,
   "id": "7a7b4092-abf2-4647-98ed-81d9e50b5832",
   "metadata": {},
   "outputs": [],
   "source": [
    "print(len(gdf_npvm_zones_with_potential_mobility_station_with_data))"
   ]
  },
  {
   "cell_type": "code",
   "execution_count": null,
   "id": "01aa9a06-b0e3-4330-b883-fa77d32534d1",
   "metadata": {},
   "outputs": [],
   "source": [
    "KOSTEN_CHF = \"Kosten_CHF\""
   ]
  },
  {
   "cell_type": "code",
   "execution_count": null,
   "id": "a8aff979-21fa-4a09-b392-d81fea442806",
   "metadata": {},
   "outputs": [],
   "source": [
    "CHF_PER_KM_MOBILITY = 0.75\n",
    "MIN_PER_TRANSFER = 20.0\n",
    "FILTER_FACTOR = 1.05"
   ]
  },
  {
   "cell_type": "code",
   "execution_count": null,
   "id": "4f10f25e-cfee-48ba-b352-86eb1096c65a",
   "metadata": {},
   "outputs": [],
   "source": [
    "def calc_costs(vtt_chf_per_h=20):\n",
    "    gdf_npvm_zones_with_potential_mobility_station_with_data[KOSTEN_CHF] = \\\n",
    "        CHF_PER_KM_MOBILITY * gdf_npvm_zones_with_potential_mobility_station_with_data[MIV_DISTANZ_BIS_ZIEL_KM] + \\\n",
    "        (gdf_npvm_zones_with_potential_mobility_station_with_data[MIV_ZEIT_BIS_ZIEL_MIN] + gdf_npvm_zones_with_potential_mobility_station_with_data[OEV_JRTA_VON_START_MIN] + \n",
    "        gdf_npvm_zones_with_potential_mobility_station_with_data[OEV_NTR_VON_START] * MIN_PER_TRANSFER) / 60.0 * vtt_chf_per_h\n",
    "    return gdf_npvm_zones_with_potential_mobility_station_with_data.sort_values(by=KOSTEN_CHF, ascending=True)"
   ]
  },
  {
   "cell_type": "code",
   "execution_count": null,
   "id": "c1b5a6f4-78af-4e93-8e2f-89b3a3d508c5",
   "metadata": {},
   "outputs": [],
   "source": [
    "gdf_npvm_zones_with_potential_mobility_station_with_data = calc_costs(20)"
   ]
  },
  {
   "cell_type": "code",
   "execution_count": null,
   "id": "cb4ccaff-d36f-48d9-82d5-63b00743ecec",
   "metadata": {},
   "outputs": [],
   "source": [
    "gdf_npvm_zones_with_potential_mobility_station_with_data[gdf_npvm_zones_with_potential_mobility_station_with_data.N_Gem == \"Samedan\"]"
   ]
  },
  {
   "cell_type": "code",
   "execution_count": null,
   "id": "f547a096-53a9-4552-9c7b-7c5d0c30aaf9",
   "metadata": {},
   "outputs": [],
   "source": [
    "def get_best_mobility_stations_per_vtt(vtt_chf_per_h):\n",
    "    df_tmp = calc_costs(vtt_chf_per_h=vtt_chf_per_h)\n",
    "    min_cost = df_tmp[KOSTEN_CHF].min()\n",
    "    df_tmp = df_tmp[df_tmp[KOSTEN_CHF] <= min_cost * FILTER_FACTOR]\n",
    "    return pd.merge(gdf_mobilty_stations_with_npvm_zone, df_tmp[[\"ID\", KOSTEN_CHF]], on=\"ID\").sort_values(by=KOSTEN_CHF)"
   ]
  },
  {
   "cell_type": "code",
   "execution_count": null,
   "id": "cabb1a66-0ae6-49cb-b379-a6cdaa623678",
   "metadata": {},
   "outputs": [],
   "source": [
    "get_best_mobility_stations_per_vtt(0)"
   ]
  },
  {
   "cell_type": "code",
   "execution_count": null,
   "id": "210ea0fc-b41e-4ffd-a552-f9716e53c669",
   "metadata": {},
   "outputs": [],
   "source": [
    "best_mobility_stations_per_vtt = {vtt: get_best_mobility_stations_per_vtt(vtt) for vtt in range(0, 101)}"
   ]
  },
  {
   "cell_type": "code",
   "execution_count": null,
   "id": "1884ed48-b42c-4a67-81b2-19f9df2af173",
   "metadata": {},
   "outputs": [],
   "source": [
    "best_mobility_stations_per_vtt[57]"
   ]
  },
  {
   "cell_type": "code",
   "execution_count": null,
   "id": "26c3efb9-0041-43bc-9a70-163e0fdf92e9",
   "metadata": {},
   "outputs": [],
   "source": [
    "gdf_npvm_zones_with_potential_mobility_station_with_data[gdf_npvm_zones_with_potential_mobility_station_with_data.N_Gem == \"Steffisburg\"]"
   ]
  },
  {
   "cell_type": "code",
   "execution_count": null,
   "id": "4c119840-e31b-4410-b5ef-ac7411509a70",
   "metadata": {},
   "outputs": [],
   "source": [
    "gdf_npvm_zones_with_potential_mobility_station_with_data[gdf_npvm_zones_with_potential_mobility_station_with_data.N_Gem == \"Thun\"]"
   ]
  },
  {
   "cell_type": "code",
   "execution_count": null,
   "id": "4dc2db97-cd84-4d6a-8e7a-73b83a1b3130",
   "metadata": {},
   "outputs": [],
   "source": [
    "gdf_npvm_zones_with_potential_mobility_station_with_data[gdf_npvm_zones_with_potential_mobility_station_with_data.N_Gem == \"Bern\"].head(50)"
   ]
  },
  {
   "cell_type": "markdown",
   "id": "dce795e4-fd13-410b-810b-9cd892e95ef6",
   "metadata": {},
   "source": [
    "### Visualize situation on map"
   ]
  },
  {
   "cell_type": "code",
   "execution_count": null,
   "id": "554e1dd5-3bb0-4bbe-95be-44ccb89983ba",
   "metadata": {},
   "outputs": [],
   "source": [
    "bounds = gdf_npvm_zones_with_potential_mobility_station_with_data.total_bounds\n",
    "bounds = [[bounds[1], bounds[0]], [bounds[3], bounds[2]]]\n",
    "bounds"
   ]
  },
  {
   "cell_type": "code",
   "execution_count": null,
   "id": "93f59d61-da36-4ae9-b046-9ebfd8517583",
   "metadata": {},
   "outputs": [],
   "source": [
    "best_mobility_stations_per_vtt[11]"
   ]
  },
  {
   "cell_type": "code",
   "execution_count": null,
   "id": "31227655-bc93-41d7-b755-1e035a127176",
   "metadata": {},
   "outputs": [],
   "source": [
    "def show_best_mobility_stations_per_vtt(vtt):\n",
    "    geo_data = GeoData(geo_dataframe=best_mobility_stations_per_vtt[vtt],\n",
    "        style={'color': 'black', 'radius':8, 'fillColor': '#3366cc', 'opacity':0.5, 'weight':1.9, 'dashArray':'2', 'fillOpacity':0.6},\n",
    "        hover_style={'fillColor': 'red' , 'fillOpacity': 0.2},\n",
    "        point_style={'radius': 5, 'color': 'red', 'fillOpacity': 0.8, 'fillColor': 'blue', 'weight': 3},\n",
    "        name = 'Mobility-Stationen')\n",
    "    for l in m.layers:\n",
    "        if type(l) == GeoData:\n",
    "            m.remove_layer(l)\n",
    "    m.add_layer(geo_data)"
   ]
  },
  {
   "cell_type": "code",
   "execution_count": null,
   "id": "7b04a5da-6677-4dd4-bd1e-e50859902093",
   "metadata": {},
   "outputs": [],
   "source": [
    "def on_slider_changed(event):\n",
    "    show_best_mobility_stations_per_vtt(event[\"new\"])"
   ]
  },
  {
   "cell_type": "code",
   "execution_count": null,
   "id": "5cc10526-f95f-4f15-989c-5d372220e94d",
   "metadata": {},
   "outputs": [],
   "source": [
    "from ipyleaflet import Map, GeoData, basemaps, LayersControl, FullScreenControl, Marker, WidgetControl\n",
    "from ipywidgets import IntSlider\n",
    "import geopandas\n",
    "import json\n",
    "\n",
    "vtt_slider = IntSlider(description='Zeitkosten', min=0, max=100, value=20)\n",
    "vtt_slider.observe(on_slider_changed, names='value')\n",
    "\n",
    "widget_control = WidgetControl(widget=vtt_slider, position='topright')\n",
    "\n",
    "m = Map(center=(52.3,8.0), zoom = 3, basemap= basemaps.Esri.WorldTopoMap, scroll_wheel_zoom=True)\n",
    "m.add_control(widget_control)\n",
    "\n",
    "m.fit_bounds(bounds)\n",
    "show_best_mobility_stations_per_vtt(vtt_slider.value)\n",
    "m.add_control(FullScreenControl())\n",
    "\n",
    "m.layout.width = '100%'\n",
    "m.layout.height = '500px'\n",
    "\n",
    "orig_marker = Marker(location=(orig_lon_lat[1], orig_lon_lat[0]) , draggable=False)\n",
    "dest_marker = Marker(location=(dest_lon_lat[1], dest_lon_lat[0]) , draggable=False)\n",
    "\n",
    "m.add_layer(orig_marker)\n",
    "m.add_layer(dest_marker)\n",
    "\n",
    "m"
   ]
  },
  {
   "cell_type": "code",
   "execution_count": null,
   "id": "810bd813-2753-4564-a9ca-f3b533fa7632",
   "metadata": {},
   "outputs": [],
   "source": []
  }
 ],
 "metadata": {
  "kernelspec": {
   "display_name": "Python 3 (ipykernel)",
   "language": "python",
   "name": "python3"
  },
  "language_info": {
   "codemirror_mode": {
    "name": "ipython",
    "version": 3
   },
   "file_extension": ".py",
   "mimetype": "text/x-python",
   "name": "python",
   "nbconvert_exporter": "python",
   "pygments_lexer": "ipython3",
   "version": "3.10.8"
  }
 },
 "nbformat": 4,
 "nbformat_minor": 5
}
