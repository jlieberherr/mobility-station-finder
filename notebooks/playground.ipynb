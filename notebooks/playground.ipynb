{
 "cells": [
  {
   "cell_type": "code",
   "execution_count": null,
   "id": "f281d79a-c589-49dd-aecd-38ec51e42a69",
   "metadata": {},
   "outputs": [],
   "source": [
    "import os"
   ]
  },
  {
   "cell_type": "code",
   "execution_count": null,
   "id": "f8935890-9ce9-4a92-9c88-c3a57a3dbb47",
   "metadata": {},
   "outputs": [],
   "source": [
    "os.chdir(\"..\")"
   ]
  },
  {
   "cell_type": "code",
   "execution_count": null,
   "id": "9d4ffe83-8b7b-4b98-8e7d-43d6af0aea09",
   "metadata": {},
   "outputs": [],
   "source": [
    "os.getcwd()"
   ]
  },
  {
   "cell_type": "code",
   "execution_count": null,
   "id": "9ccd7f2f-9941-4014-8421-7d806c62ac85",
   "metadata": {},
   "outputs": [],
   "source": [
    "from services.app import execute_ojp_request"
   ]
  },
  {
   "cell_type": "code",
   "execution_count": null,
   "id": "52a1bc58-f36d-4255-ad8d-b38650122548",
   "metadata": {},
   "outputs": [],
   "source": [
    "execute_ojp_request(7.4102783, 47.057139, 8.451232, 47.2271606,'2023-11-19T13:08')"
   ]
  }
 ],
 "metadata": {
  "kernelspec": {
   "display_name": "Python 3 (ipykernel)",
   "language": "python",
   "name": "python3"
  },
  "language_info": {
   "codemirror_mode": {
    "name": "ipython",
    "version": 3
   },
   "file_extension": ".py",
   "mimetype": "text/x-python",
   "name": "python",
   "nbconvert_exporter": "python",
   "pygments_lexer": "ipython3",
   "version": "3.10.8"
  }
 },
 "nbformat": 4,
 "nbformat_minor": 5
}
