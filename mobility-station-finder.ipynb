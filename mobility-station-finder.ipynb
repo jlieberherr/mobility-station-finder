{
 "cells": [
  {
   "cell_type": "markdown",
   "id": "dc3de318-193b-45d8-8bb5-d3443f50bd8a",
   "metadata": {},
   "source": [
    "# Mobility-Station-Finder"
   ]
  },
  {
   "cell_type": "markdown",
   "id": "b5cd0cbc-960c-448f-855d-bde140762b25",
   "metadata": {},
   "source": [
    "## Imports"
   ]
  },
  {
   "cell_type": "code",
   "execution_count": null,
   "id": "a2a802a7-68e5-4f3c-ba20-33ccf20f6fca",
   "metadata": {},
   "outputs": [],
   "source": [
    "import geopandas as gpd\n",
    "from shapely.geometry import Point\n",
    "import pandas as pd\n",
    "from matrixconverters.read_ptv import ReadPTVMatrix"
   ]
  },
  {
   "cell_type": "markdown",
   "id": "db92c254-6cce-4a2e-82aa-ae8b57defd9e",
   "metadata": {},
   "source": [
    "## Read and process static data"
   ]
  },
  {
   "cell_type": "markdown",
   "id": "4cea168a-baf1-409b-bf33-ed0e6980d364",
   "metadata": {},
   "source": [
    "### Paths"
   ]
  },
  {
   "cell_type": "code",
   "execution_count": null,
   "id": "7c480fa4-49e2-4200-b96e-c2cd8d35fc45",
   "metadata": {},
   "outputs": [],
   "source": [
    "path_npvm_zones = r\"D:\\data\\ttools gmbh\\Projekte - Dokumente\\021_MobilityStationFinder\\Daten\\Verkehrszonen_Schweiz_NPVM_2017_shp.zip\"\n",
    "path_mobility_stations = r\"D:\\data\\ttools gmbh\\Projekte - Dokumente\\021_MobilityStationFinder\\Daten\\mobility-stationen-und-fahrzeuge-schweiz.csv\"\n",
    "path_pt_skims = r\"TODO\""
   ]
  },
  {
   "cell_type": "markdown",
   "id": "3badc5ba-0f4a-422b-bde4-701dfc7fed30",
   "metadata": {},
   "source": [
    "### Read NPVM-zones"
   ]
  },
  {
   "cell_type": "code",
   "execution_count": null,
   "id": "0a5cb759-72c8-48a3-9e0c-002b61d4a432",
   "metadata": {},
   "outputs": [],
   "source": [
    "df_npvm_zones = gpd.read_file(path_npvm_zones).to_crs(4326)"
   ]
  },
  {
   "cell_type": "code",
   "execution_count": null,
   "id": "5b04eedd-f734-42f2-96be-cefb1af8f5b5",
   "metadata": {},
   "outputs": [],
   "source": [
    "df_npvm_zones.head()"
   ]
  },
  {
   "cell_type": "markdown",
   "id": "82369f8b-2a46-416d-9319-6c905e71f68b",
   "metadata": {},
   "source": [
    "### Read an process Mobility-stations"
   ]
  },
  {
   "cell_type": "code",
   "execution_count": null,
   "id": "8ed40d4e-5371-4f95-bff6-709a0d93b7ea",
   "metadata": {},
   "outputs": [],
   "source": [
    "df_mobility = pd.read_csv(path_mobility_stations, delimiter=\";\", encoding=\"utf8\")[[\"Stationsnummer\", \"Name\", \"Standort\"]].groupby(\"Stationsnummer\").first().dropna()"
   ]
  },
  {
   "cell_type": "code",
   "execution_count": null,
   "id": "7d1488dc-8923-44f5-8b4d-0efd431c70c0",
   "metadata": {},
   "outputs": [],
   "source": [
    "df_mobility[\"lon\"] = df_mobility[\"Standort\"].apply(lambda x: x.split(\",\")[1])\n",
    "df_mobility[\"lat\"] = df_mobility[\"Standort\"].apply(lambda x: x.split(\",\")[0])"
   ]
  },
  {
   "cell_type": "code",
   "execution_count": null,
   "id": "7283d966-2a22-4ff7-9322-a428038f29a3",
   "metadata": {},
   "outputs": [],
   "source": [
    "df_mobility"
   ]
  },
  {
   "cell_type": "code",
   "execution_count": null,
   "id": "ad5fabab-8999-40b7-b1fb-71bf134792c7",
   "metadata": {},
   "outputs": [],
   "source": [
    "gdf_mobility = gpd.GeoDataFrame(df_mobility, geometry=geopandas.points_from_xy(df_mobility.lon, df_mobility.lat), crs=4326)"
   ]
  },
  {
   "cell_type": "code",
   "execution_count": null,
   "id": "556b57c3-f75b-4671-bd16-2dc04cd627aa",
   "metadata": {},
   "outputs": [],
   "source": [
    "gdf_mobility.head()"
   ]
  },
  {
   "cell_type": "markdown",
   "id": "2c045848-eede-4325-bea3-fcd7f68b23d7",
   "metadata": {},
   "source": [
    "### Assign NPVM-zone to Mobility-Stations"
   ]
  },
  {
   "cell_type": "code",
   "execution_count": null,
   "id": "fbd02b1a-7943-49dc-857f-25a9f07aa1d2",
   "metadata": {},
   "outputs": [],
   "source": [
    "mobility_zone = gpd.sjoin(gdf_mobility, df_npvm_zones)"
   ]
  },
  {
   "cell_type": "code",
   "execution_count": null,
   "id": "f6840d1f-092d-4502-b657-e5e61724479e",
   "metadata": {},
   "outputs": [],
   "source": [
    "mobility_zone.to_csv(r\"D:\\data\\ttools gmbh\\Projekte - Dokumente\\021_MobilityStationFinder\\Daten\\Analyse_Mobility_Stationen.csv\", sep=\";\")"
   ]
  },
  {
   "cell_type": "markdown",
   "id": "1ed1291d-869b-4565-9cfe-1fe5f10a6575",
   "metadata": {},
   "source": [
    "## Execute query"
   ]
  },
  {
   "cell_type": "markdown",
   "id": "b1971d40-3119-4b79-aa4e-8ec5220af09a",
   "metadata": {},
   "source": [
    "### Define and process origin and destination coordinates"
   ]
  },
  {
   "cell_type": "code",
   "execution_count": null,
   "id": "e3ca41f1-9a3f-4758-a377-d39fae6f2da0",
   "metadata": {},
   "outputs": [],
   "source": [
    "orig_point = Point(7.423570, 46.936620)\n",
    "dest_point = Point(7.695260, 46.828540)"
   ]
  },
  {
   "cell_type": "code",
   "execution_count": null,
   "id": "9b8b3242-bb4f-4f79-9b9b-1a8e4acec0ce",
   "metadata": {},
   "outputs": [],
   "source": [
    "df_orig = geopandas.GeoDataFrame({'geometry': [orig_point]}, crs=\"EPSG:4326\")\n",
    "df_dest = geopandas.GeoDataFrame({'geometry': [dest_point]}, crs=\"EPSG:4326\")"
   ]
  },
  {
   "cell_type": "markdown",
   "id": "ba2f46c6-9a13-4370-81f3-c7d93a6cdd65",
   "metadata": {},
   "source": [
    "### Assign NPVM-zone to origin and destination"
   ]
  },
  {
   "cell_type": "code",
   "execution_count": null,
   "id": "e2cf6580-2e01-47e2-8940-7dc2278bff8c",
   "metadata": {},
   "outputs": [],
   "source": [
    "orig_zone = gpd.sjoin(df_orig, df_npvm_zones)\n",
    "dest_zone = gpd.sjoin(df_dest, df_npvm_zones)"
   ]
  },
  {
   "cell_type": "code",
   "execution_count": null,
   "id": "04bc2b45-97cb-4a88-a956-f78d0958deef",
   "metadata": {},
   "outputs": [],
   "source": [
    "orig_zone"
   ]
  },
  {
   "cell_type": "code",
   "execution_count": null,
   "id": "a61d4317-6b4d-4c7a-b6d6-c62b98d4f42f",
   "metadata": {},
   "outputs": [],
   "source": [
    "dest_zone"
   ]
  },
  {
   "cell_type": "markdown",
   "id": "dce795e4-fd13-410b-810b-9cd892e95ef6",
   "metadata": {},
   "source": [
    "### Visualize situation on map"
   ]
  },
  {
   "cell_type": "code",
   "execution_count": null,
   "id": "5cc10526-f95f-4f15-989c-5d372220e94d",
   "metadata": {},
   "outputs": [],
   "source": [
    "from ipyleaflet import Map, GeoData, basemaps, LayersControl\n",
    "import geopandas\n",
    "import json\n",
    "\n",
    "\n",
    "m = Map(center=(52.3,8.0), zoom = 3, basemap= basemaps.Esri.WorldTopoMap)\n",
    "\n",
    "geo_data = GeoData(geo_dataframe = df_npvm_zones,\n",
    "                   style={'color': 'black', 'fillColor': '#3366cc', 'opacity':0.05, 'weight':1.9, 'dashArray':'2', 'fillOpacity':0.6},\n",
    "                   hover_style={'fillColor': 'red' , 'fillOpacity': 0.2},\n",
    "                   name = 'Countries')\n",
    "\n",
    "m.add_layer(geo_data)\n",
    "m.add_control(LayersControl())"
   ]
  },
  {
   "cell_type": "code",
   "execution_count": null,
   "id": "29df25ff-be45-4154-ba37-7956bf149f37",
   "metadata": {},
   "outputs": [],
   "source": [
    "m.save(\"npvm-zonen.html\")"
   ]
  }
 ],
 "metadata": {
  "kernelspec": {
   "display_name": "Python 3 (ipykernel)",
   "language": "python",
   "name": "python3"
  },
  "language_info": {
   "codemirror_mode": {
    "name": "ipython",
    "version": 3
   },
   "file_extension": ".py",
   "mimetype": "text/x-python",
   "name": "python",
   "nbconvert_exporter": "python",
   "pygments_lexer": "ipython3",
   "version": "3.10.8"
  }
 },
 "nbformat": 4,
 "nbformat_minor": 5
}
