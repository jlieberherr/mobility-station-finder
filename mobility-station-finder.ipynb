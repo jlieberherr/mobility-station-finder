{
 "cells": [
  {
   "cell_type": "markdown",
   "id": "dc3de318-193b-45d8-8bb5-d3443f50bd8a",
   "metadata": {},
   "source": [
    "# Mobility-Station-Finder"
   ]
  },
  {
   "cell_type": "markdown",
   "id": "b5cd0cbc-960c-448f-855d-bde140762b25",
   "metadata": {},
   "source": [
    "## Imports"
   ]
  },
  {
   "cell_type": "code",
   "execution_count": null,
   "id": "a2a802a7-68e5-4f3c-ba20-33ccf20f6fca",
   "metadata": {},
   "outputs": [],
   "source": [
    "import geopandas as gpd\n",
    "from shapely.geometry import Point\n",
    "import pandas as pd\n",
    "from matrixconverters.read_ptv import ReadPTVMatrix\n",
    "from collections import namedtuple"
   ]
  },
  {
   "cell_type": "markdown",
   "id": "db92c254-6cce-4a2e-82aa-ae8b57defd9e",
   "metadata": {},
   "source": [
    "## Read and process static data"
   ]
  },
  {
   "cell_type": "markdown",
   "id": "4cea168a-baf1-409b-bf33-ed0e6980d364",
   "metadata": {},
   "source": [
    "### Paths"
   ]
  },
  {
   "cell_type": "code",
   "execution_count": null,
   "id": "7c480fa4-49e2-4200-b96e-c2cd8d35fc45",
   "metadata": {},
   "outputs": [],
   "source": [
    "path_npvm_zones = r\"D:\\data\\ttools gmbh\\Projekte - Dokumente\\021_MobilityStationFinder\\Daten\\Verkehrszonen_Schweiz_NPVM_2017_shp.zip\"\n",
    "path_mobility_stations = r\"D:\\data\\ttools gmbh\\Projekte - Dokumente\\021_MobilityStationFinder\\Daten\\mobility-stationen-und-fahrzeuge-schweiz.csv\"\n",
    "path_pt_jrta = r\"D:\\data\\ttools gmbh\\Projekte - Dokumente\\021_MobilityStationFinder\\Daten\\140_JRTA_(OEV).mtx\"\n",
    "path_pt_ntr = r\"D:\\data\\ttools gmbh\\Projekte - Dokumente\\021_MobilityStationFinder\\Daten\\144_NTR_(OEV).mtx\""
   ]
  },
  {
   "cell_type": "markdown",
   "id": "3badc5ba-0f4a-422b-bde4-701dfc7fed30",
   "metadata": {},
   "source": [
    "### Read NPVM-zones"
   ]
  },
  {
   "cell_type": "code",
   "execution_count": null,
   "id": "0a5cb759-72c8-48a3-9e0c-002b61d4a432",
   "metadata": {},
   "outputs": [],
   "source": [
    "df_npvm_zones = gpd.read_file(path_npvm_zones).to_crs(4326)"
   ]
  },
  {
   "cell_type": "code",
   "execution_count": null,
   "id": "5b04eedd-f734-42f2-96be-cefb1af8f5b5",
   "metadata": {},
   "outputs": [],
   "source": [
    "df_npvm_zones.head()"
   ]
  },
  {
   "cell_type": "code",
   "execution_count": null,
   "id": "badcfdbb-a4a6-471e-b9a6-51d8460b2b56",
   "metadata": {},
   "outputs": [],
   "source": [
    "len(df_npvm_zones)"
   ]
  },
  {
   "cell_type": "code",
   "execution_count": null,
   "id": "71e417e1-e238-49dd-ae20-c56987186594",
   "metadata": {},
   "outputs": [],
   "source": [
    "df_npvm_zones[df_npvm_zones.ID == 5301003]"
   ]
  },
  {
   "cell_type": "markdown",
   "id": "82369f8b-2a46-416d-9319-6c905e71f68b",
   "metadata": {},
   "source": [
    "### Read an process Mobility-stations"
   ]
  },
  {
   "cell_type": "code",
   "execution_count": null,
   "id": "8ed40d4e-5371-4f95-bff6-709a0d93b7ea",
   "metadata": {},
   "outputs": [],
   "source": [
    "df_mobility = pd.read_csv(path_mobility_stations, delimiter=\";\", encoding=\"utf8\")[[\"Stationsnummer\", \"Name\", \"Standort\"]].groupby(\"Stationsnummer\").first().dropna()"
   ]
  },
  {
   "cell_type": "code",
   "execution_count": null,
   "id": "7d1488dc-8923-44f5-8b4d-0efd431c70c0",
   "metadata": {},
   "outputs": [],
   "source": [
    "df_mobility[\"lon\"] = df_mobility[\"Standort\"].apply(lambda x: x.split(\",\")[1])\n",
    "df_mobility[\"lat\"] = df_mobility[\"Standort\"].apply(lambda x: x.split(\",\")[0])"
   ]
  },
  {
   "cell_type": "code",
   "execution_count": null,
   "id": "7283d966-2a22-4ff7-9322-a428038f29a3",
   "metadata": {},
   "outputs": [],
   "source": [
    "df_mobility"
   ]
  },
  {
   "cell_type": "code",
   "execution_count": null,
   "id": "ad5fabab-8999-40b7-b1fb-71bf134792c7",
   "metadata": {},
   "outputs": [],
   "source": [
    "gdf_mobility = gpd.GeoDataFrame(df_mobility, geometry=gpd.points_from_xy(df_mobility.lon, df_mobility.lat), crs=4326)"
   ]
  },
  {
   "cell_type": "code",
   "execution_count": null,
   "id": "556b57c3-f75b-4671-bd16-2dc04cd627aa",
   "metadata": {},
   "outputs": [],
   "source": [
    "gdf_mobility.head()"
   ]
  },
  {
   "cell_type": "markdown",
   "id": "2c045848-eede-4325-bea3-fcd7f68b23d7",
   "metadata": {},
   "source": [
    "### Assign NPVM-zone to Mobility-Stations"
   ]
  },
  {
   "cell_type": "code",
   "execution_count": null,
   "id": "fbd02b1a-7943-49dc-857f-25a9f07aa1d2",
   "metadata": {},
   "outputs": [],
   "source": [
    "mobility_zone = gpd.sjoin(gdf_mobility, df_npvm_zones)"
   ]
  },
  {
   "cell_type": "code",
   "execution_count": null,
   "id": "0023cbbe-340e-4801-a299-d9041812b059",
   "metadata": {},
   "outputs": [],
   "source": [
    "mobility_zone"
   ]
  },
  {
   "cell_type": "code",
   "execution_count": null,
   "id": "f6840d1f-092d-4502-b657-e5e61724479e",
   "metadata": {},
   "outputs": [],
   "source": [
    "mobility_zone.to_csv(r\"D:\\data\\ttools gmbh\\Projekte - Dokumente\\021_MobilityStationFinder\\Daten\\Analyse_Mobility_Stationen.csv\", sep=\";\")"
   ]
  },
  {
   "cell_type": "markdown",
   "id": "535a725a-cb55-477b-abce-64e97cb5919d",
   "metadata": {},
   "source": [
    "### Read PT-skims"
   ]
  },
  {
   "cell_type": "code",
   "execution_count": null,
   "id": "44def8b6-9e22-4ac2-b8b6-1c70a4487a25",
   "metadata": {},
   "outputs": [],
   "source": [
    "skim_jrta = ReadPTVMatrix(path_pt_jrta)"
   ]
  },
  {
   "cell_type": "code",
   "execution_count": null,
   "id": "397782f2-c9d4-4820-8f3a-a7dbada321d7",
   "metadata": {},
   "outputs": [],
   "source": [
    "skim_ntr = ReadPTVMatrix(path_pt_ntr)"
   ]
  },
  {
   "cell_type": "code",
   "execution_count": null,
   "id": "e66fe68b-3dfe-4392-a959-dffe5ea4d5f9",
   "metadata": {},
   "outputs": [],
   "source": [
    "skim_jrta.values"
   ]
  },
  {
   "cell_type": "code",
   "execution_count": null,
   "id": "1fc35cef-dfe3-41b4-9288-7c90f798a826",
   "metadata": {},
   "outputs": [],
   "source": [
    "skim_jrta.sel(origins=378601001).sel(destinations=35101026).matrix.item()"
   ]
  },
  {
   "cell_type": "code",
   "execution_count": null,
   "id": "5c76647c-6feb-4271-8694-55b8567d7ff3",
   "metadata": {},
   "outputs": [],
   "source": [
    "skim_ntr.sel(origins=378601001).sel(destinations=35101026).matrix.item()"
   ]
  },
  {
   "cell_type": "code",
   "execution_count": null,
   "id": "d42db127-8c61-4233-a2e1-8b8ee789d8c2",
   "metadata": {},
   "outputs": [],
   "source": [
    "def get_skim(skim_matrix, from_npvm_zone_id, to_npvm_zone_id):\n",
    "    return skim_matrix.sel(origins=from_npvm_zone_id).sel(destinations=to_npvm_zone_id).matrix.item()"
   ]
  },
  {
   "cell_type": "code",
   "execution_count": null,
   "id": "ed948051-0051-4b40-ba4e-67060a065c69",
   "metadata": {},
   "outputs": [],
   "source": [
    "def get_jrta(from_npvm_zone_id, to_npvm_zone_id):\n",
    "    return get_skim(skim_jrta, from_npvm_zone_id, to_npvm_zone_id)"
   ]
  },
  {
   "cell_type": "code",
   "execution_count": null,
   "id": "16c84c7f-b95f-42f0-b5a4-6a055ea08aff",
   "metadata": {},
   "outputs": [],
   "source": [
    "def get_ntr(from_npvm_zone_id, to_npvm_zone_id):\n",
    "    return get_skim(skim_ntr, from_npvm_zone_id, to_npvm_zone_id)"
   ]
  },
  {
   "cell_type": "code",
   "execution_count": null,
   "id": "9ca67766-f894-4a82-87c7-df51b93850f9",
   "metadata": {},
   "outputs": [],
   "source": [
    "get_jrta(378601001, 35101026)"
   ]
  },
  {
   "cell_type": "code",
   "execution_count": null,
   "id": "98b6ac49-4939-4496-bec6-9d0e8bf98eb0",
   "metadata": {},
   "outputs": [],
   "source": [
    "get_ntr(378601001, 35101026)"
   ]
  },
  {
   "cell_type": "markdown",
   "id": "b0876936-37cf-4e13-89d6-f48f83472965",
   "metadata": {},
   "source": [
    "### Read relevant skims on relevant od-pairs"
   ]
  },
  {
   "cell_type": "code",
   "execution_count": null,
   "id": "b2cf8010-e47f-4014-9015-3c816295ad1c",
   "metadata": {},
   "outputs": [],
   "source": [
    "from_npvm_zones = df_npvm_zones[\"ID\"].to_list()\n",
    "to_npvm_zones = mobility_zone[\"ID\"].to_list()"
   ]
  },
  {
   "cell_type": "code",
   "execution_count": null,
   "id": "05702f84-4c00-4ce1-a2d9-b681fb047bf4",
   "metadata": {},
   "outputs": [],
   "source": [
    "nb_from_zones = len(from_npvm_zones)\n",
    "nb_to_zones = len(to_npvm_zones)\n",
    "nb_od_pairs = nb_from_zones * nb_to_zones\n",
    "print(nb_from_zones, nb_to_zones, nb_od_pairs)"
   ]
  },
  {
   "cell_type": "markdown",
   "id": "1ed1291d-869b-4565-9cfe-1fe5f10a6575",
   "metadata": {},
   "source": [
    "## Execute query"
   ]
  },
  {
   "cell_type": "markdown",
   "id": "b1971d40-3119-4b79-aa4e-8ec5220af09a",
   "metadata": {},
   "source": [
    "### Define origin and destination and assign NPVM-Zone"
   ]
  },
  {
   "cell_type": "code",
   "execution_count": null,
   "id": "e3ca41f1-9a3f-4758-a377-d39fae6f2da0",
   "metadata": {},
   "outputs": [],
   "source": [
    "orig_point = Point(7.423570, 46.936620)\n",
    "dest_point = Point(7.695260, 46.828540)"
   ]
  },
  {
   "cell_type": "code",
   "execution_count": null,
   "id": "9b8b3242-bb4f-4f79-9b9b-1a8e4acec0ce",
   "metadata": {},
   "outputs": [],
   "source": [
    "df_orig = gpd.GeoDataFrame({'geometry': [orig_point]}, crs=\"EPSG:4326\")\n",
    "df_dest = gpd.GeoDataFrame({'geometry': [dest_point]}, crs=\"EPSG:4326\")"
   ]
  },
  {
   "cell_type": "code",
   "execution_count": null,
   "id": "e2cf6580-2e01-47e2-8940-7dc2278bff8c",
   "metadata": {},
   "outputs": [],
   "source": [
    "orig_zone = gpd.sjoin(df_orig, df_npvm_zones)\n",
    "dest_zone = gpd.sjoin(df_dest, df_npvm_zones)"
   ]
  },
  {
   "cell_type": "code",
   "execution_count": null,
   "id": "a61d4317-6b4d-4c7a-b6d6-c62b98d4f42f",
   "metadata": {},
   "outputs": [],
   "source": [
    "dest_zone"
   ]
  },
  {
   "cell_type": "markdown",
   "id": "4268f130-4c2a-4ade-a246-2c4ed0cb5379",
   "metadata": {},
   "source": [
    "### Compute potential Mobility-stations in a circle around origin and destination"
   ]
  },
  {
   "cell_type": "code",
   "execution_count": null,
   "id": "b479eeae-7ccd-4d97-90ae-08f53cef9372",
   "metadata": {},
   "outputs": [],
   "source": [
    "search_area_orig = gpd.GeoDataFrame(geometry=df_orig.to_crs(2026).buffer(5*1000).to_crs(4326), crs=\"EPSG:4326\")\n",
    "search_area_dest = gpd.GeoDataFrame(geometry=df_dest.to_crs(2026).buffer(50*1000).to_crs(4326), crs=\"EPSG:4326\")"
   ]
  },
  {
   "cell_type": "code",
   "execution_count": null,
   "id": "6f2a3ce7-b296-426d-bdf7-3ace972b728b",
   "metadata": {},
   "outputs": [],
   "source": [
    "orig_zone_mobility_stations = gpd.sjoin(gdf_mobility, search_area_orig)\n",
    "dest_zone_mobility_stations = gpd.sjoin(gdf_mobility, search_area_dest)"
   ]
  },
  {
   "cell_type": "code",
   "execution_count": null,
   "id": "0002f77a-3d6b-4d22-9147-eed11e9351e5",
   "metadata": {},
   "outputs": [],
   "source": [
    "orig_zone_mobility_stations"
   ]
  },
  {
   "cell_type": "code",
   "execution_count": null,
   "id": "8d312a07-a59a-4846-aca3-355d2ccffbcc",
   "metadata": {},
   "outputs": [],
   "source": [
    "len(orig_zone_mobility_stations)"
   ]
  },
  {
   "cell_type": "code",
   "execution_count": null,
   "id": "745a1429-6a58-465b-afb1-6bc947892418",
   "metadata": {},
   "outputs": [],
   "source": [
    "len(dest_zone_mobility_stations)"
   ]
  },
  {
   "cell_type": "markdown",
   "id": "8d32c0a2-1cc8-4750-8081-f50292a248e7",
   "metadata": {},
   "source": [
    "TODO:\n",
    "- Join potential Mobility-stations\n",
    "- Open Routing Machine query from every potential Mobility-station to destination\n",
    "- Skims for NPVM-zone of origin to every NPVM-zone assigned to a potential Mobility-station\n",
    "- Calculate generalized costs"
   ]
  },
  {
   "cell_type": "markdown",
   "id": "dce795e4-fd13-410b-810b-9cd892e95ef6",
   "metadata": {},
   "source": [
    "### Visualize situation on map"
   ]
  },
  {
   "cell_type": "code",
   "execution_count": null,
   "id": "5cc10526-f95f-4f15-989c-5d372220e94d",
   "metadata": {},
   "outputs": [],
   "source": [
    "from ipyleaflet import Map, GeoData, basemaps, LayersControl\n",
    "import geopandas\n",
    "import json\n",
    "\n",
    "\n",
    "m = Map(center=(52.3,8.0), zoom = 3, basemap= basemaps.Esri.WorldTopoMap)\n",
    "\n",
    "geo_data = GeoData(geo_dataframe = df_npvm_zones,\n",
    "                   style={'color': 'black', 'fillColor': '#3366cc', 'opacity':0.05, 'weight':1.9, 'dashArray':'2', 'fillOpacity':0.6},\n",
    "                   hover_style={'fillColor': 'red' , 'fillOpacity': 0.2},\n",
    "                   name = 'Countries')\n",
    "\n",
    "m.add_layer(geo_data)\n",
    "m.add_control(LayersControl())"
   ]
  },
  {
   "cell_type": "code",
   "execution_count": null,
   "id": "29df25ff-be45-4154-ba37-7956bf149f37",
   "metadata": {},
   "outputs": [],
   "source": [
    "m.layout.width = '100%'\n",
    "m.layout.height = '1000px'\n",
    "m\n",
    "# m.save(\"npvm-zonen.html\")"
   ]
  }
 ],
 "metadata": {
  "kernelspec": {
   "display_name": "Python 3 (ipykernel)",
   "language": "python",
   "name": "python3"
  },
  "language_info": {
   "codemirror_mode": {
    "name": "ipython",
    "version": 3
   },
   "file_extension": ".py",
   "mimetype": "text/x-python",
   "name": "python",
   "nbconvert_exporter": "python",
   "pygments_lexer": "ipython3",
   "version": "3.10.8"
  }
 },
 "nbformat": 4,
 "nbformat_minor": 5
}
