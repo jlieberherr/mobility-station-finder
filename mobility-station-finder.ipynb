{
 "cells": [
  {
   "cell_type": "markdown",
   "id": "dc3de318-193b-45d8-8bb5-d3443f50bd8a",
   "metadata": {},
   "source": [
    "# Mobility-Station-Finder"
   ]
  },
  {
   "cell_type": "markdown",
   "id": "b5cd0cbc-960c-448f-855d-bde140762b25",
   "metadata": {},
   "source": [
    "## Imports"
   ]
  },
  {
   "cell_type": "code",
   "execution_count": 81,
   "id": "a2a802a7-68e5-4f3c-ba20-33ccf20f6fca",
   "metadata": {},
   "outputs": [],
   "source": [
    "import geopandas as gpd\n",
    "from shapely.geometry import Point\n",
    "import pandas as pd\n",
    "from matrixconverters.read_ptv import ReadPTVMatrix\n",
    "from collections import namedtuple\n",
    "import requests"
   ]
  },
  {
   "cell_type": "markdown",
   "id": "db92c254-6cce-4a2e-82aa-ae8b57defd9e",
   "metadata": {},
   "source": [
    "## Read and process static data"
   ]
  },
  {
   "cell_type": "markdown",
   "id": "4cea168a-baf1-409b-bf33-ed0e6980d364",
   "metadata": {},
   "source": [
    "### Paths"
   ]
  },
  {
   "cell_type": "code",
   "execution_count": 2,
   "id": "7c480fa4-49e2-4200-b96e-c2cd8d35fc45",
   "metadata": {},
   "outputs": [],
   "source": [
    "path_npvm_zones = r\"D:\\data\\ttools gmbh\\Projekte - Dokumente\\021_MobilityStationFinder\\Daten\\Verkehrszonen_Schweiz_NPVM_2017_shp.zip\"\n",
    "path_mobility_stations = r\"D:\\data\\ttools gmbh\\Projekte - Dokumente\\021_MobilityStationFinder\\Daten\\mobility-stationen-und-fahrzeuge-schweiz.csv\"\n",
    "path_pt_jrta = r\"D:\\data\\ttools gmbh\\Projekte - Dokumente\\021_MobilityStationFinder\\Daten\\140_JRTA_(OEV).mtx\"\n",
    "path_pt_ntr = r\"D:\\data\\ttools gmbh\\Projekte - Dokumente\\021_MobilityStationFinder\\Daten\\144_NTR_(OEV).mtx\""
   ]
  },
  {
   "cell_type": "markdown",
   "id": "3badc5ba-0f4a-422b-bde4-701dfc7fed30",
   "metadata": {},
   "source": [
    "### Read NPVM-zones"
   ]
  },
  {
   "cell_type": "code",
   "execution_count": 3,
   "id": "0a5cb759-72c8-48a3-9e0c-002b61d4a432",
   "metadata": {},
   "outputs": [],
   "source": [
    "df_npvm_zones = gpd.read_file(path_npvm_zones).to_crs(4326)"
   ]
  },
  {
   "cell_type": "code",
   "execution_count": 4,
   "id": "5b04eedd-f734-42f2-96be-cefb1af8f5b5",
   "metadata": {},
   "outputs": [
    {
     "data": {
      "text/html": [
       "<div>\n",
       "<style scoped>\n",
       "    .dataframe tbody tr th:only-of-type {\n",
       "        vertical-align: middle;\n",
       "    }\n",
       "\n",
       "    .dataframe tbody tr th {\n",
       "        vertical-align: top;\n",
       "    }\n",
       "\n",
       "    .dataframe thead th {\n",
       "        text-align: right;\n",
       "    }\n",
       "</style>\n",
       "<table border=\"1\" class=\"dataframe\">\n",
       "  <thead>\n",
       "    <tr style=\"text-align: right;\">\n",
       "      <th></th>\n",
       "      <th>ID</th>\n",
       "      <th>ID_alt</th>\n",
       "      <th>ID_Gem</th>\n",
       "      <th>N_Gem</th>\n",
       "      <th>stg_type</th>\n",
       "      <th>N_stg_type</th>\n",
       "      <th>ID_KT</th>\n",
       "      <th>N_KT</th>\n",
       "      <th>ID_SL3</th>\n",
       "      <th>N_SL3</th>\n",
       "      <th>ID_Agglo</th>\n",
       "      <th>N_Agglo</th>\n",
       "      <th>ID_AMR</th>\n",
       "      <th>N_AMR</th>\n",
       "      <th>geometry</th>\n",
       "    </tr>\n",
       "  </thead>\n",
       "  <tbody>\n",
       "    <tr>\n",
       "      <th>0</th>\n",
       "      <td>101001</td>\n",
       "      <td>1</td>\n",
       "      <td>1</td>\n",
       "      <td>Aeugst am Albis</td>\n",
       "      <td>1</td>\n",
       "      <td>None</td>\n",
       "      <td>1</td>\n",
       "      <td>ZH</td>\n",
       "      <td>3</td>\n",
       "      <td>Ländlich</td>\n",
       "      <td>261</td>\n",
       "      <td>Zürich</td>\n",
       "      <td>12031</td>\n",
       "      <td>DietikonSchlieren</td>\n",
       "      <td>POLYGON ((8.47334 47.26128, 8.47334 47.26139, ...</td>\n",
       "    </tr>\n",
       "    <tr>\n",
       "      <th>1</th>\n",
       "      <td>201001</td>\n",
       "      <td>2</td>\n",
       "      <td>2</td>\n",
       "      <td>Affoltern am Albis</td>\n",
       "      <td>1</td>\n",
       "      <td>None</td>\n",
       "      <td>1</td>\n",
       "      <td>ZH</td>\n",
       "      <td>1</td>\n",
       "      <td>Städtisch</td>\n",
       "      <td>261</td>\n",
       "      <td>Zürich</td>\n",
       "      <td>12031</td>\n",
       "      <td>DietikonSchlieren</td>\n",
       "      <td>POLYGON ((8.42224 47.29775, 8.42282 47.29816, ...</td>\n",
       "    </tr>\n",
       "    <tr>\n",
       "      <th>2</th>\n",
       "      <td>201002</td>\n",
       "      <td>2</td>\n",
       "      <td>2</td>\n",
       "      <td>Affoltern am Albis</td>\n",
       "      <td>1</td>\n",
       "      <td>None</td>\n",
       "      <td>1</td>\n",
       "      <td>ZH</td>\n",
       "      <td>1</td>\n",
       "      <td>Städtisch</td>\n",
       "      <td>261</td>\n",
       "      <td>Zürich</td>\n",
       "      <td>12031</td>\n",
       "      <td>DietikonSchlieren</td>\n",
       "      <td>POLYGON ((8.44770 47.26794, 8.44767 47.26782, ...</td>\n",
       "    </tr>\n",
       "    <tr>\n",
       "      <th>3</th>\n",
       "      <td>201003</td>\n",
       "      <td>2</td>\n",
       "      <td>2</td>\n",
       "      <td>Affoltern am Albis</td>\n",
       "      <td>1</td>\n",
       "      <td>None</td>\n",
       "      <td>1</td>\n",
       "      <td>ZH</td>\n",
       "      <td>1</td>\n",
       "      <td>Städtisch</td>\n",
       "      <td>261</td>\n",
       "      <td>Zürich</td>\n",
       "      <td>12031</td>\n",
       "      <td>DietikonSchlieren</td>\n",
       "      <td>POLYGON ((8.43834 47.27714, 8.43814 47.27726, ...</td>\n",
       "    </tr>\n",
       "    <tr>\n",
       "      <th>4</th>\n",
       "      <td>201004</td>\n",
       "      <td>2</td>\n",
       "      <td>2</td>\n",
       "      <td>Affoltern am Albis</td>\n",
       "      <td>1</td>\n",
       "      <td>None</td>\n",
       "      <td>1</td>\n",
       "      <td>ZH</td>\n",
       "      <td>1</td>\n",
       "      <td>Städtisch</td>\n",
       "      <td>261</td>\n",
       "      <td>Zürich</td>\n",
       "      <td>12031</td>\n",
       "      <td>DietikonSchlieren</td>\n",
       "      <td>POLYGON ((8.45000 47.27949, 8.45007 47.27945, ...</td>\n",
       "    </tr>\n",
       "  </tbody>\n",
       "</table>\n",
       "</div>"
      ],
      "text/plain": [
       "       ID  ID_alt  ID_Gem               N_Gem  stg_type N_stg_type  ID_KT  \\\n",
       "0  101001       1       1     Aeugst am Albis         1       None      1   \n",
       "1  201001       2       2  Affoltern am Albis         1       None      1   \n",
       "2  201002       2       2  Affoltern am Albis         1       None      1   \n",
       "3  201003       2       2  Affoltern am Albis         1       None      1   \n",
       "4  201004       2       2  Affoltern am Albis         1       None      1   \n",
       "\n",
       "  N_KT  ID_SL3      N_SL3  ID_Agglo N_Agglo  ID_AMR               N_AMR  \\\n",
       "0   ZH       3   Ländlich       261  Zürich   12031  DietikonSchlieren   \n",
       "1   ZH       1  Städtisch       261  Zürich   12031  DietikonSchlieren   \n",
       "2   ZH       1  Städtisch       261  Zürich   12031  DietikonSchlieren   \n",
       "3   ZH       1  Städtisch       261  Zürich   12031  DietikonSchlieren   \n",
       "4   ZH       1  Städtisch       261  Zürich   12031  DietikonSchlieren   \n",
       "\n",
       "                                            geometry  \n",
       "0  POLYGON ((8.47334 47.26128, 8.47334 47.26139, ...  \n",
       "1  POLYGON ((8.42224 47.29775, 8.42282 47.29816, ...  \n",
       "2  POLYGON ((8.44770 47.26794, 8.44767 47.26782, ...  \n",
       "3  POLYGON ((8.43834 47.27714, 8.43814 47.27726, ...  \n",
       "4  POLYGON ((8.45000 47.27949, 8.45007 47.27945, ...  "
      ]
     },
     "execution_count": 4,
     "metadata": {},
     "output_type": "execute_result"
    }
   ],
   "source": [
    "df_npvm_zones.head()"
   ]
  },
  {
   "cell_type": "code",
   "execution_count": 5,
   "id": "badcfdbb-a4a6-471e-b9a6-51d8460b2b56",
   "metadata": {},
   "outputs": [
    {
     "data": {
      "text/plain": [
       "7978"
      ]
     },
     "execution_count": 5,
     "metadata": {},
     "output_type": "execute_result"
    }
   ],
   "source": [
    "len(df_npvm_zones)"
   ]
  },
  {
   "cell_type": "code",
   "execution_count": 6,
   "id": "71e417e1-e238-49dd-ae20-c56987186594",
   "metadata": {},
   "outputs": [
    {
     "data": {
      "text/html": [
       "<div>\n",
       "<style scoped>\n",
       "    .dataframe tbody tr th:only-of-type {\n",
       "        vertical-align: middle;\n",
       "    }\n",
       "\n",
       "    .dataframe tbody tr th {\n",
       "        vertical-align: top;\n",
       "    }\n",
       "\n",
       "    .dataframe thead th {\n",
       "        text-align: right;\n",
       "    }\n",
       "</style>\n",
       "<table border=\"1\" class=\"dataframe\">\n",
       "  <thead>\n",
       "    <tr style=\"text-align: right;\">\n",
       "      <th></th>\n",
       "      <th>ID</th>\n",
       "      <th>ID_alt</th>\n",
       "      <th>ID_Gem</th>\n",
       "      <th>N_Gem</th>\n",
       "      <th>stg_type</th>\n",
       "      <th>N_stg_type</th>\n",
       "      <th>ID_KT</th>\n",
       "      <th>N_KT</th>\n",
       "      <th>ID_SL3</th>\n",
       "      <th>N_SL3</th>\n",
       "      <th>ID_Agglo</th>\n",
       "      <th>N_Agglo</th>\n",
       "      <th>ID_AMR</th>\n",
       "      <th>N_AMR</th>\n",
       "      <th>geometry</th>\n",
       "    </tr>\n",
       "  </thead>\n",
       "  <tbody>\n",
       "    <tr>\n",
       "      <th>84</th>\n",
       "      <td>5301003</td>\n",
       "      <td>53</td>\n",
       "      <td>53</td>\n",
       "      <td>Bülach</td>\n",
       "      <td>1</td>\n",
       "      <td>None</td>\n",
       "      <td>1</td>\n",
       "      <td>ZH</td>\n",
       "      <td>1</td>\n",
       "      <td>Städtisch</td>\n",
       "      <td>261</td>\n",
       "      <td>Zürich</td>\n",
       "      <td>12032</td>\n",
       "      <td>Kloten</td>\n",
       "      <td>POLYGON ((8.53973 47.51618, 8.54007 47.51529, ...</td>\n",
       "    </tr>\n",
       "  </tbody>\n",
       "</table>\n",
       "</div>"
      ],
      "text/plain": [
       "         ID  ID_alt  ID_Gem   N_Gem  stg_type N_stg_type  ID_KT N_KT  ID_SL3  \\\n",
       "84  5301003      53      53  Bülach         1       None      1   ZH       1   \n",
       "\n",
       "        N_SL3  ID_Agglo N_Agglo  ID_AMR   N_AMR  \\\n",
       "84  Städtisch       261  Zürich   12032  Kloten   \n",
       "\n",
       "                                             geometry  \n",
       "84  POLYGON ((8.53973 47.51618, 8.54007 47.51529, ...  "
      ]
     },
     "execution_count": 6,
     "metadata": {},
     "output_type": "execute_result"
    }
   ],
   "source": [
    "df_npvm_zones[df_npvm_zones.ID == 5301003]"
   ]
  },
  {
   "cell_type": "markdown",
   "id": "82369f8b-2a46-416d-9319-6c905e71f68b",
   "metadata": {},
   "source": [
    "### Read an process Mobility-stations"
   ]
  },
  {
   "cell_type": "code",
   "execution_count": 7,
   "id": "8ed40d4e-5371-4f95-bff6-709a0d93b7ea",
   "metadata": {},
   "outputs": [],
   "source": [
    "df_mobility = pd.read_csv(path_mobility_stations, delimiter=\";\", encoding=\"utf8\")[[\"Stationsnummer\", \"Name\", \"Standort\"]].groupby(\"Stationsnummer\").first().dropna()"
   ]
  },
  {
   "cell_type": "code",
   "execution_count": 8,
   "id": "7d1488dc-8923-44f5-8b4d-0efd431c70c0",
   "metadata": {},
   "outputs": [],
   "source": [
    "df_mobility[\"lon\"] = df_mobility[\"Standort\"].apply(lambda x: x.split(\",\")[1])\n",
    "df_mobility[\"lat\"] = df_mobility[\"Standort\"].apply(lambda x: x.split(\",\")[0])"
   ]
  },
  {
   "cell_type": "code",
   "execution_count": 9,
   "id": "7283d966-2a22-4ff7-9322-a428038f29a3",
   "metadata": {},
   "outputs": [
    {
     "data": {
      "text/html": [
       "<div>\n",
       "<style scoped>\n",
       "    .dataframe tbody tr th:only-of-type {\n",
       "        vertical-align: middle;\n",
       "    }\n",
       "\n",
       "    .dataframe tbody tr th {\n",
       "        vertical-align: top;\n",
       "    }\n",
       "\n",
       "    .dataframe thead th {\n",
       "        text-align: right;\n",
       "    }\n",
       "</style>\n",
       "<table border=\"1\" class=\"dataframe\">\n",
       "  <thead>\n",
       "    <tr style=\"text-align: right;\">\n",
       "      <th></th>\n",
       "      <th>Name</th>\n",
       "      <th>Standort</th>\n",
       "      <th>lon</th>\n",
       "      <th>lat</th>\n",
       "    </tr>\n",
       "    <tr>\n",
       "      <th>Stationsnummer</th>\n",
       "      <th></th>\n",
       "      <th></th>\n",
       "      <th></th>\n",
       "      <th></th>\n",
       "    </tr>\n",
       "  </thead>\n",
       "  <tbody>\n",
       "    <tr>\n",
       "      <th>1006</th>\n",
       "      <td>Brugg Bahnhof</td>\n",
       "      <td>47.48154,8.20942</td>\n",
       "      <td>8.20942</td>\n",
       "      <td>47.48154</td>\n",
       "    </tr>\n",
       "    <tr>\n",
       "      <th>1012</th>\n",
       "      <td>Arbon Bahnhof</td>\n",
       "      <td>47.51032,9.43345</td>\n",
       "      <td>9.43345</td>\n",
       "      <td>47.51032</td>\n",
       "    </tr>\n",
       "    <tr>\n",
       "      <th>1019</th>\n",
       "      <td>Basel Vogesenstrasse</td>\n",
       "      <td>47.5686935,7.5748328</td>\n",
       "      <td>7.5748328</td>\n",
       "      <td>47.5686935</td>\n",
       "    </tr>\n",
       "    <tr>\n",
       "      <th>1024</th>\n",
       "      <td>Bellinzona Stazione</td>\n",
       "      <td>46.1963,9.03017</td>\n",
       "      <td>9.03017</td>\n",
       "      <td>46.1963</td>\n",
       "    </tr>\n",
       "    <tr>\n",
       "      <th>1025</th>\n",
       "      <td>Brig Bahnhof</td>\n",
       "      <td>46.31906,7.99028</td>\n",
       "      <td>7.99028</td>\n",
       "      <td>46.31906</td>\n",
       "    </tr>\n",
       "    <tr>\n",
       "      <th>...</th>\n",
       "      <td>...</td>\n",
       "      <td>...</td>\n",
       "      <td>...</td>\n",
       "      <td>...</td>\n",
       "    </tr>\n",
       "    <tr>\n",
       "      <th>6007</th>\n",
       "      <td>Adnovum Teststation2</td>\n",
       "      <td>47.144722,8.434389</td>\n",
       "      <td>8.434389</td>\n",
       "      <td>47.144722</td>\n",
       "    </tr>\n",
       "    <tr>\n",
       "      <th>6028</th>\n",
       "      <td>Convadis Teststandort 401115</td>\n",
       "      <td>47.503635,8.239223</td>\n",
       "      <td>8.239223</td>\n",
       "      <td>47.503635</td>\n",
       "    </tr>\n",
       "    <tr>\n",
       "      <th>6029</th>\n",
       "      <td>Convadis Teststandort 400611</td>\n",
       "      <td>47.50362,8.23921</td>\n",
       "      <td>8.23921</td>\n",
       "      <td>47.50362</td>\n",
       "    </tr>\n",
       "    <tr>\n",
       "      <th>6030</th>\n",
       "      <td>Convadis Teststandort 202773</td>\n",
       "      <td>47.50368,8.23923</td>\n",
       "      <td>8.23923</td>\n",
       "      <td>47.50368</td>\n",
       "    </tr>\n",
       "    <tr>\n",
       "      <th>6032</th>\n",
       "      <td>Maurer Modulo</td>\n",
       "      <td>47.386133,8.157982</td>\n",
       "      <td>8.157982</td>\n",
       "      <td>47.386133</td>\n",
       "    </tr>\n",
       "  </tbody>\n",
       "</table>\n",
       "<p>1550 rows × 4 columns</p>\n",
       "</div>"
      ],
      "text/plain": [
       "                                        Name              Standort        lon  \\\n",
       "Stationsnummer                                                                  \n",
       "1006                           Brugg Bahnhof      47.48154,8.20942    8.20942   \n",
       "1012                           Arbon Bahnhof      47.51032,9.43345    9.43345   \n",
       "1019                    Basel Vogesenstrasse  47.5686935,7.5748328  7.5748328   \n",
       "1024                     Bellinzona Stazione       46.1963,9.03017    9.03017   \n",
       "1025                            Brig Bahnhof      46.31906,7.99028    7.99028   \n",
       "...                                      ...                   ...        ...   \n",
       "6007                    Adnovum Teststation2    47.144722,8.434389   8.434389   \n",
       "6028            Convadis Teststandort 401115    47.503635,8.239223   8.239223   \n",
       "6029            Convadis Teststandort 400611      47.50362,8.23921    8.23921   \n",
       "6030            Convadis Teststandort 202773      47.50368,8.23923    8.23923   \n",
       "6032                           Maurer Modulo    47.386133,8.157982   8.157982   \n",
       "\n",
       "                       lat  \n",
       "Stationsnummer              \n",
       "1006              47.48154  \n",
       "1012              47.51032  \n",
       "1019            47.5686935  \n",
       "1024               46.1963  \n",
       "1025              46.31906  \n",
       "...                    ...  \n",
       "6007             47.144722  \n",
       "6028             47.503635  \n",
       "6029              47.50362  \n",
       "6030              47.50368  \n",
       "6032             47.386133  \n",
       "\n",
       "[1550 rows x 4 columns]"
      ]
     },
     "execution_count": 9,
     "metadata": {},
     "output_type": "execute_result"
    }
   ],
   "source": [
    "df_mobility"
   ]
  },
  {
   "cell_type": "code",
   "execution_count": 10,
   "id": "ad5fabab-8999-40b7-b1fb-71bf134792c7",
   "metadata": {},
   "outputs": [],
   "source": [
    "gdf_mobility = gpd.GeoDataFrame(df_mobility, geometry=gpd.points_from_xy(df_mobility.lon, df_mobility.lat), crs=4326)"
   ]
  },
  {
   "cell_type": "code",
   "execution_count": 11,
   "id": "556b57c3-f75b-4671-bd16-2dc04cd627aa",
   "metadata": {},
   "outputs": [
    {
     "data": {
      "text/html": [
       "<div>\n",
       "<style scoped>\n",
       "    .dataframe tbody tr th:only-of-type {\n",
       "        vertical-align: middle;\n",
       "    }\n",
       "\n",
       "    .dataframe tbody tr th {\n",
       "        vertical-align: top;\n",
       "    }\n",
       "\n",
       "    .dataframe thead th {\n",
       "        text-align: right;\n",
       "    }\n",
       "</style>\n",
       "<table border=\"1\" class=\"dataframe\">\n",
       "  <thead>\n",
       "    <tr style=\"text-align: right;\">\n",
       "      <th></th>\n",
       "      <th>Name</th>\n",
       "      <th>Standort</th>\n",
       "      <th>lon</th>\n",
       "      <th>lat</th>\n",
       "      <th>geometry</th>\n",
       "    </tr>\n",
       "    <tr>\n",
       "      <th>Stationsnummer</th>\n",
       "      <th></th>\n",
       "      <th></th>\n",
       "      <th></th>\n",
       "      <th></th>\n",
       "      <th></th>\n",
       "    </tr>\n",
       "  </thead>\n",
       "  <tbody>\n",
       "    <tr>\n",
       "      <th>1006</th>\n",
       "      <td>Brugg Bahnhof</td>\n",
       "      <td>47.48154,8.20942</td>\n",
       "      <td>8.20942</td>\n",
       "      <td>47.48154</td>\n",
       "      <td>POINT (8.20942 47.48154)</td>\n",
       "    </tr>\n",
       "    <tr>\n",
       "      <th>1012</th>\n",
       "      <td>Arbon Bahnhof</td>\n",
       "      <td>47.51032,9.43345</td>\n",
       "      <td>9.43345</td>\n",
       "      <td>47.51032</td>\n",
       "      <td>POINT (9.43345 47.51032)</td>\n",
       "    </tr>\n",
       "    <tr>\n",
       "      <th>1019</th>\n",
       "      <td>Basel Vogesenstrasse</td>\n",
       "      <td>47.5686935,7.5748328</td>\n",
       "      <td>7.5748328</td>\n",
       "      <td>47.5686935</td>\n",
       "      <td>POINT (7.57483 47.56869)</td>\n",
       "    </tr>\n",
       "    <tr>\n",
       "      <th>1024</th>\n",
       "      <td>Bellinzona Stazione</td>\n",
       "      <td>46.1963,9.03017</td>\n",
       "      <td>9.03017</td>\n",
       "      <td>46.1963</td>\n",
       "      <td>POINT (9.03017 46.19630)</td>\n",
       "    </tr>\n",
       "    <tr>\n",
       "      <th>1025</th>\n",
       "      <td>Brig Bahnhof</td>\n",
       "      <td>46.31906,7.99028</td>\n",
       "      <td>7.99028</td>\n",
       "      <td>46.31906</td>\n",
       "      <td>POINT (7.99028 46.31906)</td>\n",
       "    </tr>\n",
       "  </tbody>\n",
       "</table>\n",
       "</div>"
      ],
      "text/plain": [
       "                                Name              Standort        lon  \\\n",
       "Stationsnummer                                                          \n",
       "1006                   Brugg Bahnhof      47.48154,8.20942    8.20942   \n",
       "1012                   Arbon Bahnhof      47.51032,9.43345    9.43345   \n",
       "1019            Basel Vogesenstrasse  47.5686935,7.5748328  7.5748328   \n",
       "1024             Bellinzona Stazione       46.1963,9.03017    9.03017   \n",
       "1025                    Brig Bahnhof      46.31906,7.99028    7.99028   \n",
       "\n",
       "                       lat                  geometry  \n",
       "Stationsnummer                                        \n",
       "1006              47.48154  POINT (8.20942 47.48154)  \n",
       "1012              47.51032  POINT (9.43345 47.51032)  \n",
       "1019            47.5686935  POINT (7.57483 47.56869)  \n",
       "1024               46.1963  POINT (9.03017 46.19630)  \n",
       "1025              46.31906  POINT (7.99028 46.31906)  "
      ]
     },
     "execution_count": 11,
     "metadata": {},
     "output_type": "execute_result"
    }
   ],
   "source": [
    "gdf_mobility.head()"
   ]
  },
  {
   "cell_type": "markdown",
   "id": "2c045848-eede-4325-bea3-fcd7f68b23d7",
   "metadata": {},
   "source": [
    "### Assign NPVM-zone to Mobility-Stations"
   ]
  },
  {
   "cell_type": "code",
   "execution_count": 97,
   "id": "fbd02b1a-7943-49dc-857f-25a9f07aa1d2",
   "metadata": {},
   "outputs": [],
   "source": [
    "mobility_zone = gpd.sjoin(gdf_mobility, df_npvm_zones)[[\"Name\", \"Standort\", \"geometry\", \"ID\", \"N_Gem\"]]"
   ]
  },
  {
   "cell_type": "code",
   "execution_count": 98,
   "id": "0023cbbe-340e-4801-a299-d9041812b059",
   "metadata": {},
   "outputs": [
    {
     "data": {
      "text/html": [
       "<div>\n",
       "<style scoped>\n",
       "    .dataframe tbody tr th:only-of-type {\n",
       "        vertical-align: middle;\n",
       "    }\n",
       "\n",
       "    .dataframe tbody tr th {\n",
       "        vertical-align: top;\n",
       "    }\n",
       "\n",
       "    .dataframe thead th {\n",
       "        text-align: right;\n",
       "    }\n",
       "</style>\n",
       "<table border=\"1\" class=\"dataframe\">\n",
       "  <thead>\n",
       "    <tr style=\"text-align: right;\">\n",
       "      <th></th>\n",
       "      <th>Name</th>\n",
       "      <th>Standort</th>\n",
       "      <th>geometry</th>\n",
       "      <th>ID</th>\n",
       "      <th>N_Gem</th>\n",
       "    </tr>\n",
       "    <tr>\n",
       "      <th>Stationsnummer</th>\n",
       "      <th></th>\n",
       "      <th></th>\n",
       "      <th></th>\n",
       "      <th></th>\n",
       "      <th></th>\n",
       "    </tr>\n",
       "  </thead>\n",
       "  <tbody>\n",
       "    <tr>\n",
       "      <th>1006</th>\n",
       "      <td>Brugg Bahnhof</td>\n",
       "      <td>47.48154,8.20942</td>\n",
       "      <td>POINT (8.20942 47.48154)</td>\n",
       "      <td>409501008</td>\n",
       "      <td>Brugg</td>\n",
       "    </tr>\n",
       "    <tr>\n",
       "      <th>3215</th>\n",
       "      <td>Brugg Post Neumarkt / Bahnhofstrasse</td>\n",
       "      <td>47.48216,8.20757</td>\n",
       "      <td>POINT (8.20757 47.48216)</td>\n",
       "      <td>409501008</td>\n",
       "      <td>Brugg</td>\n",
       "    </tr>\n",
       "    <tr>\n",
       "      <th>1012</th>\n",
       "      <td>Arbon Bahnhof</td>\n",
       "      <td>47.51032,9.43345</td>\n",
       "      <td>POINT (9.43345 47.51032)</td>\n",
       "      <td>440101010</td>\n",
       "      <td>Arbon</td>\n",
       "    </tr>\n",
       "    <tr>\n",
       "      <th>1019</th>\n",
       "      <td>Basel Vogesenstrasse</td>\n",
       "      <td>47.5686935,7.5748328</td>\n",
       "      <td>POINT (7.57483 47.56869)</td>\n",
       "      <td>270101028</td>\n",
       "      <td>Basel</td>\n",
       "    </tr>\n",
       "    <tr>\n",
       "      <th>1024</th>\n",
       "      <td>Bellinzona Stazione</td>\n",
       "      <td>46.1963,9.03017</td>\n",
       "      <td>POINT (9.03017 46.19630)</td>\n",
       "      <td>500201015</td>\n",
       "      <td>Bellinzona</td>\n",
       "    </tr>\n",
       "    <tr>\n",
       "      <th>...</th>\n",
       "      <td>...</td>\n",
       "      <td>...</td>\n",
       "      <td>...</td>\n",
       "      <td>...</td>\n",
       "      <td>...</td>\n",
       "    </tr>\n",
       "    <tr>\n",
       "      <th>5989</th>\n",
       "      <td>Sion Rue de Lausanne</td>\n",
       "      <td>46.230406,7.350719</td>\n",
       "      <td>POINT (7.35072 46.23041)</td>\n",
       "      <td>626601007</td>\n",
       "      <td>Sion</td>\n",
       "    </tr>\n",
       "    <tr>\n",
       "      <th>5990</th>\n",
       "      <td>Fribourg Bourg / Tilleul</td>\n",
       "      <td>46.80615,7.1611</td>\n",
       "      <td>POINT (7.16110 46.80615)</td>\n",
       "      <td>219601017</td>\n",
       "      <td>Fribourg</td>\n",
       "    </tr>\n",
       "    <tr>\n",
       "      <th>6028</th>\n",
       "      <td>Convadis Teststandort 401115</td>\n",
       "      <td>47.503635,8.239223</td>\n",
       "      <td>POINT (8.23922 47.50364)</td>\n",
       "      <td>404401001</td>\n",
       "      <td>Untersiggenthal</td>\n",
       "    </tr>\n",
       "    <tr>\n",
       "      <th>6029</th>\n",
       "      <td>Convadis Teststandort 400611</td>\n",
       "      <td>47.50362,8.23921</td>\n",
       "      <td>POINT (8.23921 47.50362)</td>\n",
       "      <td>404401001</td>\n",
       "      <td>Untersiggenthal</td>\n",
       "    </tr>\n",
       "    <tr>\n",
       "      <th>6030</th>\n",
       "      <td>Convadis Teststandort 202773</td>\n",
       "      <td>47.50368,8.23923</td>\n",
       "      <td>POINT (8.23923 47.50368)</td>\n",
       "      <td>404401001</td>\n",
       "      <td>Untersiggenthal</td>\n",
       "    </tr>\n",
       "  </tbody>\n",
       "</table>\n",
       "<p>1549 rows × 5 columns</p>\n",
       "</div>"
      ],
      "text/plain": [
       "                                                Name              Standort  \\\n",
       "Stationsnummer                                                               \n",
       "1006                                   Brugg Bahnhof      47.48154,8.20942   \n",
       "3215            Brugg Post Neumarkt / Bahnhofstrasse      47.48216,8.20757   \n",
       "1012                                   Arbon Bahnhof      47.51032,9.43345   \n",
       "1019                            Basel Vogesenstrasse  47.5686935,7.5748328   \n",
       "1024                             Bellinzona Stazione       46.1963,9.03017   \n",
       "...                                              ...                   ...   \n",
       "5989                            Sion Rue de Lausanne    46.230406,7.350719   \n",
       "5990                        Fribourg Bourg / Tilleul       46.80615,7.1611   \n",
       "6028                    Convadis Teststandort 401115    47.503635,8.239223   \n",
       "6029                    Convadis Teststandort 400611      47.50362,8.23921   \n",
       "6030                    Convadis Teststandort 202773      47.50368,8.23923   \n",
       "\n",
       "                                geometry         ID            N_Gem  \n",
       "Stationsnummer                                                        \n",
       "1006            POINT (8.20942 47.48154)  409501008            Brugg  \n",
       "3215            POINT (8.20757 47.48216)  409501008            Brugg  \n",
       "1012            POINT (9.43345 47.51032)  440101010            Arbon  \n",
       "1019            POINT (7.57483 47.56869)  270101028            Basel  \n",
       "1024            POINT (9.03017 46.19630)  500201015       Bellinzona  \n",
       "...                                  ...        ...              ...  \n",
       "5989            POINT (7.35072 46.23041)  626601007             Sion  \n",
       "5990            POINT (7.16110 46.80615)  219601017         Fribourg  \n",
       "6028            POINT (8.23922 47.50364)  404401001  Untersiggenthal  \n",
       "6029            POINT (8.23921 47.50362)  404401001  Untersiggenthal  \n",
       "6030            POINT (8.23923 47.50368)  404401001  Untersiggenthal  \n",
       "\n",
       "[1549 rows x 5 columns]"
      ]
     },
     "execution_count": 98,
     "metadata": {},
     "output_type": "execute_result"
    }
   ],
   "source": [
    "mobility_zone"
   ]
  },
  {
   "cell_type": "code",
   "execution_count": 14,
   "id": "f6840d1f-092d-4502-b657-e5e61724479e",
   "metadata": {},
   "outputs": [],
   "source": [
    "mobility_zone.to_csv(r\"D:\\data\\ttools gmbh\\Projekte - Dokumente\\021_MobilityStationFinder\\Daten\\Analyse_Mobility_Stationen.csv\", sep=\";\")"
   ]
  },
  {
   "cell_type": "markdown",
   "id": "535a725a-cb55-477b-abce-64e97cb5919d",
   "metadata": {},
   "source": [
    "### Read PT-skims"
   ]
  },
  {
   "cell_type": "code",
   "execution_count": 15,
   "id": "44def8b6-9e22-4ac2-b8b6-1c70a4487a25",
   "metadata": {},
   "outputs": [],
   "source": [
    "skim_jrta = ReadPTVMatrix(path_pt_jrta)"
   ]
  },
  {
   "cell_type": "code",
   "execution_count": 16,
   "id": "397782f2-c9d4-4820-8f3a-a7dbada321d7",
   "metadata": {},
   "outputs": [],
   "source": [
    "skim_ntr = ReadPTVMatrix(path_pt_ntr)"
   ]
  },
  {
   "cell_type": "code",
   "execution_count": 17,
   "id": "e66fe68b-3dfe-4392-a959-dffe5ea4d5f9",
   "metadata": {},
   "outputs": [
    {
     "data": {
      "text/plain": [
       "<bound method Mapping.values of <xarray.ReadPTVMatrix>\n",
       "Dimensions:       (zone_no: 8718, zone_no2: 8718, origins: 8718,\n",
       "                   destinations: 8718)\n",
       "Coordinates:\n",
       "  * zone_no       (zone_no) int32 101001 201001 201002 ... 910000008 910000009\n",
       "  * zone_no2      (zone_no2) int32 101001 201001 201002 ... 910000008 910000009\n",
       "  * origins       (origins) int32 101001 201001 201002 ... 910000008 910000009\n",
       "  * destinations  (destinations) int32 101001 201001 ... 910000008 910000009\n",
       "Data variables:\n",
       "    matrix        (origins, destinations) float64 0.0 70.62 44.87 ... 517.0 0.0\n",
       "    zone_name     (zone_no) object 'Aeugst am Albis' ... 'Strasbourg'\n",
       "    zone_names2   (zone_no2) object 'Aeugst am Albis' ... 'Strasbourg'\n",
       "Attributes:\n",
       "    fn:                   D:\\data\\ttools gmbh\\Projekte - Dokumente\\021_Mobili...\n",
       "    ZeitVon:              nan\n",
       "    ZeitBis:              nan\n",
       "    Faktor:               1.0\n",
       "    VMAktKennung:         0\n",
       "    AnzBezeichnerlisten:  1\n",
       "    roundproc:            1\n",
       "    diagsum:              0.0>"
      ]
     },
     "execution_count": 17,
     "metadata": {},
     "output_type": "execute_result"
    }
   ],
   "source": [
    "skim_jrta.values"
   ]
  },
  {
   "cell_type": "code",
   "execution_count": 18,
   "id": "1fc35cef-dfe3-41b4-9288-7c90f798a826",
   "metadata": {},
   "outputs": [
    {
     "data": {
      "text/plain": [
       "286.0875843780647"
      ]
     },
     "execution_count": 18,
     "metadata": {},
     "output_type": "execute_result"
    }
   ],
   "source": [
    "skim_jrta.sel(origins=378601001).sel(destinations=35101026).matrix.item()"
   ]
  },
  {
   "cell_type": "code",
   "execution_count": 19,
   "id": "5c76647c-6feb-4271-8694-55b8567d7ff3",
   "metadata": {},
   "outputs": [
    {
     "data": {
      "text/plain": [
       "3.000000000000001"
      ]
     },
     "execution_count": 19,
     "metadata": {},
     "output_type": "execute_result"
    }
   ],
   "source": [
    "skim_ntr.sel(origins=378601001).sel(destinations=35101026).matrix.item()"
   ]
  },
  {
   "cell_type": "code",
   "execution_count": 20,
   "id": "d42db127-8c61-4233-a2e1-8b8ee789d8c2",
   "metadata": {},
   "outputs": [],
   "source": [
    "def get_skim(skim_matrix, from_npvm_zone_id, to_npvm_zone_id):\n",
    "    return skim_matrix.sel(origins=from_npvm_zone_id).sel(destinations=to_npvm_zone_id).matrix.item()"
   ]
  },
  {
   "cell_type": "code",
   "execution_count": 21,
   "id": "ed948051-0051-4b40-ba4e-67060a065c69",
   "metadata": {},
   "outputs": [],
   "source": [
    "def get_jrta(from_npvm_zone_id, to_npvm_zone_id):\n",
    "    return get_skim(skim_jrta, from_npvm_zone_id, to_npvm_zone_id)"
   ]
  },
  {
   "cell_type": "code",
   "execution_count": 22,
   "id": "16c84c7f-b95f-42f0-b5a4-6a055ea08aff",
   "metadata": {},
   "outputs": [],
   "source": [
    "def get_ntr(from_npvm_zone_id, to_npvm_zone_id):\n",
    "    return get_skim(skim_ntr, from_npvm_zone_id, to_npvm_zone_id)"
   ]
  },
  {
   "cell_type": "code",
   "execution_count": 23,
   "id": "9ca67766-f894-4a82-87c7-df51b93850f9",
   "metadata": {},
   "outputs": [
    {
     "data": {
      "text/plain": [
       "286.0875843780647"
      ]
     },
     "execution_count": 23,
     "metadata": {},
     "output_type": "execute_result"
    }
   ],
   "source": [
    "get_jrta(378601001, 35101026)"
   ]
  },
  {
   "cell_type": "code",
   "execution_count": 24,
   "id": "98b6ac49-4939-4496-bec6-9d0e8bf98eb0",
   "metadata": {},
   "outputs": [
    {
     "data": {
      "text/plain": [
       "3.000000000000001"
      ]
     },
     "execution_count": 24,
     "metadata": {},
     "output_type": "execute_result"
    }
   ],
   "source": [
    "get_ntr(378601001, 35101026)"
   ]
  },
  {
   "cell_type": "markdown",
   "id": "1ed1291d-869b-4565-9cfe-1fe5f10a6575",
   "metadata": {},
   "source": [
    "## Execute query"
   ]
  },
  {
   "cell_type": "markdown",
   "id": "b1971d40-3119-4b79-aa4e-8ec5220af09a",
   "metadata": {},
   "source": [
    "### Define origin and destination and assign NPVM-Zone"
   ]
  },
  {
   "cell_type": "code",
   "execution_count": 27,
   "id": "e3ca41f1-9a3f-4758-a377-d39fae6f2da0",
   "metadata": {},
   "outputs": [],
   "source": [
    "orig_point = Point(7.423570, 46.936620)\n",
    "dest_point = Point(7.695260, 46.828540)"
   ]
  },
  {
   "cell_type": "code",
   "execution_count": 28,
   "id": "9b8b3242-bb4f-4f79-9b9b-1a8e4acec0ce",
   "metadata": {},
   "outputs": [],
   "source": [
    "df_orig = gpd.GeoDataFrame({'geometry': [orig_point]}, crs=\"EPSG:4326\")\n",
    "df_dest = gpd.GeoDataFrame({'geometry': [dest_point]}, crs=\"EPSG:4326\")"
   ]
  },
  {
   "cell_type": "code",
   "execution_count": 29,
   "id": "e2cf6580-2e01-47e2-8940-7dc2278bff8c",
   "metadata": {},
   "outputs": [],
   "source": [
    "orig_zone = gpd.sjoin(df_orig, df_npvm_zones)\n",
    "dest_zone = gpd.sjoin(df_dest, df_npvm_zones)"
   ]
  },
  {
   "cell_type": "code",
   "execution_count": 133,
   "id": "f49d75ba-4b03-4d65-a0f5-38202979b03d",
   "metadata": {},
   "outputs": [],
   "source": [
    "orig_zone_id = orig_zone[\"ID\"].item()"
   ]
  },
  {
   "cell_type": "markdown",
   "id": "4268f130-4c2a-4ade-a246-2c4ed0cb5379",
   "metadata": {},
   "source": [
    "### Compute potential Mobility-stations"
   ]
  },
  {
   "cell_type": "code",
   "execution_count": 31,
   "id": "b479eeae-7ccd-4d97-90ae-08f53cef9372",
   "metadata": {},
   "outputs": [],
   "source": [
    "search_area_orig = gpd.GeoDataFrame(geometry=df_orig.to_crs(2026).buffer(5*1000).to_crs(4326), crs=\"EPSG:4326\")\n",
    "search_area_dest = gpd.GeoDataFrame(geometry=df_dest.to_crs(2026).buffer(50*1000).to_crs(4326), crs=\"EPSG:4326\")"
   ]
  },
  {
   "cell_type": "code",
   "execution_count": 95,
   "id": "abb5771b-31b3-483d-b554-97d2e84f9b1c",
   "metadata": {},
   "outputs": [
    {
     "data": {
      "text/html": [
       "<div>\n",
       "<style scoped>\n",
       "    .dataframe tbody tr th:only-of-type {\n",
       "        vertical-align: middle;\n",
       "    }\n",
       "\n",
       "    .dataframe tbody tr th {\n",
       "        vertical-align: top;\n",
       "    }\n",
       "\n",
       "    .dataframe thead th {\n",
       "        text-align: right;\n",
       "    }\n",
       "</style>\n",
       "<table border=\"1\" class=\"dataframe\">\n",
       "  <thead>\n",
       "    <tr style=\"text-align: right;\">\n",
       "      <th></th>\n",
       "      <th>geometry</th>\n",
       "    </tr>\n",
       "  </thead>\n",
       "  <tbody>\n",
       "    <tr>\n",
       "      <th>0</th>\n",
       "      <td>POLYGON ((7.40836 46.90462, 7.40386 46.90580, ...</td>\n",
       "    </tr>\n",
       "  </tbody>\n",
       "</table>\n",
       "</div>"
      ],
      "text/plain": [
       "                                            geometry\n",
       "0  POLYGON ((7.40836 46.90462, 7.40386 46.90580, ..."
      ]
     },
     "execution_count": 95,
     "metadata": {},
     "output_type": "execute_result"
    }
   ],
   "source": [
    "search_area_orig.head()"
   ]
  },
  {
   "cell_type": "code",
   "execution_count": 93,
   "id": "8908fae4-2f9c-40cb-afec-cfe1a1746ece",
   "metadata": {},
   "outputs": [
    {
     "data": {
      "text/html": [
       "<div>\n",
       "<style scoped>\n",
       "    .dataframe tbody tr th:only-of-type {\n",
       "        vertical-align: middle;\n",
       "    }\n",
       "\n",
       "    .dataframe tbody tr th {\n",
       "        vertical-align: top;\n",
       "    }\n",
       "\n",
       "    .dataframe thead th {\n",
       "        text-align: right;\n",
       "    }\n",
       "</style>\n",
       "<table border=\"1\" class=\"dataframe\">\n",
       "  <thead>\n",
       "    <tr style=\"text-align: right;\">\n",
       "      <th></th>\n",
       "      <th>Name</th>\n",
       "      <th>Standort</th>\n",
       "      <th>lon</th>\n",
       "      <th>lat</th>\n",
       "      <th>geometry</th>\n",
       "    </tr>\n",
       "    <tr>\n",
       "      <th>Stationsnummer</th>\n",
       "      <th></th>\n",
       "      <th></th>\n",
       "      <th></th>\n",
       "      <th></th>\n",
       "      <th></th>\n",
       "    </tr>\n",
       "  </thead>\n",
       "  <tbody>\n",
       "    <tr>\n",
       "      <th>1006</th>\n",
       "      <td>Brugg Bahnhof</td>\n",
       "      <td>47.48154,8.20942</td>\n",
       "      <td>8.20942</td>\n",
       "      <td>47.48154</td>\n",
       "      <td>POINT (8.20942 47.48154)</td>\n",
       "    </tr>\n",
       "    <tr>\n",
       "      <th>1012</th>\n",
       "      <td>Arbon Bahnhof</td>\n",
       "      <td>47.51032,9.43345</td>\n",
       "      <td>9.43345</td>\n",
       "      <td>47.51032</td>\n",
       "      <td>POINT (9.43345 47.51032)</td>\n",
       "    </tr>\n",
       "    <tr>\n",
       "      <th>1019</th>\n",
       "      <td>Basel Vogesenstrasse</td>\n",
       "      <td>47.5686935,7.5748328</td>\n",
       "      <td>7.5748328</td>\n",
       "      <td>47.5686935</td>\n",
       "      <td>POINT (7.57483 47.56869)</td>\n",
       "    </tr>\n",
       "    <tr>\n",
       "      <th>1024</th>\n",
       "      <td>Bellinzona Stazione</td>\n",
       "      <td>46.1963,9.03017</td>\n",
       "      <td>9.03017</td>\n",
       "      <td>46.1963</td>\n",
       "      <td>POINT (9.03017 46.19630)</td>\n",
       "    </tr>\n",
       "    <tr>\n",
       "      <th>1025</th>\n",
       "      <td>Brig Bahnhof</td>\n",
       "      <td>46.31906,7.99028</td>\n",
       "      <td>7.99028</td>\n",
       "      <td>46.31906</td>\n",
       "      <td>POINT (7.99028 46.31906)</td>\n",
       "    </tr>\n",
       "  </tbody>\n",
       "</table>\n",
       "</div>"
      ],
      "text/plain": [
       "                                Name              Standort        lon  \\\n",
       "Stationsnummer                                                          \n",
       "1006                   Brugg Bahnhof      47.48154,8.20942    8.20942   \n",
       "1012                   Arbon Bahnhof      47.51032,9.43345    9.43345   \n",
       "1019            Basel Vogesenstrasse  47.5686935,7.5748328  7.5748328   \n",
       "1024             Bellinzona Stazione       46.1963,9.03017    9.03017   \n",
       "1025                    Brig Bahnhof      46.31906,7.99028    7.99028   \n",
       "\n",
       "                       lat                  geometry  \n",
       "Stationsnummer                                        \n",
       "1006              47.48154  POINT (8.20942 47.48154)  \n",
       "1012              47.51032  POINT (9.43345 47.51032)  \n",
       "1019            47.5686935  POINT (7.57483 47.56869)  \n",
       "1024               46.1963  POINT (9.03017 46.19630)  \n",
       "1025              46.31906  POINT (7.99028 46.31906)  "
      ]
     },
     "execution_count": 93,
     "metadata": {},
     "output_type": "execute_result"
    }
   ],
   "source": [
    "gdf_mobility.head()"
   ]
  },
  {
   "cell_type": "code",
   "execution_count": 94,
   "id": "0c62c7f1-a261-44b9-b3db-aac958fa26ad",
   "metadata": {},
   "outputs": [
    {
     "data": {
      "text/html": [
       "<div>\n",
       "<style scoped>\n",
       "    .dataframe tbody tr th:only-of-type {\n",
       "        vertical-align: middle;\n",
       "    }\n",
       "\n",
       "    .dataframe tbody tr th {\n",
       "        vertical-align: top;\n",
       "    }\n",
       "\n",
       "    .dataframe thead th {\n",
       "        text-align: right;\n",
       "    }\n",
       "</style>\n",
       "<table border=\"1\" class=\"dataframe\">\n",
       "  <thead>\n",
       "    <tr style=\"text-align: right;\">\n",
       "      <th></th>\n",
       "      <th>Name</th>\n",
       "      <th>Standort</th>\n",
       "      <th>lon</th>\n",
       "      <th>lat</th>\n",
       "      <th>geometry</th>\n",
       "      <th>index_right</th>\n",
       "      <th>ID</th>\n",
       "      <th>ID_alt</th>\n",
       "      <th>ID_Gem</th>\n",
       "      <th>N_Gem</th>\n",
       "      <th>stg_type</th>\n",
       "      <th>N_stg_type</th>\n",
       "      <th>ID_KT</th>\n",
       "      <th>N_KT</th>\n",
       "      <th>ID_SL3</th>\n",
       "      <th>N_SL3</th>\n",
       "      <th>ID_Agglo</th>\n",
       "      <th>N_Agglo</th>\n",
       "      <th>ID_AMR</th>\n",
       "      <th>N_AMR</th>\n",
       "    </tr>\n",
       "    <tr>\n",
       "      <th>Stationsnummer</th>\n",
       "      <th></th>\n",
       "      <th></th>\n",
       "      <th></th>\n",
       "      <th></th>\n",
       "      <th></th>\n",
       "      <th></th>\n",
       "      <th></th>\n",
       "      <th></th>\n",
       "      <th></th>\n",
       "      <th></th>\n",
       "      <th></th>\n",
       "      <th></th>\n",
       "      <th></th>\n",
       "      <th></th>\n",
       "      <th></th>\n",
       "      <th></th>\n",
       "      <th></th>\n",
       "      <th></th>\n",
       "      <th></th>\n",
       "      <th></th>\n",
       "    </tr>\n",
       "  </thead>\n",
       "  <tbody>\n",
       "    <tr>\n",
       "      <th>1006</th>\n",
       "      <td>Brugg Bahnhof</td>\n",
       "      <td>47.48154,8.20942</td>\n",
       "      <td>8.20942</td>\n",
       "      <td>47.48154</td>\n",
       "      <td>POINT (8.20942 47.48154)</td>\n",
       "      <td>5144</td>\n",
       "      <td>409501008</td>\n",
       "      <td>4095</td>\n",
       "      <td>4095</td>\n",
       "      <td>Brugg</td>\n",
       "      <td>1</td>\n",
       "      <td>None</td>\n",
       "      <td>19</td>\n",
       "      <td>AG</td>\n",
       "      <td>1</td>\n",
       "      <td>Städtisch</td>\n",
       "      <td>4021</td>\n",
       "      <td>Baden  Brugg</td>\n",
       "      <td>12010</td>\n",
       "      <td>Baden</td>\n",
       "    </tr>\n",
       "    <tr>\n",
       "      <th>3215</th>\n",
       "      <td>Brugg Post Neumarkt / Bahnhofstrasse</td>\n",
       "      <td>47.48216,8.20757</td>\n",
       "      <td>8.20757</td>\n",
       "      <td>47.48216</td>\n",
       "      <td>POINT (8.20757 47.48216)</td>\n",
       "      <td>5144</td>\n",
       "      <td>409501008</td>\n",
       "      <td>4095</td>\n",
       "      <td>4095</td>\n",
       "      <td>Brugg</td>\n",
       "      <td>1</td>\n",
       "      <td>None</td>\n",
       "      <td>19</td>\n",
       "      <td>AG</td>\n",
       "      <td>1</td>\n",
       "      <td>Städtisch</td>\n",
       "      <td>4021</td>\n",
       "      <td>Baden  Brugg</td>\n",
       "      <td>12010</td>\n",
       "      <td>Baden</td>\n",
       "    </tr>\n",
       "    <tr>\n",
       "      <th>1012</th>\n",
       "      <td>Arbon Bahnhof</td>\n",
       "      <td>47.51032,9.43345</td>\n",
       "      <td>9.43345</td>\n",
       "      <td>47.51032</td>\n",
       "      <td>POINT (9.43345 47.51032)</td>\n",
       "      <td>5476</td>\n",
       "      <td>440101010</td>\n",
       "      <td>4401</td>\n",
       "      <td>4401</td>\n",
       "      <td>Arbon</td>\n",
       "      <td>1</td>\n",
       "      <td>None</td>\n",
       "      <td>20</td>\n",
       "      <td>TG</td>\n",
       "      <td>1</td>\n",
       "      <td>Städtisch</td>\n",
       "      <td>4401</td>\n",
       "      <td>Arbon  Rorschach</td>\n",
       "      <td>15050</td>\n",
       "      <td>St. Gallen</td>\n",
       "    </tr>\n",
       "    <tr>\n",
       "      <th>1019</th>\n",
       "      <td>Basel Vogesenstrasse</td>\n",
       "      <td>47.5686935,7.5748328</td>\n",
       "      <td>7.5748328</td>\n",
       "      <td>47.5686935</td>\n",
       "      <td>POINT (7.57483 47.56869)</td>\n",
       "      <td>3643</td>\n",
       "      <td>270101028</td>\n",
       "      <td>270105</td>\n",
       "      <td>2701</td>\n",
       "      <td>Basel</td>\n",
       "      <td>1</td>\n",
       "      <td>None</td>\n",
       "      <td>12</td>\n",
       "      <td>BS</td>\n",
       "      <td>1</td>\n",
       "      <td>Städtisch</td>\n",
       "      <td>2701</td>\n",
       "      <td>Basel</td>\n",
       "      <td>8013</td>\n",
       "      <td>Basel</td>\n",
       "    </tr>\n",
       "    <tr>\n",
       "      <th>1024</th>\n",
       "      <td>Bellinzona Stazione</td>\n",
       "      <td>46.1963,9.03017</td>\n",
       "      <td>9.03017</td>\n",
       "      <td>46.1963</td>\n",
       "      <td>POINT (9.03017 46.19630)</td>\n",
       "      <td>5722</td>\n",
       "      <td>500201015</td>\n",
       "      <td>5002</td>\n",
       "      <td>5002</td>\n",
       "      <td>Bellinzona</td>\n",
       "      <td>1</td>\n",
       "      <td>None</td>\n",
       "      <td>21</td>\n",
       "      <td>TI</td>\n",
       "      <td>1</td>\n",
       "      <td>Städtisch</td>\n",
       "      <td>5002</td>\n",
       "      <td>Bellinzona</td>\n",
       "      <td>13040</td>\n",
       "      <td>Bellinzona</td>\n",
       "    </tr>\n",
       "  </tbody>\n",
       "</table>\n",
       "</div>"
      ],
      "text/plain": [
       "                                                Name              Standort  \\\n",
       "Stationsnummer                                                               \n",
       "1006                                   Brugg Bahnhof      47.48154,8.20942   \n",
       "3215            Brugg Post Neumarkt / Bahnhofstrasse      47.48216,8.20757   \n",
       "1012                                   Arbon Bahnhof      47.51032,9.43345   \n",
       "1019                            Basel Vogesenstrasse  47.5686935,7.5748328   \n",
       "1024                             Bellinzona Stazione       46.1963,9.03017   \n",
       "\n",
       "                      lon         lat                  geometry  index_right  \\\n",
       "Stationsnummer                                                                 \n",
       "1006              8.20942    47.48154  POINT (8.20942 47.48154)         5144   \n",
       "3215              8.20757    47.48216  POINT (8.20757 47.48216)         5144   \n",
       "1012              9.43345    47.51032  POINT (9.43345 47.51032)         5476   \n",
       "1019            7.5748328  47.5686935  POINT (7.57483 47.56869)         3643   \n",
       "1024              9.03017     46.1963  POINT (9.03017 46.19630)         5722   \n",
       "\n",
       "                       ID  ID_alt  ID_Gem       N_Gem  stg_type N_stg_type  \\\n",
       "Stationsnummer                                                               \n",
       "1006            409501008    4095    4095       Brugg         1       None   \n",
       "3215            409501008    4095    4095       Brugg         1       None   \n",
       "1012            440101010    4401    4401       Arbon         1       None   \n",
       "1019            270101028  270105    2701       Basel         1       None   \n",
       "1024            500201015    5002    5002  Bellinzona         1       None   \n",
       "\n",
       "                ID_KT N_KT  ID_SL3      N_SL3  ID_Agglo            N_Agglo  \\\n",
       "Stationsnummer                                                               \n",
       "1006               19   AG       1  Städtisch      4021      Baden  Brugg   \n",
       "3215               19   AG       1  Städtisch      4021      Baden  Brugg   \n",
       "1012               20   TG       1  Städtisch      4401  Arbon  Rorschach   \n",
       "1019               12   BS       1  Städtisch      2701              Basel   \n",
       "1024               21   TI       1  Städtisch      5002         Bellinzona   \n",
       "\n",
       "                ID_AMR       N_AMR  \n",
       "Stationsnummer                      \n",
       "1006             12010       Baden  \n",
       "3215             12010       Baden  \n",
       "1012             15050  St. Gallen  \n",
       "1019              8013       Basel  \n",
       "1024             13040  Bellinzona  "
      ]
     },
     "execution_count": 94,
     "metadata": {},
     "output_type": "execute_result"
    }
   ],
   "source": [
    "mobility_zone.head()"
   ]
  },
  {
   "cell_type": "code",
   "execution_count": 100,
   "id": "6f2a3ce7-b296-426d-bdf7-3ace972b728b",
   "metadata": {},
   "outputs": [],
   "source": [
    "orig_zone_mobility_stations = gpd.sjoin(mobility_zone, search_area_orig)\n",
    "dest_zone_mobility_stations = gpd.sjoin(mobility_zone, search_area_dest)"
   ]
  },
  {
   "cell_type": "code",
   "execution_count": 101,
   "id": "8d312a07-a59a-4846-aca3-355d2ccffbcc",
   "metadata": {},
   "outputs": [
    {
     "data": {
      "text/plain": [
       "102"
      ]
     },
     "execution_count": 101,
     "metadata": {},
     "output_type": "execute_result"
    }
   ],
   "source": [
    "len(orig_zone_mobility_stations)"
   ]
  },
  {
   "cell_type": "code",
   "execution_count": 102,
   "id": "745a1429-6a58-465b-afb1-6bc947892418",
   "metadata": {},
   "outputs": [
    {
     "data": {
      "text/plain": [
       "214"
      ]
     },
     "execution_count": 102,
     "metadata": {},
     "output_type": "execute_result"
    }
   ],
   "source": [
    "len(dest_zone_mobility_stations)"
   ]
  },
  {
   "cell_type": "code",
   "execution_count": 103,
   "id": "ee308b30-70cf-44c7-af48-60b488b80a1a",
   "metadata": {},
   "outputs": [],
   "source": [
    "potential_mobility_stations = pd.concat([orig_zone_mobility_stations, dest_zone_mobility_stations]).groupby(\"Stationsnummer\").first()"
   ]
  },
  {
   "cell_type": "code",
   "execution_count": 104,
   "id": "0c7ada34-8b49-49fb-ae42-d4d0782f0ce1",
   "metadata": {},
   "outputs": [
    {
     "name": "stdout",
     "output_type": "stream",
     "text": [
      "214\n"
     ]
    }
   ],
   "source": [
    "print(len(potential_mobility_stations))"
   ]
  },
  {
   "cell_type": "code",
   "execution_count": 109,
   "id": "be0c025a-6504-42fc-b4c6-9ba4fe484314",
   "metadata": {},
   "outputs": [
    {
     "data": {
      "text/html": [
       "<div>\n",
       "<style scoped>\n",
       "    .dataframe tbody tr th:only-of-type {\n",
       "        vertical-align: middle;\n",
       "    }\n",
       "\n",
       "    .dataframe tbody tr th {\n",
       "        vertical-align: top;\n",
       "    }\n",
       "\n",
       "    .dataframe thead th {\n",
       "        text-align: right;\n",
       "    }\n",
       "</style>\n",
       "<table border=\"1\" class=\"dataframe\">\n",
       "  <thead>\n",
       "    <tr style=\"text-align: right;\">\n",
       "      <th></th>\n",
       "      <th>Name</th>\n",
       "      <th>Standort</th>\n",
       "      <th>geometry</th>\n",
       "      <th>ID</th>\n",
       "      <th>N_Gem</th>\n",
       "    </tr>\n",
       "    <tr>\n",
       "      <th>Stationsnummer</th>\n",
       "      <th></th>\n",
       "      <th></th>\n",
       "      <th></th>\n",
       "      <th></th>\n",
       "      <th></th>\n",
       "    </tr>\n",
       "  </thead>\n",
       "  <tbody>\n",
       "    <tr>\n",
       "      <th>5926</th>\n",
       "      <td>Grosshöchstetten Bahnhof</td>\n",
       "      <td>46.905267,7.635508</td>\n",
       "      <td>POINT (7.63551 46.90527)</td>\n",
       "      <td>60801001</td>\n",
       "      <td>Grosshöchstetten</td>\n",
       "    </tr>\n",
       "    <tr>\n",
       "      <th>5945</th>\n",
       "      <td>Ramsei Bahnhof</td>\n",
       "      <td>46.997373,7.710658</td>\n",
       "      <td>POINT (7.71066 46.99737)</td>\n",
       "      <td>95501003</td>\n",
       "      <td>Lützelflüh</td>\n",
       "    </tr>\n",
       "    <tr>\n",
       "      <th>5963</th>\n",
       "      <td>Bern Huebergass</td>\n",
       "      <td>46.945529,7.416099</td>\n",
       "      <td>POINT (7.41610 46.94553)</td>\n",
       "      <td>35101025</td>\n",
       "      <td>Bern</td>\n",
       "    </tr>\n",
       "    <tr>\n",
       "      <th>5967</th>\n",
       "      <td>Ittigen (BE) Bahnhof</td>\n",
       "      <td>46.973383,7.485135</td>\n",
       "      <td>POINT (7.48513 46.97338)</td>\n",
       "      <td>36201010</td>\n",
       "      <td>Ittigen</td>\n",
       "    </tr>\n",
       "    <tr>\n",
       "      <th>5985</th>\n",
       "      <td>Laupen Bahnhof</td>\n",
       "      <td>46.9015364,7.2420877</td>\n",
       "      <td>POINT (7.24209 46.90154)</td>\n",
       "      <td>66701003</td>\n",
       "      <td>Laupen</td>\n",
       "    </tr>\n",
       "  </tbody>\n",
       "</table>\n",
       "</div>"
      ],
      "text/plain": [
       "                                    Name              Standort  \\\n",
       "Stationsnummer                                                   \n",
       "5926            Grosshöchstetten Bahnhof    46.905267,7.635508   \n",
       "5945                      Ramsei Bahnhof    46.997373,7.710658   \n",
       "5963                     Bern Huebergass    46.945529,7.416099   \n",
       "5967                Ittigen (BE) Bahnhof    46.973383,7.485135   \n",
       "5985                      Laupen Bahnhof  46.9015364,7.2420877   \n",
       "\n",
       "                                geometry        ID             N_Gem  \n",
       "Stationsnummer                                                        \n",
       "5926            POINT (7.63551 46.90527)  60801001  Grosshöchstetten  \n",
       "5945            POINT (7.71066 46.99737)  95501003        Lützelflüh  \n",
       "5963            POINT (7.41610 46.94553)  35101025              Bern  \n",
       "5967            POINT (7.48513 46.97338)  36201010           Ittigen  \n",
       "5985            POINT (7.24209 46.90154)  66701003            Laupen  "
      ]
     },
     "execution_count": 109,
     "metadata": {},
     "output_type": "execute_result"
    }
   ],
   "source": [
    "potential_mobility_stations.tail().drop([\"index_right\"], axis=1)"
   ]
  },
  {
   "cell_type": "code",
   "execution_count": 158,
   "id": "9e2448ca-0380-4f36-9e5f-cb1aa6d00c44",
   "metadata": {},
   "outputs": [
    {
     "data": {
      "text/html": [
       "<div>\n",
       "<style scoped>\n",
       "    .dataframe tbody tr th:only-of-type {\n",
       "        vertical-align: middle;\n",
       "    }\n",
       "\n",
       "    .dataframe tbody tr th {\n",
       "        vertical-align: top;\n",
       "    }\n",
       "\n",
       "    .dataframe thead th {\n",
       "        text-align: right;\n",
       "    }\n",
       "</style>\n",
       "<table border=\"1\" class=\"dataframe\">\n",
       "  <thead>\n",
       "    <tr style=\"text-align: right;\">\n",
       "      <th></th>\n",
       "      <th>Name</th>\n",
       "      <th>Standort</th>\n",
       "      <th>geometry</th>\n",
       "      <th>ID</th>\n",
       "      <th>N_Gem</th>\n",
       "      <th>index_right</th>\n",
       "    </tr>\n",
       "    <tr>\n",
       "      <th>Stationsnummer</th>\n",
       "      <th></th>\n",
       "      <th></th>\n",
       "      <th></th>\n",
       "      <th></th>\n",
       "      <th></th>\n",
       "      <th></th>\n",
       "    </tr>\n",
       "  </thead>\n",
       "  <tbody>\n",
       "    <tr>\n",
       "      <th>1041</th>\n",
       "      <td>Burgdorf Steinhof</td>\n",
       "      <td>47.05301,7.61717</td>\n",
       "      <td>POINT (7.61717 47.05301)</td>\n",
       "      <td>40401009</td>\n",
       "      <td>Burgdorf</td>\n",
       "      <td>0</td>\n",
       "    </tr>\n",
       "  </tbody>\n",
       "</table>\n",
       "</div>"
      ],
      "text/plain": [
       "                             Name          Standort                  geometry  \\\n",
       "Stationsnummer                                                                  \n",
       "1041            Burgdorf Steinhof  47.05301,7.61717  POINT (7.61717 47.05301)   \n",
       "\n",
       "                      ID     N_Gem  index_right  \n",
       "Stationsnummer                                   \n",
       "1041            40401009  Burgdorf            0  "
      ]
     },
     "execution_count": 158,
     "metadata": {},
     "output_type": "execute_result"
    }
   ],
   "source": [
    "potential_mobility_stations.loc[[1041]]"
   ]
  },
  {
   "cell_type": "markdown",
   "id": "d827a70f-27d6-4bd4-97ac-cf27492efe90",
   "metadata": {},
   "source": [
    "### Get Mobility travel time and distance from ORMS"
   ]
  },
  {
   "cell_type": "code",
   "execution_count": 127,
   "id": "6e8d981f-09e0-4ae0-8b86-19110f631a63",
   "metadata": {},
   "outputs": [],
   "source": [
    "potential_mobility_stations_list = list(potential_mobility_stations[[\"geometry\"]].to_records())"
   ]
  },
  {
   "cell_type": "code",
   "execution_count": 111,
   "id": "683dfdeb-9fd4-4fa1-8751-75d42cfc84c4",
   "metadata": {},
   "outputs": [
    {
     "data": {
      "text/plain": [
       "[(1027, <POINT (7.5 46.886)>),\n",
       " (1040, <POINT (7.619 47.061)>),\n",
       " (1041, <POINT (7.617 47.053)>)]"
      ]
     },
     "execution_count": 111,
     "metadata": {},
     "output_type": "execute_result"
    }
   ],
   "source": [
    "potential_mobility_stations_list[:3]"
   ]
  },
  {
   "cell_type": "code",
   "execution_count": 112,
   "id": "c56feeb6-2fe0-4fad-861a-274afa38ec1b",
   "metadata": {},
   "outputs": [],
   "source": [
    "coords_str = \"{},{}\".format(dest_point.x, dest_point.y)\n",
    "for pot_mob_st in potential_mobility_stations_list:\n",
    "    coords_str += \";{},{}\".format(pot_mob_st[1].x, pot_mob_st[1].y)\n",
    "url = \"https://router.project-osrm.org/table/v1/driving/{}?destinations=0&annotations=duration,distance\".format(coords_str)"
   ]
  },
  {
   "cell_type": "code",
   "execution_count": 113,
   "id": "3c2516a2-3f83-4bdd-bef4-66ec60046c44",
   "metadata": {},
   "outputs": [],
   "source": [
    "res = requests.get(url).json()"
   ]
  },
  {
   "cell_type": "code",
   "execution_count": 114,
   "id": "d08a6156-700d-4c20-b4ee-5dcbd8b22f31",
   "metadata": {},
   "outputs": [],
   "source": [
    "distances = res[\"distances\"][1:]\n",
    "durations = res[\"durations\"][1:]"
   ]
  },
  {
   "cell_type": "code",
   "execution_count": 115,
   "id": "ebabfb9f-3a1a-4ffd-87d4-75f6214eb7f1",
   "metadata": {},
   "outputs": [
    {
     "name": "stdout",
     "output_type": "stream",
     "text": [
      "214\n",
      "214\n"
     ]
    }
   ],
   "source": [
    "print(len(distances))\n",
    "print(len(durations))"
   ]
  },
  {
   "cell_type": "code",
   "execution_count": 159,
   "id": "3f85b223-c53b-4b0c-b88d-be8425f45681",
   "metadata": {},
   "outputs": [
    {
     "data": {
      "text/plain": [
       "[[30080.1], [42726.2], [41101.6], [40282.8], [43073.1]]"
      ]
     },
     "execution_count": 159,
     "metadata": {},
     "output_type": "execute_result"
    }
   ],
   "source": [
    "distances[:5]"
   ]
  },
  {
   "cell_type": "code",
   "execution_count": 160,
   "id": "1ba8b8f0-a325-416b-a504-2addccd3a44f",
   "metadata": {},
   "outputs": [
    {
     "data": {
      "text/plain": [
       "[[1790.5], [3099.1], [2915.8], [2245.9], [2490.3]]"
      ]
     },
     "execution_count": 160,
     "metadata": {},
     "output_type": "execute_result"
    }
   ],
   "source": [
    "durations[:5]"
   ]
  },
  {
   "cell_type": "markdown",
   "id": "74032ccc-8fff-480f-b8fe-7472e7296083",
   "metadata": {},
   "source": [
    "### Get pt skims from origin to potential Mobility stations"
   ]
  },
  {
   "cell_type": "code",
   "execution_count": 134,
   "id": "898120c0-2cde-40d8-a6de-2c2ba51a1403",
   "metadata": {},
   "outputs": [],
   "source": [
    "zone_ids_list = list(potential_mobility_stations[[\"ID\"]].to_records())\n",
    "jrta_list = [get_jrta(orig_zone_id, x[1]) for x in zone_ids_list]\n",
    "ntr_list = [get_ntr(orig_zone_id, x[1]) for x in zone_ids_list]"
   ]
  },
  {
   "cell_type": "code",
   "execution_count": 154,
   "id": "7ffe7a36-dd60-4d17-a214-382e5b678059",
   "metadata": {},
   "outputs": [
    {
     "data": {
      "text/plain": [
       "[(1027, 86101006),\n",
       " (1040, 40401007),\n",
       " (1041, 40401009),\n",
       " (1042, 35201002),\n",
       " (1073, 58101001)]"
      ]
     },
     "execution_count": 154,
     "metadata": {},
     "output_type": "execute_result"
    }
   ],
   "source": [
    "zone_ids_list[:5]"
   ]
  },
  {
   "cell_type": "code",
   "execution_count": 139,
   "id": "54efba57-a2ab-4910-9127-49c8e1e5ed4c",
   "metadata": {},
   "outputs": [
    {
     "name": "stdout",
     "output_type": "stream",
     "text": [
      "214\n",
      "214\n"
     ]
    }
   ],
   "source": [
    "print(len(jrta_list))\n",
    "print(len(ntr_list))"
   ]
  },
  {
   "cell_type": "code",
   "execution_count": 155,
   "id": "256744b5-4b70-473c-89d5-db9fbe237e68",
   "metadata": {},
   "outputs": [
    {
     "data": {
      "text/plain": [
       "[30.41301950841377,\n",
       " 45.149267496633314,\n",
       " 52.16144416090363,\n",
       " 53.67167268336198,\n",
       " 82.38422138863444]"
      ]
     },
     "execution_count": 155,
     "metadata": {},
     "output_type": "execute_result"
    }
   ],
   "source": [
    "jrta_list[:5]"
   ]
  },
  {
   "cell_type": "code",
   "execution_count": 156,
   "id": "f8e3816a-6e96-4792-95e5-10c11d2e7c54",
   "metadata": {},
   "outputs": [
    {
     "data": {
      "text/plain": [
       "[0.0, 1.0, 1.5651697916511602, 2.0, 1.1429780436987096]"
      ]
     },
     "execution_count": 156,
     "metadata": {},
     "output_type": "execute_result"
    }
   ],
   "source": [
    "ntr_list[:5]"
   ]
  },
  {
   "cell_type": "markdown",
   "id": "8d32c0a2-1cc8-4750-8081-f50292a248e7",
   "metadata": {},
   "source": [
    "TODO:\n",
    "- Calculate generalized costs"
   ]
  },
  {
   "cell_type": "markdown",
   "id": "dce795e4-fd13-410b-810b-9cd892e95ef6",
   "metadata": {},
   "source": [
    "### Visualize situation on map"
   ]
  },
  {
   "cell_type": "code",
   "execution_count": null,
   "id": "5cc10526-f95f-4f15-989c-5d372220e94d",
   "metadata": {},
   "outputs": [],
   "source": [
    "from ipyleaflet import Map, GeoData, basemaps, LayersControl\n",
    "import geopandas\n",
    "import json\n",
    "\n",
    "\n",
    "m = Map(center=(52.3,8.0), zoom = 3, basemap= basemaps.Esri.WorldTopoMap)\n",
    "\n",
    "geo_data = GeoData(geo_dataframe = df_npvm_zones,\n",
    "                   style={'color': 'black', 'fillColor': '#3366cc', 'opacity':0.05, 'weight':1.9, 'dashArray':'2', 'fillOpacity':0.6},\n",
    "                   hover_style={'fillColor': 'red' , 'fillOpacity': 0.2},\n",
    "                   name = 'Countries')\n",
    "\n",
    "m.add_layer(geo_data)\n",
    "m.add_control(LayersControl())"
   ]
  },
  {
   "cell_type": "code",
   "execution_count": null,
   "id": "29df25ff-be45-4154-ba37-7956bf149f37",
   "metadata": {},
   "outputs": [],
   "source": [
    "m.layout.width = '100%'\n",
    "m.layout.height = '1000px'\n",
    "m\n",
    "# m.save(\"npvm-zonen.html\")"
   ]
  }
 ],
 "metadata": {
  "kernelspec": {
   "display_name": "Python 3 (ipykernel)",
   "language": "python",
   "name": "python3"
  },
  "language_info": {
   "codemirror_mode": {
    "name": "ipython",
    "version": 3
   },
   "file_extension": ".py",
   "mimetype": "text/x-python",
   "name": "python",
   "nbconvert_exporter": "python",
   "pygments_lexer": "ipython3",
   "version": "3.10.8"
  }
 },
 "nbformat": 4,
 "nbformat_minor": 5
}
