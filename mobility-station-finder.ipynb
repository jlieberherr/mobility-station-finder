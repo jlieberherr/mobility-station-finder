{
 "cells": [
  {
   "cell_type": "markdown",
   "id": "dc3de318-193b-45d8-8bb5-d3443f50bd8a",
   "metadata": {},
   "source": [
    "# Mobility-Station-Finder"
   ]
  },
  {
   "cell_type": "markdown",
   "id": "b5cd0cbc-960c-448f-855d-bde140762b25",
   "metadata": {},
   "source": [
    "## Imports"
   ]
  },
  {
   "cell_type": "code",
   "execution_count": 1,
   "id": "a2a802a7-68e5-4f3c-ba20-33ccf20f6fca",
   "metadata": {},
   "outputs": [],
   "source": [
    "import geopandas as gpd\n",
    "from shapely.geometry import Point\n",
    "import pandas as pd\n",
    "from matrixconverters.read_ptv import ReadPTVMatrix\n",
    "import requests"
   ]
  },
  {
   "cell_type": "markdown",
   "id": "db92c254-6cce-4a2e-82aa-ae8b57defd9e",
   "metadata": {},
   "source": [
    "## Read and process static data"
   ]
  },
  {
   "cell_type": "markdown",
   "id": "4cea168a-baf1-409b-bf33-ed0e6980d364",
   "metadata": {},
   "source": [
    "### Paths"
   ]
  },
  {
   "cell_type": "code",
   "execution_count": 2,
   "id": "7c480fa4-49e2-4200-b96e-c2cd8d35fc45",
   "metadata": {},
   "outputs": [],
   "source": [
    "path_npvm_zones = r\"D:\\data\\ttools gmbh\\Projekte - Dokumente\\021_MobilityStationFinder\\Daten\\Verkehrszonen_Schweiz_NPVM_2017_shp.zip\"\n",
    "path_mobility_stations = r\"D:\\data\\ttools gmbh\\Projekte - Dokumente\\021_MobilityStationFinder\\Daten\\mobility-stationen-und-fahrzeuge-schweiz.csv\"\n",
    "path_pt_jrta = r\"D:\\data\\ttools gmbh\\Projekte - Dokumente\\021_MobilityStationFinder\\Daten\\140_JRTA_(OEV).mtx\"\n",
    "path_pt_ntr = r\"D:\\data\\ttools gmbh\\Projekte - Dokumente\\021_MobilityStationFinder\\Daten\\144_NTR_(OEV).mtx\""
   ]
  },
  {
   "cell_type": "markdown",
   "id": "3badc5ba-0f4a-422b-bde4-701dfc7fed30",
   "metadata": {},
   "source": [
    "### Read NPVM-zones with shapes"
   ]
  },
  {
   "cell_type": "code",
   "execution_count": 3,
   "id": "0a5cb759-72c8-48a3-9e0c-002b61d4a432",
   "metadata": {},
   "outputs": [
    {
     "name": "stdout",
     "output_type": "stream",
     "text": [
      "CPU times: total: 4.67 s\n",
      "Wall time: 5.55 s\n"
     ]
    }
   ],
   "source": [
    "%time gdf_npvm_zones = gpd.read_file(path_npvm_zones, encoding=\"cp1252\").to_crs(4326)"
   ]
  },
  {
   "cell_type": "code",
   "execution_count": 4,
   "id": "5b04eedd-f734-42f2-96be-cefb1af8f5b5",
   "metadata": {},
   "outputs": [
    {
     "data": {
      "text/html": [
       "<div>\n",
       "<style scoped>\n",
       "    .dataframe tbody tr th:only-of-type {\n",
       "        vertical-align: middle;\n",
       "    }\n",
       "\n",
       "    .dataframe tbody tr th {\n",
       "        vertical-align: top;\n",
       "    }\n",
       "\n",
       "    .dataframe thead th {\n",
       "        text-align: right;\n",
       "    }\n",
       "</style>\n",
       "<table border=\"1\" class=\"dataframe\">\n",
       "  <thead>\n",
       "    <tr style=\"text-align: right;\">\n",
       "      <th></th>\n",
       "      <th>ID</th>\n",
       "      <th>ID_alt</th>\n",
       "      <th>ID_Gem</th>\n",
       "      <th>N_Gem</th>\n",
       "      <th>stg_type</th>\n",
       "      <th>N_stg_type</th>\n",
       "      <th>ID_KT</th>\n",
       "      <th>N_KT</th>\n",
       "      <th>ID_SL3</th>\n",
       "      <th>N_SL3</th>\n",
       "      <th>ID_Agglo</th>\n",
       "      <th>N_Agglo</th>\n",
       "      <th>ID_AMR</th>\n",
       "      <th>N_AMR</th>\n",
       "      <th>geometry</th>\n",
       "    </tr>\n",
       "  </thead>\n",
       "  <tbody>\n",
       "    <tr>\n",
       "      <th>0</th>\n",
       "      <td>101001</td>\n",
       "      <td>1</td>\n",
       "      <td>1</td>\n",
       "      <td>Aeugst am Albis</td>\n",
       "      <td>1</td>\n",
       "      <td>None</td>\n",
       "      <td>1</td>\n",
       "      <td>ZH</td>\n",
       "      <td>3</td>\n",
       "      <td>Ländlich</td>\n",
       "      <td>261</td>\n",
       "      <td>Zürich</td>\n",
       "      <td>12031</td>\n",
       "      <td>Dietikon–Schlieren</td>\n",
       "      <td>POLYGON ((8.47334 47.26128, 8.47334 47.26139, ...</td>\n",
       "    </tr>\n",
       "    <tr>\n",
       "      <th>1</th>\n",
       "      <td>201001</td>\n",
       "      <td>2</td>\n",
       "      <td>2</td>\n",
       "      <td>Affoltern am Albis</td>\n",
       "      <td>1</td>\n",
       "      <td>None</td>\n",
       "      <td>1</td>\n",
       "      <td>ZH</td>\n",
       "      <td>1</td>\n",
       "      <td>Städtisch</td>\n",
       "      <td>261</td>\n",
       "      <td>Zürich</td>\n",
       "      <td>12031</td>\n",
       "      <td>Dietikon–Schlieren</td>\n",
       "      <td>POLYGON ((8.42224 47.29775, 8.42282 47.29816, ...</td>\n",
       "    </tr>\n",
       "    <tr>\n",
       "      <th>2</th>\n",
       "      <td>201002</td>\n",
       "      <td>2</td>\n",
       "      <td>2</td>\n",
       "      <td>Affoltern am Albis</td>\n",
       "      <td>1</td>\n",
       "      <td>None</td>\n",
       "      <td>1</td>\n",
       "      <td>ZH</td>\n",
       "      <td>1</td>\n",
       "      <td>Städtisch</td>\n",
       "      <td>261</td>\n",
       "      <td>Zürich</td>\n",
       "      <td>12031</td>\n",
       "      <td>Dietikon–Schlieren</td>\n",
       "      <td>POLYGON ((8.44770 47.26794, 8.44767 47.26782, ...</td>\n",
       "    </tr>\n",
       "    <tr>\n",
       "      <th>3</th>\n",
       "      <td>201003</td>\n",
       "      <td>2</td>\n",
       "      <td>2</td>\n",
       "      <td>Affoltern am Albis</td>\n",
       "      <td>1</td>\n",
       "      <td>None</td>\n",
       "      <td>1</td>\n",
       "      <td>ZH</td>\n",
       "      <td>1</td>\n",
       "      <td>Städtisch</td>\n",
       "      <td>261</td>\n",
       "      <td>Zürich</td>\n",
       "      <td>12031</td>\n",
       "      <td>Dietikon–Schlieren</td>\n",
       "      <td>POLYGON ((8.43834 47.27714, 8.43814 47.27726, ...</td>\n",
       "    </tr>\n",
       "    <tr>\n",
       "      <th>4</th>\n",
       "      <td>201004</td>\n",
       "      <td>2</td>\n",
       "      <td>2</td>\n",
       "      <td>Affoltern am Albis</td>\n",
       "      <td>1</td>\n",
       "      <td>None</td>\n",
       "      <td>1</td>\n",
       "      <td>ZH</td>\n",
       "      <td>1</td>\n",
       "      <td>Städtisch</td>\n",
       "      <td>261</td>\n",
       "      <td>Zürich</td>\n",
       "      <td>12031</td>\n",
       "      <td>Dietikon–Schlieren</td>\n",
       "      <td>POLYGON ((8.45000 47.27949, 8.45007 47.27945, ...</td>\n",
       "    </tr>\n",
       "  </tbody>\n",
       "</table>\n",
       "</div>"
      ],
      "text/plain": [
       "       ID  ID_alt  ID_Gem               N_Gem  stg_type N_stg_type  ID_KT  \\\n",
       "0  101001       1       1     Aeugst am Albis         1       None      1   \n",
       "1  201001       2       2  Affoltern am Albis         1       None      1   \n",
       "2  201002       2       2  Affoltern am Albis         1       None      1   \n",
       "3  201003       2       2  Affoltern am Albis         1       None      1   \n",
       "4  201004       2       2  Affoltern am Albis         1       None      1   \n",
       "\n",
       "  N_KT  ID_SL3      N_SL3  ID_Agglo N_Agglo  ID_AMR               N_AMR  \\\n",
       "0   ZH       3   Ländlich       261  Zürich   12031  Dietikon–Schlieren   \n",
       "1   ZH       1  Städtisch       261  Zürich   12031  Dietikon–Schlieren   \n",
       "2   ZH       1  Städtisch       261  Zürich   12031  Dietikon–Schlieren   \n",
       "3   ZH       1  Städtisch       261  Zürich   12031  Dietikon–Schlieren   \n",
       "4   ZH       1  Städtisch       261  Zürich   12031  Dietikon–Schlieren   \n",
       "\n",
       "                                            geometry  \n",
       "0  POLYGON ((8.47334 47.26128, 8.47334 47.26139, ...  \n",
       "1  POLYGON ((8.42224 47.29775, 8.42282 47.29816, ...  \n",
       "2  POLYGON ((8.44770 47.26794, 8.44767 47.26782, ...  \n",
       "3  POLYGON ((8.43834 47.27714, 8.43814 47.27726, ...  \n",
       "4  POLYGON ((8.45000 47.27949, 8.45007 47.27945, ...  "
      ]
     },
     "execution_count": 4,
     "metadata": {},
     "output_type": "execute_result"
    }
   ],
   "source": [
    "gdf_npvm_zones.head()"
   ]
  },
  {
   "cell_type": "code",
   "execution_count": 5,
   "id": "badcfdbb-a4a6-471e-b9a6-51d8460b2b56",
   "metadata": {},
   "outputs": [
    {
     "name": "stdout",
     "output_type": "stream",
     "text": [
      "Anzahl NPVM-Zonen: 7978\n"
     ]
    }
   ],
   "source": [
    "print(\"Anzahl NPVM-Zonen: {}\".format(len(gdf_npvm_zones)))"
   ]
  },
  {
   "cell_type": "code",
   "execution_count": 6,
   "id": "5b115a0d-557a-4415-86bd-0c537e2a36db",
   "metadata": {},
   "outputs": [],
   "source": [
    "def get_npvm_zone(id_):\n",
    "    return gdf_npvm_zones[gdf_npvm_zones.ID == id_]"
   ]
  },
  {
   "cell_type": "code",
   "execution_count": 7,
   "id": "71e417e1-e238-49dd-ae20-c56987186594",
   "metadata": {},
   "outputs": [
    {
     "data": {
      "text/html": [
       "<div>\n",
       "<style scoped>\n",
       "    .dataframe tbody tr th:only-of-type {\n",
       "        vertical-align: middle;\n",
       "    }\n",
       "\n",
       "    .dataframe tbody tr th {\n",
       "        vertical-align: top;\n",
       "    }\n",
       "\n",
       "    .dataframe thead th {\n",
       "        text-align: right;\n",
       "    }\n",
       "</style>\n",
       "<table border=\"1\" class=\"dataframe\">\n",
       "  <thead>\n",
       "    <tr style=\"text-align: right;\">\n",
       "      <th></th>\n",
       "      <th>ID</th>\n",
       "      <th>ID_alt</th>\n",
       "      <th>ID_Gem</th>\n",
       "      <th>N_Gem</th>\n",
       "      <th>stg_type</th>\n",
       "      <th>N_stg_type</th>\n",
       "      <th>ID_KT</th>\n",
       "      <th>N_KT</th>\n",
       "      <th>ID_SL3</th>\n",
       "      <th>N_SL3</th>\n",
       "      <th>ID_Agglo</th>\n",
       "      <th>N_Agglo</th>\n",
       "      <th>ID_AMR</th>\n",
       "      <th>N_AMR</th>\n",
       "      <th>geometry</th>\n",
       "    </tr>\n",
       "  </thead>\n",
       "  <tbody>\n",
       "    <tr>\n",
       "      <th>84</th>\n",
       "      <td>5301003</td>\n",
       "      <td>53</td>\n",
       "      <td>53</td>\n",
       "      <td>Bülach</td>\n",
       "      <td>1</td>\n",
       "      <td>None</td>\n",
       "      <td>1</td>\n",
       "      <td>ZH</td>\n",
       "      <td>1</td>\n",
       "      <td>Städtisch</td>\n",
       "      <td>261</td>\n",
       "      <td>Zürich</td>\n",
       "      <td>12032</td>\n",
       "      <td>Kloten</td>\n",
       "      <td>POLYGON ((8.53973 47.51618, 8.54007 47.51529, ...</td>\n",
       "    </tr>\n",
       "  </tbody>\n",
       "</table>\n",
       "</div>"
      ],
      "text/plain": [
       "         ID  ID_alt  ID_Gem   N_Gem  stg_type N_stg_type  ID_KT N_KT  ID_SL3  \\\n",
       "84  5301003      53      53  Bülach         1       None      1   ZH       1   \n",
       "\n",
       "        N_SL3  ID_Agglo N_Agglo  ID_AMR   N_AMR  \\\n",
       "84  Städtisch       261  Zürich   12032  Kloten   \n",
       "\n",
       "                                             geometry  \n",
       "84  POLYGON ((8.53973 47.51618, 8.54007 47.51529, ...  "
      ]
     },
     "execution_count": 7,
     "metadata": {},
     "output_type": "execute_result"
    }
   ],
   "source": [
    "get_npvm_zone(5301003)"
   ]
  },
  {
   "cell_type": "markdown",
   "id": "82369f8b-2a46-416d-9319-6c905e71f68b",
   "metadata": {},
   "source": [
    "### Read Mobility-stations, assign NPVM-zones to Mobility-stations"
   ]
  },
  {
   "cell_type": "code",
   "execution_count": 8,
   "id": "b4cd5a13-f2ae-475b-b658-fb44b22ecc7b",
   "metadata": {},
   "outputs": [],
   "source": [
    "df_mobility_vechicles = pd.read_csv(path_mobility_stations, delimiter=\";\", encoding=\"utf8\")[[\"Stationsnummer\", \"Name\", \"Standort\"]].dropna()"
   ]
  },
  {
   "cell_type": "code",
   "execution_count": 9,
   "id": "d7ae35f9-15a4-4a2e-a84b-2296aeaee65f",
   "metadata": {},
   "outputs": [
    {
     "name": "stdout",
     "output_type": "stream",
     "text": [
      "Anzahl Mobility Fahrzeuge: 2662\n"
     ]
    }
   ],
   "source": [
    "print(\"Anzahl Mobility Fahrzeuge: {}\".format(len(df_mobility_vechicles)))"
   ]
  },
  {
   "cell_type": "code",
   "execution_count": 10,
   "id": "faad416e-0891-49bc-9263-bf19bf500798",
   "metadata": {},
   "outputs": [],
   "source": [
    "df_mobility_stations = df_mobility_vechicles.groupby(\"Stationsnummer\").first().reset_index()"
   ]
  },
  {
   "cell_type": "code",
   "execution_count": 11,
   "id": "775e0489-b136-4588-95d4-f723d8202ab2",
   "metadata": {},
   "outputs": [],
   "source": [
    "df_mobility_stations[\"lon\"] = df_mobility_stations[\"Standort\"].apply(lambda x: x.split(\",\")[1])\n",
    "df_mobility_stations[\"lat\"] = df_mobility_stations[\"Standort\"].apply(lambda x: x.split(\",\")[0])\n",
    "df_mobility_stations = gpd.GeoDataFrame(df_mobility_stations, geometry=gpd.points_from_xy(df_mobility_stations.lon, df_mobility_stations.lat), crs=4326)"
   ]
  },
  {
   "cell_type": "code",
   "execution_count": 12,
   "id": "39f64db3-0e43-4de2-8d77-11d854fedd21",
   "metadata": {},
   "outputs": [
    {
     "name": "stdout",
     "output_type": "stream",
     "text": [
      "Anzahl Mobility Stationen: 1550\n"
     ]
    }
   ],
   "source": [
    "print(\"Anzahl Mobility Stationen: {}\".format(len(df_mobility_stations)))"
   ]
  },
  {
   "cell_type": "code",
   "execution_count": 13,
   "id": "01abe261-0dbf-48c8-9646-0e26cc564ed4",
   "metadata": {},
   "outputs": [],
   "source": [
    "gdf_mobilty_stations_with_npvm_zone = gpd.sjoin(df_mobility_stations, gdf_npvm_zones)[[\"Stationsnummer\", \"Name\", \"geometry\", \"ID\", \"N_Gem\"]]"
   ]
  },
  {
   "cell_type": "code",
   "execution_count": 14,
   "id": "3e6e7b7f-560a-4d1d-adbb-ffec26a66cfc",
   "metadata": {},
   "outputs": [
    {
     "name": "stdout",
     "output_type": "stream",
     "text": [
      "Anzahl Mobility Standorte mit zugeordneter NPVM-Zone: 1549\n"
     ]
    }
   ],
   "source": [
    "print(\"Anzahl Mobility Standorte mit zugeordneter NPVM-Zone: {}\".format(len(gdf_mobilty_stations_with_npvm_zone)))"
   ]
  },
  {
   "cell_type": "code",
   "execution_count": 15,
   "id": "221eb029-9e7a-4473-b39a-aafdd82723f1",
   "metadata": {},
   "outputs": [
    {
     "data": {
      "text/html": [
       "<div>\n",
       "<style scoped>\n",
       "    .dataframe tbody tr th:only-of-type {\n",
       "        vertical-align: middle;\n",
       "    }\n",
       "\n",
       "    .dataframe tbody tr th {\n",
       "        vertical-align: top;\n",
       "    }\n",
       "\n",
       "    .dataframe thead th {\n",
       "        text-align: right;\n",
       "    }\n",
       "</style>\n",
       "<table border=\"1\" class=\"dataframe\">\n",
       "  <thead>\n",
       "    <tr style=\"text-align: right;\">\n",
       "      <th></th>\n",
       "      <th>Stationsnummer</th>\n",
       "      <th>Name</th>\n",
       "      <th>geometry</th>\n",
       "      <th>ID</th>\n",
       "      <th>N_Gem</th>\n",
       "    </tr>\n",
       "  </thead>\n",
       "  <tbody>\n",
       "    <tr>\n",
       "      <th>0</th>\n",
       "      <td>1006</td>\n",
       "      <td>Brugg Bahnhof</td>\n",
       "      <td>POINT (8.20942 47.48154)</td>\n",
       "      <td>409501008</td>\n",
       "      <td>Brugg</td>\n",
       "    </tr>\n",
       "    <tr>\n",
       "      <th>719</th>\n",
       "      <td>3215</td>\n",
       "      <td>Brugg Post Neumarkt / Bahnhofstrasse</td>\n",
       "      <td>POINT (8.20757 47.48216)</td>\n",
       "      <td>409501008</td>\n",
       "      <td>Brugg</td>\n",
       "    </tr>\n",
       "    <tr>\n",
       "      <th>1</th>\n",
       "      <td>1012</td>\n",
       "      <td>Arbon Bahnhof</td>\n",
       "      <td>POINT (9.43345 47.51032)</td>\n",
       "      <td>440101010</td>\n",
       "      <td>Arbon</td>\n",
       "    </tr>\n",
       "    <tr>\n",
       "      <th>2</th>\n",
       "      <td>1019</td>\n",
       "      <td>Basel Vogesenstrasse</td>\n",
       "      <td>POINT (7.57483 47.56869)</td>\n",
       "      <td>270101028</td>\n",
       "      <td>Basel</td>\n",
       "    </tr>\n",
       "    <tr>\n",
       "      <th>3</th>\n",
       "      <td>1024</td>\n",
       "      <td>Bellinzona Stazione</td>\n",
       "      <td>POINT (9.03017 46.19630)</td>\n",
       "      <td>500201015</td>\n",
       "      <td>Bellinzona</td>\n",
       "    </tr>\n",
       "  </tbody>\n",
       "</table>\n",
       "</div>"
      ],
      "text/plain": [
       "     Stationsnummer                                  Name  \\\n",
       "0              1006                         Brugg Bahnhof   \n",
       "719            3215  Brugg Post Neumarkt / Bahnhofstrasse   \n",
       "1              1012                         Arbon Bahnhof   \n",
       "2              1019                  Basel Vogesenstrasse   \n",
       "3              1024                   Bellinzona Stazione   \n",
       "\n",
       "                     geometry         ID       N_Gem  \n",
       "0    POINT (8.20942 47.48154)  409501008       Brugg  \n",
       "719  POINT (8.20757 47.48216)  409501008       Brugg  \n",
       "1    POINT (9.43345 47.51032)  440101010       Arbon  \n",
       "2    POINT (7.57483 47.56869)  270101028       Basel  \n",
       "3    POINT (9.03017 46.19630)  500201015  Bellinzona  "
      ]
     },
     "execution_count": 15,
     "metadata": {},
     "output_type": "execute_result"
    }
   ],
   "source": [
    "gdf_mobilty_stations_with_npvm_zone.head()"
   ]
  },
  {
   "cell_type": "code",
   "execution_count": 16,
   "id": "1fecf0a2-6d5a-418f-86c8-a5c5b3abe8c5",
   "metadata": {},
   "outputs": [],
   "source": [
    "gdf_npvm_zones_with_mobility_station = gdf_mobilty_stations_with_npvm_zone.dissolve(by=\"ID\", aggfunc={\"N_Gem\": \"first\", \"Name\": lambda x: list(x), \"Stationsnummer\": lambda x: list(x)}).reset_index()"
   ]
  },
  {
   "cell_type": "code",
   "execution_count": 17,
   "id": "ae1c06ec-e23d-4126-9717-f1dfa8d46678",
   "metadata": {},
   "outputs": [
    {
     "name": "stdout",
     "output_type": "stream",
     "text": [
      "Anzahl NPVM-Zonen mit Mobility-Standort: 1311\n"
     ]
    }
   ],
   "source": [
    "print(\"Anzahl NPVM-Zonen mit Mobility-Standort: {}\".format(len(gdf_npvm_zones_with_mobility_station)))"
   ]
  },
  {
   "cell_type": "code",
   "execution_count": 256,
   "id": "0b3732fb-1272-4e9a-9c46-b78eb5495d7f",
   "metadata": {},
   "outputs": [
    {
     "data": {
      "text/html": [
       "<div>\n",
       "<style scoped>\n",
       "    .dataframe tbody tr th:only-of-type {\n",
       "        vertical-align: middle;\n",
       "    }\n",
       "\n",
       "    .dataframe tbody tr th {\n",
       "        vertical-align: top;\n",
       "    }\n",
       "\n",
       "    .dataframe thead th {\n",
       "        text-align: right;\n",
       "    }\n",
       "</style>\n",
       "<table border=\"1\" class=\"dataframe\">\n",
       "  <thead>\n",
       "    <tr style=\"text-align: right;\">\n",
       "      <th></th>\n",
       "      <th>ID</th>\n",
       "      <th>geometry</th>\n",
       "      <th>N_Gem</th>\n",
       "      <th>Name</th>\n",
       "      <th>Stationsnummer</th>\n",
       "    </tr>\n",
       "  </thead>\n",
       "  <tbody>\n",
       "    <tr>\n",
       "      <th>911</th>\n",
       "      <td>378601001</td>\n",
       "      <td>POINT (9.87270 46.53347)</td>\n",
       "      <td>Samedan</td>\n",
       "      <td>[Samedan Bahnhof / via Retica]</td>\n",
       "      <td>[4906]</td>\n",
       "    </tr>\n",
       "  </tbody>\n",
       "</table>\n",
       "</div>"
      ],
      "text/plain": [
       "            ID                  geometry    N_Gem  \\\n",
       "911  378601001  POINT (9.87270 46.53347)  Samedan   \n",
       "\n",
       "                               Name Stationsnummer  \n",
       "911  [Samedan Bahnhof / via Retica]         [4906]  "
      ]
     },
     "execution_count": 256,
     "metadata": {},
     "output_type": "execute_result"
    }
   ],
   "source": [
    "gdf_npvm_zones_with_mobility_station[gdf_npvm_zones_with_mobility_station.N_Gem == \"Samedan\"]"
   ]
  },
  {
   "cell_type": "markdown",
   "id": "535a725a-cb55-477b-abce-64e97cb5919d",
   "metadata": {},
   "source": [
    "### Read PT-skims"
   ]
  },
  {
   "cell_type": "code",
   "execution_count": 19,
   "id": "44def8b6-9e22-4ac2-b8b6-1c70a4487a25",
   "metadata": {},
   "outputs": [
    {
     "name": "stdout",
     "output_type": "stream",
     "text": [
      "CPU times: total: 8.36 s\n",
      "Wall time: 8.58 s\n"
     ]
    }
   ],
   "source": [
    "%time skim_jrta = ReadPTVMatrix(path_pt_jrta)"
   ]
  },
  {
   "cell_type": "code",
   "execution_count": 20,
   "id": "397782f2-c9d4-4820-8f3a-a7dbada321d7",
   "metadata": {},
   "outputs": [
    {
     "name": "stdout",
     "output_type": "stream",
     "text": [
      "CPU times: total: 8.2 s\n",
      "Wall time: 8.29 s\n"
     ]
    }
   ],
   "source": [
    "%time skim_ntr = ReadPTVMatrix(path_pt_ntr)"
   ]
  },
  {
   "cell_type": "code",
   "execution_count": 21,
   "id": "d42db127-8c61-4233-a2e1-8b8ee789d8c2",
   "metadata": {},
   "outputs": [],
   "source": [
    "def get_skim(skim_matrix, from_npvm_zone_id, to_npvm_zone_id):\n",
    "    return skim_matrix.sel(origins=from_npvm_zone_id).sel(destinations=to_npvm_zone_id).matrix.item()"
   ]
  },
  {
   "cell_type": "code",
   "execution_count": 22,
   "id": "ed948051-0051-4b40-ba4e-67060a065c69",
   "metadata": {},
   "outputs": [],
   "source": [
    "def get_jrta(from_npvm_zone_id, to_npvm_zone_id):\n",
    "    return get_skim(skim_jrta, from_npvm_zone_id, to_npvm_zone_id)"
   ]
  },
  {
   "cell_type": "code",
   "execution_count": 23,
   "id": "16c84c7f-b95f-42f0-b5a4-6a055ea08aff",
   "metadata": {},
   "outputs": [],
   "source": [
    "def get_ntr(from_npvm_zone_id, to_npvm_zone_id):\n",
    "    return get_skim(skim_ntr, from_npvm_zone_id, to_npvm_zone_id)"
   ]
  },
  {
   "cell_type": "code",
   "execution_count": 24,
   "id": "9ca67766-f894-4a82-87c7-df51b93850f9",
   "metadata": {},
   "outputs": [
    {
     "data": {
      "text/plain": [
       "286.0875843780647"
      ]
     },
     "execution_count": 24,
     "metadata": {},
     "output_type": "execute_result"
    }
   ],
   "source": [
    "get_jrta(378601001, 35101026)"
   ]
  },
  {
   "cell_type": "code",
   "execution_count": 25,
   "id": "98b6ac49-4939-4496-bec6-9d0e8bf98eb0",
   "metadata": {},
   "outputs": [
    {
     "data": {
      "text/plain": [
       "3.000000000000001"
      ]
     },
     "execution_count": 25,
     "metadata": {},
     "output_type": "execute_result"
    }
   ],
   "source": [
    "get_ntr(378601001, 35101026)"
   ]
  },
  {
   "cell_type": "markdown",
   "id": "1ed1291d-869b-4565-9cfe-1fe5f10a6575",
   "metadata": {},
   "source": [
    "## Execute query"
   ]
  },
  {
   "cell_type": "markdown",
   "id": "b1971d40-3119-4b79-aa4e-8ec5220af09a",
   "metadata": {},
   "source": [
    "### Define origin and destination and assign NPVM-Zone"
   ]
  },
  {
   "cell_type": "code",
   "execution_count": 203,
   "id": "da05ff55-75b6-48f0-8adb-86e67f6aeca9",
   "metadata": {},
   "outputs": [],
   "source": [
    "orig_lon_lat = (9.533490, 46.848940)\n",
    "dest_lon_lat = (9.557410, 46.338920)"
   ]
  },
  {
   "cell_type": "code",
   "execution_count": 204,
   "id": "e3ca41f1-9a3f-4758-a377-d39fae6f2da0",
   "metadata": {},
   "outputs": [],
   "source": [
    "orig_point = Point(orig_lon_lat[0], orig_lon_lat[1])\n",
    "dest_point = Point(dest_lon_lat[0], dest_lon_lat[1])"
   ]
  },
  {
   "cell_type": "code",
   "execution_count": 205,
   "id": "9b8b3242-bb4f-4f79-9b9b-1a8e4acec0ce",
   "metadata": {},
   "outputs": [],
   "source": [
    "gdf_orig = gpd.GeoDataFrame({'geometry': [orig_point]}, crs=\"EPSG:4326\")\n",
    "gdf_dest = gpd.GeoDataFrame({'geometry': [dest_point]}, crs=\"EPSG:4326\")"
   ]
  },
  {
   "cell_type": "code",
   "execution_count": 206,
   "id": "e2cf6580-2e01-47e2-8940-7dc2278bff8c",
   "metadata": {},
   "outputs": [],
   "source": [
    "gdf_orig_with_zone = gpd.sjoin(gdf_orig, gdf_npvm_zones)[[\"ID\", \"N_Gem\", \"geometry\"]]\n",
    "gdf_dest_zone = gpd.sjoin(gdf_orig, gdf_npvm_zones)[[\"ID\", \"N_Gem\", \"geometry\"]]"
   ]
  },
  {
   "cell_type": "code",
   "execution_count": 207,
   "id": "ac3ac142-5024-468e-8680-01ff77ca2552",
   "metadata": {},
   "outputs": [
    {
     "data": {
      "text/html": [
       "<div>\n",
       "<style scoped>\n",
       "    .dataframe tbody tr th:only-of-type {\n",
       "        vertical-align: middle;\n",
       "    }\n",
       "\n",
       "    .dataframe tbody tr th {\n",
       "        vertical-align: top;\n",
       "    }\n",
       "\n",
       "    .dataframe thead th {\n",
       "        text-align: right;\n",
       "    }\n",
       "</style>\n",
       "<table border=\"1\" class=\"dataframe\">\n",
       "  <thead>\n",
       "    <tr style=\"text-align: right;\">\n",
       "      <th></th>\n",
       "      <th>ID</th>\n",
       "      <th>N_Gem</th>\n",
       "      <th>geometry</th>\n",
       "    </tr>\n",
       "  </thead>\n",
       "  <tbody>\n",
       "    <tr>\n",
       "      <th>0</th>\n",
       "      <td>390101022</td>\n",
       "      <td>Chur</td>\n",
       "      <td>POINT (9.53349 46.84894)</td>\n",
       "    </tr>\n",
       "  </tbody>\n",
       "</table>\n",
       "</div>"
      ],
      "text/plain": [
       "          ID N_Gem                  geometry\n",
       "0  390101022  Chur  POINT (9.53349 46.84894)"
      ]
     },
     "execution_count": 207,
     "metadata": {},
     "output_type": "execute_result"
    }
   ],
   "source": [
    "gdf_orig_with_zone"
   ]
  },
  {
   "cell_type": "code",
   "execution_count": 208,
   "id": "3f46efe7-20ef-41bd-982c-02d49b892c40",
   "metadata": {},
   "outputs": [
    {
     "data": {
      "text/html": [
       "<div>\n",
       "<style scoped>\n",
       "    .dataframe tbody tr th:only-of-type {\n",
       "        vertical-align: middle;\n",
       "    }\n",
       "\n",
       "    .dataframe tbody tr th {\n",
       "        vertical-align: top;\n",
       "    }\n",
       "\n",
       "    .dataframe thead th {\n",
       "        text-align: right;\n",
       "    }\n",
       "</style>\n",
       "<table border=\"1\" class=\"dataframe\">\n",
       "  <thead>\n",
       "    <tr style=\"text-align: right;\">\n",
       "      <th></th>\n",
       "      <th>ID</th>\n",
       "      <th>N_Gem</th>\n",
       "      <th>geometry</th>\n",
       "    </tr>\n",
       "  </thead>\n",
       "  <tbody>\n",
       "    <tr>\n",
       "      <th>0</th>\n",
       "      <td>390101022</td>\n",
       "      <td>Chur</td>\n",
       "      <td>POINT (9.53349 46.84894)</td>\n",
       "    </tr>\n",
       "  </tbody>\n",
       "</table>\n",
       "</div>"
      ],
      "text/plain": [
       "          ID N_Gem                  geometry\n",
       "0  390101022  Chur  POINT (9.53349 46.84894)"
      ]
     },
     "execution_count": 208,
     "metadata": {},
     "output_type": "execute_result"
    }
   ],
   "source": [
    "gdf_dest_zone"
   ]
  },
  {
   "cell_type": "code",
   "execution_count": 209,
   "id": "f49d75ba-4b03-4d65-a0f5-38202979b03d",
   "metadata": {},
   "outputs": [],
   "source": [
    "orig_zone_id = gdf_orig_with_zone[\"ID\"].item()"
   ]
  },
  {
   "cell_type": "markdown",
   "id": "4268f130-4c2a-4ade-a246-2c4ed0cb5379",
   "metadata": {},
   "source": [
    "### Compute potential NPVM-zones with Mobility-station"
   ]
  },
  {
   "cell_type": "code",
   "execution_count": 258,
   "id": "b479eeae-7ccd-4d97-90ae-08f53cef9372",
   "metadata": {},
   "outputs": [],
   "source": [
    "gdf_circle_around_orig  = gpd.GeoDataFrame(geometry=gdf_orig_with_zone.to_crs(2026).buffer(5*1000).to_crs(4326), crs=\"EPSG:4326\")\n",
    "gdf_circle_around_dest = gpd.GeoDataFrame(geometry=gdf_dest_zone.to_crs(2026).buffer(100*1000).to_crs(4326), crs=\"EPSG:4326\")"
   ]
  },
  {
   "cell_type": "code",
   "execution_count": 259,
   "id": "abb5771b-31b3-483d-b554-97d2e84f9b1c",
   "metadata": {},
   "outputs": [
    {
     "data": {
      "text/html": [
       "<div>\n",
       "<style scoped>\n",
       "    .dataframe tbody tr th:only-of-type {\n",
       "        vertical-align: middle;\n",
       "    }\n",
       "\n",
       "    .dataframe tbody tr th {\n",
       "        vertical-align: top;\n",
       "    }\n",
       "\n",
       "    .dataframe thead th {\n",
       "        text-align: right;\n",
       "    }\n",
       "</style>\n",
       "<table border=\"1\" class=\"dataframe\">\n",
       "  <thead>\n",
       "    <tr style=\"text-align: right;\">\n",
       "      <th></th>\n",
       "      <th>geometry</th>\n",
       "    </tr>\n",
       "  </thead>\n",
       "  <tbody>\n",
       "    <tr>\n",
       "      <th>0</th>\n",
       "      <td>POLYGON ((9.51597 46.81729, 9.51154 46.81862, ...</td>\n",
       "    </tr>\n",
       "  </tbody>\n",
       "</table>\n",
       "</div>"
      ],
      "text/plain": [
       "                                            geometry\n",
       "0  POLYGON ((9.51597 46.81729, 9.51154 46.81862, ..."
      ]
     },
     "execution_count": 259,
     "metadata": {},
     "output_type": "execute_result"
    }
   ],
   "source": [
    "gdf_circle_around_orig"
   ]
  },
  {
   "cell_type": "code",
   "execution_count": 260,
   "id": "c2557622-2ec5-4b28-a8ce-a91e99fe07b1",
   "metadata": {},
   "outputs": [
    {
     "data": {
      "text/html": [
       "<div>\n",
       "<style scoped>\n",
       "    .dataframe tbody tr th:only-of-type {\n",
       "        vertical-align: middle;\n",
       "    }\n",
       "\n",
       "    .dataframe tbody tr th {\n",
       "        vertical-align: top;\n",
       "    }\n",
       "\n",
       "    .dataframe thead th {\n",
       "        text-align: right;\n",
       "    }\n",
       "</style>\n",
       "<table border=\"1\" class=\"dataframe\">\n",
       "  <thead>\n",
       "    <tr style=\"text-align: right;\">\n",
       "      <th></th>\n",
       "      <th>geometry</th>\n",
       "    </tr>\n",
       "  </thead>\n",
       "  <tbody>\n",
       "    <tr>\n",
       "      <th>0</th>\n",
       "      <td>POLYGON ((9.18861 46.21851, 9.10154 46.24454, ...</td>\n",
       "    </tr>\n",
       "  </tbody>\n",
       "</table>\n",
       "</div>"
      ],
      "text/plain": [
       "                                            geometry\n",
       "0  POLYGON ((9.18861 46.21851, 9.10154 46.24454, ..."
      ]
     },
     "execution_count": 260,
     "metadata": {},
     "output_type": "execute_result"
    }
   ],
   "source": [
    "gdf_circle_around_dest"
   ]
  },
  {
   "cell_type": "code",
   "execution_count": 268,
   "id": "6f2a3ce7-b296-426d-bdf7-3ace972b728b",
   "metadata": {},
   "outputs": [],
   "source": [
    "gdf_npvm_zones_with_mobility_station_in_orig_circle = gpd.sjoin(gdf_npvm_zones_with_mobility_station, gdf_circle_around_orig)\n",
    "gdf_npvm_zones_with_mobility_station_in_dest_circle = gpd.sjoin(gdf_npvm_zones_with_mobility_station, gdf_circle_around_dest)"
   ]
  },
  {
   "cell_type": "code",
   "execution_count": 269,
   "id": "8d312a07-a59a-4846-aca3-355d2ccffbcc",
   "metadata": {},
   "outputs": [
    {
     "name": "stdout",
     "output_type": "stream",
     "text": [
      "Anzahl NPVM-Zonen mit Mobility-Station im Umkreis des Startpunkts: 6\n",
      "Anzahl NPVM-Zonen mit Mobility-Station im Umkreis des Zielpunkts: 118\n"
     ]
    }
   ],
   "source": [
    "print(\"Anzahl NPVM-Zonen mit Mobility-Station im Umkreis des Startpunkts: {}\".format(len(gdf_npvm_zones_with_mobility_station_in_orig_circle)))\n",
    "print(\"Anzahl NPVM-Zonen mit Mobility-Station im Umkreis des Zielpunkts: {}\".format(len(gdf_npvm_zones_with_mobility_station_in_dest_circle)))"
   ]
  },
  {
   "cell_type": "code",
   "execution_count": 270,
   "id": "7f0c02b9-7b96-4c93-8a61-0311ec2ed6f7",
   "metadata": {},
   "outputs": [
    {
     "data": {
      "text/html": [
       "<div>\n",
       "<style scoped>\n",
       "    .dataframe tbody tr th:only-of-type {\n",
       "        vertical-align: middle;\n",
       "    }\n",
       "\n",
       "    .dataframe tbody tr th {\n",
       "        vertical-align: top;\n",
       "    }\n",
       "\n",
       "    .dataframe thead th {\n",
       "        text-align: right;\n",
       "    }\n",
       "</style>\n",
       "<table border=\"1\" class=\"dataframe\">\n",
       "  <thead>\n",
       "    <tr style=\"text-align: right;\">\n",
       "      <th></th>\n",
       "      <th>ID</th>\n",
       "      <th>geometry</th>\n",
       "      <th>N_Gem</th>\n",
       "      <th>Name</th>\n",
       "      <th>Stationsnummer</th>\n",
       "      <th>index_right</th>\n",
       "    </tr>\n",
       "  </thead>\n",
       "  <tbody>\n",
       "    <tr>\n",
       "      <th>914</th>\n",
       "      <td>390101008</td>\n",
       "      <td>POINT (9.51982 46.85790)</td>\n",
       "      <td>Chur</td>\n",
       "      <td>[Chur Kurfirstenstrasse]</td>\n",
       "      <td>[4605]</td>\n",
       "      <td>0</td>\n",
       "    </tr>\n",
       "    <tr>\n",
       "      <th>915</th>\n",
       "      <td>390101009</td>\n",
       "      <td>POINT (9.51552 46.84929)</td>\n",
       "      <td>Chur</td>\n",
       "      <td>[Chur Ringstrasse / sinergia]</td>\n",
       "      <td>[4911]</td>\n",
       "      <td>0</td>\n",
       "    </tr>\n",
       "    <tr>\n",
       "      <th>916</th>\n",
       "      <td>390101015</td>\n",
       "      <td>POINT (9.52621 46.86157)</td>\n",
       "      <td>Chur</td>\n",
       "      <td>[Chur Lacuna]</td>\n",
       "      <td>[1048]</td>\n",
       "      <td>0</td>\n",
       "    </tr>\n",
       "    <tr>\n",
       "      <th>917</th>\n",
       "      <td>390101016</td>\n",
       "      <td>POINT (9.52944 46.85445)</td>\n",
       "      <td>Chur</td>\n",
       "      <td>[Chur Bahnhof]</td>\n",
       "      <td>[2842]</td>\n",
       "      <td>0</td>\n",
       "    </tr>\n",
       "    <tr>\n",
       "      <th>918</th>\n",
       "      <td>390101020</td>\n",
       "      <td>POINT (9.53439 46.85223)</td>\n",
       "      <td>Chur</td>\n",
       "      <td>[Chur Obere Quader]</td>\n",
       "      <td>[4102]</td>\n",
       "      <td>0</td>\n",
       "    </tr>\n",
       "  </tbody>\n",
       "</table>\n",
       "</div>"
      ],
      "text/plain": [
       "            ID                  geometry N_Gem                           Name  \\\n",
       "914  390101008  POINT (9.51982 46.85790)  Chur       [Chur Kurfirstenstrasse]   \n",
       "915  390101009  POINT (9.51552 46.84929)  Chur  [Chur Ringstrasse / sinergia]   \n",
       "916  390101015  POINT (9.52621 46.86157)  Chur                  [Chur Lacuna]   \n",
       "917  390101016  POINT (9.52944 46.85445)  Chur                 [Chur Bahnhof]   \n",
       "918  390101020  POINT (9.53439 46.85223)  Chur            [Chur Obere Quader]   \n",
       "\n",
       "    Stationsnummer  index_right  \n",
       "914         [4605]            0  \n",
       "915         [4911]            0  \n",
       "916         [1048]            0  \n",
       "917         [2842]            0  \n",
       "918         [4102]            0  "
      ]
     },
     "execution_count": 270,
     "metadata": {},
     "output_type": "execute_result"
    }
   ],
   "source": [
    "gdf_npvm_zones_with_mobility_station_in_orig_circle.head()"
   ]
  },
  {
   "cell_type": "code",
   "execution_count": 274,
   "id": "5c666fa8-c6d8-4b98-a58f-9c84ca07f856",
   "metadata": {},
   "outputs": [
    {
     "data": {
      "text/html": [
       "<div>\n",
       "<style scoped>\n",
       "    .dataframe tbody tr th:only-of-type {\n",
       "        vertical-align: middle;\n",
       "    }\n",
       "\n",
       "    .dataframe tbody tr th {\n",
       "        vertical-align: top;\n",
       "    }\n",
       "\n",
       "    .dataframe thead th {\n",
       "        text-align: right;\n",
       "    }\n",
       "</style>\n",
       "<table border=\"1\" class=\"dataframe\">\n",
       "  <thead>\n",
       "    <tr style=\"text-align: right;\">\n",
       "      <th></th>\n",
       "      <th>ID</th>\n",
       "      <th>geometry</th>\n",
       "      <th>N_Gem</th>\n",
       "      <th>Name</th>\n",
       "      <th>Stationsnummer</th>\n",
       "      <th>index_right</th>\n",
       "    </tr>\n",
       "  </thead>\n",
       "  <tbody>\n",
       "    <tr>\n",
       "      <th>911</th>\n",
       "      <td>378601001</td>\n",
       "      <td>POINT (9.87270 46.53347)</td>\n",
       "      <td>Samedan</td>\n",
       "      <td>[Samedan Bahnhof / via Retica]</td>\n",
       "      <td>[4906]</td>\n",
       "      <td>0</td>\n",
       "    </tr>\n",
       "  </tbody>\n",
       "</table>\n",
       "</div>"
      ],
      "text/plain": [
       "            ID                  geometry    N_Gem  \\\n",
       "911  378601001  POINT (9.87270 46.53347)  Samedan   \n",
       "\n",
       "                               Name Stationsnummer  index_right  \n",
       "911  [Samedan Bahnhof / via Retica]         [4906]            0  "
      ]
     },
     "execution_count": 274,
     "metadata": {},
     "output_type": "execute_result"
    }
   ],
   "source": [
    "gdf_npvm_zones_with_mobility_station_in_dest_circle[gdf_npvm_zones_with_mobility_station_in_dest_circle.N_Gem == \"Samedan\"]"
   ]
  },
  {
   "cell_type": "code",
   "execution_count": 275,
   "id": "ee308b30-70cf-44c7-af48-60b488b80a1a",
   "metadata": {},
   "outputs": [],
   "source": [
    "gdf_npvm_zones_with_potential_mobility_station = pd.concat([gdf_npvm_zones_with_mobility_station_in_orig_circle, gdf_npvm_zones_with_mobility_station_in_dest_circle]).groupby(\"ID\").first().reset_index().drop([\"index_right\"], axis=1)"
   ]
  },
  {
   "cell_type": "code",
   "execution_count": 276,
   "id": "0c7ada34-8b49-49fb-ae42-d4d0782f0ce1",
   "metadata": {},
   "outputs": [
    {
     "name": "stdout",
     "output_type": "stream",
     "text": [
      "Anzahl NPVM-Zonen mit Mobility-Station im Umkreis des Start- oder Zielpunkts: 118\n"
     ]
    }
   ],
   "source": [
    "print(\"Anzahl NPVM-Zonen mit Mobility-Station im Umkreis des Start- oder Zielpunkts: {}\".format(len(gdf_npvm_zones_with_potential_mobility_station)))"
   ]
  },
  {
   "cell_type": "code",
   "execution_count": 277,
   "id": "d25e618f-06df-4e42-adde-8eca2dc4524f",
   "metadata": {},
   "outputs": [
    {
     "data": {
      "text/html": [
       "<div>\n",
       "<style scoped>\n",
       "    .dataframe tbody tr th:only-of-type {\n",
       "        vertical-align: middle;\n",
       "    }\n",
       "\n",
       "    .dataframe tbody tr th {\n",
       "        vertical-align: top;\n",
       "    }\n",
       "\n",
       "    .dataframe thead th {\n",
       "        text-align: right;\n",
       "    }\n",
       "</style>\n",
       "<table border=\"1\" class=\"dataframe\">\n",
       "  <thead>\n",
       "    <tr style=\"text-align: right;\">\n",
       "      <th></th>\n",
       "      <th>ID</th>\n",
       "      <th>geometry</th>\n",
       "      <th>N_Gem</th>\n",
       "      <th>Name</th>\n",
       "      <th>Stationsnummer</th>\n",
       "    </tr>\n",
       "  </thead>\n",
       "  <tbody>\n",
       "    <tr>\n",
       "      <th>0</th>\n",
       "      <td>11201006</td>\n",
       "      <td>POINT (8.82323 47.27050)</td>\n",
       "      <td>Bubikon</td>\n",
       "      <td>[Bubikon Bahnhof]</td>\n",
       "      <td>[2295]</td>\n",
       "    </tr>\n",
       "    <tr>\n",
       "      <th>1</th>\n",
       "      <td>11301004</td>\n",
       "      <td>POINT (8.85052 47.26187)</td>\n",
       "      <td>Dürnten</td>\n",
       "      <td>[Rüti (ZH) Kirchenrainstrasse]</td>\n",
       "      <td>[2946]</td>\n",
       "    </tr>\n",
       "    <tr>\n",
       "      <th>2</th>\n",
       "      <td>11701006</td>\n",
       "      <td>POINT (8.83961 47.30016)</td>\n",
       "      <td>Hinwil</td>\n",
       "      <td>[Hinwil Bahnhof]</td>\n",
       "      <td>[2015]</td>\n",
       "    </tr>\n",
       "    <tr>\n",
       "      <th>3</th>\n",
       "      <td>11801004</td>\n",
       "      <td>POINT (8.85066 47.25669)</td>\n",
       "      <td>Rüti (ZH)</td>\n",
       "      <td>[Rüti (ZH) Gemeindehaus]</td>\n",
       "      <td>[3112]</td>\n",
       "    </tr>\n",
       "    <tr>\n",
       "      <th>4</th>\n",
       "      <td>12001004</td>\n",
       "      <td>POINT (8.91272 47.27224)</td>\n",
       "      <td>Wald (ZH)</td>\n",
       "      <td>[Wald (ZH) Bahnhof]</td>\n",
       "      <td>[1636]</td>\n",
       "    </tr>\n",
       "  </tbody>\n",
       "</table>\n",
       "</div>"
      ],
      "text/plain": [
       "         ID                  geometry      N_Gem  \\\n",
       "0  11201006  POINT (8.82323 47.27050)    Bubikon   \n",
       "1  11301004  POINT (8.85052 47.26187)    Dürnten   \n",
       "2  11701006  POINT (8.83961 47.30016)     Hinwil   \n",
       "3  11801004  POINT (8.85066 47.25669)  Rüti (ZH)   \n",
       "4  12001004  POINT (8.91272 47.27224)  Wald (ZH)   \n",
       "\n",
       "                             Name Stationsnummer  \n",
       "0               [Bubikon Bahnhof]         [2295]  \n",
       "1  [Rüti (ZH) Kirchenrainstrasse]         [2946]  \n",
       "2                [Hinwil Bahnhof]         [2015]  \n",
       "3        [Rüti (ZH) Gemeindehaus]         [3112]  \n",
       "4             [Wald (ZH) Bahnhof]         [1636]  "
      ]
     },
     "execution_count": 277,
     "metadata": {},
     "output_type": "execute_result"
    }
   ],
   "source": [
    "gdf_npvm_zones_with_potential_mobility_station.head()"
   ]
  },
  {
   "cell_type": "code",
   "execution_count": 278,
   "id": "9e2448ca-0380-4f36-9e5f-cb1aa6d00c44",
   "metadata": {},
   "outputs": [
    {
     "data": {
      "text/html": [
       "<div>\n",
       "<style scoped>\n",
       "    .dataframe tbody tr th:only-of-type {\n",
       "        vertical-align: middle;\n",
       "    }\n",
       "\n",
       "    .dataframe tbody tr th {\n",
       "        vertical-align: top;\n",
       "    }\n",
       "\n",
       "    .dataframe thead th {\n",
       "        text-align: right;\n",
       "    }\n",
       "</style>\n",
       "<table border=\"1\" class=\"dataframe\">\n",
       "  <thead>\n",
       "    <tr style=\"text-align: right;\">\n",
       "      <th></th>\n",
       "      <th>ID</th>\n",
       "      <th>geometry</th>\n",
       "      <th>N_Gem</th>\n",
       "      <th>Name</th>\n",
       "      <th>Stationsnummer</th>\n",
       "    </tr>\n",
       "  </thead>\n",
       "  <tbody>\n",
       "  </tbody>\n",
       "</table>\n",
       "</div>"
      ],
      "text/plain": [
       "Empty GeoDataFrame\n",
       "Columns: [ID, geometry, N_Gem, Name, Stationsnummer]\n",
       "Index: []"
      ]
     },
     "execution_count": 278,
     "metadata": {},
     "output_type": "execute_result"
    }
   ],
   "source": [
    "gdf_npvm_zones_with_potential_mobility_station[gdf_npvm_zones_with_potential_mobility_station.ID == 30601007]"
   ]
  },
  {
   "cell_type": "markdown",
   "id": "d827a70f-27d6-4bd4-97ac-cf27492efe90",
   "metadata": {},
   "source": [
    "### Get Mobility travel time and distance from ORMS"
   ]
  },
  {
   "cell_type": "code",
   "execution_count": 279,
   "id": "6e8d981f-09e0-4ae0-8b86-19110f631a63",
   "metadata": {},
   "outputs": [],
   "source": [
    "list_npvm_zones_with_potential_mobility_station = list(gdf_npvm_zones_with_potential_mobility_station.to_records())"
   ]
  },
  {
   "cell_type": "code",
   "execution_count": 280,
   "id": "683dfdeb-9fd4-4fa1-8751-75d42cfc84c4",
   "metadata": {},
   "outputs": [
    {
     "data": {
      "text/plain": [
       "[(0, 11201006, <POINT (8.823 47.27)>, 'Bubikon', list(['Bubikon Bahnhof']), list([2295])),\n",
       " (1, 11301004, <POINT (8.851 47.262)>, 'Dürnten', list(['Rüti (ZH) Kirchenrainstrasse']), list([2946])),\n",
       " (2, 11701006, <POINT (8.84 47.3)>, 'Hinwil', list(['Hinwil Bahnhof']), list([2015]))]"
      ]
     },
     "execution_count": 280,
     "metadata": {},
     "output_type": "execute_result"
    }
   ],
   "source": [
    "list_npvm_zones_with_potential_mobility_station[:3]"
   ]
  },
  {
   "cell_type": "code",
   "execution_count": 281,
   "id": "c56feeb6-2fe0-4fad-861a-274afa38ec1b",
   "metadata": {},
   "outputs": [],
   "source": [
    "coords_str = \"{},{}\".format(dest_point.x, dest_point.y)\n",
    "for pot_mob_st in list_npvm_zones_with_potential_mobility_station:\n",
    "    center = pot_mob_st[2].centroid\n",
    "    coords_str += \";{},{}\".format(center.x, center.y)\n",
    "url = \"https://router.project-osrm.org/table/v1/driving/{}?destinations=0&annotations=duration,distance\".format(coords_str)"
   ]
  },
  {
   "cell_type": "code",
   "execution_count": 282,
   "id": "3c2516a2-3f83-4bdd-bef4-66ec60046c44",
   "metadata": {},
   "outputs": [
    {
     "name": "stdout",
     "output_type": "stream",
     "text": [
      "CPU times: total: 15.6 ms\n",
      "Wall time: 251 ms\n"
     ]
    }
   ],
   "source": [
    "%time res = requests.get(url).json()"
   ]
  },
  {
   "cell_type": "code",
   "execution_count": 283,
   "id": "d08a6156-700d-4c20-b4ee-5dcbd8b22f31",
   "metadata": {},
   "outputs": [],
   "source": [
    "road_distances_from_npvm_zones_with_potential_mobility_station_to_dest_per_npvm_zone_id = {x[1]: res[\"distances\"][x[0] + 1][0] for x in list_npvm_zones_with_potential_mobility_station}\n",
    "road_durations_from_npvm_zones_with_potential_mobility_station_to_dest_per_npvm_zone_id = {x[1]: res[\"durations\"][x[0] + 1][0] for x in list_npvm_zones_with_potential_mobility_station}"
   ]
  },
  {
   "cell_type": "code",
   "execution_count": 284,
   "id": "ebabfb9f-3a1a-4ffd-87d4-75f6214eb7f1",
   "metadata": {},
   "outputs": [
    {
     "name": "stdout",
     "output_type": "stream",
     "text": [
      "Anzahl Distanzen: 118\n",
      "Anzahl Reisezeiten: 118\n"
     ]
    }
   ],
   "source": [
    "print(\"Anzahl Distanzen: {}\".format(len(road_distances_from_npvm_zones_with_potential_mobility_station_to_dest_per_npvm_zone_id)))\n",
    "print(\"Anzahl Reisezeiten: {}\".format(len(road_durations_from_npvm_zones_with_potential_mobility_station_to_dest_per_npvm_zone_id)))"
   ]
  },
  {
   "cell_type": "code",
   "execution_count": 285,
   "id": "4b0b0fec-65d9-43c6-b37b-5ed97289930a",
   "metadata": {},
   "outputs": [
    {
     "data": {
      "text/html": [
       "<div>\n",
       "<style scoped>\n",
       "    .dataframe tbody tr th:only-of-type {\n",
       "        vertical-align: middle;\n",
       "    }\n",
       "\n",
       "    .dataframe tbody tr th {\n",
       "        vertical-align: top;\n",
       "    }\n",
       "\n",
       "    .dataframe thead th {\n",
       "        text-align: right;\n",
       "    }\n",
       "</style>\n",
       "<table border=\"1\" class=\"dataframe\">\n",
       "  <thead>\n",
       "    <tr style=\"text-align: right;\">\n",
       "      <th></th>\n",
       "      <th>ID</th>\n",
       "      <th>geometry</th>\n",
       "      <th>N_Gem</th>\n",
       "      <th>Name</th>\n",
       "      <th>Stationsnummer</th>\n",
       "    </tr>\n",
       "  </thead>\n",
       "  <tbody>\n",
       "    <tr>\n",
       "      <th>0</th>\n",
       "      <td>11201006</td>\n",
       "      <td>POINT (8.82323 47.27050)</td>\n",
       "      <td>Bubikon</td>\n",
       "      <td>[Bubikon Bahnhof]</td>\n",
       "      <td>[2295]</td>\n",
       "    </tr>\n",
       "    <tr>\n",
       "      <th>1</th>\n",
       "      <td>11301004</td>\n",
       "      <td>POINT (8.85052 47.26187)</td>\n",
       "      <td>Dürnten</td>\n",
       "      <td>[Rüti (ZH) Kirchenrainstrasse]</td>\n",
       "      <td>[2946]</td>\n",
       "    </tr>\n",
       "    <tr>\n",
       "      <th>2</th>\n",
       "      <td>11701006</td>\n",
       "      <td>POINT (8.83961 47.30016)</td>\n",
       "      <td>Hinwil</td>\n",
       "      <td>[Hinwil Bahnhof]</td>\n",
       "      <td>[2015]</td>\n",
       "    </tr>\n",
       "    <tr>\n",
       "      <th>3</th>\n",
       "      <td>11801004</td>\n",
       "      <td>POINT (8.85066 47.25669)</td>\n",
       "      <td>Rüti (ZH)</td>\n",
       "      <td>[Rüti (ZH) Gemeindehaus]</td>\n",
       "      <td>[3112]</td>\n",
       "    </tr>\n",
       "    <tr>\n",
       "      <th>4</th>\n",
       "      <td>12001004</td>\n",
       "      <td>POINT (8.91272 47.27224)</td>\n",
       "      <td>Wald (ZH)</td>\n",
       "      <td>[Wald (ZH) Bahnhof]</td>\n",
       "      <td>[1636]</td>\n",
       "    </tr>\n",
       "  </tbody>\n",
       "</table>\n",
       "</div>"
      ],
      "text/plain": [
       "         ID                  geometry      N_Gem  \\\n",
       "0  11201006  POINT (8.82323 47.27050)    Bubikon   \n",
       "1  11301004  POINT (8.85052 47.26187)    Dürnten   \n",
       "2  11701006  POINT (8.83961 47.30016)     Hinwil   \n",
       "3  11801004  POINT (8.85066 47.25669)  Rüti (ZH)   \n",
       "4  12001004  POINT (8.91272 47.27224)  Wald (ZH)   \n",
       "\n",
       "                             Name Stationsnummer  \n",
       "0               [Bubikon Bahnhof]         [2295]  \n",
       "1  [Rüti (ZH) Kirchenrainstrasse]         [2946]  \n",
       "2                [Hinwil Bahnhof]         [2015]  \n",
       "3        [Rüti (ZH) Gemeindehaus]         [3112]  \n",
       "4             [Wald (ZH) Bahnhof]         [1636]  "
      ]
     },
     "execution_count": 285,
     "metadata": {},
     "output_type": "execute_result"
    }
   ],
   "source": [
    "gdf_npvm_zones_with_potential_mobility_station.head()"
   ]
  },
  {
   "cell_type": "code",
   "execution_count": 286,
   "id": "d85570d8-25ee-417c-86b9-5896d15c932f",
   "metadata": {},
   "outputs": [],
   "source": [
    "MIV_DISTANZ_BIS_ZIEL_KM = \"MIV_Distanz_bis_Ziel_km\"\n",
    "MIV_ZEIT_BIS_ZIEL_MIN = \"MIV_Zeit_bis_Ziel_min\""
   ]
  },
  {
   "cell_type": "code",
   "execution_count": 287,
   "id": "b4c3deb6-8dd9-4c78-91b2-0e447d4c3079",
   "metadata": {},
   "outputs": [],
   "source": [
    "pd_distances = pd.DataFrame(list(road_distances_from_npvm_zones_with_potential_mobility_station_to_dest_per_npvm_zone_id.items()), columns=[\"ID\", \"MIV_Distanz_bis_Ziel_km\"])\n",
    "pd_distances[MIV_DISTANZ_BIS_ZIEL_KM] = pd_distances[MIV_DISTANZ_BIS_ZIEL_KM] / 1000.0\n",
    "pd_durations= pd.DataFrame(list(road_durations_from_npvm_zones_with_potential_mobility_station_to_dest_per_npvm_zone_id.items()), columns=[\"ID\", \"MIV_Zeit_bis_Ziel_min\"])\n",
    "pd_durations[MIV_ZEIT_BIS_ZIEL_MIN] = pd_durations[MIV_ZEIT_BIS_ZIEL_MIN] / 60.0\n",
    "\n",
    "gdf_npvm_zones_with_potential_mobility_station_with_data = pd.merge(gdf_npvm_zones_with_potential_mobility_station, pd_distances, on=[\"ID\"])\n",
    "gdf_npvm_zones_with_potential_mobility_station_with_data = pd.merge(gdf_npvm_zones_with_potential_mobility_station_with_data, pd_durations, on=[\"ID\"])\n"
   ]
  },
  {
   "cell_type": "code",
   "execution_count": 288,
   "id": "b2d7c29d-3430-44e4-8d2d-bba2732da221",
   "metadata": {},
   "outputs": [
    {
     "data": {
      "text/html": [
       "<div>\n",
       "<style scoped>\n",
       "    .dataframe tbody tr th:only-of-type {\n",
       "        vertical-align: middle;\n",
       "    }\n",
       "\n",
       "    .dataframe tbody tr th {\n",
       "        vertical-align: top;\n",
       "    }\n",
       "\n",
       "    .dataframe thead th {\n",
       "        text-align: right;\n",
       "    }\n",
       "</style>\n",
       "<table border=\"1\" class=\"dataframe\">\n",
       "  <thead>\n",
       "    <tr style=\"text-align: right;\">\n",
       "      <th></th>\n",
       "      <th>ID</th>\n",
       "      <th>geometry</th>\n",
       "      <th>N_Gem</th>\n",
       "      <th>Name</th>\n",
       "      <th>Stationsnummer</th>\n",
       "      <th>MIV_Distanz_bis_Ziel_km</th>\n",
       "      <th>MIV_Zeit_bis_Ziel_min</th>\n",
       "    </tr>\n",
       "  </thead>\n",
       "  <tbody>\n",
       "    <tr>\n",
       "      <th>0</th>\n",
       "      <td>11201006</td>\n",
       "      <td>POINT (8.82323 47.27050)</td>\n",
       "      <td>Bubikon</td>\n",
       "      <td>[Bubikon Bahnhof]</td>\n",
       "      <td>[2295]</td>\n",
       "      <td>199.7515</td>\n",
       "      <td>168.423333</td>\n",
       "    </tr>\n",
       "    <tr>\n",
       "      <th>1</th>\n",
       "      <td>11301004</td>\n",
       "      <td>POINT (8.85052 47.26187)</td>\n",
       "      <td>Dürnten</td>\n",
       "      <td>[Rüti (ZH) Kirchenrainstrasse]</td>\n",
       "      <td>[2946]</td>\n",
       "      <td>198.7522</td>\n",
       "      <td>167.966667</td>\n",
       "    </tr>\n",
       "    <tr>\n",
       "      <th>2</th>\n",
       "      <td>11701006</td>\n",
       "      <td>POINT (8.83961 47.30016)</td>\n",
       "      <td>Hinwil</td>\n",
       "      <td>[Hinwil Bahnhof]</td>\n",
       "      <td>[2015]</td>\n",
       "      <td>204.4139</td>\n",
       "      <td>171.521667</td>\n",
       "    </tr>\n",
       "    <tr>\n",
       "      <th>3</th>\n",
       "      <td>11801004</td>\n",
       "      <td>POINT (8.85066 47.25669)</td>\n",
       "      <td>Rüti (ZH)</td>\n",
       "      <td>[Rüti (ZH) Gemeindehaus]</td>\n",
       "      <td>[3112]</td>\n",
       "      <td>198.2098</td>\n",
       "      <td>166.698333</td>\n",
       "    </tr>\n",
       "    <tr>\n",
       "      <th>4</th>\n",
       "      <td>12001004</td>\n",
       "      <td>POINT (8.91272 47.27224)</td>\n",
       "      <td>Wald (ZH)</td>\n",
       "      <td>[Wald (ZH) Bahnhof]</td>\n",
       "      <td>[1636]</td>\n",
       "      <td>193.6107</td>\n",
       "      <td>165.263333</td>\n",
       "    </tr>\n",
       "  </tbody>\n",
       "</table>\n",
       "</div>"
      ],
      "text/plain": [
       "         ID                  geometry      N_Gem  \\\n",
       "0  11201006  POINT (8.82323 47.27050)    Bubikon   \n",
       "1  11301004  POINT (8.85052 47.26187)    Dürnten   \n",
       "2  11701006  POINT (8.83961 47.30016)     Hinwil   \n",
       "3  11801004  POINT (8.85066 47.25669)  Rüti (ZH)   \n",
       "4  12001004  POINT (8.91272 47.27224)  Wald (ZH)   \n",
       "\n",
       "                             Name Stationsnummer  MIV_Distanz_bis_Ziel_km  \\\n",
       "0               [Bubikon Bahnhof]         [2295]                 199.7515   \n",
       "1  [Rüti (ZH) Kirchenrainstrasse]         [2946]                 198.7522   \n",
       "2                [Hinwil Bahnhof]         [2015]                 204.4139   \n",
       "3        [Rüti (ZH) Gemeindehaus]         [3112]                 198.2098   \n",
       "4             [Wald (ZH) Bahnhof]         [1636]                 193.6107   \n",
       "\n",
       "   MIV_Zeit_bis_Ziel_min  \n",
       "0             168.423333  \n",
       "1             167.966667  \n",
       "2             171.521667  \n",
       "3             166.698333  \n",
       "4             165.263333  "
      ]
     },
     "execution_count": 288,
     "metadata": {},
     "output_type": "execute_result"
    }
   ],
   "source": [
    "gdf_npvm_zones_with_potential_mobility_station_with_data.head()"
   ]
  },
  {
   "cell_type": "markdown",
   "id": "74032ccc-8fff-480f-b8fe-7472e7296083",
   "metadata": {},
   "source": [
    "### Get pt skims from origin to potential Mobility stations"
   ]
  },
  {
   "cell_type": "code",
   "execution_count": 289,
   "id": "931d7ac2-6b39-4b32-9a3c-2d7f13df5ed5",
   "metadata": {},
   "outputs": [],
   "source": [
    "OEV_JRTA_VON_START_MIN = \"OEV_JRTA_von_Start_min\"\n",
    "OEV_NTR_VON_START = \"OEV_NTR_von_Start\""
   ]
  },
  {
   "cell_type": "code",
   "execution_count": 290,
   "id": "898120c0-2cde-40d8-a6de-2c2ba51a1403",
   "metadata": {},
   "outputs": [],
   "source": [
    "zone_ids_list = [x.item() for x in gdf_npvm_zones_with_potential_mobility_station[[\"ID\"]].values]\n",
    "jrta_list = [(x, get_jrta(orig_zone_id, x)) for x in zone_ids_list]\n",
    "ntr_list = [(x, get_ntr(orig_zone_id, x)) for x in zone_ids_list]"
   ]
  },
  {
   "cell_type": "code",
   "execution_count": 291,
   "id": "3304df34-2b50-40ed-97c2-896587d031de",
   "metadata": {},
   "outputs": [],
   "source": [
    "pd_jrtas = pd.DataFrame(jrta_list, columns=[\"ID\", OEV_JRTA_VON_START_MIN])\n",
    "pd_ntrs = pd.DataFrame(ntr_list, columns=[\"ID\", OEV_NTR_VON_START])"
   ]
  },
  {
   "cell_type": "code",
   "execution_count": 292,
   "id": "8a6fa11c-c24c-4b49-b84b-108cf64d1b3e",
   "metadata": {},
   "outputs": [],
   "source": [
    "gdf_npvm_zones_with_potential_mobility_station_with_data = pd.merge(gdf_npvm_zones_with_potential_mobility_station_with_data, pd_jrtas, on=[\"ID\"])\n",
    "gdf_npvm_zones_with_potential_mobility_station_with_data = pd.merge(gdf_npvm_zones_with_potential_mobility_station_with_data, pd_ntrs, on=[\"ID\"])"
   ]
  },
  {
   "cell_type": "code",
   "execution_count": 293,
   "id": "7a7b4092-abf2-4647-98ed-81d9e50b5832",
   "metadata": {},
   "outputs": [
    {
     "name": "stdout",
     "output_type": "stream",
     "text": [
      "118\n"
     ]
    }
   ],
   "source": [
    "print(len(gdf_npvm_zones_with_potential_mobility_station_with_data))"
   ]
  },
  {
   "cell_type": "code",
   "execution_count": 294,
   "id": "01aa9a06-b0e3-4330-b883-fa77d32534d1",
   "metadata": {},
   "outputs": [],
   "source": [
    "KOSTEN_CHF = \"Kosten_CHF\""
   ]
  },
  {
   "cell_type": "code",
   "execution_count": 295,
   "id": "a8aff979-21fa-4a09-b392-d81fea442806",
   "metadata": {},
   "outputs": [],
   "source": [
    "CHF_PER_KM_MOBILITY = 0.75\n",
    "MIN_PER_TRANSFER = 20.0\n",
    "FILTER_FACTOR = 1.05"
   ]
  },
  {
   "cell_type": "code",
   "execution_count": 296,
   "id": "4f10f25e-cfee-48ba-b352-86eb1096c65a",
   "metadata": {},
   "outputs": [],
   "source": [
    "def calc_costs(vtt_chf_per_h=20):\n",
    "    gdf_npvm_zones_with_potential_mobility_station_with_data[KOSTEN_CHF] = \\\n",
    "        CHF_PER_KM_MOBILITY * gdf_npvm_zones_with_potential_mobility_station_with_data[MIV_DISTANZ_BIS_ZIEL_KM] + \\\n",
    "        (gdf_npvm_zones_with_potential_mobility_station_with_data[MIV_ZEIT_BIS_ZIEL_MIN] + gdf_npvm_zones_with_potential_mobility_station_with_data[OEV_JRTA_VON_START_MIN] + \n",
    "        gdf_npvm_zones_with_potential_mobility_station_with_data[OEV_NTR_VON_START] * MIN_PER_TRANSFER) / 60.0 * vtt_chf_per_h\n",
    "    return gdf_npvm_zones_with_potential_mobility_station_with_data.sort_values(by=KOSTEN_CHF, ascending=True)"
   ]
  },
  {
   "cell_type": "code",
   "execution_count": 297,
   "id": "c1b5a6f4-78af-4e93-8e2f-89b3a3d508c5",
   "metadata": {},
   "outputs": [],
   "source": [
    "gdf_npvm_zones_with_potential_mobility_station_with_data = calc_costs(20)"
   ]
  },
  {
   "cell_type": "code",
   "execution_count": 298,
   "id": "cb4ccaff-d36f-48d9-82d5-63b00743ecec",
   "metadata": {},
   "outputs": [
    {
     "data": {
      "text/html": [
       "<div>\n",
       "<style scoped>\n",
       "    .dataframe tbody tr th:only-of-type {\n",
       "        vertical-align: middle;\n",
       "    }\n",
       "\n",
       "    .dataframe tbody tr th {\n",
       "        vertical-align: top;\n",
       "    }\n",
       "\n",
       "    .dataframe thead th {\n",
       "        text-align: right;\n",
       "    }\n",
       "</style>\n",
       "<table border=\"1\" class=\"dataframe\">\n",
       "  <thead>\n",
       "    <tr style=\"text-align: right;\">\n",
       "      <th></th>\n",
       "      <th>ID</th>\n",
       "      <th>geometry</th>\n",
       "      <th>N_Gem</th>\n",
       "      <th>Name</th>\n",
       "      <th>Stationsnummer</th>\n",
       "      <th>MIV_Distanz_bis_Ziel_km</th>\n",
       "      <th>MIV_Zeit_bis_Ziel_min</th>\n",
       "      <th>OEV_JRTA_von_Start_min</th>\n",
       "      <th>OEV_NTR_von_Start</th>\n",
       "      <th>Kosten_CHF</th>\n",
       "    </tr>\n",
       "  </thead>\n",
       "  <tbody>\n",
       "    <tr>\n",
       "      <th>101</th>\n",
       "      <td>378601001</td>\n",
       "      <td>POINT (9.87270 46.53347)</td>\n",
       "      <td>Samedan</td>\n",
       "      <td>[Samedan Bahnhof / via Retica]</td>\n",
       "      <td>[4906]</td>\n",
       "      <td>41.7546</td>\n",
       "      <td>43.146667</td>\n",
       "      <td>138.861433</td>\n",
       "      <td>1.003047</td>\n",
       "      <td>98.672298</td>\n",
       "    </tr>\n",
       "  </tbody>\n",
       "</table>\n",
       "</div>"
      ],
      "text/plain": [
       "            ID                  geometry    N_Gem  \\\n",
       "101  378601001  POINT (9.87270 46.53347)  Samedan   \n",
       "\n",
       "                               Name Stationsnummer  MIV_Distanz_bis_Ziel_km  \\\n",
       "101  [Samedan Bahnhof / via Retica]         [4906]                  41.7546   \n",
       "\n",
       "     MIV_Zeit_bis_Ziel_min  OEV_JRTA_von_Start_min  OEV_NTR_von_Start  \\\n",
       "101              43.146667              138.861433           1.003047   \n",
       "\n",
       "     Kosten_CHF  \n",
       "101   98.672298  "
      ]
     },
     "execution_count": 298,
     "metadata": {},
     "output_type": "execute_result"
    }
   ],
   "source": [
    "gdf_npvm_zones_with_potential_mobility_station_with_data[gdf_npvm_zones_with_potential_mobility_station_with_data.N_Gem == \"Samedan\"]"
   ]
  },
  {
   "cell_type": "code",
   "execution_count": 299,
   "id": "f547a096-53a9-4552-9c7b-7c5d0c30aaf9",
   "metadata": {},
   "outputs": [],
   "source": [
    "def get_best_mobility_stations_per_vtt(vtt_chf_per_h):\n",
    "    df_tmp = calc_costs(vtt_chf_per_h=vtt_chf_per_h)\n",
    "    min_cost = df_tmp[KOSTEN_CHF].min()\n",
    "    df_tmp = df_tmp[df_tmp[KOSTEN_CHF] <= min_cost * FILTER_FACTOR]\n",
    "    return pd.merge(gdf_mobilty_stations_with_npvm_zone, df_tmp[[\"ID\", KOSTEN_CHF]], on=\"ID\").sort_values(by=KOSTEN_CHF)"
   ]
  },
  {
   "cell_type": "code",
   "execution_count": 300,
   "id": "cabb1a66-0ae6-49cb-b379-a6cdaa623678",
   "metadata": {},
   "outputs": [
    {
     "data": {
      "text/html": [
       "<div>\n",
       "<style scoped>\n",
       "    .dataframe tbody tr th:only-of-type {\n",
       "        vertical-align: middle;\n",
       "    }\n",
       "\n",
       "    .dataframe tbody tr th {\n",
       "        vertical-align: top;\n",
       "    }\n",
       "\n",
       "    .dataframe thead th {\n",
       "        text-align: right;\n",
       "    }\n",
       "</style>\n",
       "<table border=\"1\" class=\"dataframe\">\n",
       "  <thead>\n",
       "    <tr style=\"text-align: right;\">\n",
       "      <th></th>\n",
       "      <th>Stationsnummer</th>\n",
       "      <th>Name</th>\n",
       "      <th>geometry</th>\n",
       "      <th>ID</th>\n",
       "      <th>N_Gem</th>\n",
       "      <th>Kosten_CHF</th>\n",
       "    </tr>\n",
       "  </thead>\n",
       "  <tbody>\n",
       "    <tr>\n",
       "      <th>0</th>\n",
       "      <td>5905</td>\n",
       "      <td>St. Moritz Bahnhof</td>\n",
       "      <td>POINT (9.84740 46.49881)</td>\n",
       "      <td>378701007</td>\n",
       "      <td>St. Moritz</td>\n",
       "      <td>27.060975</td>\n",
       "    </tr>\n",
       "  </tbody>\n",
       "</table>\n",
       "</div>"
      ],
      "text/plain": [
       "   Stationsnummer                Name                  geometry         ID  \\\n",
       "0            5905  St. Moritz Bahnhof  POINT (9.84740 46.49881)  378701007   \n",
       "\n",
       "        N_Gem  Kosten_CHF  \n",
       "0  St. Moritz   27.060975  "
      ]
     },
     "execution_count": 300,
     "metadata": {},
     "output_type": "execute_result"
    }
   ],
   "source": [
    "get_best_mobility_stations_per_vtt(0)"
   ]
  },
  {
   "cell_type": "code",
   "execution_count": 301,
   "id": "210ea0fc-b41e-4ffd-a552-f9716e53c669",
   "metadata": {},
   "outputs": [],
   "source": [
    "best_mobility_stations_per_vtt = {vtt: get_best_mobility_stations_per_vtt(vtt) for vtt in range(0, 101)}"
   ]
  },
  {
   "cell_type": "code",
   "execution_count": 302,
   "id": "1884ed48-b42c-4a67-81b2-19f9df2af173",
   "metadata": {},
   "outputs": [
    {
     "data": {
      "text/html": [
       "<div>\n",
       "<style scoped>\n",
       "    .dataframe tbody tr th:only-of-type {\n",
       "        vertical-align: middle;\n",
       "    }\n",
       "\n",
       "    .dataframe tbody tr th {\n",
       "        vertical-align: top;\n",
       "    }\n",
       "\n",
       "    .dataframe thead th {\n",
       "        text-align: right;\n",
       "    }\n",
       "</style>\n",
       "<table border=\"1\" class=\"dataframe\">\n",
       "  <thead>\n",
       "    <tr style=\"text-align: right;\">\n",
       "      <th></th>\n",
       "      <th>Stationsnummer</th>\n",
       "      <th>Name</th>\n",
       "      <th>geometry</th>\n",
       "      <th>ID</th>\n",
       "      <th>N_Gem</th>\n",
       "      <th>Kosten_CHF</th>\n",
       "    </tr>\n",
       "  </thead>\n",
       "  <tbody>\n",
       "    <tr>\n",
       "      <th>0</th>\n",
       "      <td>2842</td>\n",
       "      <td>Chur Bahnhof</td>\n",
       "      <td>POINT (9.52944 46.85445)</td>\n",
       "      <td>390101016</td>\n",
       "      <td>Chur</td>\n",
       "      <td>190.338742</td>\n",
       "    </tr>\n",
       "    <tr>\n",
       "      <th>1</th>\n",
       "      <td>4102</td>\n",
       "      <td>Chur Obere Quader</td>\n",
       "      <td>POINT (9.53439 46.85223)</td>\n",
       "      <td>390101020</td>\n",
       "      <td>Chur</td>\n",
       "      <td>192.734548</td>\n",
       "    </tr>\n",
       "  </tbody>\n",
       "</table>\n",
       "</div>"
      ],
      "text/plain": [
       "   Stationsnummer               Name                  geometry         ID  \\\n",
       "0            2842       Chur Bahnhof  POINT (9.52944 46.85445)  390101016   \n",
       "1            4102  Chur Obere Quader  POINT (9.53439 46.85223)  390101020   \n",
       "\n",
       "  N_Gem  Kosten_CHF  \n",
       "0  Chur  190.338742  \n",
       "1  Chur  192.734548  "
      ]
     },
     "execution_count": 302,
     "metadata": {},
     "output_type": "execute_result"
    }
   ],
   "source": [
    "best_mobility_stations_per_vtt[57]"
   ]
  },
  {
   "cell_type": "code",
   "execution_count": 303,
   "id": "26c3efb9-0041-43bc-9a70-163e0fdf92e9",
   "metadata": {},
   "outputs": [
    {
     "data": {
      "text/html": [
       "<div>\n",
       "<style scoped>\n",
       "    .dataframe tbody tr th:only-of-type {\n",
       "        vertical-align: middle;\n",
       "    }\n",
       "\n",
       "    .dataframe tbody tr th {\n",
       "        vertical-align: top;\n",
       "    }\n",
       "\n",
       "    .dataframe thead th {\n",
       "        text-align: right;\n",
       "    }\n",
       "</style>\n",
       "<table border=\"1\" class=\"dataframe\">\n",
       "  <thead>\n",
       "    <tr style=\"text-align: right;\">\n",
       "      <th></th>\n",
       "      <th>ID</th>\n",
       "      <th>geometry</th>\n",
       "      <th>N_Gem</th>\n",
       "      <th>Name</th>\n",
       "      <th>Stationsnummer</th>\n",
       "      <th>MIV_Distanz_bis_Ziel_km</th>\n",
       "      <th>MIV_Zeit_bis_Ziel_min</th>\n",
       "      <th>OEV_JRTA_von_Start_min</th>\n",
       "      <th>OEV_NTR_von_Start</th>\n",
       "      <th>Kosten_CHF</th>\n",
       "    </tr>\n",
       "  </thead>\n",
       "  <tbody>\n",
       "  </tbody>\n",
       "</table>\n",
       "</div>"
      ],
      "text/plain": [
       "Empty GeoDataFrame\n",
       "Columns: [ID, geometry, N_Gem, Name, Stationsnummer, MIV_Distanz_bis_Ziel_km, MIV_Zeit_bis_Ziel_min, OEV_JRTA_von_Start_min, OEV_NTR_von_Start, Kosten_CHF]\n",
       "Index: []"
      ]
     },
     "execution_count": 303,
     "metadata": {},
     "output_type": "execute_result"
    }
   ],
   "source": [
    "gdf_npvm_zones_with_potential_mobility_station_with_data[gdf_npvm_zones_with_potential_mobility_station_with_data.N_Gem == \"Steffisburg\"]"
   ]
  },
  {
   "cell_type": "code",
   "execution_count": 304,
   "id": "4c119840-e31b-4410-b5ef-ac7411509a70",
   "metadata": {},
   "outputs": [
    {
     "data": {
      "text/html": [
       "<div>\n",
       "<style scoped>\n",
       "    .dataframe tbody tr th:only-of-type {\n",
       "        vertical-align: middle;\n",
       "    }\n",
       "\n",
       "    .dataframe tbody tr th {\n",
       "        vertical-align: top;\n",
       "    }\n",
       "\n",
       "    .dataframe thead th {\n",
       "        text-align: right;\n",
       "    }\n",
       "</style>\n",
       "<table border=\"1\" class=\"dataframe\">\n",
       "  <thead>\n",
       "    <tr style=\"text-align: right;\">\n",
       "      <th></th>\n",
       "      <th>ID</th>\n",
       "      <th>geometry</th>\n",
       "      <th>N_Gem</th>\n",
       "      <th>Name</th>\n",
       "      <th>Stationsnummer</th>\n",
       "      <th>MIV_Distanz_bis_Ziel_km</th>\n",
       "      <th>MIV_Zeit_bis_Ziel_min</th>\n",
       "      <th>OEV_JRTA_von_Start_min</th>\n",
       "      <th>OEV_NTR_von_Start</th>\n",
       "      <th>Kosten_CHF</th>\n",
       "    </tr>\n",
       "  </thead>\n",
       "  <tbody>\n",
       "  </tbody>\n",
       "</table>\n",
       "</div>"
      ],
      "text/plain": [
       "Empty GeoDataFrame\n",
       "Columns: [ID, geometry, N_Gem, Name, Stationsnummer, MIV_Distanz_bis_Ziel_km, MIV_Zeit_bis_Ziel_min, OEV_JRTA_von_Start_min, OEV_NTR_von_Start, Kosten_CHF]\n",
       "Index: []"
      ]
     },
     "execution_count": 304,
     "metadata": {},
     "output_type": "execute_result"
    }
   ],
   "source": [
    "gdf_npvm_zones_with_potential_mobility_station_with_data[gdf_npvm_zones_with_potential_mobility_station_with_data.N_Gem == \"Thun\"]"
   ]
  },
  {
   "cell_type": "code",
   "execution_count": 305,
   "id": "4dc2db97-cd84-4d6a-8e7a-73b83a1b3130",
   "metadata": {},
   "outputs": [
    {
     "data": {
      "text/html": [
       "<div>\n",
       "<style scoped>\n",
       "    .dataframe tbody tr th:only-of-type {\n",
       "        vertical-align: middle;\n",
       "    }\n",
       "\n",
       "    .dataframe tbody tr th {\n",
       "        vertical-align: top;\n",
       "    }\n",
       "\n",
       "    .dataframe thead th {\n",
       "        text-align: right;\n",
       "    }\n",
       "</style>\n",
       "<table border=\"1\" class=\"dataframe\">\n",
       "  <thead>\n",
       "    <tr style=\"text-align: right;\">\n",
       "      <th></th>\n",
       "      <th>ID</th>\n",
       "      <th>geometry</th>\n",
       "      <th>N_Gem</th>\n",
       "      <th>Name</th>\n",
       "      <th>Stationsnummer</th>\n",
       "      <th>MIV_Distanz_bis_Ziel_km</th>\n",
       "      <th>MIV_Zeit_bis_Ziel_min</th>\n",
       "      <th>OEV_JRTA_von_Start_min</th>\n",
       "      <th>OEV_NTR_von_Start</th>\n",
       "      <th>Kosten_CHF</th>\n",
       "    </tr>\n",
       "  </thead>\n",
       "  <tbody>\n",
       "  </tbody>\n",
       "</table>\n",
       "</div>"
      ],
      "text/plain": [
       "Empty GeoDataFrame\n",
       "Columns: [ID, geometry, N_Gem, Name, Stationsnummer, MIV_Distanz_bis_Ziel_km, MIV_Zeit_bis_Ziel_min, OEV_JRTA_von_Start_min, OEV_NTR_von_Start, Kosten_CHF]\n",
       "Index: []"
      ]
     },
     "execution_count": 305,
     "metadata": {},
     "output_type": "execute_result"
    }
   ],
   "source": [
    "gdf_npvm_zones_with_potential_mobility_station_with_data[gdf_npvm_zones_with_potential_mobility_station_with_data.N_Gem == \"Bern\"].head(50)"
   ]
  },
  {
   "cell_type": "markdown",
   "id": "dce795e4-fd13-410b-810b-9cd892e95ef6",
   "metadata": {},
   "source": [
    "### Visualize situation on map"
   ]
  },
  {
   "cell_type": "code",
   "execution_count": 306,
   "id": "554e1dd5-3bb0-4bbe-95be-44ccb89983ba",
   "metadata": {},
   "outputs": [
    {
     "data": {
      "text/plain": [
       "[[46.323007, 8.60646], [47.51032, 10.28596]]"
      ]
     },
     "execution_count": 306,
     "metadata": {},
     "output_type": "execute_result"
    }
   ],
   "source": [
    "bounds = gdf_npvm_zones_with_potential_mobility_station_with_data.total_bounds\n",
    "bounds = [[bounds[1], bounds[0]], [bounds[3], bounds[2]]]\n",
    "bounds"
   ]
  },
  {
   "cell_type": "code",
   "execution_count": 307,
   "id": "93f59d61-da36-4ae9-b046-9ebfd8517583",
   "metadata": {},
   "outputs": [
    {
     "data": {
      "text/html": [
       "<div>\n",
       "<style scoped>\n",
       "    .dataframe tbody tr th:only-of-type {\n",
       "        vertical-align: middle;\n",
       "    }\n",
       "\n",
       "    .dataframe tbody tr th {\n",
       "        vertical-align: top;\n",
       "    }\n",
       "\n",
       "    .dataframe thead th {\n",
       "        text-align: right;\n",
       "    }\n",
       "</style>\n",
       "<table border=\"1\" class=\"dataframe\">\n",
       "  <thead>\n",
       "    <tr style=\"text-align: right;\">\n",
       "      <th></th>\n",
       "      <th>Stationsnummer</th>\n",
       "      <th>Name</th>\n",
       "      <th>geometry</th>\n",
       "      <th>ID</th>\n",
       "      <th>N_Gem</th>\n",
       "      <th>Kosten_CHF</th>\n",
       "    </tr>\n",
       "  </thead>\n",
       "  <tbody>\n",
       "    <tr>\n",
       "      <th>1</th>\n",
       "      <td>5905</td>\n",
       "      <td>St. Moritz Bahnhof</td>\n",
       "      <td>POINT (9.84740 46.49881)</td>\n",
       "      <td>378701007</td>\n",
       "      <td>St. Moritz</td>\n",
       "      <td>65.496684</td>\n",
       "    </tr>\n",
       "    <tr>\n",
       "      <th>0</th>\n",
       "      <td>4906</td>\n",
       "      <td>Samedan Bahnhof / via Retica</td>\n",
       "      <td>POINT (9.87270 46.53347)</td>\n",
       "      <td>378601001</td>\n",
       "      <td>Samedan</td>\n",
       "      <td>68.361941</td>\n",
       "    </tr>\n",
       "  </tbody>\n",
       "</table>\n",
       "</div>"
      ],
      "text/plain": [
       "   Stationsnummer                          Name                  geometry  \\\n",
       "1            5905            St. Moritz Bahnhof  POINT (9.84740 46.49881)   \n",
       "0            4906  Samedan Bahnhof / via Retica  POINT (9.87270 46.53347)   \n",
       "\n",
       "          ID       N_Gem  Kosten_CHF  \n",
       "1  378701007  St. Moritz   65.496684  \n",
       "0  378601001     Samedan   68.361941  "
      ]
     },
     "execution_count": 307,
     "metadata": {},
     "output_type": "execute_result"
    }
   ],
   "source": [
    "best_mobility_stations_per_vtt[11]"
   ]
  },
  {
   "cell_type": "code",
   "execution_count": 308,
   "id": "31227655-bc93-41d7-b755-1e035a127176",
   "metadata": {},
   "outputs": [],
   "source": [
    "def show_best_mobility_stations_per_vtt(vtt):\n",
    "    geo_data = GeoData(geo_dataframe=best_mobility_stations_per_vtt[vtt],\n",
    "        style={'color': 'black', 'radius':8, 'fillColor': '#3366cc', 'opacity':0.5, 'weight':1.9, 'dashArray':'2', 'fillOpacity':0.6},\n",
    "        hover_style={'fillColor': 'red' , 'fillOpacity': 0.2},\n",
    "        point_style={'radius': 5, 'color': 'red', 'fillOpacity': 0.8, 'fillColor': 'blue', 'weight': 3},\n",
    "        name = 'Mobility-Stationen')\n",
    "    for l in m.layers:\n",
    "        if type(l) == GeoData:\n",
    "            m.remove_layer(l)\n",
    "    m.add_layer(geo_data)"
   ]
  },
  {
   "cell_type": "code",
   "execution_count": 309,
   "id": "7b04a5da-6677-4dd4-bd1e-e50859902093",
   "metadata": {},
   "outputs": [],
   "source": [
    "def on_slider_changed(event):\n",
    "    show_best_mobility_stations_per_vtt(event[\"new\"])"
   ]
  },
  {
   "cell_type": "code",
   "execution_count": 310,
   "id": "5cc10526-f95f-4f15-989c-5d372220e94d",
   "metadata": {},
   "outputs": [
    {
     "data": {
      "application/vnd.jupyter.widget-view+json": {
       "model_id": "e52d7c5196b64de09b6eb694dbcba550",
       "version_major": 2,
       "version_minor": 0
      },
      "text/plain": [
       "Map(center=[52.3, 8.0], controls=(ZoomControl(options=['position', 'zoom_in_text', 'zoom_in_title', 'zoom_out_…"
      ]
     },
     "execution_count": 310,
     "metadata": {},
     "output_type": "execute_result"
    }
   ],
   "source": [
    "from ipyleaflet import Map, GeoData, basemaps, LayersControl, FullScreenControl, Marker, WidgetControl\n",
    "from ipywidgets import IntSlider\n",
    "import geopandas\n",
    "import json\n",
    "\n",
    "vtt_slider = IntSlider(description='Zeitkosten', min=0, max=100, value=20)\n",
    "vtt_slider.observe(on_slider_changed, names='value')\n",
    "\n",
    "widget_control = WidgetControl(widget=vtt_slider, position='topright')\n",
    "\n",
    "m = Map(center=(52.3,8.0), zoom = 3, basemap= basemaps.Esri.WorldTopoMap, scroll_wheel_zoom=True)\n",
    "m.add_control(widget_control)\n",
    "\n",
    "m.fit_bounds(bounds)\n",
    "show_best_mobility_stations_per_vtt(vtt_slider.value)\n",
    "m.add_control(FullScreenControl())\n",
    "\n",
    "m.layout.width = '100%'\n",
    "m.layout.height = '500px'\n",
    "\n",
    "orig_marker = Marker(location=(orig_lon_lat[1], orig_lon_lat[0]) , draggable=False)\n",
    "dest_marker = Marker(location=(dest_lon_lat[1], dest_lon_lat[0]) , draggable=False)\n",
    "\n",
    "m.add_layer(orig_marker)\n",
    "m.add_layer(dest_marker)\n",
    "\n",
    "m"
   ]
  },
  {
   "cell_type": "code",
   "execution_count": null,
   "id": "e41463ac-5aa1-4aac-bf0d-bb128798c7db",
   "metadata": {},
   "outputs": [],
   "source": []
  }
 ],
 "metadata": {
  "kernelspec": {
   "display_name": "Python 3 (ipykernel)",
   "language": "python",
   "name": "python3"
  },
  "language_info": {
   "codemirror_mode": {
    "name": "ipython",
    "version": 3
   },
   "file_extension": ".py",
   "mimetype": "text/x-python",
   "name": "python",
   "nbconvert_exporter": "python",
   "pygments_lexer": "ipython3",
   "version": "3.10.8"
  }
 },
 "nbformat": 4,
 "nbformat_minor": 5
}
