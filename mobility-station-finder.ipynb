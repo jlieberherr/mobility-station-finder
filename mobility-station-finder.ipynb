{
 "cells": [
  {
   "cell_type": "markdown",
   "id": "dc3de318-193b-45d8-8bb5-d3443f50bd8a",
   "metadata": {},
   "source": [
    "# Mobility-Station-Finder"
   ]
  },
  {
   "cell_type": "markdown",
   "id": "b5cd0cbc-960c-448f-855d-bde140762b25",
   "metadata": {},
   "source": [
    "## Imports"
   ]
  },
  {
   "cell_type": "code",
   "execution_count": 1,
   "id": "a2a802a7-68e5-4f3c-ba20-33ccf20f6fca",
   "metadata": {},
   "outputs": [],
   "source": [
    "import geopandas as gpd\n",
    "from shapely.geometry import Point\n",
    "import pandas as pd\n",
    "from matrixconverters.read_ptv import ReadPTVMatrix\n",
    "from collections import namedtuple\n",
    "import requests"
   ]
  },
  {
   "cell_type": "markdown",
   "id": "db92c254-6cce-4a2e-82aa-ae8b57defd9e",
   "metadata": {},
   "source": [
    "## Read and process static data"
   ]
  },
  {
   "cell_type": "markdown",
   "id": "4cea168a-baf1-409b-bf33-ed0e6980d364",
   "metadata": {},
   "source": [
    "### Paths"
   ]
  },
  {
   "cell_type": "code",
   "execution_count": 2,
   "id": "7c480fa4-49e2-4200-b96e-c2cd8d35fc45",
   "metadata": {},
   "outputs": [],
   "source": [
    "path_npvm_zones = r\"D:\\data\\ttools gmbh\\Projekte - Dokumente\\021_MobilityStationFinder\\Daten\\Verkehrszonen_Schweiz_NPVM_2017_shp.zip\"\n",
    "path_mobility_stations = r\"D:\\data\\ttools gmbh\\Projekte - Dokumente\\021_MobilityStationFinder\\Daten\\mobility-stationen-und-fahrzeuge-schweiz.csv\"\n",
    "path_pt_jrta = r\"D:\\data\\ttools gmbh\\Projekte - Dokumente\\021_MobilityStationFinder\\Daten\\140_JRTA_(OEV).mtx\"\n",
    "path_pt_ntr = r\"D:\\data\\ttools gmbh\\Projekte - Dokumente\\021_MobilityStationFinder\\Daten\\144_NTR_(OEV).mtx\""
   ]
  },
  {
   "cell_type": "markdown",
   "id": "3badc5ba-0f4a-422b-bde4-701dfc7fed30",
   "metadata": {},
   "source": [
    "### Read NPVM-zones with shapes"
   ]
  },
  {
   "cell_type": "code",
   "execution_count": 45,
   "id": "0a5cb759-72c8-48a3-9e0c-002b61d4a432",
   "metadata": {},
   "outputs": [
    {
     "name": "stdout",
     "output_type": "stream",
     "text": [
      "CPU times: total: 3.38 s\n",
      "Wall time: 3.36 s\n"
     ]
    }
   ],
   "source": [
    "%time gdf_npvm_zones = gpd.read_file(path_npvm_zones, encoding=\"cp1252\").to_crs(4326)"
   ]
  },
  {
   "cell_type": "code",
   "execution_count": 4,
   "id": "5b04eedd-f734-42f2-96be-cefb1af8f5b5",
   "metadata": {},
   "outputs": [
    {
     "data": {
      "text/html": [
       "<div>\n",
       "<style scoped>\n",
       "    .dataframe tbody tr th:only-of-type {\n",
       "        vertical-align: middle;\n",
       "    }\n",
       "\n",
       "    .dataframe tbody tr th {\n",
       "        vertical-align: top;\n",
       "    }\n",
       "\n",
       "    .dataframe thead th {\n",
       "        text-align: right;\n",
       "    }\n",
       "</style>\n",
       "<table border=\"1\" class=\"dataframe\">\n",
       "  <thead>\n",
       "    <tr style=\"text-align: right;\">\n",
       "      <th></th>\n",
       "      <th>ID</th>\n",
       "      <th>ID_alt</th>\n",
       "      <th>ID_Gem</th>\n",
       "      <th>N_Gem</th>\n",
       "      <th>stg_type</th>\n",
       "      <th>N_stg_type</th>\n",
       "      <th>ID_KT</th>\n",
       "      <th>N_KT</th>\n",
       "      <th>ID_SL3</th>\n",
       "      <th>N_SL3</th>\n",
       "      <th>ID_Agglo</th>\n",
       "      <th>N_Agglo</th>\n",
       "      <th>ID_AMR</th>\n",
       "      <th>N_AMR</th>\n",
       "      <th>geometry</th>\n",
       "    </tr>\n",
       "  </thead>\n",
       "  <tbody>\n",
       "    <tr>\n",
       "      <th>0</th>\n",
       "      <td>101001</td>\n",
       "      <td>1</td>\n",
       "      <td>1</td>\n",
       "      <td>Aeugst am Albis</td>\n",
       "      <td>1</td>\n",
       "      <td>None</td>\n",
       "      <td>1</td>\n",
       "      <td>ZH</td>\n",
       "      <td>3</td>\n",
       "      <td>Ländlich</td>\n",
       "      <td>261</td>\n",
       "      <td>Zürich</td>\n",
       "      <td>12031</td>\n",
       "      <td>Dietikon–Schlieren</td>\n",
       "      <td>POLYGON ((8.47334 47.26128, 8.47334 47.26139, ...</td>\n",
       "    </tr>\n",
       "    <tr>\n",
       "      <th>1</th>\n",
       "      <td>201001</td>\n",
       "      <td>2</td>\n",
       "      <td>2</td>\n",
       "      <td>Affoltern am Albis</td>\n",
       "      <td>1</td>\n",
       "      <td>None</td>\n",
       "      <td>1</td>\n",
       "      <td>ZH</td>\n",
       "      <td>1</td>\n",
       "      <td>Städtisch</td>\n",
       "      <td>261</td>\n",
       "      <td>Zürich</td>\n",
       "      <td>12031</td>\n",
       "      <td>Dietikon–Schlieren</td>\n",
       "      <td>POLYGON ((8.42224 47.29775, 8.42282 47.29816, ...</td>\n",
       "    </tr>\n",
       "    <tr>\n",
       "      <th>2</th>\n",
       "      <td>201002</td>\n",
       "      <td>2</td>\n",
       "      <td>2</td>\n",
       "      <td>Affoltern am Albis</td>\n",
       "      <td>1</td>\n",
       "      <td>None</td>\n",
       "      <td>1</td>\n",
       "      <td>ZH</td>\n",
       "      <td>1</td>\n",
       "      <td>Städtisch</td>\n",
       "      <td>261</td>\n",
       "      <td>Zürich</td>\n",
       "      <td>12031</td>\n",
       "      <td>Dietikon–Schlieren</td>\n",
       "      <td>POLYGON ((8.44770 47.26794, 8.44767 47.26782, ...</td>\n",
       "    </tr>\n",
       "    <tr>\n",
       "      <th>3</th>\n",
       "      <td>201003</td>\n",
       "      <td>2</td>\n",
       "      <td>2</td>\n",
       "      <td>Affoltern am Albis</td>\n",
       "      <td>1</td>\n",
       "      <td>None</td>\n",
       "      <td>1</td>\n",
       "      <td>ZH</td>\n",
       "      <td>1</td>\n",
       "      <td>Städtisch</td>\n",
       "      <td>261</td>\n",
       "      <td>Zürich</td>\n",
       "      <td>12031</td>\n",
       "      <td>Dietikon–Schlieren</td>\n",
       "      <td>POLYGON ((8.43834 47.27714, 8.43814 47.27726, ...</td>\n",
       "    </tr>\n",
       "    <tr>\n",
       "      <th>4</th>\n",
       "      <td>201004</td>\n",
       "      <td>2</td>\n",
       "      <td>2</td>\n",
       "      <td>Affoltern am Albis</td>\n",
       "      <td>1</td>\n",
       "      <td>None</td>\n",
       "      <td>1</td>\n",
       "      <td>ZH</td>\n",
       "      <td>1</td>\n",
       "      <td>Städtisch</td>\n",
       "      <td>261</td>\n",
       "      <td>Zürich</td>\n",
       "      <td>12031</td>\n",
       "      <td>Dietikon–Schlieren</td>\n",
       "      <td>POLYGON ((8.45000 47.27949, 8.45007 47.27945, ...</td>\n",
       "    </tr>\n",
       "  </tbody>\n",
       "</table>\n",
       "</div>"
      ],
      "text/plain": [
       "       ID  ID_alt  ID_Gem               N_Gem  stg_type N_stg_type  ID_KT  \\\n",
       "0  101001       1       1     Aeugst am Albis         1       None      1   \n",
       "1  201001       2       2  Affoltern am Albis         1       None      1   \n",
       "2  201002       2       2  Affoltern am Albis         1       None      1   \n",
       "3  201003       2       2  Affoltern am Albis         1       None      1   \n",
       "4  201004       2       2  Affoltern am Albis         1       None      1   \n",
       "\n",
       "  N_KT  ID_SL3      N_SL3  ID_Agglo N_Agglo  ID_AMR               N_AMR  \\\n",
       "0   ZH       3   Ländlich       261  Zürich   12031  Dietikon–Schlieren   \n",
       "1   ZH       1  Städtisch       261  Zürich   12031  Dietikon–Schlieren   \n",
       "2   ZH       1  Städtisch       261  Zürich   12031  Dietikon–Schlieren   \n",
       "3   ZH       1  Städtisch       261  Zürich   12031  Dietikon–Schlieren   \n",
       "4   ZH       1  Städtisch       261  Zürich   12031  Dietikon–Schlieren   \n",
       "\n",
       "                                            geometry  \n",
       "0  POLYGON ((8.47334 47.26128, 8.47334 47.26139, ...  \n",
       "1  POLYGON ((8.42224 47.29775, 8.42282 47.29816, ...  \n",
       "2  POLYGON ((8.44770 47.26794, 8.44767 47.26782, ...  \n",
       "3  POLYGON ((8.43834 47.27714, 8.43814 47.27726, ...  \n",
       "4  POLYGON ((8.45000 47.27949, 8.45007 47.27945, ...  "
      ]
     },
     "execution_count": 4,
     "metadata": {},
     "output_type": "execute_result"
    }
   ],
   "source": [
    "gdf_npvm_zones.head()"
   ]
  },
  {
   "cell_type": "code",
   "execution_count": 5,
   "id": "badcfdbb-a4a6-471e-b9a6-51d8460b2b56",
   "metadata": {},
   "outputs": [
    {
     "name": "stdout",
     "output_type": "stream",
     "text": [
      "Anzahl NPVM-Zonen: 7978\n"
     ]
    }
   ],
   "source": [
    "print(\"Anzahl NPVM-Zonen: {}\".format(len(gdf_npvm_zones)))"
   ]
  },
  {
   "cell_type": "code",
   "execution_count": 6,
   "id": "5b115a0d-557a-4415-86bd-0c537e2a36db",
   "metadata": {},
   "outputs": [],
   "source": [
    "def get_npvm_zone(id_):\n",
    "    return gdf_npvm_zones[gdf_npvm_zones.ID == id_]"
   ]
  },
  {
   "cell_type": "code",
   "execution_count": 7,
   "id": "71e417e1-e238-49dd-ae20-c56987186594",
   "metadata": {},
   "outputs": [
    {
     "data": {
      "text/html": [
       "<div>\n",
       "<style scoped>\n",
       "    .dataframe tbody tr th:only-of-type {\n",
       "        vertical-align: middle;\n",
       "    }\n",
       "\n",
       "    .dataframe tbody tr th {\n",
       "        vertical-align: top;\n",
       "    }\n",
       "\n",
       "    .dataframe thead th {\n",
       "        text-align: right;\n",
       "    }\n",
       "</style>\n",
       "<table border=\"1\" class=\"dataframe\">\n",
       "  <thead>\n",
       "    <tr style=\"text-align: right;\">\n",
       "      <th></th>\n",
       "      <th>ID</th>\n",
       "      <th>ID_alt</th>\n",
       "      <th>ID_Gem</th>\n",
       "      <th>N_Gem</th>\n",
       "      <th>stg_type</th>\n",
       "      <th>N_stg_type</th>\n",
       "      <th>ID_KT</th>\n",
       "      <th>N_KT</th>\n",
       "      <th>ID_SL3</th>\n",
       "      <th>N_SL3</th>\n",
       "      <th>ID_Agglo</th>\n",
       "      <th>N_Agglo</th>\n",
       "      <th>ID_AMR</th>\n",
       "      <th>N_AMR</th>\n",
       "      <th>geometry</th>\n",
       "    </tr>\n",
       "  </thead>\n",
       "  <tbody>\n",
       "    <tr>\n",
       "      <th>84</th>\n",
       "      <td>5301003</td>\n",
       "      <td>53</td>\n",
       "      <td>53</td>\n",
       "      <td>Bülach</td>\n",
       "      <td>1</td>\n",
       "      <td>None</td>\n",
       "      <td>1</td>\n",
       "      <td>ZH</td>\n",
       "      <td>1</td>\n",
       "      <td>Städtisch</td>\n",
       "      <td>261</td>\n",
       "      <td>Zürich</td>\n",
       "      <td>12032</td>\n",
       "      <td>Kloten</td>\n",
       "      <td>POLYGON ((8.53973 47.51618, 8.54007 47.51529, ...</td>\n",
       "    </tr>\n",
       "  </tbody>\n",
       "</table>\n",
       "</div>"
      ],
      "text/plain": [
       "         ID  ID_alt  ID_Gem   N_Gem  stg_type N_stg_type  ID_KT N_KT  ID_SL3  \\\n",
       "84  5301003      53      53  Bülach         1       None      1   ZH       1   \n",
       "\n",
       "        N_SL3  ID_Agglo N_Agglo  ID_AMR   N_AMR  \\\n",
       "84  Städtisch       261  Zürich   12032  Kloten   \n",
       "\n",
       "                                             geometry  \n",
       "84  POLYGON ((8.53973 47.51618, 8.54007 47.51529, ...  "
      ]
     },
     "execution_count": 7,
     "metadata": {},
     "output_type": "execute_result"
    }
   ],
   "source": [
    "get_npvm_zone(5301003)"
   ]
  },
  {
   "cell_type": "markdown",
   "id": "82369f8b-2a46-416d-9319-6c905e71f68b",
   "metadata": {},
   "source": [
    "### Read Mobility-stations, assign NPVM-zones to Mobility-stations"
   ]
  },
  {
   "cell_type": "code",
   "execution_count": 8,
   "id": "b4cd5a13-f2ae-475b-b658-fb44b22ecc7b",
   "metadata": {},
   "outputs": [],
   "source": [
    "df_mobility_vechicles = pd.read_csv(path_mobility_stations, delimiter=\";\", encoding=\"utf8\")[[\"Stationsnummer\", \"Name\", \"Standort\"]].dropna()"
   ]
  },
  {
   "cell_type": "code",
   "execution_count": 12,
   "id": "775e0489-b136-4588-95d4-f723d8202ab2",
   "metadata": {},
   "outputs": [],
   "source": [
    "df_mobility_vechicles[\"lon\"] = df_mobility_vechicles[\"Standort\"].apply(lambda x: x.split(\",\")[1])\n",
    "df_mobility_vechicles[\"lat\"] = df_mobility_vechicles[\"Standort\"].apply(lambda x: x.split(\",\")[0])\n",
    "gdf_mobility_vechicles = gpd.GeoDataFrame(df_mobility_vechicles, geometry=gpd.points_from_xy(df_mobility_vechicles.lon, df_mobility_vechicles.lat), crs=4326)"
   ]
  },
  {
   "cell_type": "code",
   "execution_count": 13,
   "id": "7241ad8a-bbb2-4b78-acb1-e24809f8f2f9",
   "metadata": {},
   "outputs": [
    {
     "name": "stdout",
     "output_type": "stream",
     "text": [
      "Anzahl Mobility Fahrzeuge: 2662\n"
     ]
    }
   ],
   "source": [
    "print(\"Anzahl Mobility Fahrzeuge: {}\".format(len(df_mobility_vechicles)))"
   ]
  },
  {
   "cell_type": "code",
   "execution_count": 63,
   "id": "01abe261-0dbf-48c8-9646-0e26cc564ed4",
   "metadata": {},
   "outputs": [],
   "source": [
    "gdf_mobilty_vehicles_with_npvm_zone = gpd.sjoin(gdf_mobility_vechicles, gdf_npvm_zones)[[\"Stationsnummer\", \"Name\", \"geometry\", \"ID\", \"N_Gem\"]]"
   ]
  },
  {
   "cell_type": "code",
   "execution_count": 64,
   "id": "3e6e7b7f-560a-4d1d-adbb-ffec26a66cfc",
   "metadata": {},
   "outputs": [
    {
     "name": "stdout",
     "output_type": "stream",
     "text": [
      "Anzahl Mobility Fahrzeuge mit zugeordneter NPVM-Zone: 2661\n"
     ]
    }
   ],
   "source": [
    "print(\"Anzahl Mobility Fahrzeuge mit zugeordneter NPVM-Zone: {}\".format(len(gdf_mobilty_vehicles_with_npvm_zone)))"
   ]
  },
  {
   "cell_type": "code",
   "execution_count": 65,
   "id": "221eb029-9e7a-4473-b39a-aafdd82723f1",
   "metadata": {},
   "outputs": [
    {
     "data": {
      "text/html": [
       "<div>\n",
       "<style scoped>\n",
       "    .dataframe tbody tr th:only-of-type {\n",
       "        vertical-align: middle;\n",
       "    }\n",
       "\n",
       "    .dataframe tbody tr th {\n",
       "        vertical-align: top;\n",
       "    }\n",
       "\n",
       "    .dataframe thead th {\n",
       "        text-align: right;\n",
       "    }\n",
       "</style>\n",
       "<table border=\"1\" class=\"dataframe\">\n",
       "  <thead>\n",
       "    <tr style=\"text-align: right;\">\n",
       "      <th></th>\n",
       "      <th>Stationsnummer</th>\n",
       "      <th>Name</th>\n",
       "      <th>geometry</th>\n",
       "      <th>ID</th>\n",
       "      <th>N_Gem</th>\n",
       "    </tr>\n",
       "  </thead>\n",
       "  <tbody>\n",
       "    <tr>\n",
       "      <th>0</th>\n",
       "      <td>4500</td>\n",
       "      <td>Aarau Aarenau</td>\n",
       "      <td>POINT (8.04796 47.40060)</td>\n",
       "      <td>400101003</td>\n",
       "      <td>Aarau</td>\n",
       "    </tr>\n",
       "    <tr>\n",
       "      <th>1072</th>\n",
       "      <td>4016</td>\n",
       "      <td>Aarau Aarepark</td>\n",
       "      <td>POINT (8.03994 47.39647)</td>\n",
       "      <td>400101003</td>\n",
       "      <td>Aarau</td>\n",
       "    </tr>\n",
       "    <tr>\n",
       "      <th>1</th>\n",
       "      <td>1509</td>\n",
       "      <td>Aarau Alte Schoggi-Frey</td>\n",
       "      <td>POINT (8.05569 47.40019)</td>\n",
       "      <td>400101012</td>\n",
       "      <td>Aarau</td>\n",
       "    </tr>\n",
       "    <tr>\n",
       "      <th>2</th>\n",
       "      <td>1864</td>\n",
       "      <td>Aarau Bahnhof</td>\n",
       "      <td>POINT (8.05288 47.39178)</td>\n",
       "      <td>400101008</td>\n",
       "      <td>Aarau</td>\n",
       "    </tr>\n",
       "    <tr>\n",
       "      <th>534</th>\n",
       "      <td>1864</td>\n",
       "      <td>Aarau Bahnhof</td>\n",
       "      <td>POINT (8.05288 47.39178)</td>\n",
       "      <td>400101008</td>\n",
       "      <td>Aarau</td>\n",
       "    </tr>\n",
       "  </tbody>\n",
       "</table>\n",
       "</div>"
      ],
      "text/plain": [
       "      Stationsnummer                     Name                  geometry  \\\n",
       "0               4500            Aarau Aarenau  POINT (8.04796 47.40060)   \n",
       "1072            4016           Aarau Aarepark  POINT (8.03994 47.39647)   \n",
       "1               1509  Aarau Alte Schoggi-Frey  POINT (8.05569 47.40019)   \n",
       "2               1864            Aarau Bahnhof  POINT (8.05288 47.39178)   \n",
       "534             1864            Aarau Bahnhof  POINT (8.05288 47.39178)   \n",
       "\n",
       "             ID  N_Gem  \n",
       "0     400101003  Aarau  \n",
       "1072  400101003  Aarau  \n",
       "1     400101012  Aarau  \n",
       "2     400101008  Aarau  \n",
       "534   400101008  Aarau  "
      ]
     },
     "execution_count": 65,
     "metadata": {},
     "output_type": "execute_result"
    }
   ],
   "source": [
    "gdf_mobilty_vehicles_with_npvm_zone.head()"
   ]
  },
  {
   "cell_type": "code",
   "execution_count": 119,
   "id": "1fecf0a2-6d5a-418f-86c8-a5c5b3abe8c5",
   "metadata": {},
   "outputs": [],
   "source": [
    "gdf_npvm_zones_with_mobility_station = gdf_mobilty_vehicles_with_npvm_zone[[\"ID\", \"N_Gem\", \"geometry\"]].dissolve(by=\"ID\").reset_index()"
   ]
  },
  {
   "cell_type": "code",
   "execution_count": 120,
   "id": "ae1c06ec-e23d-4126-9717-f1dfa8d46678",
   "metadata": {},
   "outputs": [
    {
     "name": "stdout",
     "output_type": "stream",
     "text": [
      "Anzahl NPVM-Zonen mit Mobility-Standort: 1311\n"
     ]
    }
   ],
   "source": [
    "print(\"Anzahl NPVM-Zonen mit Mobility-Standort: {}\".format(len(gdf_npvm_zones_with_mobility_station)))"
   ]
  },
  {
   "cell_type": "code",
   "execution_count": 121,
   "id": "0b3732fb-1272-4e9a-9c46-b78eb5495d7f",
   "metadata": {},
   "outputs": [
    {
     "data": {
      "text/html": [
       "<div>\n",
       "<style scoped>\n",
       "    .dataframe tbody tr th:only-of-type {\n",
       "        vertical-align: middle;\n",
       "    }\n",
       "\n",
       "    .dataframe tbody tr th {\n",
       "        vertical-align: top;\n",
       "    }\n",
       "\n",
       "    .dataframe thead th {\n",
       "        text-align: right;\n",
       "    }\n",
       "</style>\n",
       "<table border=\"1\" class=\"dataframe\">\n",
       "  <thead>\n",
       "    <tr style=\"text-align: right;\">\n",
       "      <th></th>\n",
       "      <th>ID</th>\n",
       "      <th>geometry</th>\n",
       "      <th>N_Gem</th>\n",
       "    </tr>\n",
       "  </thead>\n",
       "  <tbody>\n",
       "    <tr>\n",
       "      <th>0</th>\n",
       "      <td>201004</td>\n",
       "      <td>POINT (8.44662 47.27617)</td>\n",
       "      <td>Affoltern am Albis</td>\n",
       "    </tr>\n",
       "    <tr>\n",
       "      <th>1</th>\n",
       "      <td>201005</td>\n",
       "      <td>POINT (8.45109 47.27595)</td>\n",
       "      <td>Affoltern am Albis</td>\n",
       "    </tr>\n",
       "    <tr>\n",
       "      <th>2</th>\n",
       "      <td>201009</td>\n",
       "      <td>POINT (8.45641 47.28340)</td>\n",
       "      <td>Affoltern am Albis</td>\n",
       "    </tr>\n",
       "    <tr>\n",
       "      <th>3</th>\n",
       "      <td>301002</td>\n",
       "      <td>POINT (8.46839 47.32690)</td>\n",
       "      <td>Bonstetten</td>\n",
       "    </tr>\n",
       "    <tr>\n",
       "      <th>4</th>\n",
       "      <td>301003</td>\n",
       "      <td>POINT (8.47101 47.31595)</td>\n",
       "      <td>Bonstetten</td>\n",
       "    </tr>\n",
       "  </tbody>\n",
       "</table>\n",
       "</div>"
      ],
      "text/plain": [
       "       ID                  geometry               N_Gem\n",
       "0  201004  POINT (8.44662 47.27617)  Affoltern am Albis\n",
       "1  201005  POINT (8.45109 47.27595)  Affoltern am Albis\n",
       "2  201009  POINT (8.45641 47.28340)  Affoltern am Albis\n",
       "3  301002  POINT (8.46839 47.32690)          Bonstetten\n",
       "4  301003  POINT (8.47101 47.31595)          Bonstetten"
      ]
     },
     "execution_count": 121,
     "metadata": {},
     "output_type": "execute_result"
    }
   ],
   "source": [
    "gdf_npvm_zones_with_mobility_station.head()"
   ]
  },
  {
   "cell_type": "markdown",
   "id": "535a725a-cb55-477b-abce-64e97cb5919d",
   "metadata": {},
   "source": [
    "### Read PT-skims"
   ]
  },
  {
   "cell_type": "code",
   "execution_count": 43,
   "id": "44def8b6-9e22-4ac2-b8b6-1c70a4487a25",
   "metadata": {},
   "outputs": [
    {
     "name": "stdout",
     "output_type": "stream",
     "text": [
      "CPU times: total: 7.27 s\n",
      "Wall time: 7.27 s\n"
     ]
    }
   ],
   "source": [
    "%time skim_jrta = ReadPTVMatrix(path_pt_jrta)"
   ]
  },
  {
   "cell_type": "code",
   "execution_count": 44,
   "id": "397782f2-c9d4-4820-8f3a-a7dbada321d7",
   "metadata": {},
   "outputs": [
    {
     "name": "stdout",
     "output_type": "stream",
     "text": [
      "CPU times: total: 7.64 s\n",
      "Wall time: 7.66 s\n"
     ]
    }
   ],
   "source": [
    "%time skim_ntr = ReadPTVMatrix(path_pt_ntr)"
   ]
  },
  {
   "cell_type": "code",
   "execution_count": 47,
   "id": "d42db127-8c61-4233-a2e1-8b8ee789d8c2",
   "metadata": {},
   "outputs": [],
   "source": [
    "def get_skim(skim_matrix, from_npvm_zone_id, to_npvm_zone_id):\n",
    "    return skim_matrix.sel(origins=from_npvm_zone_id).sel(destinations=to_npvm_zone_id).matrix.item()"
   ]
  },
  {
   "cell_type": "code",
   "execution_count": 48,
   "id": "ed948051-0051-4b40-ba4e-67060a065c69",
   "metadata": {},
   "outputs": [],
   "source": [
    "def get_jrta(from_npvm_zone_id, to_npvm_zone_id):\n",
    "    return get_skim(skim_jrta, from_npvm_zone_id, to_npvm_zone_id)"
   ]
  },
  {
   "cell_type": "code",
   "execution_count": 49,
   "id": "16c84c7f-b95f-42f0-b5a4-6a055ea08aff",
   "metadata": {},
   "outputs": [],
   "source": [
    "def get_ntr(from_npvm_zone_id, to_npvm_zone_id):\n",
    "    return get_skim(skim_ntr, from_npvm_zone_id, to_npvm_zone_id)"
   ]
  },
  {
   "cell_type": "code",
   "execution_count": 50,
   "id": "9ca67766-f894-4a82-87c7-df51b93850f9",
   "metadata": {},
   "outputs": [
    {
     "data": {
      "text/plain": [
       "286.0875843780647"
      ]
     },
     "execution_count": 50,
     "metadata": {},
     "output_type": "execute_result"
    }
   ],
   "source": [
    "get_jrta(378601001, 35101026)"
   ]
  },
  {
   "cell_type": "code",
   "execution_count": 51,
   "id": "98b6ac49-4939-4496-bec6-9d0e8bf98eb0",
   "metadata": {},
   "outputs": [
    {
     "data": {
      "text/plain": [
       "3.000000000000001"
      ]
     },
     "execution_count": 51,
     "metadata": {},
     "output_type": "execute_result"
    }
   ],
   "source": [
    "get_ntr(378601001, 35101026)"
   ]
  },
  {
   "cell_type": "markdown",
   "id": "1ed1291d-869b-4565-9cfe-1fe5f10a6575",
   "metadata": {},
   "source": [
    "## Execute query"
   ]
  },
  {
   "cell_type": "markdown",
   "id": "b1971d40-3119-4b79-aa4e-8ec5220af09a",
   "metadata": {},
   "source": [
    "### Define origin and destination and assign NPVM-Zone"
   ]
  },
  {
   "cell_type": "code",
   "execution_count": 95,
   "id": "da05ff55-75b6-48f0-8adb-86e67f6aeca9",
   "metadata": {},
   "outputs": [],
   "source": [
    "orig_lon_lat = (7.423570, 46.936620)\n",
    "dest_lon_lat = (7.695260, 46.828540)"
   ]
  },
  {
   "cell_type": "code",
   "execution_count": 96,
   "id": "e3ca41f1-9a3f-4758-a377-d39fae6f2da0",
   "metadata": {},
   "outputs": [],
   "source": [
    "orig_point = Point(orig_lon_lat[0], orig_lon_lat[1])\n",
    "dest_point = Point(dest_lon_lat[0], dest_lon_lat[1])"
   ]
  },
  {
   "cell_type": "code",
   "execution_count": 97,
   "id": "9b8b3242-bb4f-4f79-9b9b-1a8e4acec0ce",
   "metadata": {},
   "outputs": [],
   "source": [
    "gdf_orig = gpd.GeoDataFrame({'geometry': [orig_point]}, crs=\"EPSG:4326\")\n",
    "gdf_dest = gpd.GeoDataFrame({'geometry': [dest_point]}, crs=\"EPSG:4326\")"
   ]
  },
  {
   "cell_type": "code",
   "execution_count": 98,
   "id": "e2cf6580-2e01-47e2-8940-7dc2278bff8c",
   "metadata": {},
   "outputs": [],
   "source": [
    "gdf_orig_with_zone = gpd.sjoin(gdf_orig, gdf_npvm_zones)[[\"ID\", \"N_Gem\", \"geometry\"]]\n",
    "gdf_dest_zone = gpd.sjoin(gdf_orig, gdf_npvm_zones)[[\"ID\", \"N_Gem\", \"geometry\"]]"
   ]
  },
  {
   "cell_type": "code",
   "execution_count": 99,
   "id": "ac3ac142-5024-468e-8680-01ff77ca2552",
   "metadata": {},
   "outputs": [
    {
     "data": {
      "text/html": [
       "<div>\n",
       "<style scoped>\n",
       "    .dataframe tbody tr th:only-of-type {\n",
       "        vertical-align: middle;\n",
       "    }\n",
       "\n",
       "    .dataframe tbody tr th {\n",
       "        vertical-align: top;\n",
       "    }\n",
       "\n",
       "    .dataframe thead th {\n",
       "        text-align: right;\n",
       "    }\n",
       "</style>\n",
       "<table border=\"1\" class=\"dataframe\">\n",
       "  <thead>\n",
       "    <tr style=\"text-align: right;\">\n",
       "      <th></th>\n",
       "      <th>ID</th>\n",
       "      <th>N_Gem</th>\n",
       "      <th>geometry</th>\n",
       "    </tr>\n",
       "  </thead>\n",
       "  <tbody>\n",
       "    <tr>\n",
       "      <th>0</th>\n",
       "      <td>35101026</td>\n",
       "      <td>Bern</td>\n",
       "      <td>POINT (7.42357 46.93662)</td>\n",
       "    </tr>\n",
       "  </tbody>\n",
       "</table>\n",
       "</div>"
      ],
      "text/plain": [
       "         ID N_Gem                  geometry\n",
       "0  35101026  Bern  POINT (7.42357 46.93662)"
      ]
     },
     "execution_count": 99,
     "metadata": {},
     "output_type": "execute_result"
    }
   ],
   "source": [
    "gdf_orig_with_zone"
   ]
  },
  {
   "cell_type": "code",
   "execution_count": 100,
   "id": "3f46efe7-20ef-41bd-982c-02d49b892c40",
   "metadata": {},
   "outputs": [
    {
     "data": {
      "text/html": [
       "<div>\n",
       "<style scoped>\n",
       "    .dataframe tbody tr th:only-of-type {\n",
       "        vertical-align: middle;\n",
       "    }\n",
       "\n",
       "    .dataframe tbody tr th {\n",
       "        vertical-align: top;\n",
       "    }\n",
       "\n",
       "    .dataframe thead th {\n",
       "        text-align: right;\n",
       "    }\n",
       "</style>\n",
       "<table border=\"1\" class=\"dataframe\">\n",
       "  <thead>\n",
       "    <tr style=\"text-align: right;\">\n",
       "      <th></th>\n",
       "      <th>ID</th>\n",
       "      <th>N_Gem</th>\n",
       "      <th>geometry</th>\n",
       "    </tr>\n",
       "  </thead>\n",
       "  <tbody>\n",
       "    <tr>\n",
       "      <th>0</th>\n",
       "      <td>35101026</td>\n",
       "      <td>Bern</td>\n",
       "      <td>POINT (7.42357 46.93662)</td>\n",
       "    </tr>\n",
       "  </tbody>\n",
       "</table>\n",
       "</div>"
      ],
      "text/plain": [
       "         ID N_Gem                  geometry\n",
       "0  35101026  Bern  POINT (7.42357 46.93662)"
      ]
     },
     "execution_count": 100,
     "metadata": {},
     "output_type": "execute_result"
    }
   ],
   "source": [
    "gdf_dest_zone"
   ]
  },
  {
   "cell_type": "code",
   "execution_count": 101,
   "id": "f49d75ba-4b03-4d65-a0f5-38202979b03d",
   "metadata": {},
   "outputs": [],
   "source": [
    "orig_zone_id = gdf_orig_with_zone[\"ID\"].item()"
   ]
  },
  {
   "cell_type": "markdown",
   "id": "4268f130-4c2a-4ade-a246-2c4ed0cb5379",
   "metadata": {},
   "source": [
    "### Compute potential NPVM-zones with Mobility-station"
   ]
  },
  {
   "cell_type": "code",
   "execution_count": 102,
   "id": "b479eeae-7ccd-4d97-90ae-08f53cef9372",
   "metadata": {},
   "outputs": [],
   "source": [
    "gdf_circle_around_orig  = gpd.GeoDataFrame(geometry=gdf_orig_with_zone.to_crs(2026).buffer(5*1000).to_crs(4326), crs=\"EPSG:4326\")\n",
    "gdf_circle_around_dest = gpd.GeoDataFrame(geometry=gdf_dest_zone.to_crs(2026).buffer(50*1000).to_crs(4326), crs=\"EPSG:4326\")"
   ]
  },
  {
   "cell_type": "code",
   "execution_count": 103,
   "id": "abb5771b-31b3-483d-b554-97d2e84f9b1c",
   "metadata": {},
   "outputs": [
    {
     "data": {
      "text/html": [
       "<div>\n",
       "<style scoped>\n",
       "    .dataframe tbody tr th:only-of-type {\n",
       "        vertical-align: middle;\n",
       "    }\n",
       "\n",
       "    .dataframe tbody tr th {\n",
       "        vertical-align: top;\n",
       "    }\n",
       "\n",
       "    .dataframe thead th {\n",
       "        text-align: right;\n",
       "    }\n",
       "</style>\n",
       "<table border=\"1\" class=\"dataframe\">\n",
       "  <thead>\n",
       "    <tr style=\"text-align: right;\">\n",
       "      <th></th>\n",
       "      <th>geometry</th>\n",
       "    </tr>\n",
       "  </thead>\n",
       "  <tbody>\n",
       "    <tr>\n",
       "      <th>0</th>\n",
       "      <td>POLYGON ((7.40836 46.90462, 7.40386 46.90580, ...</td>\n",
       "    </tr>\n",
       "  </tbody>\n",
       "</table>\n",
       "</div>"
      ],
      "text/plain": [
       "                                            geometry\n",
       "0  POLYGON ((7.40836 46.90462, 7.40386 46.90580, ..."
      ]
     },
     "execution_count": 103,
     "metadata": {},
     "output_type": "execute_result"
    }
   ],
   "source": [
    "gdf_circle_around_orig"
   ]
  },
  {
   "cell_type": "code",
   "execution_count": 104,
   "id": "c2557622-2ec5-4b28-a8ce-a91e99fe07b1",
   "metadata": {},
   "outputs": [
    {
     "data": {
      "text/html": [
       "<div>\n",
       "<style scoped>\n",
       "    .dataframe tbody tr th:only-of-type {\n",
       "        vertical-align: middle;\n",
       "    }\n",
       "\n",
       "    .dataframe tbody tr th {\n",
       "        vertical-align: top;\n",
       "    }\n",
       "\n",
       "    .dataframe thead th {\n",
       "        text-align: right;\n",
       "    }\n",
       "</style>\n",
       "<table border=\"1\" class=\"dataframe\">\n",
       "  <thead>\n",
       "    <tr style=\"text-align: right;\">\n",
       "      <th></th>\n",
       "      <th>geometry</th>\n",
       "    </tr>\n",
       "  </thead>\n",
       "  <tbody>\n",
       "    <tr>\n",
       "      <th>0</th>\n",
       "      <td>POLYGON ((7.27261 46.61729, 7.22799 46.62892, ...</td>\n",
       "    </tr>\n",
       "  </tbody>\n",
       "</table>\n",
       "</div>"
      ],
      "text/plain": [
       "                                            geometry\n",
       "0  POLYGON ((7.27261 46.61729, 7.22799 46.62892, ..."
      ]
     },
     "execution_count": 104,
     "metadata": {},
     "output_type": "execute_result"
    }
   ],
   "source": [
    "gdf_circle_around_dest"
   ]
  },
  {
   "cell_type": "code",
   "execution_count": 105,
   "id": "6f2a3ce7-b296-426d-bdf7-3ace972b728b",
   "metadata": {},
   "outputs": [],
   "source": [
    "gdf_npvm_zones_with_mobility_station_in_orig_circle = gpd.sjoin(gdf_npvm_zones_with_mobility_station, gdf_circle_around_orig)\n",
    "gdf_npvm_zones_with_mobility_station_in_dest_circle = gpd.sjoin(gdf_npvm_zones_with_mobility_station, gdf_circle_around_dest)"
   ]
  },
  {
   "cell_type": "code",
   "execution_count": 106,
   "id": "8d312a07-a59a-4846-aca3-355d2ccffbcc",
   "metadata": {},
   "outputs": [
    {
     "name": "stdout",
     "output_type": "stream",
     "text": [
      "Anzahl NPVM-Zonen mit Mobility-Station im Umkreis des Startpunkts: 63\n",
      "Anzahl NPVM-Zonen mit Mobility-Station im Umkreis des Zielpunkts: 225\n"
     ]
    }
   ],
   "source": [
    "print(\"Anzahl NPVM-Zonen mit Mobility-Station im Umkreis des Startpunkts: {}\".format(len(gdf_npvm_zones_with_mobility_station_in_orig_circle)))\n",
    "print(\"Anzahl NPVM-Zonen mit Mobility-Station im Umkreis des Zielpunkts: {}\".format(len(gdf_npvm_zones_with_mobility_station_in_dest_circle)))"
   ]
  },
  {
   "cell_type": "code",
   "execution_count": 107,
   "id": "7f0c02b9-7b96-4c93-8a61-0311ec2ed6f7",
   "metadata": {},
   "outputs": [
    {
     "data": {
      "text/html": [
       "<div>\n",
       "<style scoped>\n",
       "    .dataframe tbody tr th:only-of-type {\n",
       "        vertical-align: middle;\n",
       "    }\n",
       "\n",
       "    .dataframe tbody tr th {\n",
       "        vertical-align: top;\n",
       "    }\n",
       "\n",
       "    .dataframe thead th {\n",
       "        text-align: right;\n",
       "    }\n",
       "</style>\n",
       "<table border=\"1\" class=\"dataframe\">\n",
       "  <thead>\n",
       "    <tr style=\"text-align: right;\">\n",
       "      <th></th>\n",
       "      <th>ID</th>\n",
       "      <th>geometry</th>\n",
       "      <th>N_Gem</th>\n",
       "      <th>index_right</th>\n",
       "    </tr>\n",
       "  </thead>\n",
       "  <tbody>\n",
       "    <tr>\n",
       "      <th>347</th>\n",
       "      <td>35101004</td>\n",
       "      <td>MULTIPOINT (7.38055 46.94513, 7.38364 46.94701)</td>\n",
       "      <td>Bern</td>\n",
       "      <td>0</td>\n",
       "    </tr>\n",
       "    <tr>\n",
       "      <th>348</th>\n",
       "      <td>35101006</td>\n",
       "      <td>POINT (7.38535 46.93170)</td>\n",
       "      <td>Bern</td>\n",
       "      <td>0</td>\n",
       "    </tr>\n",
       "    <tr>\n",
       "      <th>349</th>\n",
       "      <td>35101007</td>\n",
       "      <td>POINT (7.38609 46.94300)</td>\n",
       "      <td>Bern</td>\n",
       "      <td>0</td>\n",
       "    </tr>\n",
       "    <tr>\n",
       "      <th>350</th>\n",
       "      <td>35101011</td>\n",
       "      <td>POINT (7.38905 46.94569)</td>\n",
       "      <td>Bern</td>\n",
       "      <td>0</td>\n",
       "    </tr>\n",
       "    <tr>\n",
       "      <th>351</th>\n",
       "      <td>35101016</td>\n",
       "      <td>MULTIPOINT (7.39396 46.94112, 7.39438 46.93700...</td>\n",
       "      <td>Bern</td>\n",
       "      <td>0</td>\n",
       "    </tr>\n",
       "  </tbody>\n",
       "</table>\n",
       "</div>"
      ],
      "text/plain": [
       "           ID                                           geometry N_Gem  \\\n",
       "347  35101004    MULTIPOINT (7.38055 46.94513, 7.38364 46.94701)  Bern   \n",
       "348  35101006                           POINT (7.38535 46.93170)  Bern   \n",
       "349  35101007                           POINT (7.38609 46.94300)  Bern   \n",
       "350  35101011                           POINT (7.38905 46.94569)  Bern   \n",
       "351  35101016  MULTIPOINT (7.39396 46.94112, 7.39438 46.93700...  Bern   \n",
       "\n",
       "     index_right  \n",
       "347            0  \n",
       "348            0  \n",
       "349            0  \n",
       "350            0  \n",
       "351            0  "
      ]
     },
     "execution_count": 107,
     "metadata": {},
     "output_type": "execute_result"
    }
   ],
   "source": [
    "gdf_npvm_zones_with_mobility_station_in_orig_circle.head()"
   ]
  },
  {
   "cell_type": "code",
   "execution_count": 108,
   "id": "5c666fa8-c6d8-4b98-a58f-9c84ca07f856",
   "metadata": {},
   "outputs": [
    {
     "data": {
      "text/html": [
       "<div>\n",
       "<style scoped>\n",
       "    .dataframe tbody tr th:only-of-type {\n",
       "        vertical-align: middle;\n",
       "    }\n",
       "\n",
       "    .dataframe tbody tr th {\n",
       "        vertical-align: top;\n",
       "    }\n",
       "\n",
       "    .dataframe thead th {\n",
       "        text-align: right;\n",
       "    }\n",
       "</style>\n",
       "<table border=\"1\" class=\"dataframe\">\n",
       "  <thead>\n",
       "    <tr style=\"text-align: right;\">\n",
       "      <th></th>\n",
       "      <th>ID</th>\n",
       "      <th>geometry</th>\n",
       "      <th>N_Gem</th>\n",
       "      <th>index_right</th>\n",
       "    </tr>\n",
       "  </thead>\n",
       "  <tbody>\n",
       "    <tr>\n",
       "      <th>347</th>\n",
       "      <td>35101004</td>\n",
       "      <td>MULTIPOINT (7.38055 46.94513, 7.38364 46.94701)</td>\n",
       "      <td>Bern</td>\n",
       "      <td>0</td>\n",
       "    </tr>\n",
       "    <tr>\n",
       "      <th>348</th>\n",
       "      <td>35101006</td>\n",
       "      <td>POINT (7.38535 46.93170)</td>\n",
       "      <td>Bern</td>\n",
       "      <td>0</td>\n",
       "    </tr>\n",
       "    <tr>\n",
       "      <th>349</th>\n",
       "      <td>35101007</td>\n",
       "      <td>POINT (7.38609 46.94300)</td>\n",
       "      <td>Bern</td>\n",
       "      <td>0</td>\n",
       "    </tr>\n",
       "    <tr>\n",
       "      <th>350</th>\n",
       "      <td>35101011</td>\n",
       "      <td>POINT (7.38905 46.94569)</td>\n",
       "      <td>Bern</td>\n",
       "      <td>0</td>\n",
       "    </tr>\n",
       "    <tr>\n",
       "      <th>351</th>\n",
       "      <td>35101016</td>\n",
       "      <td>MULTIPOINT (7.39396 46.94112, 7.39438 46.93700...</td>\n",
       "      <td>Bern</td>\n",
       "      <td>0</td>\n",
       "    </tr>\n",
       "  </tbody>\n",
       "</table>\n",
       "</div>"
      ],
      "text/plain": [
       "           ID                                           geometry N_Gem  \\\n",
       "347  35101004    MULTIPOINT (7.38055 46.94513, 7.38364 46.94701)  Bern   \n",
       "348  35101006                           POINT (7.38535 46.93170)  Bern   \n",
       "349  35101007                           POINT (7.38609 46.94300)  Bern   \n",
       "350  35101011                           POINT (7.38905 46.94569)  Bern   \n",
       "351  35101016  MULTIPOINT (7.39396 46.94112, 7.39438 46.93700...  Bern   \n",
       "\n",
       "     index_right  \n",
       "347            0  \n",
       "348            0  \n",
       "349            0  \n",
       "350            0  \n",
       "351            0  "
      ]
     },
     "execution_count": 108,
     "metadata": {},
     "output_type": "execute_result"
    }
   ],
   "source": [
    "gdf_npvm_zones_with_mobility_station_in_orig_circle.head()"
   ]
  },
  {
   "cell_type": "code",
   "execution_count": 124,
   "id": "ee308b30-70cf-44c7-af48-60b488b80a1a",
   "metadata": {},
   "outputs": [],
   "source": [
    "gdf_npvm_zones_with_potential_mobility_station = pd.concat([gdf_npvm_zones_with_mobility_station_in_orig_circle, gdf_npvm_zones_with_mobility_station_in_dest_circle]).groupby(\"ID\").first().reset_index().drop([\"index_right\"], axis=1)"
   ]
  },
  {
   "cell_type": "code",
   "execution_count": 125,
   "id": "0c7ada34-8b49-49fb-ae42-d4d0782f0ce1",
   "metadata": {},
   "outputs": [
    {
     "name": "stdout",
     "output_type": "stream",
     "text": [
      "Anzahl NPVM-Zonen mit Mobility-Station im Umkreis des Start- oder Zielpunkts: 225\n"
     ]
    }
   ],
   "source": [
    "print(\"Anzahl NPVM-Zonen mit Mobility-Station im Umkreis des Start- oder Zielpunkts: {}\".format(len(gdf_npvm_zones_with_potential_mobility_station)))"
   ]
  },
  {
   "cell_type": "code",
   "execution_count": 150,
   "id": "d25e618f-06df-4e42-adde-8eca2dc4524f",
   "metadata": {},
   "outputs": [
    {
     "data": {
      "text/html": [
       "<div>\n",
       "<style scoped>\n",
       "    .dataframe tbody tr th:only-of-type {\n",
       "        vertical-align: middle;\n",
       "    }\n",
       "\n",
       "    .dataframe tbody tr th {\n",
       "        vertical-align: top;\n",
       "    }\n",
       "\n",
       "    .dataframe thead th {\n",
       "        text-align: right;\n",
       "    }\n",
       "</style>\n",
       "<table border=\"1\" class=\"dataframe\">\n",
       "  <thead>\n",
       "    <tr style=\"text-align: right;\">\n",
       "      <th></th>\n",
       "      <th>ID</th>\n",
       "      <th>geometry</th>\n",
       "      <th>N_Gem</th>\n",
       "    </tr>\n",
       "  </thead>\n",
       "  <tbody>\n",
       "    <tr>\n",
       "      <th>0</th>\n",
       "      <td>30101004</td>\n",
       "      <td>POINT (7.27780 47.04357)</td>\n",
       "      <td>Aarberg</td>\n",
       "    </tr>\n",
       "    <tr>\n",
       "      <th>1</th>\n",
       "      <td>30601005</td>\n",
       "      <td>POINT (7.30569 47.07726)</td>\n",
       "      <td>Lyss</td>\n",
       "    </tr>\n",
       "    <tr>\n",
       "      <th>2</th>\n",
       "      <td>30601007</td>\n",
       "      <td>POINT (7.30560 47.07900)</td>\n",
       "      <td>Lyss</td>\n",
       "    </tr>\n",
       "    <tr>\n",
       "      <th>3</th>\n",
       "      <td>30601012</td>\n",
       "      <td>POINT (7.31873 47.09890)</td>\n",
       "      <td>Lyss</td>\n",
       "    </tr>\n",
       "    <tr>\n",
       "      <th>4</th>\n",
       "      <td>31101002</td>\n",
       "      <td>POINT (7.38656 47.04189)</td>\n",
       "      <td>Schüpfen</td>\n",
       "    </tr>\n",
       "  </tbody>\n",
       "</table>\n",
       "</div>"
      ],
      "text/plain": [
       "         ID                  geometry     N_Gem\n",
       "0  30101004  POINT (7.27780 47.04357)   Aarberg\n",
       "1  30601005  POINT (7.30569 47.07726)      Lyss\n",
       "2  30601007  POINT (7.30560 47.07900)      Lyss\n",
       "3  30601012  POINT (7.31873 47.09890)      Lyss\n",
       "4  31101002  POINT (7.38656 47.04189)  Schüpfen"
      ]
     },
     "execution_count": 150,
     "metadata": {},
     "output_type": "execute_result"
    }
   ],
   "source": [
    "gdf_npvm_zones_with_potential_mobility_station.head()"
   ]
  },
  {
   "cell_type": "code",
   "execution_count": 129,
   "id": "9e2448ca-0380-4f36-9e5f-cb1aa6d00c44",
   "metadata": {},
   "outputs": [
    {
     "data": {
      "text/html": [
       "<div>\n",
       "<style scoped>\n",
       "    .dataframe tbody tr th:only-of-type {\n",
       "        vertical-align: middle;\n",
       "    }\n",
       "\n",
       "    .dataframe tbody tr th {\n",
       "        vertical-align: top;\n",
       "    }\n",
       "\n",
       "    .dataframe thead th {\n",
       "        text-align: right;\n",
       "    }\n",
       "</style>\n",
       "<table border=\"1\" class=\"dataframe\">\n",
       "  <thead>\n",
       "    <tr style=\"text-align: right;\">\n",
       "      <th></th>\n",
       "      <th>ID</th>\n",
       "      <th>geometry</th>\n",
       "      <th>N_Gem</th>\n",
       "    </tr>\n",
       "  </thead>\n",
       "  <tbody>\n",
       "    <tr>\n",
       "      <th>2</th>\n",
       "      <td>30601007</td>\n",
       "      <td>POINT (7.30560 47.07900)</td>\n",
       "      <td>Lyss</td>\n",
       "    </tr>\n",
       "  </tbody>\n",
       "</table>\n",
       "</div>"
      ],
      "text/plain": [
       "         ID                  geometry N_Gem\n",
       "2  30601007  POINT (7.30560 47.07900)  Lyss"
      ]
     },
     "execution_count": 129,
     "metadata": {},
     "output_type": "execute_result"
    }
   ],
   "source": [
    "gdf_npvm_zones_with_potential_mobility_station[gdf_npvm_zones_with_potential_mobility_station.ID == 30601007]"
   ]
  },
  {
   "cell_type": "markdown",
   "id": "d827a70f-27d6-4bd4-97ac-cf27492efe90",
   "metadata": {},
   "source": [
    "### Get Mobility travel time and distance from ORMS"
   ]
  },
  {
   "cell_type": "code",
   "execution_count": 145,
   "id": "6e8d981f-09e0-4ae0-8b86-19110f631a63",
   "metadata": {},
   "outputs": [],
   "source": [
    "list_npvm_zones_with_potential_mobility_station = list(gdf_npvm_zones_with_potential_mobility_station.to_records())"
   ]
  },
  {
   "cell_type": "code",
   "execution_count": 146,
   "id": "683dfdeb-9fd4-4fa1-8751-75d42cfc84c4",
   "metadata": {},
   "outputs": [
    {
     "data": {
      "text/plain": [
       "[(0, 30101004, <POINT (7.278 47.044)>, 'Aarberg'),\n",
       " (1, 30601005, <POINT (7.306 47.077)>, 'Lyss'),\n",
       " (2, 30601007, <POINT (7.306 47.079)>, 'Lyss')]"
      ]
     },
     "execution_count": 146,
     "metadata": {},
     "output_type": "execute_result"
    }
   ],
   "source": [
    "list_npvm_zones_with_potential_mobility_station[:3]"
   ]
  },
  {
   "cell_type": "code",
   "execution_count": 151,
   "id": "c56feeb6-2fe0-4fad-861a-274afa38ec1b",
   "metadata": {},
   "outputs": [],
   "source": [
    "coords_str = \"{},{}\".format(dest_point.x, dest_point.y)\n",
    "for pot_mob_st in list_npvm_zones_with_potential_mobility_station:\n",
    "    center = pot_mob_st[2].centroid\n",
    "    coords_str += \";{},{}\".format(center.x, center.y)\n",
    "url = \"https://router.project-osrm.org/table/v1/driving/{}?destinations=0&annotations=duration,distance\".format(coords_str)"
   ]
  },
  {
   "cell_type": "code",
   "execution_count": 152,
   "id": "3c2516a2-3f83-4bdd-bef4-66ec60046c44",
   "metadata": {},
   "outputs": [],
   "source": [
    "res = requests.get(url).json()"
   ]
  },
  {
   "cell_type": "code",
   "execution_count": 183,
   "id": "d08a6156-700d-4c20-b4ee-5dcbd8b22f31",
   "metadata": {},
   "outputs": [],
   "source": [
    "road_distances_from_npvm_zones_with_potential_mobility_station_to_dest_per_npvm_zone_id = {x[1]: res[\"distances\"][x[0] + 1][0] for x in list_npvm_zones_with_potential_mobility_station}\n",
    "road_durations_from_npvm_zones_with_potential_mobility_station_to_dest_per_npvm_zone_id = {x[1]: res[\"durations\"][x[0] + 1][0] for x in list_npvm_zones_with_potential_mobility_station}"
   ]
  },
  {
   "cell_type": "code",
   "execution_count": 169,
   "id": "ebabfb9f-3a1a-4ffd-87d4-75f6214eb7f1",
   "metadata": {},
   "outputs": [
    {
     "name": "stdout",
     "output_type": "stream",
     "text": [
      "Anzahl Distanzen: 225\n",
      "Anzahl Reisezeiten: 225\n"
     ]
    }
   ],
   "source": [
    "print(\"Anzahl Distanzen: {}\".format(len(road_distances_from_npvm_zones_with_potential_mobility_station_to_dest_per_npvm_zone_id)))\n",
    "print(\"Anzahl Reisezeiten: {}\".format(len(road_duration_from_npvm_zones_with_potential_mobility_station_to_dest_per_npvm_zone_id)))"
   ]
  },
  {
   "cell_type": "code",
   "execution_count": 195,
   "id": "b4c3deb6-8dd9-4c78-91b2-0e447d4c3079",
   "metadata": {},
   "outputs": [],
   "source": [
    "pd_distances = pd.DataFrame(list(road_distances_from_npvm_zones_with_potential_mobility_station_to_dest_per_npvm_zone_id.items()), columns=[\"ID\", \"MIV_Distanz_bis_Ziel_km\"])\n",
    "pd_distances[\"MIV_Distanz_bis_Ziel_km\"] = pd_distances[\"MIV_Distanz_bis_Ziel_km\"] / 1000.0\n",
    "pd_durations= pd.DataFrame(list(road_durations_from_npvm_zones_with_potential_mobility_station_to_dest_per_npvm_zone_id.items()), columns=[\"ID\", \"MIV_Zeit_bis_Ziel_min\"])\n",
    "pd_durations[\"MIV_Zeit_bis_Ziel_min\"] = pd_durations[\"MIV_Zeit_bis_Ziel_min\"] / 60.0\n",
    "\n",
    "gdf_npvm_zones_with_potential_mobility_station_distance_duration_to_orig = pd.merge(gdf_npvm_zones_with_potential_mobility_station, pd_dist, on=[\"ID\"])\n",
    "gdf_npvm_zones_with_potential_mobility_station_distance_duration_to_orig = pd.merge(gdf_npvm_zones_with_potential_mobility_station_distance_duration_to_orig, pd_durations, on=[\"ID\"])\n"
   ]
  },
  {
   "cell_type": "code",
   "execution_count": 196,
   "id": "b2d7c29d-3430-44e4-8d2d-bba2732da221",
   "metadata": {},
   "outputs": [
    {
     "data": {
      "text/html": [
       "<div>\n",
       "<style scoped>\n",
       "    .dataframe tbody tr th:only-of-type {\n",
       "        vertical-align: middle;\n",
       "    }\n",
       "\n",
       "    .dataframe tbody tr th {\n",
       "        vertical-align: top;\n",
       "    }\n",
       "\n",
       "    .dataframe thead th {\n",
       "        text-align: right;\n",
       "    }\n",
       "</style>\n",
       "<table border=\"1\" class=\"dataframe\">\n",
       "  <thead>\n",
       "    <tr style=\"text-align: right;\">\n",
       "      <th></th>\n",
       "      <th>ID</th>\n",
       "      <th>geometry</th>\n",
       "      <th>N_Gem</th>\n",
       "      <th>Distanz_bis_Ziel_km</th>\n",
       "      <th>MIV_Zeit_bis_Ziel_min</th>\n",
       "    </tr>\n",
       "  </thead>\n",
       "  <tbody>\n",
       "    <tr>\n",
       "      <th>0</th>\n",
       "      <td>30101004</td>\n",
       "      <td>POINT (7.27780 47.04357)</td>\n",
       "      <td>Aarberg</td>\n",
       "      <td>63.7240</td>\n",
       "      <td>52.573333</td>\n",
       "    </tr>\n",
       "    <tr>\n",
       "      <th>1</th>\n",
       "      <td>30601005</td>\n",
       "      <td>POINT (7.30569 47.07726)</td>\n",
       "      <td>Lyss</td>\n",
       "      <td>65.1995</td>\n",
       "      <td>53.448333</td>\n",
       "    </tr>\n",
       "    <tr>\n",
       "      <th>2</th>\n",
       "      <td>30601007</td>\n",
       "      <td>POINT (7.30560 47.07900)</td>\n",
       "      <td>Lyss</td>\n",
       "      <td>63.7379</td>\n",
       "      <td>53.451667</td>\n",
       "    </tr>\n",
       "    <tr>\n",
       "      <th>3</th>\n",
       "      <td>30601012</td>\n",
       "      <td>POINT (7.31873 47.09890)</td>\n",
       "      <td>Lyss</td>\n",
       "      <td>68.2743</td>\n",
       "      <td>57.246667</td>\n",
       "    </tr>\n",
       "    <tr>\n",
       "      <th>4</th>\n",
       "      <td>31101002</td>\n",
       "      <td>POINT (7.38656 47.04189)</td>\n",
       "      <td>Schüpfen</td>\n",
       "      <td>53.7185</td>\n",
       "      <td>46.515000</td>\n",
       "    </tr>\n",
       "  </tbody>\n",
       "</table>\n",
       "</div>"
      ],
      "text/plain": [
       "         ID                  geometry     N_Gem  Distanz_bis_Ziel_km  \\\n",
       "0  30101004  POINT (7.27780 47.04357)   Aarberg              63.7240   \n",
       "1  30601005  POINT (7.30569 47.07726)      Lyss              65.1995   \n",
       "2  30601007  POINT (7.30560 47.07900)      Lyss              63.7379   \n",
       "3  30601012  POINT (7.31873 47.09890)      Lyss              68.2743   \n",
       "4  31101002  POINT (7.38656 47.04189)  Schüpfen              53.7185   \n",
       "\n",
       "   MIV_Zeit_bis_Ziel_min  \n",
       "0              52.573333  \n",
       "1              53.448333  \n",
       "2              53.451667  \n",
       "3              57.246667  \n",
       "4              46.515000  "
      ]
     },
     "execution_count": 196,
     "metadata": {},
     "output_type": "execute_result"
    }
   ],
   "source": [
    "gdf_npvm_zones_with_potential_mobility_station_distance_duration_to_orig.head()"
   ]
  },
  {
   "cell_type": "code",
   "execution_count": 197,
   "id": "26c3efb9-0041-43bc-9a70-163e0fdf92e9",
   "metadata": {},
   "outputs": [
    {
     "data": {
      "text/html": [
       "<div>\n",
       "<style scoped>\n",
       "    .dataframe tbody tr th:only-of-type {\n",
       "        vertical-align: middle;\n",
       "    }\n",
       "\n",
       "    .dataframe tbody tr th {\n",
       "        vertical-align: top;\n",
       "    }\n",
       "\n",
       "    .dataframe thead th {\n",
       "        text-align: right;\n",
       "    }\n",
       "</style>\n",
       "<table border=\"1\" class=\"dataframe\">\n",
       "  <thead>\n",
       "    <tr style=\"text-align: right;\">\n",
       "      <th></th>\n",
       "      <th>ID</th>\n",
       "      <th>geometry</th>\n",
       "      <th>N_Gem</th>\n",
       "      <th>Distanz_bis_Ziel_km</th>\n",
       "      <th>MIV_Zeit_bis_Ziel_min</th>\n",
       "    </tr>\n",
       "  </thead>\n",
       "  <tbody>\n",
       "    <tr>\n",
       "      <th>171</th>\n",
       "      <td>93901006</td>\n",
       "      <td>POINT (7.63106 46.77080)</td>\n",
       "      <td>Steffisburg</td>\n",
       "      <td>9.9043</td>\n",
       "      <td>11.820000</td>\n",
       "    </tr>\n",
       "    <tr>\n",
       "      <th>172</th>\n",
       "      <td>93901007</td>\n",
       "      <td>POINT (7.63479 46.78196)</td>\n",
       "      <td>Steffisburg</td>\n",
       "      <td>8.6377</td>\n",
       "      <td>10.198333</td>\n",
       "    </tr>\n",
       "    <tr>\n",
       "      <th>173</th>\n",
       "      <td>93901010</td>\n",
       "      <td>POINT (7.63644 46.77829)</td>\n",
       "      <td>Steffisburg</td>\n",
       "      <td>9.0672</td>\n",
       "      <td>10.671667</td>\n",
       "    </tr>\n",
       "  </tbody>\n",
       "</table>\n",
       "</div>"
      ],
      "text/plain": [
       "           ID                  geometry        N_Gem  Distanz_bis_Ziel_km  \\\n",
       "171  93901006  POINT (7.63106 46.77080)  Steffisburg               9.9043   \n",
       "172  93901007  POINT (7.63479 46.78196)  Steffisburg               8.6377   \n",
       "173  93901010  POINT (7.63644 46.77829)  Steffisburg               9.0672   \n",
       "\n",
       "     MIV_Zeit_bis_Ziel_min  \n",
       "171              11.820000  \n",
       "172              10.198333  \n",
       "173              10.671667  "
      ]
     },
     "execution_count": 197,
     "metadata": {},
     "output_type": "execute_result"
    }
   ],
   "source": [
    "gdf_npvm_zones_with_potential_mobility_station_distance_duration_to_orig[gdf_npvm_zones_with_potential_mobility_station_distance_duration_to_orig.N_Gem == \"Steffisburg\"]"
   ]
  },
  {
   "cell_type": "code",
   "execution_count": 198,
   "id": "4c119840-e31b-4410-b5ef-ac7411509a70",
   "metadata": {},
   "outputs": [
    {
     "data": {
      "text/html": [
       "<div>\n",
       "<style scoped>\n",
       "    .dataframe tbody tr th:only-of-type {\n",
       "        vertical-align: middle;\n",
       "    }\n",
       "\n",
       "    .dataframe tbody tr th {\n",
       "        vertical-align: top;\n",
       "    }\n",
       "\n",
       "    .dataframe thead th {\n",
       "        text-align: right;\n",
       "    }\n",
       "</style>\n",
       "<table border=\"1\" class=\"dataframe\">\n",
       "  <thead>\n",
       "    <tr style=\"text-align: right;\">\n",
       "      <th></th>\n",
       "      <th>ID</th>\n",
       "      <th>geometry</th>\n",
       "      <th>N_Gem</th>\n",
       "      <th>Distanz_bis_Ziel_km</th>\n",
       "      <th>MIV_Zeit_bis_Ziel_min</th>\n",
       "    </tr>\n",
       "  </thead>\n",
       "  <tbody>\n",
       "    <tr>\n",
       "      <th>174</th>\n",
       "      <td>94201008</td>\n",
       "      <td>POINT (7.61516 46.73598)</td>\n",
       "      <td>Thun</td>\n",
       "      <td>15.1392</td>\n",
       "      <td>20.143333</td>\n",
       "    </tr>\n",
       "    <tr>\n",
       "      <th>175</th>\n",
       "      <td>94201009</td>\n",
       "      <td>POINT (7.61651 46.74410)</td>\n",
       "      <td>Thun</td>\n",
       "      <td>13.8218</td>\n",
       "      <td>17.933333</td>\n",
       "    </tr>\n",
       "    <tr>\n",
       "      <th>176</th>\n",
       "      <td>94201010</td>\n",
       "      <td>POINT (7.61361 46.75667)</td>\n",
       "      <td>Thun</td>\n",
       "      <td>12.2229</td>\n",
       "      <td>16.946667</td>\n",
       "    </tr>\n",
       "    <tr>\n",
       "      <th>177</th>\n",
       "      <td>94201013</td>\n",
       "      <td>POINT (7.62106 46.73390)</td>\n",
       "      <td>Thun</td>\n",
       "      <td>14.7049</td>\n",
       "      <td>18.981667</td>\n",
       "    </tr>\n",
       "    <tr>\n",
       "      <th>178</th>\n",
       "      <td>94201014</td>\n",
       "      <td>POINT (7.62483 46.74064)</td>\n",
       "      <td>Thun</td>\n",
       "      <td>13.8524</td>\n",
       "      <td>17.673333</td>\n",
       "    </tr>\n",
       "    <tr>\n",
       "      <th>179</th>\n",
       "      <td>94201016</td>\n",
       "      <td>MULTIPOINT (7.62172 46.76000, 7.62823 46.75613)</td>\n",
       "      <td>Thun</td>\n",
       "      <td>12.2399</td>\n",
       "      <td>15.666667</td>\n",
       "    </tr>\n",
       "    <tr>\n",
       "      <th>180</th>\n",
       "      <td>94201017</td>\n",
       "      <td>POINT (7.62580 46.74950)</td>\n",
       "      <td>Thun</td>\n",
       "      <td>12.6738</td>\n",
       "      <td>16.148333</td>\n",
       "    </tr>\n",
       "    <tr>\n",
       "      <th>181</th>\n",
       "      <td>94201018</td>\n",
       "      <td>MULTIPOINT (7.62289 46.75368, 7.62588 46.75568...</td>\n",
       "      <td>Thun</td>\n",
       "      <td>12.1832</td>\n",
       "      <td>15.658333</td>\n",
       "    </tr>\n",
       "  </tbody>\n",
       "</table>\n",
       "</div>"
      ],
      "text/plain": [
       "           ID                                           geometry N_Gem  \\\n",
       "174  94201008                           POINT (7.61516 46.73598)  Thun   \n",
       "175  94201009                           POINT (7.61651 46.74410)  Thun   \n",
       "176  94201010                           POINT (7.61361 46.75667)  Thun   \n",
       "177  94201013                           POINT (7.62106 46.73390)  Thun   \n",
       "178  94201014                           POINT (7.62483 46.74064)  Thun   \n",
       "179  94201016    MULTIPOINT (7.62172 46.76000, 7.62823 46.75613)  Thun   \n",
       "180  94201017                           POINT (7.62580 46.74950)  Thun   \n",
       "181  94201018  MULTIPOINT (7.62289 46.75368, 7.62588 46.75568...  Thun   \n",
       "\n",
       "     Distanz_bis_Ziel_km  MIV_Zeit_bis_Ziel_min  \n",
       "174              15.1392              20.143333  \n",
       "175              13.8218              17.933333  \n",
       "176              12.2229              16.946667  \n",
       "177              14.7049              18.981667  \n",
       "178              13.8524              17.673333  \n",
       "179              12.2399              15.666667  \n",
       "180              12.6738              16.148333  \n",
       "181              12.1832              15.658333  "
      ]
     },
     "execution_count": 198,
     "metadata": {},
     "output_type": "execute_result"
    }
   ],
   "source": [
    "gdf_npvm_zones_with_potential_mobility_station_distance_duration_to_orig[gdf_npvm_zones_with_potential_mobility_station_distance_duration_to_orig.N_Gem == \"Thun\"]"
   ]
  },
  {
   "cell_type": "code",
   "execution_count": 199,
   "id": "4dc2db97-cd84-4d6a-8e7a-73b83a1b3130",
   "metadata": {},
   "outputs": [
    {
     "data": {
      "text/html": [
       "<div>\n",
       "<style scoped>\n",
       "    .dataframe tbody tr th:only-of-type {\n",
       "        vertical-align: middle;\n",
       "    }\n",
       "\n",
       "    .dataframe tbody tr th {\n",
       "        vertical-align: top;\n",
       "    }\n",
       "\n",
       "    .dataframe thead th {\n",
       "        text-align: right;\n",
       "    }\n",
       "</style>\n",
       "<table border=\"1\" class=\"dataframe\">\n",
       "  <thead>\n",
       "    <tr style=\"text-align: right;\">\n",
       "      <th></th>\n",
       "      <th>ID</th>\n",
       "      <th>geometry</th>\n",
       "      <th>N_Gem</th>\n",
       "      <th>Distanz_bis_Ziel_km</th>\n",
       "      <th>MIV_Zeit_bis_Ziel_min</th>\n",
       "    </tr>\n",
       "  </thead>\n",
       "  <tbody>\n",
       "    <tr>\n",
       "      <th>5</th>\n",
       "      <td>35101004</td>\n",
       "      <td>MULTIPOINT (7.38055 46.94513, 7.38364 46.94701)</td>\n",
       "      <td>Bern</td>\n",
       "      <td>46.4663</td>\n",
       "      <td>41.708333</td>\n",
       "    </tr>\n",
       "    <tr>\n",
       "      <th>6</th>\n",
       "      <td>35101006</td>\n",
       "      <td>POINT (7.38535 46.93170)</td>\n",
       "      <td>Bern</td>\n",
       "      <td>42.7105</td>\n",
       "      <td>42.688333</td>\n",
       "    </tr>\n",
       "    <tr>\n",
       "      <th>7</th>\n",
       "      <td>35101007</td>\n",
       "      <td>POINT (7.38609 46.94300)</td>\n",
       "      <td>Bern</td>\n",
       "      <td>46.1887</td>\n",
       "      <td>42.108333</td>\n",
       "    </tr>\n",
       "    <tr>\n",
       "      <th>8</th>\n",
       "      <td>35101011</td>\n",
       "      <td>POINT (7.38905 46.94569)</td>\n",
       "      <td>Bern</td>\n",
       "      <td>45.8822</td>\n",
       "      <td>42.721667</td>\n",
       "    </tr>\n",
       "    <tr>\n",
       "      <th>9</th>\n",
       "      <td>35101016</td>\n",
       "      <td>MULTIPOINT (7.39396 46.94112, 7.39438 46.93700...</td>\n",
       "      <td>Bern</td>\n",
       "      <td>46.2663</td>\n",
       "      <td>42.521667</td>\n",
       "    </tr>\n",
       "    <tr>\n",
       "      <th>10</th>\n",
       "      <td>35101019</td>\n",
       "      <td>MULTIPOINT (7.40280 46.94723, 7.40677 46.94837)</td>\n",
       "      <td>Bern</td>\n",
       "      <td>45.1186</td>\n",
       "      <td>40.950000</td>\n",
       "    </tr>\n",
       "    <tr>\n",
       "      <th>11</th>\n",
       "      <td>35101020</td>\n",
       "      <td>MULTIPOINT (7.40138 46.94269, 7.40442 46.94609)</td>\n",
       "      <td>Bern</td>\n",
       "      <td>45.3721</td>\n",
       "      <td>40.935000</td>\n",
       "    </tr>\n",
       "    <tr>\n",
       "      <th>12</th>\n",
       "      <td>35101022</td>\n",
       "      <td>POINT (7.41138 46.94460)</td>\n",
       "      <td>Bern</td>\n",
       "      <td>40.2596</td>\n",
       "      <td>39.006667</td>\n",
       "    </tr>\n",
       "    <tr>\n",
       "      <th>13</th>\n",
       "      <td>35101025</td>\n",
       "      <td>POINT (7.41610 46.94553)</td>\n",
       "      <td>Bern</td>\n",
       "      <td>39.9281</td>\n",
       "      <td>38.533333</td>\n",
       "    </tr>\n",
       "    <tr>\n",
       "      <th>14</th>\n",
       "      <td>35101026</td>\n",
       "      <td>POINT (7.42118 46.93880)</td>\n",
       "      <td>Bern</td>\n",
       "      <td>39.2916</td>\n",
       "      <td>37.776667</td>\n",
       "    </tr>\n",
       "    <tr>\n",
       "      <th>15</th>\n",
       "      <td>35101027</td>\n",
       "      <td>MULTIPOINT (7.42356 46.95335, 7.42722 46.95527)</td>\n",
       "      <td>Bern</td>\n",
       "      <td>43.6164</td>\n",
       "      <td>39.223333</td>\n",
       "    </tr>\n",
       "    <tr>\n",
       "      <th>16</th>\n",
       "      <td>35101028</td>\n",
       "      <td>MULTIPOINT (7.41906 46.94070, 7.42777 46.94004)</td>\n",
       "      <td>Bern</td>\n",
       "      <td>39.0687</td>\n",
       "      <td>37.393333</td>\n",
       "    </tr>\n",
       "    <tr>\n",
       "      <th>17</th>\n",
       "      <td>35101029</td>\n",
       "      <td>MULTIPOINT (7.42581 46.94508, 7.42620 46.94859)</td>\n",
       "      <td>Bern</td>\n",
       "      <td>39.2199</td>\n",
       "      <td>37.566667</td>\n",
       "    </tr>\n",
       "    <tr>\n",
       "      <th>18</th>\n",
       "      <td>35101031</td>\n",
       "      <td>MULTIPOINT (7.42792 46.94227, 7.42864 46.94072)</td>\n",
       "      <td>Bern</td>\n",
       "      <td>38.5713</td>\n",
       "      <td>36.665000</td>\n",
       "    </tr>\n",
       "    <tr>\n",
       "      <th>19</th>\n",
       "      <td>35101033</td>\n",
       "      <td>POINT (7.42829 46.94291)</td>\n",
       "      <td>Bern</td>\n",
       "      <td>38.8074</td>\n",
       "      <td>36.590000</td>\n",
       "    </tr>\n",
       "    <tr>\n",
       "      <th>20</th>\n",
       "      <td>35101034</td>\n",
       "      <td>MULTIPOINT (7.42819 46.95461, 7.42859 46.95040...</td>\n",
       "      <td>Bern</td>\n",
       "      <td>39.9096</td>\n",
       "      <td>39.050000</td>\n",
       "    </tr>\n",
       "    <tr>\n",
       "      <th>21</th>\n",
       "      <td>35101036</td>\n",
       "      <td>MULTIPOINT (7.43154 46.95496, 7.43216 46.95450)</td>\n",
       "      <td>Bern</td>\n",
       "      <td>39.2687</td>\n",
       "      <td>38.670000</td>\n",
       "    </tr>\n",
       "    <tr>\n",
       "      <th>22</th>\n",
       "      <td>35101037</td>\n",
       "      <td>POINT (7.42889 46.93683)</td>\n",
       "      <td>Bern</td>\n",
       "      <td>38.9851</td>\n",
       "      <td>36.891667</td>\n",
       "    </tr>\n",
       "    <tr>\n",
       "      <th>23</th>\n",
       "      <td>35101039</td>\n",
       "      <td>MULTIPOINT (7.43276 46.94910, 7.43299 46.95030)</td>\n",
       "      <td>Bern</td>\n",
       "      <td>39.7575</td>\n",
       "      <td>38.588333</td>\n",
       "    </tr>\n",
       "    <tr>\n",
       "      <th>24</th>\n",
       "      <td>35101040</td>\n",
       "      <td>MULTIPOINT (7.43241 46.94084, 7.43251 46.93810)</td>\n",
       "      <td>Bern</td>\n",
       "      <td>38.3695</td>\n",
       "      <td>35.610000</td>\n",
       "    </tr>\n",
       "    <tr>\n",
       "      <th>25</th>\n",
       "      <td>35101042</td>\n",
       "      <td>MULTIPOINT (7.43149 46.95727, 7.43294 46.95644...</td>\n",
       "      <td>Bern</td>\n",
       "      <td>38.9569</td>\n",
       "      <td>37.820000</td>\n",
       "    </tr>\n",
       "    <tr>\n",
       "      <th>26</th>\n",
       "      <td>35101045</td>\n",
       "      <td>POINT (7.43417 46.94623)</td>\n",
       "      <td>Bern</td>\n",
       "      <td>38.7490</td>\n",
       "      <td>36.380000</td>\n",
       "    </tr>\n",
       "    <tr>\n",
       "      <th>27</th>\n",
       "      <td>35101047</td>\n",
       "      <td>POINT (7.43762 46.93690)</td>\n",
       "      <td>Bern</td>\n",
       "      <td>38.2450</td>\n",
       "      <td>35.523333</td>\n",
       "    </tr>\n",
       "    <tr>\n",
       "      <th>28</th>\n",
       "      <td>35101048</td>\n",
       "      <td>POINT (7.43641 46.94440)</td>\n",
       "      <td>Bern</td>\n",
       "      <td>38.4050</td>\n",
       "      <td>36.001667</td>\n",
       "    </tr>\n",
       "    <tr>\n",
       "      <th>29</th>\n",
       "      <td>35101049</td>\n",
       "      <td>MULTIPOINT (7.43679 46.95050, 7.43770 46.94950...</td>\n",
       "      <td>Bern</td>\n",
       "      <td>39.0757</td>\n",
       "      <td>37.840000</td>\n",
       "    </tr>\n",
       "    <tr>\n",
       "      <th>30</th>\n",
       "      <td>35101054</td>\n",
       "      <td>MULTIPOINT (7.43765 46.93903, 7.44129 46.93584)</td>\n",
       "      <td>Bern</td>\n",
       "      <td>38.0624</td>\n",
       "      <td>35.516667</td>\n",
       "    </tr>\n",
       "    <tr>\n",
       "      <th>31</th>\n",
       "      <td>35101055</td>\n",
       "      <td>MULTIPOINT (7.44335 46.94518, 7.44356 46.94460...</td>\n",
       "      <td>Bern</td>\n",
       "      <td>37.9357</td>\n",
       "      <td>36.371667</td>\n",
       "    </tr>\n",
       "    <tr>\n",
       "      <th>32</th>\n",
       "      <td>35101058</td>\n",
       "      <td>POINT (7.44764 46.94660)</td>\n",
       "      <td>Bern</td>\n",
       "      <td>37.6392</td>\n",
       "      <td>35.383333</td>\n",
       "    </tr>\n",
       "    <tr>\n",
       "      <th>33</th>\n",
       "      <td>35101059</td>\n",
       "      <td>POINT (7.44160 46.97278)</td>\n",
       "      <td>Bern</td>\n",
       "      <td>43.1409</td>\n",
       "      <td>39.030000</td>\n",
       "    </tr>\n",
       "    <tr>\n",
       "      <th>34</th>\n",
       "      <td>35101060</td>\n",
       "      <td>POINT (7.44681 46.94950)</td>\n",
       "      <td>Bern</td>\n",
       "      <td>37.9076</td>\n",
       "      <td>35.468333</td>\n",
       "    </tr>\n",
       "    <tr>\n",
       "      <th>35</th>\n",
       "      <td>35101061</td>\n",
       "      <td>MULTIPOINT (7.44428 46.95653, 7.44639 46.95558...</td>\n",
       "      <td>Bern</td>\n",
       "      <td>37.7886</td>\n",
       "      <td>35.653333</td>\n",
       "    </tr>\n",
       "    <tr>\n",
       "      <th>36</th>\n",
       "      <td>35101066</td>\n",
       "      <td>POINT (7.44743 46.93720)</td>\n",
       "      <td>Bern</td>\n",
       "      <td>37.2751</td>\n",
       "      <td>34.253333</td>\n",
       "    </tr>\n",
       "    <tr>\n",
       "      <th>37</th>\n",
       "      <td>35101068</td>\n",
       "      <td>POINT (7.44762 46.96079)</td>\n",
       "      <td>Bern</td>\n",
       "      <td>38.1216</td>\n",
       "      <td>36.161667</td>\n",
       "    </tr>\n",
       "    <tr>\n",
       "      <th>38</th>\n",
       "      <td>35101069</td>\n",
       "      <td>POINT (7.45017 46.95840)</td>\n",
       "      <td>Bern</td>\n",
       "      <td>37.3158</td>\n",
       "      <td>35.026667</td>\n",
       "    </tr>\n",
       "    <tr>\n",
       "      <th>39</th>\n",
       "      <td>35101070</td>\n",
       "      <td>MULTIPOINT (7.44987 46.94914, 7.45178 46.94900)</td>\n",
       "      <td>Bern</td>\n",
       "      <td>37.4551</td>\n",
       "      <td>35.353333</td>\n",
       "    </tr>\n",
       "    <tr>\n",
       "      <th>40</th>\n",
       "      <td>35101071</td>\n",
       "      <td>POINT (7.44860 46.94400)</td>\n",
       "      <td>Bern</td>\n",
       "      <td>37.3093</td>\n",
       "      <td>34.835000</td>\n",
       "    </tr>\n",
       "    <tr>\n",
       "      <th>41</th>\n",
       "      <td>35101073</td>\n",
       "      <td>MULTIPOINT (7.44979 46.95983, 7.45276 46.95882)</td>\n",
       "      <td>Bern</td>\n",
       "      <td>37.4698</td>\n",
       "      <td>35.676667</td>\n",
       "    </tr>\n",
       "    <tr>\n",
       "      <th>42</th>\n",
       "      <td>35101074</td>\n",
       "      <td>POINT (7.45098 46.97374)</td>\n",
       "      <td>Bern</td>\n",
       "      <td>41.0310</td>\n",
       "      <td>38.055000</td>\n",
       "    </tr>\n",
       "    <tr>\n",
       "      <th>43</th>\n",
       "      <td>35101075</td>\n",
       "      <td>MULTIPOINT (7.45245 46.96033, 7.45469 46.96270)</td>\n",
       "      <td>Bern</td>\n",
       "      <td>37.5916</td>\n",
       "      <td>35.870000</td>\n",
       "    </tr>\n",
       "    <tr>\n",
       "      <th>44</th>\n",
       "      <td>35101076</td>\n",
       "      <td>MULTIPOINT (7.45190 46.95730, 7.45498 46.95840)</td>\n",
       "      <td>Bern</td>\n",
       "      <td>37.2280</td>\n",
       "      <td>34.738333</td>\n",
       "    </tr>\n",
       "    <tr>\n",
       "      <th>45</th>\n",
       "      <td>35101077</td>\n",
       "      <td>POINT (7.45615 46.94880)</td>\n",
       "      <td>Bern</td>\n",
       "      <td>37.1616</td>\n",
       "      <td>34.068333</td>\n",
       "    </tr>\n",
       "    <tr>\n",
       "      <th>46</th>\n",
       "      <td>35101078</td>\n",
       "      <td>POINT (7.44950 46.95177)</td>\n",
       "      <td>Bern</td>\n",
       "      <td>37.4369</td>\n",
       "      <td>35.356667</td>\n",
       "    </tr>\n",
       "    <tr>\n",
       "      <th>47</th>\n",
       "      <td>35101079</td>\n",
       "      <td>MULTIPOINT (7.45202 46.95529, 7.45297 46.95557...</td>\n",
       "      <td>Bern</td>\n",
       "      <td>36.8044</td>\n",
       "      <td>33.585000</td>\n",
       "    </tr>\n",
       "    <tr>\n",
       "      <th>48</th>\n",
       "      <td>35101081</td>\n",
       "      <td>POINT (7.45811 46.94779)</td>\n",
       "      <td>Bern</td>\n",
       "      <td>37.2118</td>\n",
       "      <td>34.300000</td>\n",
       "    </tr>\n",
       "    <tr>\n",
       "      <th>49</th>\n",
       "      <td>35101082</td>\n",
       "      <td>POINT (7.45487 46.94371)</td>\n",
       "      <td>Bern</td>\n",
       "      <td>36.6294</td>\n",
       "      <td>33.616667</td>\n",
       "    </tr>\n",
       "    <tr>\n",
       "      <th>50</th>\n",
       "      <td>35101085</td>\n",
       "      <td>MULTIPOINT (7.45300 46.96500, 7.46404 46.96760)</td>\n",
       "      <td>Bern</td>\n",
       "      <td>39.4365</td>\n",
       "      <td>36.131667</td>\n",
       "    </tr>\n",
       "    <tr>\n",
       "      <th>51</th>\n",
       "      <td>35101086</td>\n",
       "      <td>MULTIPOINT (7.45855 46.95930, 7.46349 46.95910)</td>\n",
       "      <td>Bern</td>\n",
       "      <td>37.3178</td>\n",
       "      <td>34.253333</td>\n",
       "    </tr>\n",
       "    <tr>\n",
       "      <th>52</th>\n",
       "      <td>35101087</td>\n",
       "      <td>POINT (7.46255 46.96280)</td>\n",
       "      <td>Bern</td>\n",
       "      <td>37.6814</td>\n",
       "      <td>35.468333</td>\n",
       "    </tr>\n",
       "    <tr>\n",
       "      <th>53</th>\n",
       "      <td>35101088</td>\n",
       "      <td>POINT (7.46168 46.95420)</td>\n",
       "      <td>Bern</td>\n",
       "      <td>36.6147</td>\n",
       "      <td>33.183333</td>\n",
       "    </tr>\n",
       "    <tr>\n",
       "      <th>54</th>\n",
       "      <td>35101089</td>\n",
       "      <td>POINT (7.46213 46.94560)</td>\n",
       "      <td>Bern</td>\n",
       "      <td>35.8719</td>\n",
       "      <td>31.758333</td>\n",
       "    </tr>\n",
       "    <tr>\n",
       "      <th>55</th>\n",
       "      <td>35101090</td>\n",
       "      <td>POINT (7.46468 46.96650)</td>\n",
       "      <td>Bern</td>\n",
       "      <td>38.4190</td>\n",
       "      <td>34.600000</td>\n",
       "    </tr>\n",
       "    <tr>\n",
       "      <th>56</th>\n",
       "      <td>35101092</td>\n",
       "      <td>MULTIPOINT (7.46115 46.94350, 7.46178 46.94469...</td>\n",
       "      <td>Bern</td>\n",
       "      <td>35.8446</td>\n",
       "      <td>31.825000</td>\n",
       "    </tr>\n",
       "    <tr>\n",
       "      <th>57</th>\n",
       "      <td>35101093</td>\n",
       "      <td>POINT (7.46902 46.95318)</td>\n",
       "      <td>Bern</td>\n",
       "      <td>37.5869</td>\n",
       "      <td>35.533333</td>\n",
       "    </tr>\n",
       "    <tr>\n",
       "      <th>58</th>\n",
       "      <td>35101094</td>\n",
       "      <td>MULTIPOINT (7.46526 46.94917, 7.46862 46.94957...</td>\n",
       "      <td>Bern</td>\n",
       "      <td>35.6244</td>\n",
       "      <td>31.950000</td>\n",
       "    </tr>\n",
       "    <tr>\n",
       "      <th>59</th>\n",
       "      <td>35101096</td>\n",
       "      <td>POINT (7.46758 46.93560)</td>\n",
       "      <td>Bern</td>\n",
       "      <td>36.6051</td>\n",
       "      <td>32.951667</td>\n",
       "    </tr>\n",
       "    <tr>\n",
       "      <th>60</th>\n",
       "      <td>35101097</td>\n",
       "      <td>POINT (7.47192 46.95165)</td>\n",
       "      <td>Bern</td>\n",
       "      <td>36.2144</td>\n",
       "      <td>33.178333</td>\n",
       "    </tr>\n",
       "    <tr>\n",
       "      <th>61</th>\n",
       "      <td>35101099</td>\n",
       "      <td>POINT (7.48328 46.94760)</td>\n",
       "      <td>Bern</td>\n",
       "      <td>37.2896</td>\n",
       "      <td>36.140000</td>\n",
       "    </tr>\n",
       "    <tr>\n",
       "      <th>62</th>\n",
       "      <td>35101100</td>\n",
       "      <td>POINT (7.48147 46.96430)</td>\n",
       "      <td>Bern</td>\n",
       "      <td>38.1097</td>\n",
       "      <td>34.378333</td>\n",
       "    </tr>\n",
       "    <tr>\n",
       "      <th>63</th>\n",
       "      <td>35101101</td>\n",
       "      <td>POINT (7.47647 46.93779)</td>\n",
       "      <td>Bern</td>\n",
       "      <td>34.7834</td>\n",
       "      <td>32.690000</td>\n",
       "    </tr>\n",
       "    <tr>\n",
       "      <th>64</th>\n",
       "      <td>35103103</td>\n",
       "      <td>POINT (7.37226 46.94355)</td>\n",
       "      <td>Bern</td>\n",
       "      <td>47.1816</td>\n",
       "      <td>41.206667</td>\n",
       "    </tr>\n",
       "  </tbody>\n",
       "</table>\n",
       "</div>"
      ],
      "text/plain": [
       "          ID                                           geometry N_Gem  \\\n",
       "5   35101004    MULTIPOINT (7.38055 46.94513, 7.38364 46.94701)  Bern   \n",
       "6   35101006                           POINT (7.38535 46.93170)  Bern   \n",
       "7   35101007                           POINT (7.38609 46.94300)  Bern   \n",
       "8   35101011                           POINT (7.38905 46.94569)  Bern   \n",
       "9   35101016  MULTIPOINT (7.39396 46.94112, 7.39438 46.93700...  Bern   \n",
       "10  35101019    MULTIPOINT (7.40280 46.94723, 7.40677 46.94837)  Bern   \n",
       "11  35101020    MULTIPOINT (7.40138 46.94269, 7.40442 46.94609)  Bern   \n",
       "12  35101022                           POINT (7.41138 46.94460)  Bern   \n",
       "13  35101025                           POINT (7.41610 46.94553)  Bern   \n",
       "14  35101026                           POINT (7.42118 46.93880)  Bern   \n",
       "15  35101027    MULTIPOINT (7.42356 46.95335, 7.42722 46.95527)  Bern   \n",
       "16  35101028    MULTIPOINT (7.41906 46.94070, 7.42777 46.94004)  Bern   \n",
       "17  35101029    MULTIPOINT (7.42581 46.94508, 7.42620 46.94859)  Bern   \n",
       "18  35101031    MULTIPOINT (7.42792 46.94227, 7.42864 46.94072)  Bern   \n",
       "19  35101033                           POINT (7.42829 46.94291)  Bern   \n",
       "20  35101034  MULTIPOINT (7.42819 46.95461, 7.42859 46.95040...  Bern   \n",
       "21  35101036    MULTIPOINT (7.43154 46.95496, 7.43216 46.95450)  Bern   \n",
       "22  35101037                           POINT (7.42889 46.93683)  Bern   \n",
       "23  35101039    MULTIPOINT (7.43276 46.94910, 7.43299 46.95030)  Bern   \n",
       "24  35101040    MULTIPOINT (7.43241 46.94084, 7.43251 46.93810)  Bern   \n",
       "25  35101042  MULTIPOINT (7.43149 46.95727, 7.43294 46.95644...  Bern   \n",
       "26  35101045                           POINT (7.43417 46.94623)  Bern   \n",
       "27  35101047                           POINT (7.43762 46.93690)  Bern   \n",
       "28  35101048                           POINT (7.43641 46.94440)  Bern   \n",
       "29  35101049  MULTIPOINT (7.43679 46.95050, 7.43770 46.94950...  Bern   \n",
       "30  35101054    MULTIPOINT (7.43765 46.93903, 7.44129 46.93584)  Bern   \n",
       "31  35101055  MULTIPOINT (7.44335 46.94518, 7.44356 46.94460...  Bern   \n",
       "32  35101058                           POINT (7.44764 46.94660)  Bern   \n",
       "33  35101059                           POINT (7.44160 46.97278)  Bern   \n",
       "34  35101060                           POINT (7.44681 46.94950)  Bern   \n",
       "35  35101061  MULTIPOINT (7.44428 46.95653, 7.44639 46.95558...  Bern   \n",
       "36  35101066                           POINT (7.44743 46.93720)  Bern   \n",
       "37  35101068                           POINT (7.44762 46.96079)  Bern   \n",
       "38  35101069                           POINT (7.45017 46.95840)  Bern   \n",
       "39  35101070    MULTIPOINT (7.44987 46.94914, 7.45178 46.94900)  Bern   \n",
       "40  35101071                           POINT (7.44860 46.94400)  Bern   \n",
       "41  35101073    MULTIPOINT (7.44979 46.95983, 7.45276 46.95882)  Bern   \n",
       "42  35101074                           POINT (7.45098 46.97374)  Bern   \n",
       "43  35101075    MULTIPOINT (7.45245 46.96033, 7.45469 46.96270)  Bern   \n",
       "44  35101076    MULTIPOINT (7.45190 46.95730, 7.45498 46.95840)  Bern   \n",
       "45  35101077                           POINT (7.45615 46.94880)  Bern   \n",
       "46  35101078                           POINT (7.44950 46.95177)  Bern   \n",
       "47  35101079  MULTIPOINT (7.45202 46.95529, 7.45297 46.95557...  Bern   \n",
       "48  35101081                           POINT (7.45811 46.94779)  Bern   \n",
       "49  35101082                           POINT (7.45487 46.94371)  Bern   \n",
       "50  35101085    MULTIPOINT (7.45300 46.96500, 7.46404 46.96760)  Bern   \n",
       "51  35101086    MULTIPOINT (7.45855 46.95930, 7.46349 46.95910)  Bern   \n",
       "52  35101087                           POINT (7.46255 46.96280)  Bern   \n",
       "53  35101088                           POINT (7.46168 46.95420)  Bern   \n",
       "54  35101089                           POINT (7.46213 46.94560)  Bern   \n",
       "55  35101090                           POINT (7.46468 46.96650)  Bern   \n",
       "56  35101092  MULTIPOINT (7.46115 46.94350, 7.46178 46.94469...  Bern   \n",
       "57  35101093                           POINT (7.46902 46.95318)  Bern   \n",
       "58  35101094  MULTIPOINT (7.46526 46.94917, 7.46862 46.94957...  Bern   \n",
       "59  35101096                           POINT (7.46758 46.93560)  Bern   \n",
       "60  35101097                           POINT (7.47192 46.95165)  Bern   \n",
       "61  35101099                           POINT (7.48328 46.94760)  Bern   \n",
       "62  35101100                           POINT (7.48147 46.96430)  Bern   \n",
       "63  35101101                           POINT (7.47647 46.93779)  Bern   \n",
       "64  35103103                           POINT (7.37226 46.94355)  Bern   \n",
       "\n",
       "    Distanz_bis_Ziel_km  MIV_Zeit_bis_Ziel_min  \n",
       "5               46.4663              41.708333  \n",
       "6               42.7105              42.688333  \n",
       "7               46.1887              42.108333  \n",
       "8               45.8822              42.721667  \n",
       "9               46.2663              42.521667  \n",
       "10              45.1186              40.950000  \n",
       "11              45.3721              40.935000  \n",
       "12              40.2596              39.006667  \n",
       "13              39.9281              38.533333  \n",
       "14              39.2916              37.776667  \n",
       "15              43.6164              39.223333  \n",
       "16              39.0687              37.393333  \n",
       "17              39.2199              37.566667  \n",
       "18              38.5713              36.665000  \n",
       "19              38.8074              36.590000  \n",
       "20              39.9096              39.050000  \n",
       "21              39.2687              38.670000  \n",
       "22              38.9851              36.891667  \n",
       "23              39.7575              38.588333  \n",
       "24              38.3695              35.610000  \n",
       "25              38.9569              37.820000  \n",
       "26              38.7490              36.380000  \n",
       "27              38.2450              35.523333  \n",
       "28              38.4050              36.001667  \n",
       "29              39.0757              37.840000  \n",
       "30              38.0624              35.516667  \n",
       "31              37.9357              36.371667  \n",
       "32              37.6392              35.383333  \n",
       "33              43.1409              39.030000  \n",
       "34              37.9076              35.468333  \n",
       "35              37.7886              35.653333  \n",
       "36              37.2751              34.253333  \n",
       "37              38.1216              36.161667  \n",
       "38              37.3158              35.026667  \n",
       "39              37.4551              35.353333  \n",
       "40              37.3093              34.835000  \n",
       "41              37.4698              35.676667  \n",
       "42              41.0310              38.055000  \n",
       "43              37.5916              35.870000  \n",
       "44              37.2280              34.738333  \n",
       "45              37.1616              34.068333  \n",
       "46              37.4369              35.356667  \n",
       "47              36.8044              33.585000  \n",
       "48              37.2118              34.300000  \n",
       "49              36.6294              33.616667  \n",
       "50              39.4365              36.131667  \n",
       "51              37.3178              34.253333  \n",
       "52              37.6814              35.468333  \n",
       "53              36.6147              33.183333  \n",
       "54              35.8719              31.758333  \n",
       "55              38.4190              34.600000  \n",
       "56              35.8446              31.825000  \n",
       "57              37.5869              35.533333  \n",
       "58              35.6244              31.950000  \n",
       "59              36.6051              32.951667  \n",
       "60              36.2144              33.178333  \n",
       "61              37.2896              36.140000  \n",
       "62              38.1097              34.378333  \n",
       "63              34.7834              32.690000  \n",
       "64              47.1816              41.206667  "
      ]
     },
     "execution_count": 199,
     "metadata": {},
     "output_type": "execute_result"
    }
   ],
   "source": [
    "gdf_npvm_zones_with_potential_mobility_station_distance_duration_to_orig[gdf_npvm_zones_with_potential_mobility_station_distance_duration_to_orig.N_Gem == \"Bern\"]"
   ]
  },
  {
   "cell_type": "markdown",
   "id": "74032ccc-8fff-480f-b8fe-7472e7296083",
   "metadata": {},
   "source": [
    "### Get pt skims from origin to potential Mobility stations"
   ]
  },
  {
   "cell_type": "code",
   "execution_count": null,
   "id": "898120c0-2cde-40d8-a6de-2c2ba51a1403",
   "metadata": {},
   "outputs": [],
   "source": [
    "zone_ids_list = list(potential_mobility_stations[[\"ID\"]].to_records())\n",
    "jrta_list = [get_jrta(orig_zone_id, x[1]) for x in zone_ids_list]\n",
    "ntr_list = [get_ntr(orig_zone_id, x[1]) for x in zone_ids_list]"
   ]
  },
  {
   "cell_type": "code",
   "execution_count": null,
   "id": "7ffe7a36-dd60-4d17-a214-382e5b678059",
   "metadata": {},
   "outputs": [],
   "source": [
    "zone_ids_list[:5]"
   ]
  },
  {
   "cell_type": "code",
   "execution_count": null,
   "id": "54efba57-a2ab-4910-9127-49c8e1e5ed4c",
   "metadata": {},
   "outputs": [],
   "source": [
    "print(len(jrta_list))\n",
    "print(len(ntr_list))"
   ]
  },
  {
   "cell_type": "code",
   "execution_count": null,
   "id": "256744b5-4b70-473c-89d5-db9fbe237e68",
   "metadata": {},
   "outputs": [],
   "source": [
    "jrta_list[:5]"
   ]
  },
  {
   "cell_type": "code",
   "execution_count": null,
   "id": "f8e3816a-6e96-4792-95e5-10c11d2e7c54",
   "metadata": {},
   "outputs": [],
   "source": [
    "ntr_list[:5]"
   ]
  },
  {
   "cell_type": "markdown",
   "id": "8d32c0a2-1cc8-4750-8081-f50292a248e7",
   "metadata": {},
   "source": [
    "TODO:\n",
    "- Calculate generalized costs"
   ]
  },
  {
   "cell_type": "markdown",
   "id": "dce795e4-fd13-410b-810b-9cd892e95ef6",
   "metadata": {},
   "source": [
    "### Visualize situation on map"
   ]
  },
  {
   "cell_type": "code",
   "execution_count": null,
   "id": "5cc10526-f95f-4f15-989c-5d372220e94d",
   "metadata": {},
   "outputs": [],
   "source": [
    "from ipyleaflet import Map, GeoData, basemaps, LayersControl\n",
    "import geopandas\n",
    "import json\n",
    "\n",
    "\n",
    "m = Map(center=(52.3,8.0), zoom = 3, basemap= basemaps.Esri.WorldTopoMap)\n",
    "\n",
    "geo_data = GeoData(geo_dataframe = df_npvm_zones,\n",
    "                   style={'color': 'black', 'fillColor': '#3366cc', 'opacity':0.05, 'weight':1.9, 'dashArray':'2', 'fillOpacity':0.6},\n",
    "                   hover_style={'fillColor': 'red' , 'fillOpacity': 0.2},\n",
    "                   name = 'Countries')\n",
    "\n",
    "m.add_layer(geo_data)\n",
    "m.add_control(LayersControl())"
   ]
  },
  {
   "cell_type": "code",
   "execution_count": null,
   "id": "29df25ff-be45-4154-ba37-7956bf149f37",
   "metadata": {},
   "outputs": [],
   "source": [
    "m.layout.width = '100%'\n",
    "m.layout.height = '1000px'\n",
    "m\n",
    "# m.save(\"npvm-zonen.html\")"
   ]
  }
 ],
 "metadata": {
  "kernelspec": {
   "display_name": "Python 3 (ipykernel)",
   "language": "python",
   "name": "python3"
  },
  "language_info": {
   "codemirror_mode": {
    "name": "ipython",
    "version": 3
   },
   "file_extension": ".py",
   "mimetype": "text/x-python",
   "name": "python",
   "nbconvert_exporter": "python",
   "pygments_lexer": "ipython3",
   "version": "3.10.8"
  }
 },
 "nbformat": 4,
 "nbformat_minor": 5
}
